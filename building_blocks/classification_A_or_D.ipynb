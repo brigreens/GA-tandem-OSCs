{
 "cells": [
  {
   "cell_type": "markdown",
   "id": "16d697a4-387c-4798-a77a-abf701478f30",
   "metadata": {},
   "source": [
    "# Classify each building block as an acceptor or donor"
   ]
  },
  {
   "cell_type": "markdown",
   "id": "09fae7f3-ed20-4495-a9ee-8ff09af66068",
   "metadata": {},
   "source": [
    "Classification is based on comparing the HOMO of each unit to the HOMO of thiophene. sTD-DFT-xTB was performed and using a calibration curve, the B3LYP HOMO was obtained. Thiophene's HOMO using B3LYP is -6.5467 eV."
   ]
  },
  {
   "cell_type": "code",
   "execution_count": 5,
   "id": "09d7821d-de38-46c1-9e8a-45824349a90e",
   "metadata": {},
   "outputs": [],
   "source": [
    "import glob\n",
    "import pandas as pd\n",
    "import os.path\n",
    "from rdkit.Chem import Descriptors\n",
    "from rdkit import Chem"
   ]
  },
  {
   "cell_type": "code",
   "execution_count": 6,
   "id": "3a2a038c-0c7f-47a2-91d5-a49f2cd3c376",
   "metadata": {},
   "outputs": [],
   "source": [
    "def parse_sTDA(filename):\n",
    "    \n",
    "    with open(filename, 'r', encoding = 'utf-8') as file:\n",
    "        line = file.readline()\n",
    "        while line:\n",
    "            if 'Koopmans IP (eV)' in line:\n",
    "                line_list = line.split()\n",
    "                HOMO = line_list[-1]\n",
    "                HOMO = float(HOMO) * -1\n",
    "            line = file.readline()  \n",
    "        line = file.readline()\n",
    "        return HOMO\n",
    "    \n",
    "def get_smiles(unit_name):\n",
    "    smi_term = unit_name + '_TL.smi'\n",
    "    smi_core = unit_name + '_C.smi'\n",
    "    \n",
    "\n",
    "    if os.path.exists('fragment_mols/SMILES/' + smi_term) == True:\n",
    "        with open('fragment_mols/SMILES/' + smi_term, 'r', encoding = 'utf-8') as file:\n",
    "            smiles = file.readline() \n",
    "            smiles = smiles.split('\\t')[0]\n",
    "        return smi_term, smiles\n",
    "    \n",
    "    elif os.path.exists('fragment_mols/SMILES/' + smi_core) == True:\n",
    "        with open('fragment_mols/SMILES/' + smi_core, 'r', encoding = 'utf-8') as file:\n",
    "            smiles = file.readline()\n",
    "            smiles = smiles.split('\\t')[0]\n",
    "        return smi_core, smiles\n",
    "    \n",
    "    else:\n",
    "        return False\n",
    "\n",
    "\n",
    "thiophene_HOMO = -6.5467\n"
   ]
  },
  {
   "cell_type": "code",
   "execution_count": 77,
   "id": "cb892c8b-eea0-486d-a660-0cd94bf1b2db",
   "metadata": {
    "tags": []
   },
   "outputs": [],
   "source": [
    "column_names = ['fragment_number', 'smi_filename', 'smiles', 'sTDDFTxtb_HOMO', 'B3LYP_HOMO', 'A_or_D']\n",
    "df = pd.DataFrame(columns = column_names)\n",
    "\n",
    "terminal_count = 0\n",
    "core_count = 0\n",
    "\n",
    "for unit in glob.iglob('fragment_mols/sTDDFTxtb/*.out'):\n",
    "    unit_name = unit.split('\\\\')[-1].split('.')[0]\n",
    "    if get_smiles(unit_name) != False:\n",
    "        data = []\n",
    "        \n",
    "        smi_filename, smiles = get_smiles(unit_name)\n",
    "        \n",
    "        if 'T' in smi_filename:\n",
    "            terminal_count +=1\n",
    "        else:\n",
    "            core_count +=1\n",
    "        \n",
    "        sTDDFTxtb_HOMO = float(parse_sTDA(unit))\n",
    "        B3LYP_HOMO = 0.737*sTDDFTxtb_HOMO + 4.637\n",
    "        \n",
    "        if B3LYP_HOMO <= thiophene_HOMO:\n",
    "            A_or_D = 'A'\n",
    "            \n",
    "        else:\n",
    "            A_or_D = 'D'\n",
    "    \n",
    "        data.extend([unit_name, smi_filename, smiles, sTDDFTxtb_HOMO, B3LYP_HOMO, A_or_D])\n",
    "        \n",
    "        df.loc[len(df.index)] = data"
   ]
  },
  {
   "cell_type": "code",
   "execution_count": 70,
   "id": "74aee781-e0c4-4426-8f08-268f2a3952d6",
   "metadata": {},
   "outputs": [
    {
     "data": {
      "text/html": [
       "<div>\n",
       "<style scoped>\n",
       "    .dataframe tbody tr th:only-of-type {\n",
       "        vertical-align: middle;\n",
       "    }\n",
       "\n",
       "    .dataframe tbody tr th {\n",
       "        vertical-align: top;\n",
       "    }\n",
       "\n",
       "    .dataframe thead th {\n",
       "        text-align: right;\n",
       "    }\n",
       "</style>\n",
       "<table border=\"1\" class=\"dataframe\">\n",
       "  <thead>\n",
       "    <tr style=\"text-align: right;\">\n",
       "      <th></th>\n",
       "      <th>fragment_number</th>\n",
       "      <th>smi_filename</th>\n",
       "      <th>smiles</th>\n",
       "      <th>sTDDFTxtb_HOMO</th>\n",
       "      <th>B3LYP_HOMO</th>\n",
       "      <th>A_or_D</th>\n",
       "    </tr>\n",
       "  </thead>\n",
       "  <tbody>\n",
       "    <tr>\n",
       "      <th>0</th>\n",
       "      <td>0</td>\n",
       "      <td>0_TL.smi</td>\n",
       "      <td>C(=C1C(=O)c2cc(F)c(F)cc2C1=C(C#N)C#N)</td>\n",
       "      <td>-16.456</td>\n",
       "      <td>-7.491072</td>\n",
       "      <td>A</td>\n",
       "    </tr>\n",
       "    <tr>\n",
       "      <th>1</th>\n",
       "      <td>1</td>\n",
       "      <td>1_TL.smi</td>\n",
       "      <td>C(=C1C(=O)c2ccccc2C1=C(C#N)C#N)</td>\n",
       "      <td>-16.284</td>\n",
       "      <td>-7.364308</td>\n",
       "      <td>A</td>\n",
       "    </tr>\n",
       "    <tr>\n",
       "      <th>2</th>\n",
       "      <td>10</td>\n",
       "      <td>10_TL.smi</td>\n",
       "      <td>C(=C1C(=O)N(CC)C(=S)N(CC)C1=O)</td>\n",
       "      <td>-14.764</td>\n",
       "      <td>-6.244068</td>\n",
       "      <td>D</td>\n",
       "    </tr>\n",
       "    <tr>\n",
       "      <th>3</th>\n",
       "      <td>100</td>\n",
       "      <td>100_C.smi</td>\n",
       "      <td>c1cc2C(CC)(CC)c3c(-c2cc1)ccc(c3)</td>\n",
       "      <td>-15.072</td>\n",
       "      <td>-6.471064</td>\n",
       "      <td>D</td>\n",
       "    </tr>\n",
       "    <tr>\n",
       "      <th>4</th>\n",
       "      <td>101</td>\n",
       "      <td>101_C.smi</td>\n",
       "      <td>c1cc2C(=O)NC(=O)c3cc(cc(c1)c23)</td>\n",
       "      <td>-15.743</td>\n",
       "      <td>-6.965591</td>\n",
       "      <td>A</td>\n",
       "    </tr>\n",
       "    <tr>\n",
       "      <th>...</th>\n",
       "      <td>...</td>\n",
       "      <td>...</td>\n",
       "      <td>...</td>\n",
       "      <td>...</td>\n",
       "      <td>...</td>\n",
       "      <td>...</td>\n",
       "    </tr>\n",
       "    <tr>\n",
       "      <th>372</th>\n",
       "      <td>95</td>\n",
       "      <td>95_C.smi</td>\n",
       "      <td>c1sc2c3c(c4cc(C(=O)CC)sc4c2c1)cc(s3)</td>\n",
       "      <td>-14.245</td>\n",
       "      <td>-5.861565</td>\n",
       "      <td>D</td>\n",
       "    </tr>\n",
       "    <tr>\n",
       "      <th>373</th>\n",
       "      <td>96</td>\n",
       "      <td>96_C.smi</td>\n",
       "      <td>c1cc2sc3-c4c(c5ccc(CC)s5)c5C(c6ccc(CC)cc6)(c6c...</td>\n",
       "      <td>-13.309</td>\n",
       "      <td>-5.171733</td>\n",
       "      <td>D</td>\n",
       "    </tr>\n",
       "    <tr>\n",
       "      <th>374</th>\n",
       "      <td>97</td>\n",
       "      <td>97_TL.smi</td>\n",
       "      <td>C(=C1C(=O)c2cc3ccsc3cc2C1=C(C#N)C#N)</td>\n",
       "      <td>-15.303</td>\n",
       "      <td>-6.641311</td>\n",
       "      <td>A</td>\n",
       "    </tr>\n",
       "    <tr>\n",
       "      <th>375</th>\n",
       "      <td>98</td>\n",
       "      <td>98_TL.smi</td>\n",
       "      <td>C(=C1C(=O)c2cc3cc(Br)sc3cc2C1=C(C#N)C#N)</td>\n",
       "      <td>-15.398</td>\n",
       "      <td>-6.711326</td>\n",
       "      <td>A</td>\n",
       "    </tr>\n",
       "    <tr>\n",
       "      <th>376</th>\n",
       "      <td>99</td>\n",
       "      <td>99_C.smi</td>\n",
       "      <td>C#C</td>\n",
       "      <td>-17.544</td>\n",
       "      <td>-8.292928</td>\n",
       "      <td>A</td>\n",
       "    </tr>\n",
       "  </tbody>\n",
       "</table>\n",
       "<p>377 rows × 6 columns</p>\n",
       "</div>"
      ],
      "text/plain": [
       "    fragment_number smi_filename  \\\n",
       "0                 0     0_TL.smi   \n",
       "1                 1     1_TL.smi   \n",
       "2                10    10_TL.smi   \n",
       "3               100    100_C.smi   \n",
       "4               101    101_C.smi   \n",
       "..              ...          ...   \n",
       "372              95     95_C.smi   \n",
       "373              96     96_C.smi   \n",
       "374              97    97_TL.smi   \n",
       "375              98    98_TL.smi   \n",
       "376              99     99_C.smi   \n",
       "\n",
       "                                                smiles  sTDDFTxtb_HOMO  \\\n",
       "0                C(=C1C(=O)c2cc(F)c(F)cc2C1=C(C#N)C#N)         -16.456   \n",
       "1                      C(=C1C(=O)c2ccccc2C1=C(C#N)C#N)         -16.284   \n",
       "2                       C(=C1C(=O)N(CC)C(=S)N(CC)C1=O)         -14.764   \n",
       "3                     c1cc2C(CC)(CC)c3c(-c2cc1)ccc(c3)         -15.072   \n",
       "4                      c1cc2C(=O)NC(=O)c3cc(cc(c1)c23)         -15.743   \n",
       "..                                                 ...             ...   \n",
       "372               c1sc2c3c(c4cc(C(=O)CC)sc4c2c1)cc(s3)         -14.245   \n",
       "373  c1cc2sc3-c4c(c5ccc(CC)s5)c5C(c6ccc(CC)cc6)(c6c...         -13.309   \n",
       "374               C(=C1C(=O)c2cc3ccsc3cc2C1=C(C#N)C#N)         -15.303   \n",
       "375           C(=C1C(=O)c2cc3cc(Br)sc3cc2C1=C(C#N)C#N)         -15.398   \n",
       "376                                                C#C         -17.544   \n",
       "\n",
       "     B3LYP_HOMO A_or_D  \n",
       "0     -7.491072      A  \n",
       "1     -7.364308      A  \n",
       "2     -6.244068      D  \n",
       "3     -6.471064      D  \n",
       "4     -6.965591      A  \n",
       "..          ...    ...  \n",
       "372   -5.861565      D  \n",
       "373   -5.171733      D  \n",
       "374   -6.641311      A  \n",
       "375   -6.711326      A  \n",
       "376   -8.292928      A  \n",
       "\n",
       "[377 rows x 6 columns]"
      ]
     },
     "execution_count": 70,
     "metadata": {},
     "output_type": "execute_result"
    }
   ],
   "source": [
    "df"
   ]
  },
  {
   "cell_type": "code",
   "execution_count": 62,
   "id": "6a0c2927-995b-4a6f-bd57-ffd2e29858b1",
   "metadata": {},
   "outputs": [],
   "source": [
    "df.to_csv('classification_unit_A_or_D.csv')"
   ]
  },
  {
   "cell_type": "markdown",
   "id": "95cb148f-767d-4eae-93e3-33bccd100ed0",
   "metadata": {},
   "source": [
    "Lets see the distribution between acceptor and donor units"
   ]
  },
  {
   "cell_type": "code",
   "execution_count": 63,
   "id": "dda94880-8993-4d60-b9a7-cd24d150114f",
   "metadata": {},
   "outputs": [
    {
     "data": {
      "text/plain": [
       "D    267\n",
       "A    110\n",
       "Name: A_or_D, dtype: int64"
      ]
     },
     "execution_count": 63,
     "metadata": {},
     "output_type": "execute_result"
    }
   ],
   "source": [
    "df['A_or_D'].value_counts()"
   ]
  },
  {
   "cell_type": "markdown",
   "id": "43129409-e09b-462a-ad83-84dcb1660505",
   "metadata": {},
   "source": [
    "There are 267 donor units and 100 acceptor units"
   ]
  },
  {
   "cell_type": "code",
   "execution_count": 78,
   "id": "652fe904-c3f7-467a-af57-6192f9d63f47",
   "metadata": {},
   "outputs": [
    {
     "name": "stdout",
     "output_type": "stream",
     "text": [
      "Number of terminal units: 69\n",
      "Number of core units: 308\n"
     ]
    }
   ],
   "source": [
    "print('Number of terminal units: ' + str(terminal_count))\n",
    "print('Number of core units: ' + str(core_count))"
   ]
  },
  {
   "cell_type": "markdown",
   "id": "af9c1a6f-8c27-4ebb-a4ac-da369c7b30ba",
   "metadata": {},
   "source": [
    "### Make csvs for cores and terminals that contain AorD and fused ring count (will manually have to add it)"
   ]
  },
  {
   "cell_type": "code",
   "execution_count": 7,
   "id": "e8d83263-cb98-4598-a457-0043fcb37c56",
   "metadata": {},
   "outputs": [],
   "source": [
    "def get_A_or_D(unit_name):\n",
    "    unit = unit_name.split('_')[0]\n",
    "    filename = 'fragment_mols/sTDDFTxtb/' + unit + '.out'\n",
    "    sTDDFTxtb_HOMO = float(parse_sTDA(filename))\n",
    "\n",
    "    B3LYP_HOMO = 0.737*sTDDFTxtb_HOMO + 4.637\n",
    "\n",
    "    if B3LYP_HOMO <= thiophene_HOMO:\n",
    "        return sTDDFTxtb_HOMO, B3LYP_HOMO, 'A'\n",
    "\n",
    "    else:\n",
    "        return sTDDFTxtb_HOMO, B3LYP_HOMO, 'D'"
   ]
  },
  {
   "cell_type": "code",
   "execution_count": 416,
   "id": "e042577b-4439-4aa4-917d-78307295a9a6",
   "metadata": {
    "tags": []
   },
   "outputs": [],
   "source": [
    "column_names = ['smi_filename', 'smiles', 'sTDDFTxtb_HOMO', 'B3LYP_HOMO', 'A_or_D']\n",
    "df_left_term = pd.DataFrame(columns = column_names)\n",
    "df_right_term = pd.DataFrame(columns = column_names)\n",
    "df_core = pd.DataFrame(columns = column_names)\n",
    "mols = []\n",
    "\n",
    "for smi in glob.iglob('fragment_mols/SMILES/*.smi'):\n",
    "    \n",
    "    with open(smi, 'r', encoding = 'utf-8') as file:\n",
    "            smiles = file.readline()\n",
    "            smiles = smiles.split('\\t')[0]\n",
    "                \n",
    "    unit_name = smi.split('\\\\')[-1].split('.')[0]\n",
    "    sTDDFTxtb_HOMO, B3LYP_HOMO, A_or_D = get_A_or_D(unit_name)\n",
    "    \n",
    "    mols.append([unit_name, smiles])\n",
    "    \n",
    "    data = []\n",
    "    data.extend([unit_name, smiles, sTDDFTxtb_HOMO, B3LYP_HOMO, A_or_D])\n",
    "    \n",
    "    if '_TL' in unit_name:\n",
    "        df_left_term.loc[len(df_left_term.index)] = data\n",
    "        \n",
    "    elif '_TR' in unit_name:\n",
    "        df_right_term.loc[len(df_right_term.index)] = data\n",
    "        \n",
    "    else:\n",
    "        df_core.loc[len(df_core.index)] = data\n",
    "\n",
    "\n",
    "df_left_term.to_csv('left_terminals.csv')\n",
    "df_right_term.to_csv('right_terminals.csv')\n",
    "df_core.to_csv('cores.csv')"
   ]
  },
  {
   "cell_type": "code",
   "execution_count": 415,
   "id": "33c9d161-6327-47c5-8dcf-695c2e97fc96",
   "metadata": {},
   "outputs": [
    {
     "name": "stdout",
     "output_type": "stream",
     "text": [
      "9_C\n"
     ]
    },
    {
     "data": {
      "image/png": "[encoded data removed]",
      "text/plain": [
       "<rdkit.Chem.rdchem.Mol at 0x1b6a70ced60>"
      ]
     },
     "execution_count": 415,
     "metadata": {},
     "output_type": "execute_result"
    }
   ],
   "source": [
    "x = 446\n",
    "\n",
    "print(mols[x][0])\n",
    "smiles = mols[x][1]\n",
    "mol = Chem.MolFromSmiles(smiles)\n",
    "mol"
   ]
  },
  {
   "cell_type": "code",
   "execution_count": null,
   "id": "8251bf4c-3bba-42a1-9c74-3bafea8ffaa9",
   "metadata": {},
   "outputs": [],
   "source": []
  },
  {
   "cell_type": "code",
   "execution_count": null,
   "id": "488f4744-6771-48b0-8332-9f55990e92b7",
   "metadata": {},
   "outputs": [],
   "source": []
  },
  {
   "cell_type": "code",
   "execution_count": null,
   "id": "c94f5a07-5169-420a-93fb-610a0617fa60",
   "metadata": {},
   "outputs": [],
   "source": []
  }
 ],
 "metadata": {
  "kernelspec": {
   "display_name": "Python 3",
   "language": "python",
   "name": "python3"
  },
  "language_info": {
   "codemirror_mode": {
    "name": "ipython",
    "version": 3
   },
   "file_extension": ".py",
   "mimetype": "text/x-python",
   "name": "python",
   "nbconvert_exporter": "python",
   "pygments_lexer": "ipython3",
   "version": "3.8.8"
  }
 },
 "nbformat": 4,
 "nbformat_minor": 5
}
