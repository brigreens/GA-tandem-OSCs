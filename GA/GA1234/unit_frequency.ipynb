{
 "cells": [
  {
   "cell_type": "code",
   "execution_count": 1,
   "id": "3ecfca40-d3c8-4db7-a8a0-98b15bd0cf22",
   "metadata": {},
   "outputs": [],
   "source": [
    "import pandas as pd\n",
    "import matplotlib.pyplot as plt\n",
    "from rdkit import Chem\n",
    "from rdkit.Chem.Draw import IPythonConsole\n",
    "from rdkit.Chem import Draw\n",
    "IPythonConsole.ipython_useSVG=True\n",
    "from IPython.display import SVG"
   ]
  },
  {
   "cell_type": "markdown",
   "id": "67603331-c65f-4535-9945-6d52352fb068",
   "metadata": {},
   "source": [
    "# GA for NFAs"
   ]
  },
  {
   "cell_type": "code",
   "execution_count": 2,
   "id": "fc38a8e6-d5ac-4aae-8852-02b2d84f9096",
   "metadata": {},
   "outputs": [],
   "source": [
    "v1 = pd.read_csv('../GA_1/rf_ann_fixed/full_analysis_data_ensemble_rf_ann.csv', index_col=False)\n",
    "v2 = pd.read_csv('../GA_2/full_analysis_data_GA2.csv', index_col=False)\n",
    "v3 = pd.read_csv('../GA_3/full_analysis_data_GA3.csv', index_col=False)"
   ]
  },
  {
   "cell_type": "code",
   "execution_count": 3,
   "id": "75979fd9-ae13-4aa3-8683-24a7b7eb0ce5",
   "metadata": {},
   "outputs": [
    {
     "data": {
      "text/html": [
       "<div>\n",
       "<style scoped>\n",
       "    .dataframe tbody tr th:only-of-type {\n",
       "        vertical-align: middle;\n",
       "    }\n",
       "\n",
       "    .dataframe tbody tr th {\n",
       "        vertical-align: top;\n",
       "    }\n",
       "\n",
       "    .dataframe thead th {\n",
       "        text-align: right;\n",
       "    }\n",
       "</style>\n",
       "<table border=\"1\" class=\"dataframe\">\n",
       "  <thead>\n",
       "    <tr style=\"text-align: right;\">\n",
       "      <th></th>\n",
       "      <th>fused_core_name</th>\n",
       "    </tr>\n",
       "  </thead>\n",
       "  <tbody>\n",
       "    <tr>\n",
       "      <th>86</th>\n",
       "      <td>1868</td>\n",
       "    </tr>\n",
       "    <tr>\n",
       "      <th>126</th>\n",
       "      <td>533</td>\n",
       "    </tr>\n",
       "    <tr>\n",
       "      <th>100</th>\n",
       "      <td>427</td>\n",
       "    </tr>\n",
       "    <tr>\n",
       "      <th>113</th>\n",
       "      <td>231</td>\n",
       "    </tr>\n",
       "    <tr>\n",
       "      <th>130</th>\n",
       "      <td>221</td>\n",
       "    </tr>\n",
       "    <tr>\n",
       "      <th>135</th>\n",
       "      <td>211</td>\n",
       "    </tr>\n",
       "    <tr>\n",
       "      <th>83</th>\n",
       "      <td>202</td>\n",
       "    </tr>\n",
       "    <tr>\n",
       "      <th>118</th>\n",
       "      <td>188</td>\n",
       "    </tr>\n",
       "    <tr>\n",
       "      <th>115</th>\n",
       "      <td>167</td>\n",
       "    </tr>\n",
       "    <tr>\n",
       "      <th>104</th>\n",
       "      <td>135</td>\n",
       "    </tr>\n",
       "  </tbody>\n",
       "</table>\n",
       "</div>"
      ],
      "text/plain": [
       "     fused_core_name\n",
       "86              1868\n",
       "126              533\n",
       "100              427\n",
       "113              231\n",
       "130              221\n",
       "135              211\n",
       "83               202\n",
       "118              188\n",
       "115              167\n",
       "104              135"
      ]
     },
     "execution_count": 3,
     "metadata": {},
     "output_type": "execute_result"
    }
   ],
   "source": [
    "terminal = []\n",
    "fused_core = []\n",
    "spacer = []\n",
    "\n",
    "for x in range(len(v1['filename'])):\n",
    "    filename = v1['filename'].iloc[x]\n",
    "    units = filename.split('_')\n",
    "    terminal.append(units[0])\n",
    "    fused_core.append(units[1])\n",
    "    if units[0] != units[2]:\n",
    "        terminal.append(units[2])\n",
    "\n",
    "for x in range(len(v2['filename'])):\n",
    "    filename = v2['filename'].iloc[x]\n",
    "    units = filename.split('_')\n",
    "    terminal.append(units[0])\n",
    "    spacer.append(units[1])\n",
    "    fused_core.append(units[2])\n",
    "    if units[3] != units[1]:\n",
    "        spacer.append(units[3])\n",
    "    if units[4] != units[0]:\n",
    "        terminal.append(units[4]) \n",
    "        \n",
    "for x in range(len(v3['filename'])):\n",
    "    filename = v3['filename'].iloc[x]\n",
    "    units = filename.split('_')\n",
    "    terminal.append(units[0])\n",
    "    spacer.append(units[1])\n",
    "    if units[2] != units[1]:\n",
    "        spacer.append(units[2])\n",
    "    if ((units[3] != units[1]) and (units[3] != units[2])):\n",
    "        spacer.append(units[3])\n",
    "    if units[4] != units[0]:\n",
    "        terminal.append(units[4])\n",
    "        \n",
    "           \n",
    "df_terminal = pd.DataFrame(terminal, columns = ['terminal_name'])\n",
    "terminal_count = df_terminal['terminal_name'].value_counts()[:10].to_frame()\n",
    "\n",
    "df_fused_core = pd.DataFrame(fused_core, columns = ['fused_core_name'])\n",
    "fused_core_count = df_fused_core['fused_core_name'].value_counts()[:10].to_frame()\n",
    "\n",
    "df_spacer = pd.DataFrame(spacer, columns = ['spacer_name'])\n",
    "spacer_count = df_spacer['spacer_name'].value_counts()[:10].to_frame()\n",
    "\n",
    "fused_core_count"
   ]
  },
  {
   "cell_type": "code",
   "execution_count": 4,
   "id": "12b8c56f-75f9-43a8-9649-223ea1094f9d",
   "metadata": {},
   "outputs": [],
   "source": [
    "terminal_count['term_perc'] = terminal_count['terminal_name']/terminal_count['terminal_name'].sum()*100\n",
    "fused_core_count['fused_core_perc'] = fused_core_count['fused_core_name']/fused_core_count['fused_core_name'].sum()*100\n",
    "spacer_count['spacer_perc'] = spacer_count['spacer_name']/spacer_count['spacer_name'].sum()*100"
   ]
  },
  {
   "cell_type": "code",
   "execution_count": 78,
   "id": "a3f9271f-f7ed-4693-acf8-d51de83d421c",
   "metadata": {},
   "outputs": [],
   "source": [
    "SMALL_SIZE = 12\n",
    "MEDIUM_SIZE = 14 \n",
    "BIGGER_SIZE = 16 \n",
    "plt.rc('font', size=SMALL_SIZE)          # controls default text sizes \n",
    "plt.rc('axes', titlesize=SMALL_SIZE)     # fontsize of the axes title \n",
    "plt.rc('axes', labelsize=MEDIUM_SIZE)    # fontsize of the x and y labels \n",
    "plt.rc('xtick', labelsize=SMALL_SIZE)    # fontsize of the tick labels \n",
    "plt.rc('ytick', labelsize=SMALL_SIZE)    # fontsize of the tick labels \n",
    "plt.rc('legend', fontsize=SMALL_SIZE)    # legend fontsize \n",
    "plt.rc('figure', titlesize=MEDIUM_SIZE)  # fontsize of the figure title\"\n"
   ]
  },
  {
   "cell_type": "code",
   "execution_count": 105,
   "id": "fd8d2527-25c8-40a6-8225-2fe601b89974",
   "metadata": {},
   "outputs": [
    {
     "name": "stderr",
     "output_type": "stream",
     "text": [
      "C:\\Users\\bripe\\AppData\\Local\\Temp/ipykernel_16968/486358085.py:6: UserWarning: FixedFormatter should only be used together with FixedLocator\n",
      "  ax1.set_xticklabels(terminal_count.index, rotation=45, fontsize=14)\n",
      "C:\\Users\\bripe\\AppData\\Local\\Temp/ipykernel_16968/486358085.py:11: UserWarning: FixedFormatter should only be used together with FixedLocator\n",
      "  ax2.set_xticklabels(fused_core_count.index, rotation=45, fontsize=14)\n",
      "C:\\Users\\bripe\\AppData\\Local\\Temp/ipykernel_16968/486358085.py:16: UserWarning: FixedFormatter should only be used together with FixedLocator\n",
      "  ax3.set_xticklabels(spacer_count.index, rotation=45, fontsize=14)\n"
     ]
    },
    {
     "data": {
      "image/png": "[encoded data removed]",
      "text/plain": [
       "<Figure size 936x288 with 3 Axes>"
      ]
     },
     "metadata": {
      "needs_background": "light"
     },
     "output_type": "display_data"
    }
   ],
   "source": [
    "fig, (ax1, ax2, ax3) = plt.subplots(1, 3, figsize=(13, 4), sharey=True) \n",
    "\n",
    "ax1.bar(terminal_count.index, terminal_count['term_perc'], color='#332288')\n",
    "ax1.set_title('Terminal Units', fontsize=16) \n",
    "ax1.set_ylabel(\"Unit Frequency %\", fontsize=14)\n",
    "ax1.set_xticklabels(terminal_count.index, rotation=45, fontsize=14) \n",
    "ax1.tick_params(axis='y', which='major', labelsize=14)\n",
    "\n",
    "ax2.bar(fused_core_count.index, fused_core_count['fused_core_perc'], color='#44AA99')\n",
    "ax2.set_title('Fused Core Units', fontsize=16) \n",
    "ax2.set_xticklabels(fused_core_count.index, rotation=45, fontsize=14) \n",
    "ax2.set_xlabel(\"Unit Index\", fontsize=14)\n",
    "\n",
    "ax3.bar(spacer_count.index, spacer_count['spacer_perc'], color='#CC6677')\n",
    "ax3.set_title('Unfused Core Units', fontsize=16) \n",
    "ax3.set_xticklabels(spacer_count.index, rotation=45, fontsize=14) \n",
    "\n",
    "plt.subplots_adjust(wspace=0.05)\n",
    "plt.tight_layout()\n",
    "\n",
    "plt.savefig('frequency_units.pdf', dpi=600) \n",
    "plt.savefig('frequency_units.png', dpi=600)\n"
   ]
  },
  {
   "cell_type": "markdown",
   "id": "79c431cb-fe8e-42ad-bc33-aa31177779d9",
   "metadata": {},
   "source": [
    "# Visualize each top unit"
   ]
  },
  {
   "cell_type": "markdown",
   "id": "bcd04260-4e4a-496f-9114-31c2218b64b9",
   "metadata": {},
   "source": [
    "### Terminal Units"
   ]
  },
  {
   "cell_type": "code",
   "execution_count": 5,
   "id": "10fed4ad-5108-406f-b699-070a2ff042df",
   "metadata": {},
   "outputs": [],
   "source": [
    "terms = pd.read_csv('../../building_blocks/left_terminals_with_ringcount.csv', index_col=0)\n",
    "\n",
    "term_smiles = []\n",
    "term_index = []\n",
    "for x in terminal_count.index:\n",
    "    smiles = terms.iloc[int(x)][1]\n",
    "    smiles = smiles + '*'\n",
    "    term_smiles.append(smiles)\n",
    "    term_index.append(x)\n",
    "    \n",
    "ms = [Chem.MolFromSmiles(x) for x in term_smiles]\n",
    "img = Draw.MolsToGridImage(ms,molsPerRow=5,subImgSize=(300,300), legends = term_index, useSVG=False, returnPNG=False)\n",
    "img.save('term_units.png')\n",
    "img.save('term_units.pdf')"
   ]
  },
  {
   "cell_type": "markdown",
   "id": "9de29203-3c94-4e94-81a5-2c36ca3f9fd1",
   "metadata": {},
   "source": [
    "### Fused Core Units"
   ]
  },
  {
   "cell_type": "code",
   "execution_count": 6,
   "id": "fa3e2cdf-767d-446b-831a-fcf87678e2b6",
   "metadata": {},
   "outputs": [],
   "source": [
    "fused = pd.read_csv('../../building_blocks/fused_cores_with_ringcount.csv', index_col=0)\n",
    "fused_smiles = []\n",
    "fused_index = []\n",
    "for x in fused_core_count.index:\n",
    "    smiles = fused.iloc[int(x)][1]\n",
    "    smiles = '*' + smiles + '*'\n",
    "    fused_smiles.append(smiles)\n",
    "    fused_index.append(x)\n",
    "    \n",
    "ms = [Chem.MolFromSmiles(x) for x in fused_smiles]\n",
    "img = Draw.MolsToGridImage(ms,molsPerRow=3,subImgSize=(300,300), legends = fused_index, useSVG=False, returnPNG=False)\n",
    "img.save('fused_units.png')\n",
    "img.save('fused_units.pdf')"
   ]
  },
  {
   "cell_type": "markdown",
   "id": "74ce3a2b-df62-4ab2-95c3-04b0be89b5d8",
   "metadata": {},
   "source": [
    "### Unfused core units"
   ]
  },
  {
   "cell_type": "code",
   "execution_count": 7,
   "id": "8493dc44-51bf-4fca-97b7-0c381896659a",
   "metadata": {},
   "outputs": [],
   "source": [
    "spacers = pd.read_csv('../../building_blocks/spacers_with_ringcount.csv', index_col=0)\n",
    "spacers_smiles = []\n",
    "spacers_index = []\n",
    "for x in spacer_count.index:\n",
    "    smiles = spacers.iloc[int(x)][1]\n",
    "    smiles = '*' + smiles + '*'\n",
    "    spacers_smiles.append(smiles)\n",
    "    spacers_index.append(x)\n",
    "    \n",
    "ms = [Chem.MolFromSmiles(x) for x in spacers_smiles]\n",
    "img = Draw.MolsToGridImage(ms,molsPerRow=5,subImgSize=(300,300), legends = spacers_index, useSVG=False, returnPNG=False)\n",
    "img.save('spacers_units.png')\n",
    "img.save('spacers_units.pdf')"
   ]
  },
  {
   "cell_type": "markdown",
   "id": "315e6d4b-6643-4215-bffa-4a29f5708261",
   "metadata": {},
   "source": [
    "# GA for donors"
   ]
  },
  {
   "cell_type": "code",
   "execution_count": 9,
   "id": "e0c857cc-1872-4dc0-868c-b1b194056dd1",
   "metadata": {},
   "outputs": [],
   "source": [
    "v4 = pd.read_csv('../GA_4/full_analysis_data_GA4.csv', index_col=False)\n",
    "\n",
    "unit = []\n",
    "sequence = []\n",
    "\n",
    "for x in range(len(v4['filename'])):\n",
    "    filename = v4['filename'].iloc[x]\n",
    "    units = filename.split('_')\n",
    "    unit.append(units[0])\n",
    "    if units[1] != units[0]:\n",
    "        unit.append(units[1])\n",
    "        \n",
    "    sequence.append(units[2])\n",
    "       \n",
    "df_units = pd.DataFrame(unit, columns = ['unit'])\n",
    "units_count = df_units['unit'].value_counts()[:10].to_frame()\n",
    "\n",
    "df_seq = pd.DataFrame(sequence, columns = ['seq'])\n",
    "seq_count = df_seq['seq'].value_counts()[:10].to_frame()\n",
    "\n",
    "units_count['unit_perc'] = units_count['unit']/units_count['unit'].sum()*100\n",
    "seq_count['seq_perc'] = seq_count['seq']/seq_count['seq'].sum()*100"
   ]
  },
  {
   "cell_type": "code",
   "execution_count": 111,
   "id": "66d4300b-9239-4ae3-857b-cf559cda2743",
   "metadata": {},
   "outputs": [
    {
     "name": "stderr",
     "output_type": "stream",
     "text": [
      "C:\\Users\\bripe\\AppData\\Local\\Temp/ipykernel_16968/3553702761.py:6: UserWarning: FixedFormatter should only be used together with FixedLocator\n",
      "  ax1.set_xticklabels(units_count.index, rotation=45, fontsize=14)\n",
      "C:\\Users\\bripe\\AppData\\Local\\Temp/ipykernel_16968/3553702761.py:12: UserWarning: FixedFormatter should only be used together with FixedLocator\n",
      "  ax2.set_xticklabels(seq_count.index, rotation=45, fontsize=14)\n"
     ]
    },
    {
     "data": {
      "image/png": "[encoded data removed]",
      "text/plain": [
       "<Figure size 648x288 with 2 Axes>"
      ]
     },
     "metadata": {
      "needs_background": "light"
     },
     "output_type": "display_data"
    }
   ],
   "source": [
    "fig, (ax1, ax2) = plt.subplots(1, 2, figsize=(9, 4), sharey=True) \n",
    "\n",
    "ax1.bar(units_count.index, units_count['unit_perc'], color='#CAB23F')\n",
    "ax1.set_title('Monomers', fontsize=16) \n",
    "ax1.set_ylabel(\"Frequency %\", fontsize=14)\n",
    "ax1.set_xticklabels(units_count.index, rotation=45, fontsize=14) \n",
    "ax1.tick_params(axis='y', which='major', labelsize=14)\n",
    "ax1.set_xlabel(\"Unit Index\", fontsize=14)\n",
    "\n",
    "ax2.bar(seq_count.index, seq_count['seq_perc'], color='#88CCEE')\n",
    "ax2.set_title('Sequence', fontsize=16) \n",
    "ax2.set_xticklabels(seq_count.index, rotation=45, fontsize=14) \n",
    "ax2.set_xlabel(\"Sequence\", fontsize=14)\n",
    "\n",
    "\n",
    "plt.subplots_adjust(wspace=0.05)\n",
    "plt.tight_layout()\n",
    "\n",
    "plt.savefig('donor_frequency_units.pdf', dpi=600) \n",
    "plt.savefig('donor_frequency_units.png', dpi=600)"
   ]
  },
  {
   "cell_type": "code",
   "execution_count": 10,
   "id": "20a6cff1-c7e5-4b53-87a7-9b288ff7c902",
   "metadata": {},
   "outputs": [],
   "source": [
    "donor = pd.read_csv('../GA_4/GA4_donor_units.csv', index_col=0)\n",
    "donor_smiles = []\n",
    "donor_index = []\n",
    "for x in units_count.index:\n",
    "    smiles = donor.iloc[int(x)][0]\n",
    "    smiles = '*' + smiles + '*'\n",
    "    donor_smiles.append(smiles)\n",
    "    donor_index.append(x)\n",
    "    \n",
    "ms = [Chem.MolFromSmiles(x) for x in donor_smiles]\n",
    "img = Draw.MolsToGridImage(ms,molsPerRow=5,subImgSize=(300,300), legends = donor_index, useSVG=False, returnPNG=False)\n",
    "img.save('donor_units.png')\n",
    "img.save('donor_units.pdf')"
   ]
  },
  {
   "cell_type": "code",
   "execution_count": null,
   "id": "83ba7623-b948-45d1-be39-35866250b8b9",
   "metadata": {},
   "outputs": [],
   "source": []
  }
 ],
 "metadata": {
  "kernelspec": {
   "display_name": "Python 3 (ipykernel)",
   "language": "python",
   "name": "python3"
  },
  "language_info": {
   "codemirror_mode": {
    "name": "ipython",
    "version": 3
   },
   "file_extension": ".py",
   "mimetype": "text/x-python",
   "name": "python",
   "nbconvert_exporter": "python",
   "pygments_lexer": "ipython3",
   "version": "3.8.12"
  }
 },
 "nbformat": 4,
 "nbformat_minor": 5
}
