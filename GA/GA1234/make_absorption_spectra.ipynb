{
 "cells": [
  {
   "cell_type": "code",
   "execution_count": 3,
   "id": "57f21fe3-3096-494f-b348-5cb51e93e308",
   "metadata": {},
   "outputs": [],
   "source": [
    "import glob\n",
    "import pandas as pd"
   ]
  },
  {
   "cell_type": "code",
   "execution_count": 6,
   "id": "09469443-b6fa-4b3a-afc1-02f842a0fcad",
   "metadata": {},
   "outputs": [],
   "source": [
    "def stda_to_csv(filename):\n",
    "    with open(filename, 'r', encoding = 'utf-8') as file:\n",
    "        line = file.readline()\n",
    "        oscs = []\n",
    "        energyEV = []\n",
    "        while line:\n",
    "            if 'excitation energies, transition moments and TDA amplitudes' in line:\n",
    "                line = file.readline()\n",
    "                line = file.readline()\n",
    "                line_list = line.split()\n",
    "                while line != '\\n':\n",
    "                    line_list = line.split()\n",
    "                    oscs.append(float(line_list[3]))\n",
    "                    energyEV.append(float(line_list[1]))\n",
    "                    line = file.readline()\n",
    "            line = file.readline()  \n",
    "        line = file.readline()\n",
    "\n",
    "        # Creates full spectrum\n",
    "        (spectraEV,  spectraNM, spectraIntensity) = spectra(energyEV, oscs)\n",
    "\n",
    "        df = pd.DataFrame()\n",
    "        df['eV'] = spectraEV\n",
    "        df['nm'] = spectraNM\n",
    "        df['intensity'] = spectraIntensity\n",
    "        \n",
    "        return df\n",
    "\n",
    "def spectra(etens, etoscs, low = 0.5, high = 10.0, resolution = 0.01, smear = 0.04):\n",
    "    \"\"\"\n",
    "    Return arrays of the energies and intensities of a Lorentzian-blurred spectrum\n",
    "\n",
    "    Parameters\n",
    "    ----------\n",
    "    etens: list\n",
    "        list of transition energies in units of eV\n",
    "    etoscs: list\n",
    "        list of oscillator strengths\n",
    "    low: float\n",
    "        transition in eV to start spectrum at\n",
    "    high: float\n",
    "        transition in eV to end spectrum at\n",
    "    resolution: float\n",
    "        increments of eV for spectrum\n",
    "    smear: float\n",
    "        blurs intensities of peaks across 0.04 eV\n",
    "\n",
    "    Returns\n",
    "    -------\n",
    "    Lists of the spectra in eV, nm, and their oscillator strengths\n",
    "    \"\"\"\n",
    "    maxSlices = int((high - low) / resolution) + 1\n",
    "    peaks = len(etens)\n",
    "\n",
    "    spectraEV = []\n",
    "    spectraNM = []\n",
    "    spectraIntensity = []\n",
    "    for i in range(0, maxSlices):\n",
    "        energy = float(i * resolution + low) # units of eV\n",
    "        #wavelength = energy * 1239.84193 # convert eV to nm  \n",
    "        wavelength = 1239.84193 / energy # convert eV to nm  \n",
    "        intensity = 0.0\n",
    "\n",
    "        for trans in range(0, peaks):\n",
    "            this_smear = smear / 0.2 * (-0.046 * etoscs[trans] + 0.20)\n",
    "            deltaE = etens[trans] - energy\n",
    "            intensity = intensity + etoscs[trans] * this_smear**2 / (deltaE**2 + this_smear**2)\n",
    "\n",
    "        spectraEV.append(energy)\n",
    "        spectraNM.append(wavelength) \n",
    "        spectraIntensity.append(intensity)\n",
    "        \n",
    "    return spectraEV, spectraNM, spectraIntensity\n",
    "        "
   ]
  },
  {
   "cell_type": "code",
   "execution_count": 15,
   "id": "770aec03-393c-41cc-b8dc-d2fcecb0b34a",
   "metadata": {
    "tags": []
   },
   "outputs": [
    {
     "data": {
      "text/plain": [
       "acceptor    39_126_39\n",
       "best PCE     21.11091\n",
       "Name: 0, dtype: object"
      ]
     },
     "execution_count": 15,
     "metadata": {},
     "output_type": "execute_result"
    }
   ],
   "source": [
    "acceptors = pd.read_csv('top_acceptors_GA1234.csv')\n",
    "acceptors.iloc[0]"
   ]
  },
  {
   "cell_type": "code",
   "execution_count": 7,
   "id": "e617ef9e-e7f2-4680-addf-f99004c6bdf7",
   "metadata": {},
   "outputs": [],
   "source": [
    "for x in range(len(acceptors)):\n",
    "    acc = acceptors.iloc[x][0]\n",
    "    acc_stda = 'sTDDFT_xTB_output_GA123_acceptors/' + acc + '.stda'\n",
    "    df_acc = stda_to_csv(acc_stda)\n",
    "    acc_filename_abs = 'acc_abs_csvs/' + acc + '_abs.csv'\n",
    "    df_acc.to_csv(acc_filename_abs)\n",
    "    \n",
    "donors = pd.read_csv('top_donors_GA1234.csv')\n",
    "for x in range(len(donors)):\n",
    "    don = donors.iloc[x][0]\n",
    "    don_stda = '../GA_4/sTDDFTxTB_output/' + don + '.stda'\n",
    "    df_don = stda_to_csv(don_stda)\n",
    "    \n",
    "    don_filename_abs = 'don_abs_csvs/' + don + '_abs.csv'\n",
    "    df_don.to_csv(don_filename_abs)\n",
    "    \n"
   ]
  },
  {
   "cell_type": "markdown",
   "id": "14367be3-d799-486c-8227-3f8a4c32bde5",
   "metadata": {},
   "source": [
    "## Find max absorption integral and overlap for normalization for fitness function"
   ]
  },
  {
   "cell_type": "code",
   "execution_count": null,
   "id": "fc493e39-919c-46dc-b83a-29a7e29b8487",
   "metadata": {},
   "outputs": [],
   "source": [
    "def overlap(don_spectraIntensity, acceptor_name):\n",
    "    \n",
    "    overlapped_spectra_intensities = [don_spectraIntensity[i] * acc_spectraIntensity[i] for i in range(len(don_spectraIntensity))]\n",
    "    \n",
    "    area_altered_spectra = np.trapz(np.flip(overlapped_spectra_intensities), np.flip(acc_spectraNM), dx=0.1, axis=- 1)    \n",
    "        \n",
    "    return area_altered_spectra\n",
    "\n",
    "\n",
    "def combined_absorption(acc_abs, don_abs):\n",
    "    \n",
    "    combined_spectra_intensities = [don_spectraIntensity[i] + acc_spectraIntensity[i] for i in range(len(don_spectraIntensity))]\n",
    "    \n",
    "    # Calculates the area under the curve using trapz rule for integration\n",
    "    area_spectra = np.trapz(np.flip(spectraIntensity), np.flip(spectraNM), dx=0.1, axis=- 1)"
   ]
  }
 ],
 "metadata": {
  "kernelspec": {
   "display_name": "Python 3 (ipykernel)",
   "language": "python",
   "name": "python3"
  },
  "language_info": {
   "codemirror_mode": {
    "name": "ipython",
    "version": 3
   },
   "file_extension": ".py",
   "mimetype": "text/x-python",
   "name": "python",
   "nbconvert_exporter": "python",
   "pygments_lexer": "ipython3",
   "version": "3.8.12"
  }
 },
 "nbformat": 4,
 "nbformat_minor": 5
}
