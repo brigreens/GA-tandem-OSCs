{
 "cells": [
  {
   "cell_type": "code",
   "execution_count": 33,
   "id": "3f897e9e-b154-4330-85f3-301289fb7247",
   "metadata": {},
   "outputs": [],
   "source": [
    "import matplotlib.pyplot as plt\n",
    "import pandas as pd\n",
    "import numpy as np\n",
    "import seaborn as sns\n",
    "import csv\n",
    "plt.style.use('ggplot')\n",
    "\n",
    "plt.rcParams['text.usetex'] = False"
   ]
  },
  {
   "cell_type": "code",
   "execution_count": 31,
   "id": "1936daf4-8d8f-49e7-84d9-0b4ec75dc552",
   "metadata": {},
   "outputs": [
    {
     "data": {
      "text/html": [
       "<div>\n",
       "<style scoped>\n",
       "    .dataframe tbody tr th:only-of-type {\n",
       "        vertical-align: middle;\n",
       "    }\n",
       "\n",
       "    .dataframe tbody tr th {\n",
       "        vertical-align: top;\n",
       "    }\n",
       "\n",
       "    .dataframe thead th {\n",
       "        text-align: right;\n",
       "    }\n",
       "</style>\n",
       "<table border=\"1\" class=\"dataframe\">\n",
       "  <thead>\n",
       "    <tr style=\"text-align: right;\">\n",
       "      <th></th>\n",
       "      <th>Reported Acceptor</th>\n",
       "      <th>acceptor filename shortened chains</th>\n",
       "      <th>donor filename shortened chains</th>\n",
       "      <th>Reported Donor</th>\n",
       "      <th>Reference</th>\n",
       "      <th>Voc (V)</th>\n",
       "      <th>Jsc (mA/cm^2)</th>\n",
       "      <th>FF (%)</th>\n",
       "      <th>PCE (%)</th>\n",
       "      <th>Class</th>\n",
       "      <th>acceptor</th>\n",
       "      <th>donor</th>\n",
       "    </tr>\n",
       "  </thead>\n",
       "  <tbody>\n",
       "    <tr>\n",
       "      <th>0</th>\n",
       "      <td>IDTCF</td>\n",
       "      <td>IDTCF</td>\n",
       "      <td>FTAZ</td>\n",
       "      <td>FTAZ</td>\n",
       "      <td>Rech_the crucil_2019</td>\n",
       "      <td>0.705</td>\n",
       "      <td>2.10</td>\n",
       "      <td>39.60</td>\n",
       "      <td>0.59</td>\n",
       "      <td>NaN</td>\n",
       "      <td>NaN</td>\n",
       "      <td>NaN</td>\n",
       "    </tr>\n",
       "    <tr>\n",
       "      <th>1</th>\n",
       "      <td>IT-4F</td>\n",
       "      <td>IT-4F</td>\n",
       "      <td>PCl3BDB-T</td>\n",
       "      <td>PCl(3)BDB-T</td>\n",
       "      <td>Wu_the_crucial_2018</td>\n",
       "      <td>0.880</td>\n",
       "      <td>0.88</td>\n",
       "      <td>23.74</td>\n",
       "      <td>0.18</td>\n",
       "      <td>NaN</td>\n",
       "      <td>NaN</td>\n",
       "      <td>NaN</td>\n",
       "    </tr>\n",
       "    <tr>\n",
       "      <th>2</th>\n",
       "      <td>ITIC</td>\n",
       "      <td>ITIC</td>\n",
       "      <td>PBDD4T</td>\n",
       "      <td>PBDD4T</td>\n",
       "      <td>Zhang_a fluorniated_2016</td>\n",
       "      <td>0.880</td>\n",
       "      <td>2.04</td>\n",
       "      <td>25.00</td>\n",
       "      <td>0.45</td>\n",
       "      <td>NaN</td>\n",
       "      <td>NaN</td>\n",
       "      <td>NaN</td>\n",
       "    </tr>\n",
       "    <tr>\n",
       "      <th>3</th>\n",
       "      <td>BTA11</td>\n",
       "      <td>BTA11</td>\n",
       "      <td>J52-Cl</td>\n",
       "      <td>J52-Cl</td>\n",
       "      <td>Guo_modulating_2021</td>\n",
       "      <td>1.200</td>\n",
       "      <td>0.43</td>\n",
       "      <td>25.92</td>\n",
       "      <td>0.13</td>\n",
       "      <td>NaN</td>\n",
       "      <td>NaN</td>\n",
       "      <td>NaN</td>\n",
       "    </tr>\n",
       "    <tr>\n",
       "      <th>4</th>\n",
       "      <td>ITIC</td>\n",
       "      <td>ITIC</td>\n",
       "      <td>PB2T</td>\n",
       "      <td>PB2T</td>\n",
       "      <td>An_nonhalogen_2018</td>\n",
       "      <td>0.560</td>\n",
       "      <td>0.08</td>\n",
       "      <td>26.00</td>\n",
       "      <td>0.01</td>\n",
       "      <td>NaN</td>\n",
       "      <td>NaN</td>\n",
       "      <td>NaN</td>\n",
       "    </tr>\n",
       "  </tbody>\n",
       "</table>\n",
       "</div>"
      ],
      "text/plain": [
       "  Reported Acceptor acceptor filename shortened chains  \\\n",
       "0             IDTCF                              IDTCF   \n",
       "1             IT-4F                              IT-4F   \n",
       "2              ITIC                               ITIC   \n",
       "3             BTA11                              BTA11   \n",
       "4              ITIC                               ITIC   \n",
       "\n",
       "  donor filename shortened chains Reported Donor                  Reference  \\\n",
       "0                            FTAZ            FTAZ      Rech_the crucil_2019   \n",
       "1                       PCl3BDB-T     PCl(3)BDB-T       Wu_the_crucial_2018   \n",
       "2                          PBDD4T          PBDD4T  Zhang_a fluorniated_2016   \n",
       "3                          J52-Cl          J52-Cl       Guo_modulating_2021   \n",
       "4                            PB2T            PB2T        An_nonhalogen_2018   \n",
       "\n",
       "   Voc (V)  Jsc (mA/cm^2)  FF (%)  PCE (%) Class acceptor donor  \n",
       "0    0.705           2.10   39.60     0.59   NaN      NaN   NaN  \n",
       "1    0.880           0.88   23.74     0.18   NaN      NaN   NaN  \n",
       "2    0.880           2.04   25.00     0.45   NaN      NaN   NaN  \n",
       "3    1.200           0.43   25.92     0.13   NaN      NaN   NaN  \n",
       "4    0.560           0.08   26.00     0.01   NaN      NaN   NaN  "
      ]
     },
     "execution_count": 31,
     "metadata": {},
     "output_type": "execute_result"
    }
   ],
   "source": [
    "# read the data into a pandas dataframe\n",
    "exp_data  = pd.read_csv(\"filtered_experimental_PCE_params.csv\")\n",
    "# inspect the dataframe\n",
    "exp_data.head() "
   ]
  },
  {
   "cell_type": "code",
   "execution_count": 38,
   "id": "70b1a2fc-1757-4549-acff-84551275fb46",
   "metadata": {},
   "outputs": [
    {
     "data": {
      "image/png": "[encoded data removed]",
      "text/plain": [
       "<Figure size 432x288 with 1 Axes>"
      ]
     },
     "metadata": {},
     "output_type": "display_data"
    }
   ],
   "source": [
    "fig, axs = plt.subplots()\n",
    "sns.histplot(data = exp_data, x = 'PCE (%)', kde=False, color = '#88CCEE', alpha = 1, ax=axs)\n",
    "axs.set_ylabel('Count', labelpad=10, weight='bold', size=16)\n",
    "axs.set_xlabel('PCE (%)', labelpad=10, weight='bold', size=16)\n",
    "axs.tick_params(axis = 'x', labelsize=14)\n",
    "axs.tick_params(axis = 'y', labelsize=14)\n",
    "plt.tight_layout()\n",
    "plt.savefig('hist_exp_PCE.pdf', dpi=600)\n",
    "plt.savefig('hist_exp_PCE.png', dpi=600)\n",
    "plt.show()"
   ]
  },
  {
   "cell_type": "code",
   "execution_count": 39,
   "id": "34ae8ff4-9344-47e2-9c8f-069defc7e94a",
   "metadata": {},
   "outputs": [
    {
     "data": {
      "image/png": "[encoded data removed]",
      "text/plain": [
       "<Figure size 432x288 with 1 Axes>"
      ]
     },
     "metadata": {},
     "output_type": "display_data"
    }
   ],
   "source": [
    "fig, axs = plt.subplots()\n",
    "sns.histplot(data = exp_data, x = 'FF (%)', kde=False, color = '#AA4499', alpha = 1, ax=axs)\n",
    "axs.set_ylabel('Count', labelpad=10, weight='bold', size=16)\n",
    "axs.set_xlabel('FF (%)', labelpad=10, weight='bold', size=16)\n",
    "axs.tick_params(axis = 'x', labelsize=14)\n",
    "axs.tick_params(axis = 'y', labelsize=14)\n",
    "plt.tight_layout()\n",
    "plt.savefig('hist_exp_FF.pdf', dpi=600)\n",
    "plt.savefig('hist_exp_FF.png', dpi=600)\n",
    "plt.show()"
   ]
  },
  {
   "cell_type": "code",
   "execution_count": 40,
   "id": "428b89b6-1750-4582-be4e-18836167cc54",
   "metadata": {},
   "outputs": [
    {
     "data": {
      "image/png": "[encoded data removed]",
      "text/plain": [
       "<Figure size 432x288 with 1 Axes>"
      ]
     },
     "metadata": {},
     "output_type": "display_data"
    }
   ],
   "source": [
    "fig, axs = plt.subplots()\n",
    "sns.histplot(data = exp_data, x = 'Voc (V)', kde=False, color = '#117733', alpha = 1, ax=axs)\n",
    "axs.set_ylabel('Count', labelpad=10, weight='bold', size=16)\n",
    "axs.set_xlabel('Voc (V)', labelpad=10, weight='bold', size=16)\n",
    "axs.tick_params(axis = 'x', labelsize=14)\n",
    "axs.tick_params(axis = 'y', labelsize=14)\n",
    "plt.tight_layout()\n",
    "plt.savefig('hist_exp_Voc.pdf', dpi=600)\n",
    "plt.savefig('hist_exp_Voc.png', dpi=600)\n",
    "plt.show()"
   ]
  },
  {
   "cell_type": "code",
   "execution_count": 41,
   "id": "f1d84989-e6d7-41d7-9ac7-6086d128effe",
   "metadata": {},
   "outputs": [
    {
     "data": {
      "image/png": "[encoded data removed]",
      "text/plain": [
       "<Figure size 432x288 with 1 Axes>"
      ]
     },
     "metadata": {},
     "output_type": "display_data"
    }
   ],
   "source": [
    "fig, axs = plt.subplots()\n",
    "sns.histplot(data = exp_data, x = 'Jsc (mA/cm^2)', kde=False, color = '#CAB23F', alpha = 1, ax=axs)\n",
    "axs.set_ylabel('Count', labelpad=10, weight='bold', size=16)\n",
    "axs.set_xlabel('Jsc (mA/cm^2)', labelpad=10, weight='bold', size=16)\n",
    "axs.tick_params(axis = 'x', labelsize=14)\n",
    "axs.tick_params(axis = 'y', labelsize=14)\n",
    "plt.tight_layout()\n",
    "plt.savefig('hist_exp_Jsc.pdf', dpi=600)\n",
    "plt.savefig('hist_exp_Jsc.png', dpi=600)\n",
    "plt.show()"
   ]
  },
  {
   "cell_type": "code",
   "execution_count": null,
   "id": "9954ba2d-0f1b-4de3-b646-36e9d4c72bd9",
   "metadata": {},
   "outputs": [],
   "source": []
  }
 ],
 "metadata": {
  "kernelspec": {
   "display_name": "Python 3",
   "language": "python",
   "name": "python3"
  },
  "language_info": {
   "codemirror_mode": {
    "name": "ipython",
    "version": 3
   },
   "file_extension": ".py",
   "mimetype": "text/x-python",
   "name": "python",
   "nbconvert_exporter": "python",
   "pygments_lexer": "ipython3",
   "version": "3.8.8"
  }
 },
 "nbformat": 4,
 "nbformat_minor": 5
}
