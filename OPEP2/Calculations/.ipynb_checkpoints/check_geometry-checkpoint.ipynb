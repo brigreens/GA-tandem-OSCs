{
 "cells": [
  {
   "cell_type": "markdown",
   "id": "a95777a3-ab75-4532-9251-47d966f21429",
   "metadata": {},
   "source": [
    "# Checks geometry for validity"
   ]
  },
  {
   "cell_type": "markdown",
   "id": "d64e8374-6c28-40d7-96a5-1ec7951dcb89",
   "metadata": {},
   "source": [
    "Many of these molecules are prone to ring-opening and closing during geometry optimization. The goal is to compare the number or rings of the initial geometry to the number of rings of the final geometry."
   ]
  },
  {
   "cell_type": "code",
   "execution_count": 1,
   "id": "43822b24-3e9b-4ff8-a0a9-efc00891e8ec",
   "metadata": {},
   "outputs": [
    {
     "name": "stderr",
     "output_type": "stream",
     "text": [
      "C:\\Users\\bripe\\anaconda3\\lib\\site-packages\\pybel\\struct\\operations.py:8: TqdmExperimentalWarning: Using `tqdm.autonotebook.tqdm` in notebook mode. Use `tqdm.tqdm` instead to force console mode (e.g. in jupyter console)\n",
      "  from tqdm.autonotebook import tqdm\n"
     ]
    }
   ],
   "source": [
    "import pybel\n",
    "import openbabel\n",
    "import glob"
   ]
  },
  {
   "cell_type": "code",
   "execution_count": 2,
   "id": "d7833ddc-c9d2-47d5-9561-51fa087b1bcb",
   "metadata": {},
   "outputs": [],
   "source": [
    "def num_rings(SMILES):\n",
    "    '''\n",
    "    Counts the number of rings in SMILES\n",
    "\n",
    "    Parameters\n",
    "    ----------\n",
    "    SMILES: str\n",
    "        SMILES string of the molecule\n",
    "    Returns\n",
    "    --------\n",
    "    ring_count: int\n",
    "        number of rings in the molecule\n",
    "    '''\n",
    "    ring_symbol_count = 0\n",
    "    frags = list(SMILES)\n",
    "\n",
    "    for x in frags:\n",
    "        if RepresentsInt(x) == True:\n",
    "            ring_symbol_count += 1 # adds 1 if it sees a number in the SMILES, representing a part of the ring break\n",
    "        elif x == '%':\n",
    "            ring_symbol_count -= 1 # the number of the ring closure is double digits, so we don't want to add that ring twice\n",
    "\n",
    "    ring_count = ring_symbol_count / 2 # needs 2 numbers for every 1 ring break\n",
    "\n",
    "    return ring_count\n",
    "\n",
    "def check_mol_breaks(SMILES):\n",
    "    '''\n",
    "    Checks to see if the molecule was broken into fragments during geometry optimization\n",
    "\n",
    "    Parameters\n",
    "    ----------\n",
    "    SMILES:str\n",
    "        SMILES string of the molecule\n",
    "\n",
    "    '''\n",
    "    frags = list(SMILES)\n",
    "    if '.' in frags:\n",
    "        return True\n",
    "\n",
    "def check_geom_opt(NFA_str, file_name):\n",
    "    '''\n",
    "    Checks to see if something weird and incorrect happened during geometry optimization\n",
    "    Primary example is new rings forming or fragments breaking\n",
    "\n",
    "    Parameters\n",
    "    ----------\n",
    "    NFA_str: string\n",
    "        SMILES string of the molecule\n",
    "\n",
    "    file_name: string\n",
    "        path to xyz file\n",
    "    '''\n",
    "\n",
    "    unopt_num_rings = num_rings(NFA_str)\n",
    "\n",
    "    opt_smi = xyz_to_smiles(file_name)\n",
    "    opt_num_rings = num_rings(opt_smi)\n",
    "\n",
    "    if unopt_num_rings != opt_num_rings:\n",
    "        print(file_name)\n",
    "        print('The numbers of rings does match before and after geometry optimization')\n",
    "        return False\n",
    "\n",
    "    if check_mol_breaks(opt_smi) == True:\n",
    "        print(file_name)\n",
    "        print('The molecule broke into fragments')\n",
    "        return False"
   ]
  },
  {
   "cell_type": "code",
   "execution_count": 3,
   "id": "0efdef2c-8f3a-4b80-89d1-14033c1c0d08",
   "metadata": {},
   "outputs": [
    {
     "ename": "AttributeError",
     "evalue": "module 'pybel' has no attribute 'readfile'",
     "output_type": "error",
     "traceback": [
      "\u001b[1;31m---------------------------------------------------------------------------\u001b[0m",
      "\u001b[1;31mAttributeError\u001b[0m                            Traceback (most recent call last)",
      "\u001b[1;32m<ipython-input-3-65ca45d3f57c>\u001b[0m in \u001b[0;36m<module>\u001b[1;34m\u001b[0m\n\u001b[0;32m      1\u001b[0m \u001b[1;32mfor\u001b[0m \u001b[0mfile\u001b[0m \u001b[1;32min\u001b[0m \u001b[0mglob\u001b[0m\u001b[1;33m.\u001b[0m\u001b[0miglob\u001b[0m\u001b[1;33m(\u001b[0m\u001b[1;34m'Calculations/acceptors/input/2_benchmarking/*.sdf'\u001b[0m\u001b[1;33m)\u001b[0m\u001b[1;33m:\u001b[0m\u001b[1;33m\u001b[0m\u001b[1;33m\u001b[0m\u001b[0m\n\u001b[0;32m      2\u001b[0m     \u001b[0mfilename\u001b[0m \u001b[1;33m=\u001b[0m \u001b[0mfile\u001b[0m\u001b[1;33m.\u001b[0m\u001b[0msplit\u001b[0m\u001b[1;33m(\u001b[0m\u001b[1;34m\"/\"\u001b[0m\u001b[1;33m)\u001b[0m\u001b[1;33m[\u001b[0m\u001b[1;33m-\u001b[0m\u001b[1;36m1\u001b[0m\u001b[1;33m]\u001b[0m\u001b[1;33m.\u001b[0m\u001b[0msplit\u001b[0m\u001b[1;33m(\u001b[0m\u001b[1;34m\".\"\u001b[0m\u001b[1;33m)\u001b[0m\u001b[1;33m[\u001b[0m\u001b[1;36m0\u001b[0m\u001b[1;33m]\u001b[0m\u001b[1;33m\u001b[0m\u001b[1;33m\u001b[0m\u001b[0m\n\u001b[1;32m----> 3\u001b[1;33m     \u001b[0mmol\u001b[0m \u001b[1;33m=\u001b[0m \u001b[0mnext\u001b[0m\u001b[1;33m(\u001b[0m\u001b[0mpybel\u001b[0m\u001b[1;33m.\u001b[0m\u001b[0mreadfile\u001b[0m\u001b[1;33m(\u001b[0m\u001b[1;34m'sdf'\u001b[0m\u001b[1;33m,\u001b[0m \u001b[0mfile\u001b[0m\u001b[1;33m)\u001b[0m\u001b[1;33m)\u001b[0m\u001b[1;33m\u001b[0m\u001b[1;33m\u001b[0m\u001b[0m\n\u001b[0m\u001b[0;32m      4\u001b[0m     \u001b[0minitial_smi\u001b[0m \u001b[1;33m=\u001b[0m \u001b[0mmol\u001b[0m\u001b[1;33m.\u001b[0m\u001b[0mwrite\u001b[0m\u001b[1;33m(\u001b[0m\u001b[0mformat\u001b[0m \u001b[1;33m=\u001b[0m \u001b[1;34m'smi'\u001b[0m\u001b[1;33m)\u001b[0m\u001b[1;33m\u001b[0m\u001b[1;33m\u001b[0m\u001b[0m\n\u001b[0;32m      5\u001b[0m     \u001b[0mprint\u001b[0m\u001b[1;33m(\u001b[0m\u001b[0minitial_smi\u001b[0m\u001b[1;33m)\u001b[0m\u001b[1;33m\u001b[0m\u001b[1;33m\u001b[0m\u001b[0m\n",
      "\u001b[1;31mAttributeError\u001b[0m: module 'pybel' has no attribute 'readfile'"
     ]
    }
   ],
   "source": [
    "for file in glob.iglob('Calculations/acceptors/input/2_benchmarking/*.sdf'):\n",
    "    filename = file.split(\"/\")[-1].split(\".\")[0]\n",
    "    mol = next(pybel.readfile('sdf', file))\n",
    "    initial_smi = mol.write(format = 'smi')\n",
    "    print(initial_smi)\n",
    "    \n",
    "    "
   ]
  },
  {
   "cell_type": "code",
   "execution_count": null,
   "id": "42683d9c-0117-42da-8144-aa290fd0a3f6",
   "metadata": {},
   "outputs": [],
   "source": []
  }
 ],
 "metadata": {
  "kernelspec": {
   "display_name": "Python 3",
   "language": "python",
   "name": "python3"
  },
  "language_info": {
   "codemirror_mode": {
    "name": "ipython",
    "version": 3
   },
   "file_extension": ".py",
   "mimetype": "text/x-python",
   "name": "python",
   "nbconvert_exporter": "python",
   "pygments_lexer": "ipython3",
   "version": "3.8.8"
  }
 },
 "nbformat": 4,
 "nbformat_minor": 5
}
