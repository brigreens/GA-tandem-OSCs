{
 "cells": [
  {
   "cell_type": "markdown",
   "id": "b310e6f3",
   "metadata": {},
   "source": [
    "# Models to predict PCE with the descriptros standardized"
   ]
  },
  {
   "cell_type": "code",
   "execution_count": null,
   "id": "5e31f330",
   "metadata": {},
   "outputs": [],
   "source": []
  },
  {
   "cell_type": "code",
   "execution_count": 1,
   "id": "480b8a30",
   "metadata": {},
   "outputs": [],
   "source": [
    "import numpy as np\n",
    "import pandas as pd\n",
    "import matplotlib.pyplot as plt\n",
    "import pylab\n",
    "import seaborn as sns\n",
    "import math\n",
    "import statistics\n",
    "from scipy.stats import sem\n",
    "from scipy import stats\n",
    "\n",
    "from pathlib import Path\n",
    "\n",
    "import statsmodels.api as sm\n",
    "from xgboost import XGBRFRegressor\n",
    "from sklearn.svm import SVR\n",
    "from sklearn.neighbors import KNeighborsRegressor\n",
    "from lightgbm import LGBMRegressor\n",
    "import sklearn\n",
    "from sklearn.metrics import mean_absolute_error\n",
    "from sklearn.metrics import mean_squared_error\n",
    "from sklearn.metrics import make_scorer\n",
    "from sklearn.utils import check_consistent_length\n",
    "from sklearn.utils import check_array\n",
    "from sklearn.linear_model import Lasso\n",
    "from sklearn.model_selection import cross_validate\n",
    "\n",
    "from sklearn.base import BaseEstimator, RegressorMixin\n",
    "from sklearn.preprocessing import StandardScaler\n",
    "from pickle import dump\n",
    "from numpy import mean\n",
    "from numpy import std\n",
    "from sklearn.datasets import make_regression\n",
    "from sklearn.model_selection import cross_val_score, GridSearchCV, cross_val_predict\n",
    "from sklearn.model_selection import RepeatedKFold\n",
    "from sklearn.ensemble import RandomForestRegressor\n",
    "from sklearn.model_selection import RandomizedSearchCV\n",
    "\n",
    "from sklearn.model_selection import train_test_split\n",
    "from sklearn import metrics\n",
    "from sklearn.preprocessing import MinMaxScaler\n",
    "import math\n",
    "from sklearn.metrics import make_scorer\n",
    "\n",
    "import matplotlib.pyplot as plt\n",
    "from sklearn.linear_model import LassoCV\n",
    "from sklearn.ensemble import GradientBoostingRegressor\n",
    "from keras.models import Sequential\n",
    "from keras.layers import Dense\n",
    "from sklearn.neural_network import MLPRegressor\n",
    "from sklearn.ensemble import VotingRegressor\n",
    "\n",
    "import warnings\n",
    "warnings.filterwarnings(\"ignore\")"
   ]
  },
  {
   "cell_type": "code",
   "execution_count": 3,
   "id": "5514f0cb",
   "metadata": {},
   "outputs": [
    {
     "name": "stdout",
     "output_type": "stream",
     "text": [
      "1.0.2\n"
     ]
    }
   ],
   "source": [
    "print(sklearn.__version__)"
   ]
  },
  {
   "cell_type": "code",
   "execution_count": 2,
   "id": "f16f64cd",
   "metadata": {},
   "outputs": [
    {
     "name": "stdout",
     "output_type": "stream",
     "text": [
      "Number of donor-acceptor pairs is: 1001\n"
     ]
    }
   ],
   "source": [
    "data = pd.read_csv('descriptors.csv')\n",
    "print('Number of donor-acceptor pairs is: ' + str(len(data)))"
   ]
  },
  {
   "cell_type": "code",
   "execution_count": 3,
   "id": "a74c277a",
   "metadata": {},
   "outputs": [
    {
     "name": "stdout",
     "output_type": "stream",
     "text": [
      "Number of donor-acceptor pairs with a PCE greater than 10% is: 505\n"
     ]
    }
   ],
   "source": [
    "data_highPCE = data[data['PCE'] > 10]\n",
    "print('Number of donor-acceptor pairs with a PCE greater than 10% is: ' + str(len(data_highPCE)))"
   ]
  },
  {
   "cell_type": "markdown",
   "id": "99563d0b",
   "metadata": {},
   "source": [
    "## LASSO"
   ]
  },
  {
   "cell_type": "code",
   "execution_count": 4,
   "id": "b5eb9102",
   "metadata": {
    "tags": []
   },
   "outputs": [],
   "source": [
    "# Will tune the descriptors down to 6 until to achieve an optimized RMSE\n",
    "# returns a list of the top 6 descriptors\n",
    "def optimize_eq(df, target):\n",
    "    \n",
    "    all_descriptors = ['A-HOMO', 'A-HOMOminus1', 'A-LUMO', 'A-LUMOplus1', 'A-fundbg', 'A-deltaHOMO', 'A-deltaLUMO', 'A-opt_bg', 'A-max_abs', 'A-summed_oscs', 'A-area_spectra', 'A-area_sim_solar_spectra', 'A-chemical_potential', 'A-electrophilicity', 'A-pi_sys_size', 'A-num_rot_bonds', 'A-MolLogP', 'A-TPSA', 'A-NumHAcceptors', 'A-NumHDonors', 'A-planarity','A-dipole_moment', 'A-polarizability', 'A-SolvationEnergy_water', 'A-SolvationEnergy_hexane', 'D-HOMO', 'D-HOMOminus1', 'D-LUMO', 'D-LUMOplus1', 'D-fundbg', 'D-deltaHOMO', 'D-deltaLUMO', 'D-opt_bg', 'D-max_abs', 'D-summed_oscs', 'D-area_spectra', 'D-area_sim_solar_spectra', 'D-chemical_potential', 'D-electrophilicity', 'D-pi_sys_size', 'D-num_rot_bonds', 'D-MolLogP', 'D-TPSA', 'D-NumHAcceptors', 'D-NumHDonors', 'D-planarity','D-dipole_moment', 'D-polarizability', 'D-SolvationEnergy_water', 'D-SolvationEnergy_hexane', 'AD-overlap', 'AD-HOMOoffset', 'AD-LUMOoffset', 'DHOMO_ALUMO_offset']\n",
    "    \n",
    "    # LASSO to remove any with coefficients of zero\n",
    "    descriptors_to_remove = []\n",
    "    results = evaluate_model(all_descriptors, df[target], df,output=False)\n",
    "    for x in range(len(results[9])):\n",
    "        if results[9][x][1] == 0.0:\n",
    "            descriptors_to_remove.append(results[9][x][0])\n",
    "            \n",
    "    for x in descriptors_to_remove:\n",
    "        all_descriptors.remove(x)\n",
    "    print(all_descriptors)\n",
    "    \n",
    "    while len(all_descriptors) > 6:\n",
    "        rmse = 100.0\n",
    "        diff = 0.0\n",
    "        mae = 100.0\n",
    "        r2 = -1.00\n",
    "        for x in range(len(all_descriptors)):\n",
    "            temp_descriptor = all_descriptors[x]\n",
    "            new_list = all_descriptors.copy()\n",
    "            new_list.remove(temp_descriptor)\n",
    "            results = evaluate_model(new_list, df[target], df,output=False)\n",
    "            new_diff = 100.0 - float(results[4])\n",
    "            \n",
    "            if new_diff >= diff:\n",
    "                if new_diff == diff:\n",
    "                    if mae == results[2]:\n",
    "                        if results[0] > r2:\n",
    "                            diff = new_diff\n",
    "                            mae = results[2]\n",
    "                            r2 = results[0]\n",
    "                            rmse = results[4]\n",
    "                            best_list = new_list\n",
    "                    elif mae > results[2]:\n",
    "                        diff = new_diff\n",
    "                        mae = results[2]\n",
    "                        r2 = results[0]\n",
    "                        rmse = results[4]\n",
    "                        best_list = new_list\n",
    "                else:\n",
    "                    diff = new_diff\n",
    "                    mae = results[2]\n",
    "                    r2 = results[0]\n",
    "                    rmse = results[4]\n",
    "                    best_list = new_list\n",
    "                \n",
    "        all_descriptors = best_list\n",
    "        print(len(all_descriptors))\n",
    "        print(rmse)\n",
    "        \n",
    "    print(all_descriptors)\n",
    "    print(rmse)\n",
    "    \n",
    "    return all_descriptors\n",
    "\n",
    "## from sci-kit-learn https://github.com/scikit-learn/scikit-learn/blob/4773f3e39/sklearn/metrics/_regression.py#L197\n",
    "def _check_reg_targets(y_true, y_pred, multioutput, dtype=\"numeric\"):\n",
    "    check_consistent_length(y_true, y_pred)\n",
    "    y_true = check_array(y_true, ensure_2d=False, dtype=dtype)\n",
    "    y_pred = check_array(y_pred, ensure_2d=False, dtype=dtype)\n",
    "\n",
    "    if y_true.ndim == 1:\n",
    "        y_true = y_true.reshape((-1, 1))\n",
    "\n",
    "    if y_pred.ndim == 1:\n",
    "        y_pred = y_pred.reshape((-1, 1))\n",
    "\n",
    "    if y_true.shape[1] != y_pred.shape[1]:\n",
    "        raise ValueError(\"y_true and y_pred have different number of output \"\n",
    "                         \"({0}!={1})\".format(y_true.shape[1], y_pred.shape[1]))\n",
    "\n",
    "    n_outputs = y_true.shape[1]\n",
    "    allowed_multioutput_str = ('raw_values', 'uniform_average',\n",
    "                               'variance_weighted')\n",
    "    if isinstance(multioutput, str):\n",
    "        if multioutput not in allowed_multioutput_str:\n",
    "            raise ValueError(\"Allowed 'multioutput' string values are {}. \"\n",
    "                             \"You provided multioutput={!r}\".format(\n",
    "                                 allowed_multioutput_str,\n",
    "                                 multioutput))\n",
    "    elif multioutput is not None:\n",
    "        multioutput = check_array(multioutput, ensure_2d=False)\n",
    "        if n_outputs == 1:\n",
    "            raise ValueError(\"Custom weights are useful only in \"\n",
    "                             \"multi-output cases.\")\n",
    "        elif n_outputs != len(multioutput):\n",
    "            raise ValueError((\"There must be equally many custom weights \"\n",
    "                              \"(%d) as outputs (%d).\") %\n",
    "                             (len(multioutput), n_outputs))\n",
    "    y_type = 'continuous' if n_outputs == 1 else 'continuous-multioutput'\n",
    "\n",
    "    return y_type, y_true, y_pred, multioutput\n",
    "\n",
    "def mean_absolute_percentage_error(y_true, y_pred,\n",
    "                                   sample_weight=None,\n",
    "                                   multioutput='uniform_average'):\n",
    "\n",
    "    y_type, y_true, y_pred, multioutput = _check_reg_targets(\n",
    "        y_true, y_pred, multioutput)\n",
    "    check_consistent_length(y_true, y_pred, sample_weight)\n",
    "    epsilon = np.finfo(np.float64).eps\n",
    "    mape = np.abs(y_pred - y_true) / np.maximum(np.abs(y_true), epsilon)\n",
    "    output_errors = np.average(mape,\n",
    "                               weights=sample_weight, axis=0)\n",
    "    if isinstance(multioutput, str):\n",
    "        if multioutput == 'raw_values':\n",
    "            return output_errors\n",
    "        elif multioutput == 'uniform_average':\n",
    "            # pass None as weights to np.average: uniform mean\n",
    "            multioutput = None\n",
    "\n",
    "    return np.average(output_errors, weights=multioutput)\n",
    "\n",
    "def evaluate_model(list_of_desc, target, dataframe, cf = False, output=True):\n",
    "    '''\n",
    "    Evaluates the errors of the proposed model\n",
    "    \n",
    "    Parameters\n",
    "    ---------\n",
    "    list_of_desc = name of the list that contains the descriptors\n",
    "    target = target experimental value in the dataframe. Ex: df_highPCE['ExperimentalJsc']\n",
    "    dataframe = name of dataframe to use descriptors from\n",
    "    cf = should it show the coefficients\n",
    "    \n",
    "    Returns\n",
    "    -------\n",
    "    R2, MAE, RMSE, MAPE, y-intercept of equation, coefficients of each descriptor, average predictions\n",
    "    '''\n",
    "    \n",
    "    new_df = dataframe[list_of_desc].copy()\n",
    "    \n",
    "    max_mae = 10.0\n",
    "    best_alpha = 0\n",
    "    for a in range(1,200):\n",
    "        lm =Lasso(alpha=float(a)/100.0)\n",
    "        lm.fit(new_df, target)\n",
    "        mae = mean_absolute_error(target, lm.predict(new_df))\n",
    "        if mae < max_mae:\n",
    "            best_alpha = float(a)/100.0\n",
    "            max_mae = mae\n",
    "\n",
    "    r2_score = []\n",
    "    intercepts = []\n",
    "    coefs = []\n",
    "    predicted_PCE = []\n",
    "    MAE_cv = []\n",
    "    RMSE_cv = []\n",
    "    \n",
    "    print('Best alpha is', best_alpha)\n",
    "\n",
    "    PCE_cv = cross_validate(Lasso(alpha = best_alpha, max_iter = 100000), new_df, target, cv=5, scoring = ['neg_mean_squared_error'] , return_estimator = True)\n",
    "    for x in PCE_cv['estimator']:\n",
    "        coef = x.coef_\n",
    "        coefs.append(coef)\n",
    "\n",
    "        pred = x.predict(new_df)\n",
    "        predicted_PCE.append(pred)\n",
    "\n",
    "        r2_score.append(x.score(new_df, target))\n",
    "        intercepts.append(x.intercept_)\n",
    "\n",
    "        \n",
    "    avg_coef = sum(coefs)/5.0    \n",
    "    zipped_coefs = zip(list_of_desc, avg_coef)\n",
    "    \n",
    "    if output == True:\n",
    "        if cf == True:\n",
    "            print('The average intercept from 5 folds is ', statistics.mean(intercepts))\n",
    "            print('The average coefficients of the 5 folds is ', list(zipped_coefs))\n",
    "    \n",
    "    coefficients = list(zipped_coefs)\n",
    "    \n",
    "    avg_pred = sum(predicted_PCE)/ 5.0    \n",
    "    all_mae = []\n",
    "    all_RMSE = []\n",
    "    all_MAPE = []\n",
    "    for x in range(len(predicted_PCE)):\n",
    "        mae = mean_absolute_error(target, predicted_PCE[x])\n",
    "        all_mae.append(mae)\n",
    "        mse = mean_squared_error(target, predicted_PCE[x])\n",
    "        rmse = math.sqrt(mse)\n",
    "        all_RMSE.append(rmse)\n",
    "        mape = mean_absolute_percentage_error(target, predicted_PCE[x]) * 100\n",
    "        all_MAPE.append(mape)\n",
    "    SEM_mae = round(sem(all_mae), 3)\n",
    "    SEM_RMSE = round(sem(all_RMSE), 5)\n",
    "    SEM_MAPE = round(sem(all_MAPE), 5)\n",
    "    \n",
    "    \n",
    "    mean_MAE = round(statistics.mean(all_mae), 3)\n",
    "    mean_RMSE = round(statistics.mean(all_RMSE), 4)\n",
    "    mean_MAPE = round(statistics.mean(all_MAPE), 4)\n",
    "    SEM_r2 = round(sem(r2_score), 3)\n",
    "    \n",
    "    if output == True:\n",
    "        print('The 5-fold cross-validated RMSE of this model is, ', mean_RMSE, ' +/- ', SEM_RMSE)\n",
    "        print('The 5-fold cross-validated MAE of the average ', mean_MAE, ' +/- ', SEM_mae)\n",
    "        print('The average r^2 value is ', statistics.mean(r2_score), ' +/- ', SEM_r2 )\n",
    "    mean_r2 = round(statistics.mean(r2_score), 3)\n",
    "    \n",
    "    intercept = statistics.mean(intercepts)\n",
    "    \n",
    "    return mean_r2, SEM_r2, mean_MAE, SEM_mae, mean_RMSE, SEM_RMSE, mean_MAPE, SEM_MAPE, intercept, coefficients, avg_pred"
   ]
  },
  {
   "cell_type": "code",
   "execution_count": 35,
   "id": "31e07100",
   "metadata": {},
   "outputs": [],
   "source": [
    "#https://www.programcreek.com/python/example/99249/sklearn.linear_model.LassoCV\n",
    "\n",
    "def load_default(self, machine_list='basic'):\n",
    "        \"\"\"\n",
    "        Loads 4 different scikit-learn regressors by default. The advanced list adds more machines. \n",
    "\n",
    "        Parameters\n",
    "        ----------\n",
    "        machine_list: optional, list of strings\n",
    "            List of default machine names to be loaded.\n",
    "        Returns\n",
    "        -------\n",
    "        self : returns an instance of self.\n",
    "        \"\"\"\n",
    "\n",
    "        if machine_list == 'basic':\n",
    "            machine_list = ['tree', 'ridge', 'random_forest', 'svm']\n",
    "        if machine_list == 'advanced':\n",
    "            machine_list=['lasso', 'tree', 'ridge', 'random_forest', 'svm', 'bayesian_ridge', 'sgd']\n",
    "\n",
    "        self.estimators_ = {}\n",
    "        for machine in machine_list:\n",
    "            try:\n",
    "                if machine == 'lasso':\n",
    "                    self.estimators_['lasso'] = linear_model.LassoCV(random_state=self.random_state).fit(self.X_k_, self.y_k_)\n",
    "                if machine == 'tree':\n",
    "                    self.estimators_['tree'] = DecisionTreeRegressor(random_state=self.random_state).fit(self.X_k_, self.y_k_)\n",
    "                if machine == 'ridge':\n",
    "                    self.estimators_['ridge'] = linear_model.RidgeCV().fit(self.X_k_, self.y_k_)\n",
    "                if machine == 'random_forest':\n",
    "                    self.estimators_['random_forest'] = RandomForestRegressor(random_state=self.random_state).fit(self.X_k_, self.y_k_)\n",
    "                if machine == 'svm':\n",
    "                    self.estimators_['svm'] = LinearSVR(random_state=self.random_state).fit(self.X_k_, self.y_k_)\n",
    "                if machine == 'sgd':\n",
    "                    self.estimators_['sgd'] = linear_model.SGDRegressor(random_state=self.random_state).fit(self.X_k_, self.y_k_)\n",
    "                if machine == 'bayesian_ridge':\n",
    "                    self.estimators_['bayesian_ridge'] = linear_model.BayesianRidge().fit(self.X_k_, self.y_k_)\n",
    "            except ValueError:\n",
    "                continue\n",
    "        return self "
   ]
  },
  {
   "cell_type": "markdown",
   "id": "05f45cac",
   "metadata": {},
   "source": [
    "Lets see which descriptors LASSO selects:"
   ]
  },
  {
   "cell_type": "code",
   "execution_count": 8,
   "id": "357d9fcc",
   "metadata": {},
   "outputs": [
    {
     "name": "stdout",
     "output_type": "stream",
     "text": [
      "There are 54 descriptors\n"
     ]
    }
   ],
   "source": [
    "all_descriptors = ['A-HOMO', 'A-HOMOminus1', 'A-LUMO', 'A-LUMOplus1', 'A-fundbg', 'A-deltaHOMO', 'A-deltaLUMO', 'A-opt_bg', 'A-max_abs', 'A-summed_oscs', 'A-area_spectra', 'A-area_sim_solar_spectra', 'A-chemical_potential', 'A-electrophilicity', 'A-pi_sys_size', 'A-num_rot_bonds', 'A-MolLogP', 'A-TPSA', 'A-NumHAcceptors', 'A-NumHDonors', 'A-planarity','A-dipole_moment', 'A-polarizability', 'A-SolvationEnergy_water', 'A-SolvationEnergy_hexane', 'D-HOMO', 'D-HOMOminus1', 'D-LUMO', 'D-LUMOplus1', 'D-fundbg', 'D-deltaHOMO', 'D-deltaLUMO', 'D-opt_bg', 'D-max_abs', 'D-summed_oscs', 'D-area_spectra', 'D-area_sim_solar_spectra', 'D-chemical_potential', 'D-electrophilicity', 'D-pi_sys_size', 'D-num_rot_bonds', 'D-MolLogP', 'D-TPSA', 'D-NumHAcceptors', 'D-NumHDonors', 'D-planarity','D-dipole_moment', 'D-polarizability', 'D-SolvationEnergy_water', 'D-SolvationEnergy_hexane', 'AD-overlap', 'AD-HOMOoffset', 'AD-LUMOoffset', 'DHOMO_ALUMO_offset']\n",
    "print(\"There are \" + str(len(all_descriptors)) + ' descriptors')"
   ]
  },
  {
   "cell_type": "code",
   "execution_count": 102,
   "id": "c52b4526",
   "metadata": {},
   "outputs": [
    {
     "name": "stdout",
     "output_type": "stream",
     "text": [
      "Best alpha is 0.01\n",
      "The average intercept from 5 folds is  -51.57087072184057\n",
      "The average coefficients of the 5 folds is  [('A-HOMO', 0.0), ('A-HOMOminus1', 0.0), ('A-LUMO', -0.17545975271623135), ('A-LUMOplus1', -0.37452985792697435), ('A-fundbg', 0.0), ('A-deltaHOMO', -2.257287427054922), ('A-deltaLUMO', -0.0010517494440340231), ('A-opt_bg', 0.0), ('A-max_abs', 0.012185671244768142), ('A-summed_oscs', -0.11552792341660978), ('A-area_spectra', -0.0024600261908346815), ('A-area_sim_solar_spectra', 0.06207173287218095), ('A-chemical_potential', 0.0), ('A-electrophilicity', -0.03011792426999103), ('A-pi_sys_size', -0.03922436041426376), ('A-num_rot_bonds', -0.39931444393768434), ('A-MolLogP', 0.3033117383147984), ('A-TPSA', 0.019222160253011905), ('A-NumHAcceptors', 0.06030204224934772), ('A-NumHDonors', 0.0), ('A-planarity', -0.16661875585035552), ('A-dipole_moment', -0.02827826710704328), ('A-polarizability', -0.0011481163925569366), ('A-SolvationEnergy_water', 0.0), ('A-SolvationEnergy_hexane', 0.0), ('D-HOMO', 0.0), ('D-HOMOminus1', -2.609560498762281), ('D-LUMO', -0.09153978351798593), ('D-LUMOplus1', -2.4630012027165327), ('D-fundbg', 0.0), ('D-deltaHOMO', 0.0), ('D-deltaLUMO', 0.0), ('D-opt_bg', 0.0), ('D-max_abs', -0.005792822722166216), ('D-summed_oscs', 0.061046950921234355), ('D-area_spectra', -0.0009257572306575465), ('D-area_sim_solar_spectra', 0.07486112837362366), ('D-chemical_potential', 0.0), ('D-electrophilicity', 0.019743047637750682), ('D-pi_sys_size', 0.0028551618219520873), ('D-num_rot_bonds', 0.1379674641410618), ('D-MolLogP', 0.09091670347420719), ('D-TPSA', -0.01842713958710088), ('D-NumHAcceptors', 0.19570504708200062), ('D-NumHDonors', 0.0), ('D-planarity', -0.197607592555249), ('D-dipole_moment', -0.05797453846768639), ('D-polarizability', -0.005094977289589237), ('D-SolvationEnergy_water', 0.0), ('D-SolvationEnergy_hexane', 0.0), ('AD-overlap', 0.0012525194003496043), ('AD-HOMOoffset', 0.0), ('AD-LUMOoffset', -0.004279434045421667), ('DHOMO_ALUMO_offset', 0.0)]\n",
      "The 5-fold cross-validated RMSE of this model is,  2.9167  +/-  0.00412\n",
      "The 5-fold cross-validated MAE of the average  2.23  +/-  0.003\n",
      "The average r^2 value is  0.41299670588474546  +/-  0.002\n"
     ]
    }
   ],
   "source": [
    "Lasso_PCE = evaluate_model(all_descriptors, data['PCE'], data, cf=True)"
   ]
  },
  {
   "cell_type": "markdown",
   "id": "6bd8c523",
   "metadata": {},
   "source": [
    "When the coefficient is zero, it means there is no correlation between the descriptor and the PCE, so it can be discarded.  \n",
    "The following descriptors were zeroed out:\n",
    "1. HOMO (acc & don)\n",
    "2. HOMO-1 (acc)\n",
    "3. fundamental bandgap (acc & don)\n",
    "4. optical bandgap (acc & don)\n",
    "5. chemical potential (acc & don)\n",
    "6. NumHDonors (acc & don)\n",
    "7. Solvation energies for water and hexane (acc & don)\n",
    "8. deltaHOMO (don)\n",
    "9. deltaLUMO (don)\n",
    "10. HOMO offset between donor and acceptor\n",
    "11. Offset between donor HOMO and acceptor LUMO"
   ]
  },
  {
   "cell_type": "markdown",
   "id": "138dcfd2",
   "metadata": {},
   "source": [
    "The remaining descriptors are hand-tuned to lower the RMSE"
   ]
  },
  {
   "cell_type": "code",
   "execution_count": 19,
   "id": "246f8859",
   "metadata": {
    "collapsed": true,
    "jupyter": {
     "outputs_hidden": true
    },
    "tags": []
   },
   "outputs": [
    {
     "name": "stdout",
     "output_type": "stream",
     "text": [
      "['A-LUMO', 'A-LUMOplus1', 'A-deltaHOMO', 'A-deltaLUMO', 'A-max_abs', 'A-summed_oscs', 'A-area_spectra', 'A-area_sim_solar_spectra', 'A-electrophilicity', 'A-pi_sys_size', 'A-num_rot_bonds', 'A-MolLogP', 'A-TPSA', 'A-NumHAcceptors', 'A-planarity', 'A-dipole_moment', 'A-polarizability', 'D-HOMOminus1', 'D-LUMO', 'D-LUMOplus1', 'D-max_abs', 'D-summed_oscs', 'D-area_spectra', 'D-area_sim_solar_spectra', 'D-electrophilicity', 'D-pi_sys_size', 'D-num_rot_bonds', 'D-MolLogP', 'D-TPSA', 'D-NumHAcceptors', 'D-planarity', 'D-dipole_moment', 'D-polarizability', 'AD-overlap', 'AD-LUMOoffset']\n"
     ]
    },
    {
     "name": "stderr",
     "output_type": "stream",
     "text": [
      "C:\\Users\\bripe\\anaconda3\\lib\\site-packages\\sklearn\\linear_model\\_coordinate_descent.py:530: ConvergenceWarning: Objective did not converge. You might want to increase the number of iterations. Duality gap: 6.781293106398152, tolerance: 1.4507535502977023\n",
      "  model = cd_fast.enet_coordinate_descent(\n",
      "C:\\Users\\bripe\\anaconda3\\lib\\site-packages\\sklearn\\linear_model\\_coordinate_descent.py:530: ConvergenceWarning: Objective did not converge. You might want to increase the number of iterations. Duality gap: 31.384951783514225, tolerance: 1.4507535502977023\n",
      "  model = cd_fast.enet_coordinate_descent(\n",
      "C:\\Users\\bripe\\anaconda3\\lib\\site-packages\\sklearn\\linear_model\\_coordinate_descent.py:530: ConvergenceWarning: Objective did not converge. You might want to increase the number of iterations. Duality gap: 8.786145665426375, tolerance: 1.4507535502977023\n",
      "  model = cd_fast.enet_coordinate_descent(\n",
      "C:\\Users\\bripe\\anaconda3\\lib\\site-packages\\sklearn\\linear_model\\_coordinate_descent.py:530: ConvergenceWarning: Objective did not converge. You might want to increase the number of iterations. Duality gap: 2.2772241456805205, tolerance: 1.4507535502977023\n",
      "  model = cd_fast.enet_coordinate_descent(\n",
      "C:\\Users\\bripe\\anaconda3\\lib\\site-packages\\sklearn\\linear_model\\_coordinate_descent.py:530: ConvergenceWarning: Objective did not converge. You might want to increase the number of iterations. Duality gap: 4.260510541649637, tolerance: 1.4507535502977023\n",
      "  model = cd_fast.enet_coordinate_descent(\n",
      "C:\\Users\\bripe\\anaconda3\\lib\\site-packages\\sklearn\\linear_model\\_coordinate_descent.py:530: ConvergenceWarning: Objective did not converge. You might want to increase the number of iterations. Duality gap: 2.282502544549061, tolerance: 1.4507535502977023\n",
      "  model = cd_fast.enet_coordinate_descent(\n",
      "C:\\Users\\bripe\\anaconda3\\lib\\site-packages\\sklearn\\linear_model\\_coordinate_descent.py:530: ConvergenceWarning: Objective did not converge. You might want to increase the number of iterations. Duality gap: 70.73498220931742, tolerance: 1.4507535502977023\n",
      "  model = cd_fast.enet_coordinate_descent(\n",
      "C:\\Users\\bripe\\anaconda3\\lib\\site-packages\\sklearn\\linear_model\\_coordinate_descent.py:530: ConvergenceWarning: Objective did not converge. You might want to increase the number of iterations. Duality gap: 24.674763146816076, tolerance: 1.4507535502977023\n",
      "  model = cd_fast.enet_coordinate_descent(\n",
      "C:\\Users\\bripe\\anaconda3\\lib\\site-packages\\sklearn\\linear_model\\_coordinate_descent.py:530: ConvergenceWarning: Objective did not converge. You might want to increase the number of iterations. Duality gap: 23.753236227011257, tolerance: 1.4507535502977023\n",
      "  model = cd_fast.enet_coordinate_descent(\n",
      "C:\\Users\\bripe\\anaconda3\\lib\\site-packages\\sklearn\\linear_model\\_coordinate_descent.py:530: ConvergenceWarning: Objective did not converge. You might want to increase the number of iterations. Duality gap: 5.990294182571233, tolerance: 1.4507535502977023\n",
      "  model = cd_fast.enet_coordinate_descent(\n",
      "C:\\Users\\bripe\\anaconda3\\lib\\site-packages\\sklearn\\linear_model\\_coordinate_descent.py:530: ConvergenceWarning: Objective did not converge. You might want to increase the number of iterations. Duality gap: 3.13262742337065, tolerance: 1.4507535502977023\n",
      "  model = cd_fast.enet_coordinate_descent(\n"
     ]
    },
    {
     "name": "stdout",
     "output_type": "stream",
     "text": [
      "34\n",
      "2.9135\n"
     ]
    },
    {
     "name": "stderr",
     "output_type": "stream",
     "text": [
      "C:\\Users\\bripe\\anaconda3\\lib\\site-packages\\sklearn\\linear_model\\_coordinate_descent.py:530: ConvergenceWarning: Objective did not converge. You might want to increase the number of iterations. Duality gap: 6.383602071324276, tolerance: 1.4507535502977023\n",
      "  model = cd_fast.enet_coordinate_descent(\n",
      "C:\\Users\\bripe\\anaconda3\\lib\\site-packages\\sklearn\\linear_model\\_coordinate_descent.py:530: ConvergenceWarning: Objective did not converge. You might want to increase the number of iterations. Duality gap: 30.775178613127537, tolerance: 1.4507535502977023\n",
      "  model = cd_fast.enet_coordinate_descent(\n",
      "C:\\Users\\bripe\\anaconda3\\lib\\site-packages\\sklearn\\linear_model\\_coordinate_descent.py:530: ConvergenceWarning: Objective did not converge. You might want to increase the number of iterations. Duality gap: 8.57423568455124, tolerance: 1.4507535502977023\n",
      "  model = cd_fast.enet_coordinate_descent(\n",
      "C:\\Users\\bripe\\anaconda3\\lib\\site-packages\\sklearn\\linear_model\\_coordinate_descent.py:530: ConvergenceWarning: Objective did not converge. You might want to increase the number of iterations. Duality gap: 2.2667150969664362, tolerance: 1.4507535502977023\n",
      "  model = cd_fast.enet_coordinate_descent(\n",
      "C:\\Users\\bripe\\anaconda3\\lib\\site-packages\\sklearn\\linear_model\\_coordinate_descent.py:530: ConvergenceWarning: Objective did not converge. You might want to increase the number of iterations. Duality gap: 4.02869174305124, tolerance: 1.4507535502977023\n",
      "  model = cd_fast.enet_coordinate_descent(\n",
      "C:\\Users\\bripe\\anaconda3\\lib\\site-packages\\sklearn\\linear_model\\_coordinate_descent.py:530: ConvergenceWarning: Objective did not converge. You might want to increase the number of iterations. Duality gap: 2.239054768853748, tolerance: 1.4507535502977023\n",
      "  model = cd_fast.enet_coordinate_descent(\n",
      "C:\\Users\\bripe\\anaconda3\\lib\\site-packages\\sklearn\\linear_model\\_coordinate_descent.py:530: ConvergenceWarning: Objective did not converge. You might want to increase the number of iterations. Duality gap: 72.48473122874748, tolerance: 1.4507535502977023\n",
      "  model = cd_fast.enet_coordinate_descent(\n",
      "C:\\Users\\bripe\\anaconda3\\lib\\site-packages\\sklearn\\linear_model\\_coordinate_descent.py:530: ConvergenceWarning: Objective did not converge. You might want to increase the number of iterations. Duality gap: 24.562403660802374, tolerance: 1.4507535502977023\n",
      "  model = cd_fast.enet_coordinate_descent(\n",
      "C:\\Users\\bripe\\anaconda3\\lib\\site-packages\\sklearn\\linear_model\\_coordinate_descent.py:530: ConvergenceWarning: Objective did not converge. You might want to increase the number of iterations. Duality gap: 23.67700429018896, tolerance: 1.4507535502977023\n",
      "  model = cd_fast.enet_coordinate_descent(\n",
      "C:\\Users\\bripe\\anaconda3\\lib\\site-packages\\sklearn\\linear_model\\_coordinate_descent.py:530: ConvergenceWarning: Objective did not converge. You might want to increase the number of iterations. Duality gap: 5.834006099430553, tolerance: 1.4507535502977023\n",
      "  model = cd_fast.enet_coordinate_descent(\n",
      "C:\\Users\\bripe\\anaconda3\\lib\\site-packages\\sklearn\\linear_model\\_coordinate_descent.py:530: ConvergenceWarning: Objective did not converge. You might want to increase the number of iterations. Duality gap: 3.0625718640767445, tolerance: 1.4507535502977023\n",
      "  model = cd_fast.enet_coordinate_descent(\n"
     ]
    },
    {
     "name": "stdout",
     "output_type": "stream",
     "text": [
      "33\n",
      "2.9108\n"
     ]
    },
    {
     "name": "stderr",
     "output_type": "stream",
     "text": [
      "C:\\Users\\bripe\\anaconda3\\lib\\site-packages\\sklearn\\linear_model\\_coordinate_descent.py:530: ConvergenceWarning: Objective did not converge. You might want to increase the number of iterations. Duality gap: 24.301351982651795, tolerance: 1.4507535502977023\n",
      "  model = cd_fast.enet_coordinate_descent(\n",
      "C:\\Users\\bripe\\anaconda3\\lib\\site-packages\\sklearn\\linear_model\\_coordinate_descent.py:530: ConvergenceWarning: Objective did not converge. You might want to increase the number of iterations. Duality gap: 6.025165096245473, tolerance: 1.4507535502977023\n",
      "  model = cd_fast.enet_coordinate_descent(\n",
      "C:\\Users\\bripe\\anaconda3\\lib\\site-packages\\sklearn\\linear_model\\_coordinate_descent.py:530: ConvergenceWarning: Objective did not converge. You might want to increase the number of iterations. Duality gap: 1.7502440586868033, tolerance: 1.4507535502977023\n",
      "  model = cd_fast.enet_coordinate_descent(\n",
      "C:\\Users\\bripe\\anaconda3\\lib\\site-packages\\sklearn\\linear_model\\_coordinate_descent.py:530: ConvergenceWarning: Objective did not converge. You might want to increase the number of iterations. Duality gap: 5.288329381630319, tolerance: 1.4507535502977023\n",
      "  model = cd_fast.enet_coordinate_descent(\n",
      "C:\\Users\\bripe\\anaconda3\\lib\\site-packages\\sklearn\\linear_model\\_coordinate_descent.py:530: ConvergenceWarning: Objective did not converge. You might want to increase the number of iterations. Duality gap: 2.7654079249496135, tolerance: 1.4507535502977023\n",
      "  model = cd_fast.enet_coordinate_descent(\n",
      "C:\\Users\\bripe\\anaconda3\\lib\\site-packages\\sklearn\\linear_model\\_coordinate_descent.py:530: ConvergenceWarning: Objective did not converge. You might want to increase the number of iterations. Duality gap: 1.8021353130952775, tolerance: 1.4507535502977023\n",
      "  model = cd_fast.enet_coordinate_descent(\n",
      "C:\\Users\\bripe\\anaconda3\\lib\\site-packages\\sklearn\\linear_model\\_coordinate_descent.py:530: ConvergenceWarning: Objective did not converge. You might want to increase the number of iterations. Duality gap: 2.4987743007950485, tolerance: 1.4507535502977023\n",
      "  model = cd_fast.enet_coordinate_descent(\n",
      "C:\\Users\\bripe\\anaconda3\\lib\\site-packages\\sklearn\\linear_model\\_coordinate_descent.py:530: ConvergenceWarning: Objective did not converge. You might want to increase the number of iterations. Duality gap: 44.58912390049318, tolerance: 1.4507535502977023\n",
      "  model = cd_fast.enet_coordinate_descent(\n",
      "C:\\Users\\bripe\\anaconda3\\lib\\site-packages\\sklearn\\linear_model\\_coordinate_descent.py:530: ConvergenceWarning: Objective did not converge. You might want to increase the number of iterations. Duality gap: 10.754715273023976, tolerance: 1.4507535502977023\n",
      "  model = cd_fast.enet_coordinate_descent(\n",
      "C:\\Users\\bripe\\anaconda3\\lib\\site-packages\\sklearn\\linear_model\\_coordinate_descent.py:530: ConvergenceWarning: Objective did not converge. You might want to increase the number of iterations. Duality gap: 3.4640453134106792, tolerance: 1.4507535502977023\n",
      "  model = cd_fast.enet_coordinate_descent(\n",
      "C:\\Users\\bripe\\anaconda3\\lib\\site-packages\\sklearn\\linear_model\\_coordinate_descent.py:530: ConvergenceWarning: Objective did not converge. You might want to increase the number of iterations. Duality gap: 23.896206012603216, tolerance: 1.4507535502977023\n",
      "  model = cd_fast.enet_coordinate_descent(\n",
      "C:\\Users\\bripe\\anaconda3\\lib\\site-packages\\sklearn\\linear_model\\_coordinate_descent.py:530: ConvergenceWarning: Objective did not converge. You might want to increase the number of iterations. Duality gap: 4.0530502701803925, tolerance: 1.4507535502977023\n",
      "  model = cd_fast.enet_coordinate_descent(\n",
      "C:\\Users\\bripe\\anaconda3\\lib\\site-packages\\sklearn\\linear_model\\_coordinate_descent.py:530: ConvergenceWarning: Objective did not converge. You might want to increase the number of iterations. Duality gap: 42.4364885807754, tolerance: 1.4507535502977023\n",
      "  model = cd_fast.enet_coordinate_descent(\n",
      "C:\\Users\\bripe\\anaconda3\\lib\\site-packages\\sklearn\\linear_model\\_coordinate_descent.py:530: ConvergenceWarning: Objective did not converge. You might want to increase the number of iterations. Duality gap: 1.5672356891773234, tolerance: 1.4507535502977023\n",
      "  model = cd_fast.enet_coordinate_descent(\n"
     ]
    },
    {
     "name": "stdout",
     "output_type": "stream",
     "text": [
      "32\n",
      "2.9095\n"
     ]
    },
    {
     "name": "stderr",
     "output_type": "stream",
     "text": [
      "C:\\Users\\bripe\\anaconda3\\lib\\site-packages\\sklearn\\linear_model\\_coordinate_descent.py:530: ConvergenceWarning: Objective did not converge. You might want to increase the number of iterations. Duality gap: 24.306155209224016, tolerance: 1.4507535502977023\n",
      "  model = cd_fast.enet_coordinate_descent(\n",
      "C:\\Users\\bripe\\anaconda3\\lib\\site-packages\\sklearn\\linear_model\\_coordinate_descent.py:530: ConvergenceWarning: Objective did not converge. You might want to increase the number of iterations. Duality gap: 6.057061871975748, tolerance: 1.4507535502977023\n",
      "  model = cd_fast.enet_coordinate_descent(\n",
      "C:\\Users\\bripe\\anaconda3\\lib\\site-packages\\sklearn\\linear_model\\_coordinate_descent.py:530: ConvergenceWarning: Objective did not converge. You might want to increase the number of iterations. Duality gap: 1.7463449306924304, tolerance: 1.4507535502977023\n",
      "  model = cd_fast.enet_coordinate_descent(\n",
      "C:\\Users\\bripe\\anaconda3\\lib\\site-packages\\sklearn\\linear_model\\_coordinate_descent.py:530: ConvergenceWarning: Objective did not converge. You might want to increase the number of iterations. Duality gap: 5.324489222378361, tolerance: 1.4507535502977023\n",
      "  model = cd_fast.enet_coordinate_descent(\n",
      "C:\\Users\\bripe\\anaconda3\\lib\\site-packages\\sklearn\\linear_model\\_coordinate_descent.py:530: ConvergenceWarning: Objective did not converge. You might want to increase the number of iterations. Duality gap: 2.7893016733887634, tolerance: 1.4507535502977023\n",
      "  model = cd_fast.enet_coordinate_descent(\n",
      "C:\\Users\\bripe\\anaconda3\\lib\\site-packages\\sklearn\\linear_model\\_coordinate_descent.py:530: ConvergenceWarning: Objective did not converge. You might want to increase the number of iterations. Duality gap: 1.8337253094941843, tolerance: 1.4507535502977023\n",
      "  model = cd_fast.enet_coordinate_descent(\n",
      "C:\\Users\\bripe\\anaconda3\\lib\\site-packages\\sklearn\\linear_model\\_coordinate_descent.py:530: ConvergenceWarning: Objective did not converge. You might want to increase the number of iterations. Duality gap: 2.3274596461978945, tolerance: 1.4507535502977023\n",
      "  model = cd_fast.enet_coordinate_descent(\n",
      "C:\\Users\\bripe\\anaconda3\\lib\\site-packages\\sklearn\\linear_model\\_coordinate_descent.py:530: ConvergenceWarning: Objective did not converge. You might want to increase the number of iterations. Duality gap: 43.95695209141559, tolerance: 1.4507535502977023\n",
      "  model = cd_fast.enet_coordinate_descent(\n",
      "C:\\Users\\bripe\\anaconda3\\lib\\site-packages\\sklearn\\linear_model\\_coordinate_descent.py:530: ConvergenceWarning: Objective did not converge. You might want to increase the number of iterations. Duality gap: 10.496191342392194, tolerance: 1.4507535502977023\n",
      "  model = cd_fast.enet_coordinate_descent(\n",
      "C:\\Users\\bripe\\anaconda3\\lib\\site-packages\\sklearn\\linear_model\\_coordinate_descent.py:530: ConvergenceWarning: Objective did not converge. You might want to increase the number of iterations. Duality gap: 3.433170798494757, tolerance: 1.4507535502977023\n",
      "  model = cd_fast.enet_coordinate_descent(\n",
      "C:\\Users\\bripe\\anaconda3\\lib\\site-packages\\sklearn\\linear_model\\_coordinate_descent.py:530: ConvergenceWarning: Objective did not converge. You might want to increase the number of iterations. Duality gap: 23.880480846841238, tolerance: 1.4507535502977023\n",
      "  model = cd_fast.enet_coordinate_descent(\n",
      "C:\\Users\\bripe\\anaconda3\\lib\\site-packages\\sklearn\\linear_model\\_coordinate_descent.py:530: ConvergenceWarning: Objective did not converge. You might want to increase the number of iterations. Duality gap: 4.384104757751629, tolerance: 1.4507535502977023\n",
      "  model = cd_fast.enet_coordinate_descent(\n",
      "C:\\Users\\bripe\\anaconda3\\lib\\site-packages\\sklearn\\linear_model\\_coordinate_descent.py:530: ConvergenceWarning: Objective did not converge. You might want to increase the number of iterations. Duality gap: 42.52907656645766, tolerance: 1.4507535502977023\n",
      "  model = cd_fast.enet_coordinate_descent(\n",
      "C:\\Users\\bripe\\anaconda3\\lib\\site-packages\\sklearn\\linear_model\\_coordinate_descent.py:530: ConvergenceWarning: Objective did not converge. You might want to increase the number of iterations. Duality gap: 1.5518216047585156, tolerance: 1.4507535502977023\n",
      "  model = cd_fast.enet_coordinate_descent(\n"
     ]
    },
    {
     "name": "stdout",
     "output_type": "stream",
     "text": [
      "31\n",
      "2.9085\n"
     ]
    },
    {
     "name": "stderr",
     "output_type": "stream",
     "text": [
      "C:\\Users\\bripe\\anaconda3\\lib\\site-packages\\sklearn\\linear_model\\_coordinate_descent.py:530: ConvergenceWarning: Objective did not converge. You might want to increase the number of iterations. Duality gap: 24.001718903598885, tolerance: 1.4507535502977023\n",
      "  model = cd_fast.enet_coordinate_descent(\n",
      "C:\\Users\\bripe\\anaconda3\\lib\\site-packages\\sklearn\\linear_model\\_coordinate_descent.py:530: ConvergenceWarning: Objective did not converge. You might want to increase the number of iterations. Duality gap: 5.9781181618564005, tolerance: 1.4507535502977023\n",
      "  model = cd_fast.enet_coordinate_descent(\n",
      "C:\\Users\\bripe\\anaconda3\\lib\\site-packages\\sklearn\\linear_model\\_coordinate_descent.py:530: ConvergenceWarning: Objective did not converge. You might want to increase the number of iterations. Duality gap: 1.7062921895540057, tolerance: 1.4507535502977023\n",
      "  model = cd_fast.enet_coordinate_descent(\n",
      "C:\\Users\\bripe\\anaconda3\\lib\\site-packages\\sklearn\\linear_model\\_coordinate_descent.py:530: ConvergenceWarning: Objective did not converge. You might want to increase the number of iterations. Duality gap: 5.304513937702723, tolerance: 1.4507535502977023\n",
      "  model = cd_fast.enet_coordinate_descent(\n",
      "C:\\Users\\bripe\\anaconda3\\lib\\site-packages\\sklearn\\linear_model\\_coordinate_descent.py:530: ConvergenceWarning: Objective did not converge. You might want to increase the number of iterations. Duality gap: 2.7624674436028727, tolerance: 1.4507535502977023\n",
      "  model = cd_fast.enet_coordinate_descent(\n",
      "C:\\Users\\bripe\\anaconda3\\lib\\site-packages\\sklearn\\linear_model\\_coordinate_descent.py:530: ConvergenceWarning: Objective did not converge. You might want to increase the number of iterations. Duality gap: 1.816240828635273, tolerance: 1.4507535502977023\n",
      "  model = cd_fast.enet_coordinate_descent(\n",
      "C:\\Users\\bripe\\anaconda3\\lib\\site-packages\\sklearn\\linear_model\\_coordinate_descent.py:530: ConvergenceWarning: Objective did not converge. You might want to increase the number of iterations. Duality gap: 2.553716903739769, tolerance: 1.4507535502977023\n",
      "  model = cd_fast.enet_coordinate_descent(\n",
      "C:\\Users\\bripe\\anaconda3\\lib\\site-packages\\sklearn\\linear_model\\_coordinate_descent.py:530: ConvergenceWarning: Objective did not converge. You might want to increase the number of iterations. Duality gap: 44.00393140355936, tolerance: 1.4507535502977023\n",
      "  model = cd_fast.enet_coordinate_descent(\n",
      "C:\\Users\\bripe\\anaconda3\\lib\\site-packages\\sklearn\\linear_model\\_coordinate_descent.py:530: ConvergenceWarning: Objective did not converge. You might want to increase the number of iterations. Duality gap: 10.541430529434365, tolerance: 1.4507535502977023\n",
      "  model = cd_fast.enet_coordinate_descent(\n",
      "C:\\Users\\bripe\\anaconda3\\lib\\site-packages\\sklearn\\linear_model\\_coordinate_descent.py:530: ConvergenceWarning: Objective did not converge. You might want to increase the number of iterations. Duality gap: 3.4181886972273787, tolerance: 1.4507535502977023\n",
      "  model = cd_fast.enet_coordinate_descent(\n",
      "C:\\Users\\bripe\\anaconda3\\lib\\site-packages\\sklearn\\linear_model\\_coordinate_descent.py:530: ConvergenceWarning: Objective did not converge. You might want to increase the number of iterations. Duality gap: 24.96782234258808, tolerance: 1.4507535502977023\n",
      "  model = cd_fast.enet_coordinate_descent(\n",
      "C:\\Users\\bripe\\anaconda3\\lib\\site-packages\\sklearn\\linear_model\\_coordinate_descent.py:530: ConvergenceWarning: Objective did not converge. You might want to increase the number of iterations. Duality gap: 5.132559676310848, tolerance: 1.4507535502977023\n",
      "  model = cd_fast.enet_coordinate_descent(\n",
      "C:\\Users\\bripe\\anaconda3\\lib\\site-packages\\sklearn\\linear_model\\_coordinate_descent.py:530: ConvergenceWarning: Objective did not converge. You might want to increase the number of iterations. Duality gap: 6.3065746684369515, tolerance: 1.4507535502977023\n",
      "  model = cd_fast.enet_coordinate_descent(\n",
      "C:\\Users\\bripe\\anaconda3\\lib\\site-packages\\sklearn\\linear_model\\_coordinate_descent.py:530: ConvergenceWarning: Objective did not converge. You might want to increase the number of iterations. Duality gap: 1.4936008759777906, tolerance: 1.4507535502977023\n",
      "  model = cd_fast.enet_coordinate_descent(\n"
     ]
    },
    {
     "name": "stdout",
     "output_type": "stream",
     "text": [
      "30\n",
      "2.9082\n"
     ]
    },
    {
     "name": "stderr",
     "output_type": "stream",
     "text": [
      "C:\\Users\\bripe\\anaconda3\\lib\\site-packages\\sklearn\\linear_model\\_coordinate_descent.py:530: ConvergenceWarning: Objective did not converge. You might want to increase the number of iterations. Duality gap: 24.071758336947823, tolerance: 1.4507535502977023\n",
      "  model = cd_fast.enet_coordinate_descent(\n",
      "C:\\Users\\bripe\\anaconda3\\lib\\site-packages\\sklearn\\linear_model\\_coordinate_descent.py:530: ConvergenceWarning: Objective did not converge. You might want to increase the number of iterations. Duality gap: 6.020821837357289, tolerance: 1.4507535502977023\n",
      "  model = cd_fast.enet_coordinate_descent(\n",
      "C:\\Users\\bripe\\anaconda3\\lib\\site-packages\\sklearn\\linear_model\\_coordinate_descent.py:530: ConvergenceWarning: Objective did not converge. You might want to increase the number of iterations. Duality gap: 1.7129853078440647, tolerance: 1.4507535502977023\n",
      "  model = cd_fast.enet_coordinate_descent(\n",
      "C:\\Users\\bripe\\anaconda3\\lib\\site-packages\\sklearn\\linear_model\\_coordinate_descent.py:530: ConvergenceWarning: Objective did not converge. You might want to increase the number of iterations. Duality gap: 5.310130032267807, tolerance: 1.4507535502977023\n",
      "  model = cd_fast.enet_coordinate_descent(\n",
      "C:\\Users\\bripe\\anaconda3\\lib\\site-packages\\sklearn\\linear_model\\_coordinate_descent.py:530: ConvergenceWarning: Objective did not converge. You might want to increase the number of iterations. Duality gap: 2.763661356684679, tolerance: 1.4507535502977023\n",
      "  model = cd_fast.enet_coordinate_descent(\n",
      "C:\\Users\\bripe\\anaconda3\\lib\\site-packages\\sklearn\\linear_model\\_coordinate_descent.py:530: ConvergenceWarning: Objective did not converge. You might want to increase the number of iterations. Duality gap: 1.8151695219785324, tolerance: 1.4507535502977023\n",
      "  model = cd_fast.enet_coordinate_descent(\n",
      "C:\\Users\\bripe\\anaconda3\\lib\\site-packages\\sklearn\\linear_model\\_coordinate_descent.py:530: ConvergenceWarning: Objective did not converge. You might want to increase the number of iterations. Duality gap: 2.563876367696139, tolerance: 1.4507535502977023\n",
      "  model = cd_fast.enet_coordinate_descent(\n",
      "C:\\Users\\bripe\\anaconda3\\lib\\site-packages\\sklearn\\linear_model\\_coordinate_descent.py:530: ConvergenceWarning: Objective did not converge. You might want to increase the number of iterations. Duality gap: 44.05991859968526, tolerance: 1.4507535502977023\n",
      "  model = cd_fast.enet_coordinate_descent(\n",
      "C:\\Users\\bripe\\anaconda3\\lib\\site-packages\\sklearn\\linear_model\\_coordinate_descent.py:530: ConvergenceWarning: Objective did not converge. You might want to increase the number of iterations. Duality gap: 10.576109737254228, tolerance: 1.4507535502977023\n",
      "  model = cd_fast.enet_coordinate_descent(\n",
      "C:\\Users\\bripe\\anaconda3\\lib\\site-packages\\sklearn\\linear_model\\_coordinate_descent.py:530: ConvergenceWarning: Objective did not converge. You might want to increase the number of iterations. Duality gap: 3.4212568278908293, tolerance: 1.4507535502977023\n",
      "  model = cd_fast.enet_coordinate_descent(\n",
      "C:\\Users\\bripe\\anaconda3\\lib\\site-packages\\sklearn\\linear_model\\_coordinate_descent.py:530: ConvergenceWarning: Objective did not converge. You might want to increase the number of iterations. Duality gap: 24.929959260463875, tolerance: 1.4507535502977023\n",
      "  model = cd_fast.enet_coordinate_descent(\n",
      "C:\\Users\\bripe\\anaconda3\\lib\\site-packages\\sklearn\\linear_model\\_coordinate_descent.py:530: ConvergenceWarning: Objective did not converge. You might want to increase the number of iterations. Duality gap: 5.1319778331089765, tolerance: 1.4507535502977023\n",
      "  model = cd_fast.enet_coordinate_descent(\n",
      "C:\\Users\\bripe\\anaconda3\\lib\\site-packages\\sklearn\\linear_model\\_coordinate_descent.py:530: ConvergenceWarning: Objective did not converge. You might want to increase the number of iterations. Duality gap: 6.314683047163271, tolerance: 1.4507535502977023\n",
      "  model = cd_fast.enet_coordinate_descent(\n",
      "C:\\Users\\bripe\\anaconda3\\lib\\site-packages\\sklearn\\linear_model\\_coordinate_descent.py:530: ConvergenceWarning: Objective did not converge. You might want to increase the number of iterations. Duality gap: 1.4925233426565683, tolerance: 1.4507535502977023\n",
      "  model = cd_fast.enet_coordinate_descent(\n"
     ]
    },
    {
     "name": "stdout",
     "output_type": "stream",
     "text": [
      "29\n",
      "2.9081\n"
     ]
    },
    {
     "name": "stderr",
     "output_type": "stream",
     "text": [
      "C:\\Users\\bripe\\anaconda3\\lib\\site-packages\\sklearn\\linear_model\\_coordinate_descent.py:530: ConvergenceWarning: Objective did not converge. You might want to increase the number of iterations. Duality gap: 5.42211745480563, tolerance: 1.4507535502977023\n",
      "  model = cd_fast.enet_coordinate_descent(\n",
      "C:\\Users\\bripe\\anaconda3\\lib\\site-packages\\sklearn\\linear_model\\_coordinate_descent.py:530: ConvergenceWarning: Objective did not converge. You might want to increase the number of iterations. Duality gap: 4.1097545924567385, tolerance: 1.4507535502977023\n",
      "  model = cd_fast.enet_coordinate_descent(\n",
      "C:\\Users\\bripe\\anaconda3\\lib\\site-packages\\sklearn\\linear_model\\_coordinate_descent.py:530: ConvergenceWarning: Objective did not converge. You might want to increase the number of iterations. Duality gap: 2.308612215823814, tolerance: 1.4507535502977023\n",
      "  model = cd_fast.enet_coordinate_descent(\n",
      "C:\\Users\\bripe\\anaconda3\\lib\\site-packages\\sklearn\\linear_model\\_coordinate_descent.py:530: ConvergenceWarning: Objective did not converge. You might want to increase the number of iterations. Duality gap: 1.8263699089911825, tolerance: 1.4507535502977023\n",
      "  model = cd_fast.enet_coordinate_descent(\n",
      "C:\\Users\\bripe\\anaconda3\\lib\\site-packages\\sklearn\\linear_model\\_coordinate_descent.py:530: ConvergenceWarning: Objective did not converge. You might want to increase the number of iterations. Duality gap: 1.4724401852854498, tolerance: 1.4507535502977023\n",
      "  model = cd_fast.enet_coordinate_descent(\n",
      "C:\\Users\\bripe\\anaconda3\\lib\\site-packages\\sklearn\\linear_model\\_coordinate_descent.py:530: ConvergenceWarning: Objective did not converge. You might want to increase the number of iterations. Duality gap: 15.47469564525727, tolerance: 1.4507535502977023\n",
      "  model = cd_fast.enet_coordinate_descent(\n",
      "C:\\Users\\bripe\\anaconda3\\lib\\site-packages\\sklearn\\linear_model\\_coordinate_descent.py:530: ConvergenceWarning: Objective did not converge. You might want to increase the number of iterations. Duality gap: 4.025296182775492, tolerance: 1.4507535502977023\n",
      "  model = cd_fast.enet_coordinate_descent(\n",
      "C:\\Users\\bripe\\anaconda3\\lib\\site-packages\\sklearn\\linear_model\\_coordinate_descent.py:530: ConvergenceWarning: Objective did not converge. You might want to increase the number of iterations. Duality gap: 2.579880038567353, tolerance: 1.4507535502977023\n",
      "  model = cd_fast.enet_coordinate_descent(\n",
      "C:\\Users\\bripe\\anaconda3\\lib\\site-packages\\sklearn\\linear_model\\_coordinate_descent.py:530: ConvergenceWarning: Objective did not converge. You might want to increase the number of iterations. Duality gap: 2.9998961102719477, tolerance: 1.4507535502977023\n",
      "  model = cd_fast.enet_coordinate_descent(\n"
     ]
    },
    {
     "name": "stdout",
     "output_type": "stream",
     "text": [
      "28\n",
      "2.908\n"
     ]
    },
    {
     "name": "stderr",
     "output_type": "stream",
     "text": [
      "C:\\Users\\bripe\\anaconda3\\lib\\site-packages\\sklearn\\linear_model\\_coordinate_descent.py:530: ConvergenceWarning: Objective did not converge. You might want to increase the number of iterations. Duality gap: 2.9619208471431193, tolerance: 1.4507535502977023\n",
      "  model = cd_fast.enet_coordinate_descent(\n",
      "C:\\Users\\bripe\\anaconda3\\lib\\site-packages\\sklearn\\linear_model\\_coordinate_descent.py:530: ConvergenceWarning: Objective did not converge. You might want to increase the number of iterations. Duality gap: 2.8328546311240643, tolerance: 1.4507535502977023\n",
      "  model = cd_fast.enet_coordinate_descent(\n",
      "C:\\Users\\bripe\\anaconda3\\lib\\site-packages\\sklearn\\linear_model\\_coordinate_descent.py:530: ConvergenceWarning: Objective did not converge. You might want to increase the number of iterations. Duality gap: 4.075441451432198, tolerance: 1.4507535502977023\n",
      "  model = cd_fast.enet_coordinate_descent(\n",
      "C:\\Users\\bripe\\anaconda3\\lib\\site-packages\\sklearn\\linear_model\\_coordinate_descent.py:530: ConvergenceWarning: Objective did not converge. You might want to increase the number of iterations. Duality gap: 2.2749035971355624, tolerance: 1.4507535502977023\n",
      "  model = cd_fast.enet_coordinate_descent(\n",
      "C:\\Users\\bripe\\anaconda3\\lib\\site-packages\\sklearn\\linear_model\\_coordinate_descent.py:530: ConvergenceWarning: Objective did not converge. You might want to increase the number of iterations. Duality gap: 1.7682683980037837, tolerance: 1.4507535502977023\n",
      "  model = cd_fast.enet_coordinate_descent(\n",
      "C:\\Users\\bripe\\anaconda3\\lib\\site-packages\\sklearn\\linear_model\\_coordinate_descent.py:530: ConvergenceWarning: Objective did not converge. You might want to increase the number of iterations. Duality gap: 6.520131463032158, tolerance: 1.4507535502977023\n",
      "  model = cd_fast.enet_coordinate_descent(\n",
      "C:\\Users\\bripe\\anaconda3\\lib\\site-packages\\sklearn\\linear_model\\_coordinate_descent.py:530: ConvergenceWarning: Objective did not converge. You might want to increase the number of iterations. Duality gap: 1.883655185401949, tolerance: 1.4507535502977023\n",
      "  model = cd_fast.enet_coordinate_descent(\n",
      "C:\\Users\\bripe\\anaconda3\\lib\\site-packages\\sklearn\\linear_model\\_coordinate_descent.py:530: ConvergenceWarning: Objective did not converge. You might want to increase the number of iterations. Duality gap: 2.8247974749592686, tolerance: 1.4507535502977023\n",
      "  model = cd_fast.enet_coordinate_descent(\n",
      "C:\\Users\\bripe\\anaconda3\\lib\\site-packages\\sklearn\\linear_model\\_coordinate_descent.py:530: ConvergenceWarning: Objective did not converge. You might want to increase the number of iterations. Duality gap: 3.1485498036454374, tolerance: 1.4507535502977023\n",
      "  model = cd_fast.enet_coordinate_descent(\n"
     ]
    },
    {
     "name": "stdout",
     "output_type": "stream",
     "text": [
      "27\n",
      "2.9079\n"
     ]
    },
    {
     "name": "stderr",
     "output_type": "stream",
     "text": [
      "C:\\Users\\bripe\\anaconda3\\lib\\site-packages\\sklearn\\linear_model\\_coordinate_descent.py:530: ConvergenceWarning: Objective did not converge. You might want to increase the number of iterations. Duality gap: 2.741228766439235, tolerance: 1.4507535502977023\n",
      "  model = cd_fast.enet_coordinate_descent(\n",
      "C:\\Users\\bripe\\anaconda3\\lib\\site-packages\\sklearn\\linear_model\\_coordinate_descent.py:530: ConvergenceWarning: Objective did not converge. You might want to increase the number of iterations. Duality gap: 2.7996958278818056, tolerance: 1.4507535502977023\n",
      "  model = cd_fast.enet_coordinate_descent(\n",
      "C:\\Users\\bripe\\anaconda3\\lib\\site-packages\\sklearn\\linear_model\\_coordinate_descent.py:530: ConvergenceWarning: Objective did not converge. You might want to increase the number of iterations. Duality gap: 4.026895278819211, tolerance: 1.4507535502977023\n",
      "  model = cd_fast.enet_coordinate_descent(\n",
      "C:\\Users\\bripe\\anaconda3\\lib\\site-packages\\sklearn\\linear_model\\_coordinate_descent.py:530: ConvergenceWarning: Objective did not converge. You might want to increase the number of iterations. Duality gap: 2.273544587456854, tolerance: 1.4507535502977023\n",
      "  model = cd_fast.enet_coordinate_descent(\n",
      "C:\\Users\\bripe\\anaconda3\\lib\\site-packages\\sklearn\\linear_model\\_coordinate_descent.py:530: ConvergenceWarning: Objective did not converge. You might want to increase the number of iterations. Duality gap: 1.7682382396014873, tolerance: 1.4507535502977023\n",
      "  model = cd_fast.enet_coordinate_descent(\n",
      "C:\\Users\\bripe\\anaconda3\\lib\\site-packages\\sklearn\\linear_model\\_coordinate_descent.py:530: ConvergenceWarning: Objective did not converge. You might want to increase the number of iterations. Duality gap: 6.518215559439341, tolerance: 1.4507535502977023\n",
      "  model = cd_fast.enet_coordinate_descent(\n",
      "C:\\Users\\bripe\\anaconda3\\lib\\site-packages\\sklearn\\linear_model\\_coordinate_descent.py:530: ConvergenceWarning: Objective did not converge. You might want to increase the number of iterations. Duality gap: 1.8808430512108316, tolerance: 1.4507535502977023\n",
      "  model = cd_fast.enet_coordinate_descent(\n",
      "C:\\Users\\bripe\\anaconda3\\lib\\site-packages\\sklearn\\linear_model\\_coordinate_descent.py:530: ConvergenceWarning: Objective did not converge. You might want to increase the number of iterations. Duality gap: 2.824307470649728, tolerance: 1.4507535502977023\n",
      "  model = cd_fast.enet_coordinate_descent(\n",
      "C:\\Users\\bripe\\anaconda3\\lib\\site-packages\\sklearn\\linear_model\\_coordinate_descent.py:530: ConvergenceWarning: Objective did not converge. You might want to increase the number of iterations. Duality gap: 3.1497864651337295, tolerance: 1.4507535502977023\n",
      "  model = cd_fast.enet_coordinate_descent(\n"
     ]
    },
    {
     "name": "stdout",
     "output_type": "stream",
     "text": [
      "26\n",
      "2.9079\n"
     ]
    },
    {
     "name": "stderr",
     "output_type": "stream",
     "text": [
      "C:\\Users\\bripe\\anaconda3\\lib\\site-packages\\sklearn\\linear_model\\_coordinate_descent.py:530: ConvergenceWarning: Objective did not converge. You might want to increase the number of iterations. Duality gap: 2.741228766439235, tolerance: 1.4507535502977023\n",
      "  model = cd_fast.enet_coordinate_descent(\n",
      "C:\\Users\\bripe\\anaconda3\\lib\\site-packages\\sklearn\\linear_model\\_coordinate_descent.py:530: ConvergenceWarning: Objective did not converge. You might want to increase the number of iterations. Duality gap: 2.7996958278818056, tolerance: 1.4507535502977023\n",
      "  model = cd_fast.enet_coordinate_descent(\n",
      "C:\\Users\\bripe\\anaconda3\\lib\\site-packages\\sklearn\\linear_model\\_coordinate_descent.py:530: ConvergenceWarning: Objective did not converge. You might want to increase the number of iterations. Duality gap: 4.026916922037344, tolerance: 1.4507535502977023\n",
      "  model = cd_fast.enet_coordinate_descent(\n",
      "C:\\Users\\bripe\\anaconda3\\lib\\site-packages\\sklearn\\linear_model\\_coordinate_descent.py:530: ConvergenceWarning: Objective did not converge. You might want to increase the number of iterations. Duality gap: 2.273544587456854, tolerance: 1.4507535502977023\n",
      "  model = cd_fast.enet_coordinate_descent(\n",
      "C:\\Users\\bripe\\anaconda3\\lib\\site-packages\\sklearn\\linear_model\\_coordinate_descent.py:530: ConvergenceWarning: Objective did not converge. You might want to increase the number of iterations. Duality gap: 1.7682382396014873, tolerance: 1.4507535502977023\n",
      "  model = cd_fast.enet_coordinate_descent(\n",
      "C:\\Users\\bripe\\anaconda3\\lib\\site-packages\\sklearn\\linear_model\\_coordinate_descent.py:530: ConvergenceWarning: Objective did not converge. You might want to increase the number of iterations. Duality gap: 6.518215559439341, tolerance: 1.4507535502977023\n",
      "  model = cd_fast.enet_coordinate_descent(\n",
      "C:\\Users\\bripe\\anaconda3\\lib\\site-packages\\sklearn\\linear_model\\_coordinate_descent.py:530: ConvergenceWarning: Objective did not converge. You might want to increase the number of iterations. Duality gap: 1.8808430512108316, tolerance: 1.4507535502977023\n",
      "  model = cd_fast.enet_coordinate_descent(\n",
      "C:\\Users\\bripe\\anaconda3\\lib\\site-packages\\sklearn\\linear_model\\_coordinate_descent.py:530: ConvergenceWarning: Objective did not converge. You might want to increase the number of iterations. Duality gap: 2.824307470649728, tolerance: 1.4507535502977023\n",
      "  model = cd_fast.enet_coordinate_descent(\n",
      "C:\\Users\\bripe\\anaconda3\\lib\\site-packages\\sklearn\\linear_model\\_coordinate_descent.py:530: ConvergenceWarning: Objective did not converge. You might want to increase the number of iterations. Duality gap: 3.1497864651337295, tolerance: 1.4507535502977023\n",
      "  model = cd_fast.enet_coordinate_descent(\n"
     ]
    },
    {
     "name": "stdout",
     "output_type": "stream",
     "text": [
      "25\n",
      "2.9079\n"
     ]
    },
    {
     "name": "stderr",
     "output_type": "stream",
     "text": [
      "C:\\Users\\bripe\\anaconda3\\lib\\site-packages\\sklearn\\linear_model\\_coordinate_descent.py:530: ConvergenceWarning: Objective did not converge. You might want to increase the number of iterations. Duality gap: 3.252493299627531, tolerance: 1.4507535502977023\n",
      "  model = cd_fast.enet_coordinate_descent(\n",
      "C:\\Users\\bripe\\anaconda3\\lib\\site-packages\\sklearn\\linear_model\\_coordinate_descent.py:530: ConvergenceWarning: Objective did not converge. You might want to increase the number of iterations. Duality gap: 4.2570693885936635, tolerance: 1.4507535502977023\n",
      "  model = cd_fast.enet_coordinate_descent(\n",
      "C:\\Users\\bripe\\anaconda3\\lib\\site-packages\\sklearn\\linear_model\\_coordinate_descent.py:530: ConvergenceWarning: Objective did not converge. You might want to increase the number of iterations. Duality gap: 2.369651469778546, tolerance: 1.4507535502977023\n",
      "  model = cd_fast.enet_coordinate_descent(\n",
      "C:\\Users\\bripe\\anaconda3\\lib\\site-packages\\sklearn\\linear_model\\_coordinate_descent.py:530: ConvergenceWarning: Objective did not converge. You might want to increase the number of iterations. Duality gap: 1.829479173231448, tolerance: 1.4507535502977023\n",
      "  model = cd_fast.enet_coordinate_descent(\n",
      "C:\\Users\\bripe\\anaconda3\\lib\\site-packages\\sklearn\\linear_model\\_coordinate_descent.py:530: ConvergenceWarning: Objective did not converge. You might want to increase the number of iterations. Duality gap: 1.4636259296657954, tolerance: 1.4507535502977023\n",
      "  model = cd_fast.enet_coordinate_descent(\n",
      "C:\\Users\\bripe\\anaconda3\\lib\\site-packages\\sklearn\\linear_model\\_coordinate_descent.py:530: ConvergenceWarning: Objective did not converge. You might want to increase the number of iterations. Duality gap: 5.967768215698015, tolerance: 1.4507535502977023\n",
      "  model = cd_fast.enet_coordinate_descent(\n",
      "C:\\Users\\bripe\\anaconda3\\lib\\site-packages\\sklearn\\linear_model\\_coordinate_descent.py:530: ConvergenceWarning: Objective did not converge. You might want to increase the number of iterations. Duality gap: 1.929915897313549, tolerance: 1.4507535502977023\n",
      "  model = cd_fast.enet_coordinate_descent(\n",
      "C:\\Users\\bripe\\anaconda3\\lib\\site-packages\\sklearn\\linear_model\\_coordinate_descent.py:530: ConvergenceWarning: Objective did not converge. You might want to increase the number of iterations. Duality gap: 3.0358925940818153, tolerance: 1.4507535502977023\n",
      "  model = cd_fast.enet_coordinate_descent(\n",
      "C:\\Users\\bripe\\anaconda3\\lib\\site-packages\\sklearn\\linear_model\\_coordinate_descent.py:530: ConvergenceWarning: Objective did not converge. You might want to increase the number of iterations. Duality gap: 3.3570190052214457, tolerance: 1.4507535502977023\n",
      "  model = cd_fast.enet_coordinate_descent(\n"
     ]
    },
    {
     "name": "stdout",
     "output_type": "stream",
     "text": [
      "24\n",
      "2.908\n",
      "23\n",
      "2.908\n",
      "22\n",
      "2.908\n",
      "21\n",
      "2.9081\n",
      "20\n",
      "2.9083\n",
      "19\n",
      "2.9085\n",
      "18\n",
      "2.9079\n",
      "17\n",
      "2.9119\n",
      "16\n",
      "2.9155\n",
      "15\n",
      "2.9187\n",
      "14\n",
      "2.9229\n",
      "13\n",
      "2.927\n",
      "12\n",
      "2.9388\n",
      "11\n",
      "2.9556\n",
      "10\n",
      "2.9842\n",
      "9\n",
      "3.0081\n",
      "8\n",
      "3.0222\n",
      "7\n",
      "3.0494\n",
      "6\n",
      "3.0993\n",
      "['A-electrophilicity', 'A-num_rot_bonds', 'A-MolLogP', 'A-TPSA', 'D-HOMOminus1', 'D-NumHAcceptors']\n",
      "3.0993\n",
      "The average intercept from 5 folds is  -51.57087072184057\n",
      "The average coefficients of the 5 folds is  [('A-HOMO', 0.0), ('A-HOMOminus1', 0.0), ('A-LUMO', -0.17545975271623135), ('A-LUMOplus1', -0.37452985792697435), ('A-fundbg', 0.0), ('A-deltaHOMO', -2.257287427054922), ('A-deltaLUMO', -0.0010517494440340231), ('A-opt_bg', 0.0), ('A-max_abs', 0.012185671244768142), ('A-summed_oscs', -0.11552792341660978), ('A-area_spectra', -0.0024600261908346815), ('A-area_sim_solar_spectra', 0.06207173287218095), ('A-chemical_potential', 0.0), ('A-electrophilicity', -0.03011792426999103), ('A-pi_sys_size', -0.03922436041426376), ('A-num_rot_bonds', -0.39931444393768434), ('A-MolLogP', 0.3033117383147984), ('A-TPSA', 0.019222160253011905), ('A-NumHAcceptors', 0.06030204224934772), ('A-NumHDonors', 0.0), ('A-planarity', -0.16661875585035552), ('A-dipole_moment', -0.02827826710704328), ('A-polarizability', -0.0011481163925569366), ('A-SolvationEnergy_water', 0.0), ('A-SolvationEnergy_hexane', 0.0), ('D-HOMO', 0.0), ('D-HOMOminus1', -2.609560498762281), ('D-LUMO', -0.09153978351798593), ('D-LUMOplus1', -2.4630012027165327), ('D-fundbg', 0.0), ('D-deltaHOMO', 0.0), ('D-deltaLUMO', 0.0), ('D-opt_bg', 0.0), ('D-max_abs', -0.005792822722166216), ('D-summed_oscs', 0.061046950921234355), ('D-area_spectra', -0.0009257572306575465), ('D-area_sim_solar_spectra', 0.07486112837362366), ('D-chemical_potential', 0.0), ('D-electrophilicity', 0.019743047637750682), ('D-pi_sys_size', 0.0028551618219520873), ('D-num_rot_bonds', 0.1379674641410618), ('D-MolLogP', 0.09091670347420719), ('D-TPSA', -0.01842713958710088), ('D-NumHAcceptors', 0.19570504708200062), ('D-NumHDonors', 0.0), ('D-planarity', -0.197607592555249), ('D-dipole_moment', -0.05797453846768639), ('D-polarizability', -0.005094977289589237), ('D-SolvationEnergy_water', 0.0), ('D-SolvationEnergy_hexane', 0.0), ('AD-overlap', 0.0012525194003496043), ('AD-HOMOoffset', 0.0), ('AD-LUMOoffset', -0.004279434045421667), ('DHOMO_ALUMO_offset', 0.0)]\n",
      "The 5-fold cross-validated RMSE of this model is,  2.9167  +/-  0.00412\n",
      "The 5-fold cross-validated MAE of the average  2.23  +/-  0.003\n",
      "The average r^2 value is  0.41299670588474546  +/-  0.002\n"
     ]
    }
   ],
   "source": [
    "#best_descriptors = optimize_eq(data, 'PCE')\n",
    "Lasso_PCE = evaluate_model(best_descriptors, data['PCE'], data, cf=True)"
   ]
  },
  {
   "cell_type": "code",
   "execution_count": 103,
   "id": "717258d4",
   "metadata": {},
   "outputs": [
    {
     "name": "stdout",
     "output_type": "stream",
     "text": [
      "Best alpha is 0.01\n",
      "The average intercept from 5 folds is  -36.82762357618022\n",
      "The average coefficients of the 5 folds is  [('A-electrophilicity', -0.03673272675818182), ('A-num_rot_bonds', -0.3919236925943181), ('A-MolLogP', 0.12724213816888424), ('A-TPSA', 0.010438720700639826), ('D-HOMOminus1', -3.849560022147473), ('D-NumHAcceptors', 0.2502317935054116)]\n",
      "The 5-fold cross-validated RMSE of this model is,  3.0993  +/-  0.00088\n",
      "The 5-fold cross-validated MAE of the average  2.389  +/-  0.005\n",
      "The average r^2 value is  0.3372375057734442  +/-  0.0\n"
     ]
    }
   ],
   "source": [
    "best_descriptors = ['A-electrophilicity', 'A-num_rot_bonds', 'A-MolLogP', 'A-TPSA', 'D-HOMOminus1', 'D-NumHAcceptors']\n",
    "Lasso_PCE = evaluate_model(best_descriptors, data['PCE'], data, cf=True)"
   ]
  },
  {
   "cell_type": "markdown",
   "id": "8373ad1a",
   "metadata": {},
   "source": [
    "Using LASSO and some hand-tuning to narrow it down to 6 descriptors, the RMSE of this model is 3.0993 +/- 0.00088 for the PCE. The $R^2$ is 0.337. The descriptors selected is the electrophilicity index of the acceptor, number of rotatable bonds of the acceptor, MolLogP of the acceptor, TPSA of the acceptor, HOMO-1 of the donor, and number of hydrogen acceptors of the donor"
   ]
  },
  {
   "cell_type": "markdown",
   "id": "3a1f2bc3",
   "metadata": {},
   "source": [
    "### Performance on PCE > 10%"
   ]
  },
  {
   "cell_type": "code",
   "execution_count": 104,
   "id": "debb694c",
   "metadata": {},
   "outputs": [
    {
     "name": "stdout",
     "output_type": "stream",
     "text": [
      "Best alpha is 0.01\n",
      "The average intercept from 5 folds is  -9.755106230909318\n",
      "The average coefficients of the 5 folds is  [('A-HOMO', 0.0), ('A-HOMOminus1', 0.14587450181053052), ('A-LUMO', 0.0), ('A-LUMOplus1', -0.8664064194319682), ('A-fundbg', 0.0), ('A-deltaHOMO', -1.9513053268745733), ('A-deltaLUMO', -0.2075692764533242), ('A-opt_bg', 0.0), ('A-max_abs', 0.012093334014061), ('A-summed_oscs', -0.26010959924607036), ('A-area_spectra', -0.001228889130884021), ('A-area_sim_solar_spectra', 0.2920244921890385), ('A-chemical_potential', 0.0), ('A-electrophilicity', -0.00972223340845234), ('A-pi_sys_size', -0.006020105349466437), ('A-num_rot_bonds', -0.20373383276074), ('A-MolLogP', 0.052010944326335386), ('A-TPSA', -0.0027253190160774965), ('A-NumHAcceptors', 0.1134797325798953), ('A-NumHDonors', -0.18691497892482584), ('A-planarity', -0.12323717504344753), ('A-dipole_moment', -0.045220084674240976), ('A-polarizability', 0.00019032656827361135), ('A-SolvationEnergy_water', 0.0), ('A-SolvationEnergy_hexane', 0.0), ('D-HOMO', 0.0), ('D-HOMOminus1', 0.0), ('D-LUMO', 0.0), ('D-LUMOplus1', 0.0), ('D-fundbg', 0.0), ('D-deltaHOMO', 0.0), ('D-deltaLUMO', 0.3167205844241542), ('D-opt_bg', 0.0), ('D-max_abs', 0.0036155174959300483), ('D-summed_oscs', 0.10382817180852141), ('D-area_spectra', -0.0016868472565315523), ('D-area_sim_solar_spectra', 0.11680753246273493), ('D-chemical_potential', 0.0), ('D-electrophilicity', 0.04884894768967496), ('D-pi_sys_size', 0.003604078501163531), ('D-num_rot_bonds', 0.044211465539061495), ('D-MolLogP', -0.02146951364144101), ('D-TPSA', -0.016133118294196867), ('D-NumHAcceptors', 0.12065412676513351), ('D-NumHDonors', 0.0), ('D-planarity', -0.34421907933167945), ('D-dipole_moment', -0.005459993724092817), ('D-polarizability', -0.0007445759423483119), ('D-SolvationEnergy_water', 0.0), ('D-SolvationEnergy_hexane', 0.0), ('AD-overlap', 0.0015985920378503173), ('AD-HOMOoffset', 0.0), ('AD-LUMOoffset', 0.0), ('DHOMO_ALUMO_offset', 0.0)]\n",
      "The 5-fold cross-validated RMSE of this model is,  1.4359  +/-  0.00744\n",
      "The 5-fold cross-validated MAE of the average  1.125  +/-  0.004\n",
      "The average r^2 value is  0.4486652962037473  +/-  0.006\n"
     ]
    }
   ],
   "source": [
    "Lasso_highPCE = evaluate_model(all_descriptors, data_highPCE['PCE'], data_highPCE, cf=True)"
   ]
  },
  {
   "cell_type": "code",
   "execution_count": 13,
   "id": "5fe0b667",
   "metadata": {},
   "outputs": [
    {
     "name": "stdout",
     "output_type": "stream",
     "text": [
      "The average intercept from 5 folds is  18.9053333875983\n",
      "The average coefficients of the 5 folds is  [('A-HOMOminus1', 2.4423791628342655), ('A-LUMOplus1', -1.8505026525125796), ('A-num_rot_bonds', -0.19904991306230863), ('D-electrophilicity', 0.04693050672741837), ('D-TPSA', -0.013340898905082504), ('D-NumHAcceptors', 0.06846537685637383)]\n",
      "The 5-fold cross-validated RMSE of this model is,  1.4972  +/-  0.00158\n",
      "The 5-fold cross-validated MAE of the average  1.19  +/-  0.002\n",
      "The average r^2 value is  0.4005937484240183  +/-  0.001\n"
     ]
    }
   ],
   "source": [
    "#best_descriptors = optimize_eq(data_highPCE, 'PCE')\n",
    "best_descriptors = ['A-HOMOminus1', 'A-LUMOplus1', 'A-num_rot_bonds', 'D-electrophilicity', 'D-TPSA', 'D-NumHAcceptors']\n",
    "Lasso_PCE = evaluate_model(best_descriptors, data_highPCE['PCE'], data_highPCE, cf=True)"
   ]
  },
  {
   "cell_type": "markdown",
   "id": "a5269899",
   "metadata": {},
   "source": [
    "# Machine Learning"
   ]
  },
  {
   "cell_type": "markdown",
   "id": "47193d70",
   "metadata": {},
   "source": [
    "Sets X as all input descriptors and y as the PCE"
   ]
  },
  {
   "cell_type": "code",
   "execution_count": 6,
   "id": "3c23bf90",
   "metadata": {},
   "outputs": [],
   "source": [
    "X = data.iloc[:, 8:]\n",
    "y = data.iloc[:, 7:8]"
   ]
  },
  {
   "cell_type": "markdown",
   "id": "18e5cd87",
   "metadata": {},
   "source": [
    "Split into training (80%) and testing (20%) sets"
   ]
  },
  {
   "cell_type": "code",
   "execution_count": 7,
   "id": "9a034012",
   "metadata": {},
   "outputs": [],
   "source": [
    "x_train, x_test, y_train, y_test = train_test_split(X, y, test_size = 0.2, random_state=14)"
   ]
  },
  {
   "cell_type": "markdown",
   "id": "0b3f7c13",
   "metadata": {},
   "source": [
    "Standardizes the data so all values are centered around 0 and have variance of the same magnitude"
   ]
  },
  {
   "cell_type": "code",
   "execution_count": 8,
   "id": "63952e06",
   "metadata": {},
   "outputs": [],
   "source": [
    "x_labels = x_train.columns\n",
    "\n",
    "scaler = StandardScaler().fit(x_train[x_labels]) \n",
    "\n",
    "x_train[x_labels] = scaler.transform(x_train[x_labels])\n",
    "\n",
    "x_test[x_labels] = scaler.transform(x_test[x_labels])"
   ]
  },
  {
   "cell_type": "markdown",
   "id": "04c078f7",
   "metadata": {},
   "source": [
    "Optimize alpha"
   ]
  },
  {
   "cell_type": "code",
   "execution_count": 135,
   "id": "68c576b1",
   "metadata": {},
   "outputs": [
    {
     "name": "stdout",
     "output_type": "stream",
     "text": [
      "Best alpha is 0.015007680190353518\n",
      "[(-0.0, 'A-HOMO'), (0.0, 'A-HOMOminus1'), (-0.0, 'A-LUMO'), (-0.18356550898138208, 'A-LUMOplus1'), (-0.0, 'A-fundbg'), (-0.4309088211200134, 'A-deltaHOMO'), (-0.0, 'A-deltaLUMO'), (-0.0, 'A-opt_bg'), (0.4429274469223087, 'A-max_abs'), (-0.1450424618330334, 'A-summed_oscs'), (-0.5724597837732708, 'A-area_spectra'), (-0.0, 'A-area_sim_solar_spectra'), (-0.0, 'A-chemical_potential'), (-0.7615723538451237, 'A-electrophilicity'), (-0.7458678113357019, 'A-pi_sys_size'), (-1.386861521651988, 'A-num_rot_bonds'), (1.4120457511917808, 'A-MolLogP'), (0.645794565606799, 'A-TPSA'), (0.3110472062273547, 'A-NumHAcceptors'), (-0.04162046077847243, 'A-NumHDonors'), (-0.04742289248576082, 'A-planarity'), (-0.05591391382973767, 'A-dipole_moment'), (-0.0, 'A-polarizability'), (0.06650270144053748, 'A-SolvationEnergy_water'), (0.1502088025022912, 'A-SolvationEnergy_hexane'), (-0.0, 'D-HOMO'), (-0.9950438773340722, 'D-HOMOminus1'), (-0.0, 'D-LUMO'), (-0.7273710243476105, 'D-LUMOplus1'), (-0.0, 'D-fundbg'), (0.038434579878924735, 'D-deltaHOMO'), (-0.2994734511374772, 'D-deltaLUMO'), (-0.10744298401059155, 'D-opt_bg'), (-0.23861295889635448, 'D-max_abs'), (0.0, 'D-summed_oscs'), (-0.16997688176401066, 'D-area_spectra'), (-0.0, 'D-area_sim_solar_spectra'), (-0.0, 'D-chemical_potential'), (0.0, 'D-electrophilicity'), (0.0, 'D-pi_sys_size'), (0.7258711519217707, 'D-num_rot_bonds'), (0.0, 'D-MolLogP'), (-0.8985572416410363, 'D-TPSA'), (1.7145579590856805, 'D-NumHAcceptors'), (0.0, 'D-NumHDonors'), (-0.12152579140346827, 'D-planarity'), (-0.02116122205964055, 'D-dipole_moment'), (-0.5274132105442765, 'D-polarizability'), (-0.0, 'D-SolvationEnergy_water'), (0.0, 'D-SolvationEnergy_hexane'), (0.23578395526993456, 'AD-overlap'), (-0.0, 'AD-HOMOoffset'), (-0.0, 'AD-LUMOoffset'), (-0.0, 'DHOMO_ALUMO_offset')]\n",
      "R squared training set 0.45\n",
      "R squared test set 0.28\n"
     ]
    }
   ],
   "source": [
    "lasso = LassoCV(cv=5, random_state=14, max_iter=10000)\n",
    "lasso.fit(x_train, y_train)\n",
    "print('Best alpha is ' + str(lasso.alpha_))\n",
    "\n",
    "print(list(zip(lasso.coef_, X)))\n",
    "print('R squared training set', round(lasso.score(x_train, y_train), 2))\n",
    "print('R squared test set', round(lasso.score(x_test, y_test), 2))"
   ]
  },
  {
   "cell_type": "markdown",
   "id": "ade3951c",
   "metadata": {},
   "source": [
    "Visualize the optimization of alpha"
   ]
  },
  {
   "cell_type": "code",
   "execution_count": 97,
   "id": "d65230c0",
   "metadata": {},
   "outputs": [
    {
     "data": {
      "image/png": "[encoded data removed]",
      "text/plain": [
       "<Figure size 360x216 with 1 Axes>"
      ]
     },
     "metadata": {
      "needs_background": "light"
     },
     "output_type": "display_data"
    }
   ],
   "source": [
    "alphas = np.linspace(0.001,1,1000)\n",
    "lasso = Lasso(max_iter=10000)\n",
    "\n",
    "scores = []\n",
    "for a in alphas:\n",
    "    lasso.set_params(alpha=a)\n",
    "    lasso.fit(x_train, y_train)\n",
    "    \n",
    "    #scores.append(lasso.score(x_train, y_train))\n",
    "    scores.append(cross_val_score(lasso, x_train, y_train, cv=5).mean())\n",
    "\n",
    "plt.figure(figsize=(5, 3))  \n",
    "plt.plot(alphas, scores)\n",
    "plt.xlim([0, 1])\n",
    "plt.xlabel('alpha')\n",
    "plt.ylabel('$R^2$')\n",
    "plt.tight_layout()\n",
    "plt.savefig('lasso_cv_alpha.pdf', dpi=600)\n",
    "plt.show()"
   ]
  },
  {
   "cell_type": "markdown",
   "id": "09cbfc7f",
   "metadata": {},
   "source": [
    "Final model metrics"
   ]
  },
  {
   "cell_type": "code",
   "execution_count": 2,
   "id": "77991aca",
   "metadata": {},
   "outputs": [],
   "source": [
    "def model_metrics(model, X, y, cv=5):\n",
    "    score = cross_val_score(model, X, y, cv=cv, scoring = 'r2')\n",
    "    SEM_r2 = round((score.std() / math.sqrt(5)) , 2)\n",
    "    #r2 = str(round(score.mean(), 3)) + ' +/- ' +  str(SEM_r2)\n",
    "    r2 = round(float(score.mean()), 2)\n",
    "    print('R^2: ' + str(r2) + ' +/- ' +  str(SEM_r2))\n",
    "    \n",
    "    score = cross_val_score(model, X, y, cv=cv, scoring = 'neg_mean_absolute_error')\n",
    "    score = np.multiply(score, -1)\n",
    "    SEM_MAE = round((score.std() / math.sqrt(5)) , 2)\n",
    "    #MAE = str(round(score.mean(), 2)) + ' +/- ' +  str(SEM_MAE)\n",
    "    MAE = round(score.mean(), 2) \n",
    "    print('MAE: ' + str(MAE) + ' +/- ' +  str(SEM_MAE))\n",
    "    \n",
    "    score = cross_val_score(model, X, y, cv=cv, scoring = 'neg_mean_squared_error')\n",
    "    score = np.sqrt(score * -1)\n",
    "    SEM_RMSE = round((score.std() / math.sqrt(5)) , 2)\n",
    "    #RMSE = str(round(score.mean(), 2)) + ' +/- ' +  str(SEM_RMSE)\n",
    "    RMSE = round(score.mean(), 2)\n",
    "    print('RMSE: ' + str(RMSE) + ' +/- ' +  str(SEM_RMSE))\n",
    "    \n",
    "    return r2, SEM_r2, RMSE, SEM_RMSE"
   ]
  },
  {
   "cell_type": "code",
   "execution_count": 136,
   "id": "5ad9ae07",
   "metadata": {},
   "outputs": [
    {
     "name": "stdout",
     "output_type": "stream",
     "text": [
      "Training set\n",
      "R^2: 0.383 +/- 0.041\n",
      "MAE: 2.33 +/- 0.09\n",
      "RMSE: 3.02 +/- 0.09\n",
      "Test set\n",
      "R^2: 0.169 +/- 0.031\n",
      "MAE: 2.49 +/- 0.11\n",
      "RMSE: 3.23 +/- 0.12\n"
     ]
    }
   ],
   "source": [
    "print('Training set')\n",
    "model_metrics(lasso, x_train, y_train, cv=5)\n",
    "\n",
    "print('Test set')\n",
    "model_metrics(lasso, x_test, y_test, cv=5)"
   ]
  },
  {
   "cell_type": "markdown",
   "id": "94510487",
   "metadata": {},
   "source": [
    "## Random Forest"
   ]
  },
  {
   "cell_type": "markdown",
   "id": "cb07f19f",
   "metadata": {},
   "source": [
    "Find best hyperparameters with randomized search, then use those narrowed down parameters for a gridsearch"
   ]
  },
  {
   "cell_type": "code",
   "execution_count": 122,
   "id": "1401eb06",
   "metadata": {},
   "outputs": [
    {
     "name": "stdout",
     "output_type": "stream",
     "text": [
      "Fitting 3 folds for each of 100 candidates, totalling 300 fits\n"
     ]
    },
    {
     "data": {
      "text/plain": [
       "{'n_estimators': 916,\n",
       " 'min_samples_split': 10,\n",
       " 'min_samples_leaf': 2,\n",
       " 'max_features': 'sqrt',\n",
       " 'max_depth': 26,\n",
       " 'bootstrap': False}"
      ]
     },
     "execution_count": 122,
     "metadata": {},
     "output_type": "execute_result"
    }
   ],
   "source": [
    "rf = RandomForestRegressor(random_state=14)\n",
    "\n",
    "# Number of trees in random forest\n",
    "n_estimators = [int(x) for x in np.linspace(start = 50, stop = 2000, num = 10)]\n",
    "\n",
    "# Number of features to consider at every split\n",
    "max_features = ['auto', 'sqrt']\n",
    "\n",
    "# Maximum number of levels in tree\n",
    "max_depth = [int(x) for x in np.linspace(3, 50, num = 5)]\n",
    "max_depth.append(None)\n",
    "\n",
    "# Minimum number of samples required to split a node\n",
    "min_samples_split = [2, 5, 10]\n",
    "\n",
    "# Minimum number of samples required at each leaf node\n",
    "min_samples_leaf = [1, 2, 4]\n",
    "\n",
    "# Method of selecting samples for training each tree\n",
    "bootstrap = [True, False]\n",
    "\n",
    "# Create the random grid\n",
    "random_grid = {'n_estimators': n_estimators,\n",
    "               'max_features': max_features,\n",
    "               'max_depth': max_depth,\n",
    "               'min_samples_split': min_samples_split,\n",
    "               'min_samples_leaf': min_samples_leaf,\n",
    "               'bootstrap': bootstrap}\n",
    "\n",
    "# Use the random grid to search for best hyperparameters\n",
    "# First create the base model to tune\n",
    "rf = RandomForestRegressor()\n",
    "# Random search of parameters, using 3 fold cross validation, \n",
    "# search across 100 different combinations, and use all available cores\n",
    "rf_random = RandomizedSearchCV(estimator = rf, param_distributions = random_grid, n_iter = 100, cv = 3, verbose=2, random_state=42, n_jobs = -1)\n",
    "# Fit the random search model\n",
    "rf_random.fit(x_train, y_train)\n",
    "\n",
    "rf_random.best_params_"
   ]
  },
  {
   "cell_type": "code",
   "execution_count": 138,
   "id": "b8828f36",
   "metadata": {},
   "outputs": [
    {
     "name": "stdout",
     "output_type": "stream",
     "text": [
      "Fitting 3 folds for each of 162 candidates, totalling 486 fits\n"
     ]
    },
    {
     "data": {
      "text/plain": [
       "{'bootstrap': False,\n",
       " 'max_depth': 30,\n",
       " 'max_features': 17,\n",
       " 'min_samples_leaf': 2,\n",
       " 'min_samples_split': 12,\n",
       " 'n_estimators': 100}"
      ]
     },
     "execution_count": 138,
     "metadata": {},
     "output_type": "execute_result"
    }
   ],
   "source": [
    "# Create the parameter grid based on the results of random search \n",
    "param_grid = {\n",
    "    'bootstrap': [False],\n",
    "    'max_depth': [10, 25, 30],\n",
    "    'max_features': [17, 30],\n",
    "    'min_samples_leaf': [2, 3, 4],\n",
    "    'min_samples_split': [8, 10, 12],\n",
    "    'n_estimators': [100, 500, 1000]\n",
    "}\n",
    "# Create a based model\n",
    "rf = RandomForestRegressor()\n",
    "# Instantiate the grid search model\n",
    "grid_search = GridSearchCV(estimator = rf, param_grid = param_grid, \n",
    "                          cv = 3, n_jobs = -1, verbose = 2)\n",
    "grid_search.fit(x_train, y_train)\n",
    "grid_search.best_params_"
   ]
  },
  {
   "cell_type": "code",
   "execution_count": 146,
   "id": "06d4f313",
   "metadata": {},
   "outputs": [
    {
     "name": "stdout",
     "output_type": "stream",
     "text": [
      "training set\n",
      "R^2: 0.486 +/- 0.037\n",
      "MAE: 2.07 +/- 0.08\n",
      "RMSE: 2.75 +/- 0.09\n",
      "test set\n",
      "R^2: 0.22 +/- 0.013\n",
      "MAE: 2.37 +/- 0.09\n",
      "RMSE: 3.13 +/- 0.1\n"
     ]
    }
   ],
   "source": [
    "rf = RandomForestRegressor(n_estimators=100,max_depth=30, min_samples_split=2, min_samples_leaf=2, max_features=17, random_state=14)\n",
    "rf.fit(x_train, y_train)\n",
    "print('training set')\n",
    "model_metrics(rf, x_train, y_train, cv=5)\n",
    "print('test set')\n",
    "model_metrics(rf, x_test, y_test, cv=5)"
   ]
  },
  {
   "cell_type": "markdown",
   "id": "c9317815",
   "metadata": {},
   "source": [
    "These results are slightly better than LASSO"
   ]
  },
  {
   "cell_type": "markdown",
   "id": "3f7a0530",
   "metadata": {},
   "source": [
    "## Gradient boosting"
   ]
  },
  {
   "cell_type": "code",
   "execution_count": 145,
   "id": "1c6246d9",
   "metadata": {},
   "outputs": [
    {
     "name": "stdout",
     "output_type": "stream",
     "text": [
      "Fitting 3 folds for each of 256 candidates, totalling 768 fits\n"
     ]
    },
    {
     "data": {
      "text/plain": [
       "{'learning_rate': 0.02, 'max_depth': 6, 'n_estimators': 1000, 'subsample': 0.5}"
      ]
     },
     "execution_count": 145,
     "metadata": {},
     "output_type": "execute_result"
    }
   ],
   "source": [
    "from sklearn.ensemble import GradientBoostingRegressor\n",
    "\n",
    "# Create the parameter grid\n",
    "param_grid = {'learning_rate': [0.01,0.02,0.03,0.04],\n",
    "                  'subsample'    : [0.9, 0.5, 0.2, 0.1],\n",
    "                  'n_estimators' : [100,500,1000, 1500],\n",
    "                  'max_depth'    : [4,6,8,10]\n",
    "                 }\n",
    "# Create a based model\n",
    "gb = GradientBoostingRegressor()\n",
    "# Instantiate the grid search model\n",
    "grid_search = GridSearchCV(estimator = gb, param_grid = param_grid, \n",
    "                          cv = 3, n_jobs = -1, verbose = 2)\n",
    "grid_search.fit(x_train, y_train)\n",
    "grid_search.best_params_"
   ]
  },
  {
   "cell_type": "code",
   "execution_count": 147,
   "id": "00c62037",
   "metadata": {},
   "outputs": [
    {
     "name": "stdout",
     "output_type": "stream",
     "text": [
      "training set\n",
      "R^2: 0.482 +/- 0.036\n",
      "MAE: 2.05 +/- 0.09\n",
      "RMSE: 2.76 +/- 0.09\n",
      "test set\n",
      "R^2: 0.143 +/- 0.035\n",
      "MAE: 2.5 +/- 0.13\n",
      "RMSE: 3.28 +/- 0.15\n"
     ]
    }
   ],
   "source": [
    "gb = GradientBoostingRegressor(learning_rate = 0.02, subsample = 0.5, n_estimators = 1000, max_depth=6, random_state=14)\n",
    "\n",
    "gb.fit(x_train, y_train.values.ravel())\n",
    "print('training set')\n",
    "model_metrics(gb, x_train, y_train, cv=5)\n",
    "print('test set')\n",
    "model_metrics(gb, x_test, y_test, cv=5)"
   ]
  },
  {
   "cell_type": "markdown",
   "id": "7a38d401",
   "metadata": {},
   "source": [
    "Random forest is still performing the best"
   ]
  },
  {
   "cell_type": "markdown",
   "id": "76d9ae71",
   "metadata": {},
   "source": [
    "## XGBoost for random forest (XGBRFR)"
   ]
  },
  {
   "cell_type": "code",
   "execution_count": 161,
   "id": "566f8b90",
   "metadata": {},
   "outputs": [
    {
     "name": "stdout",
     "output_type": "stream",
     "text": [
      "training set\n",
      "R^2: 0.444 +/- 0.039\n",
      "MAE: 2.2 +/- 0.08\n",
      "RMSE: 2.86 +/- 0.09\n",
      "test set\n",
      "R^2: 0.214 +/- 0.018\n",
      "MAE: 2.39 +/- 0.11\n",
      "RMSE: 3.14 +/- 0.11\n"
     ]
    }
   ],
   "source": [
    "xgbrfr = XGBRFRegressor(n_estimators=1000, subsample=0.9, colsample_bynode=0.1, random_state=14)\n",
    "xgbrfr.fit(x_train, y_train.values.ravel())\n",
    "print('training set')\n",
    "model_metrics(xgbrfr, x_train, y_train, cv=5)\n",
    "print('test set')\n",
    "model_metrics(xgbrfr, x_test, y_test, cv=5)"
   ]
  },
  {
   "cell_type": "markdown",
   "id": "4ff138dd",
   "metadata": {},
   "source": [
    "## Support Vector Regression (SVR)"
   ]
  },
  {
   "cell_type": "code",
   "execution_count": 163,
   "id": "c35446d9",
   "metadata": {},
   "outputs": [
    {
     "name": "stdout",
     "output_type": "stream",
     "text": [
      "training set\n",
      "R^2: 0.398 +/- 0.041\n",
      "MAE: 2.29 +/- 0.08\n",
      "RMSE: 2.98 +/- 0.09\n",
      "test set\n",
      "R^2: 0.162 +/- 0.025\n",
      "MAE: 2.47 +/- 0.13\n",
      "RMSE: 3.25 +/- 0.13\n"
     ]
    }
   ],
   "source": [
    "svr_rbf = SVR(kernel=\"rbf\", C=1, gamma='auto', epsilon=0.1)\n",
    "svr_rbf.fit(x_train, y_train.values.ravel())\n",
    "print('training set')\n",
    "model_metrics(svr_rbf, x_train, y_train, cv=5)\n",
    "print('test set')\n",
    "model_metrics(svr_rbf, x_test, y_test, cv=5)"
   ]
  },
  {
   "cell_type": "markdown",
   "id": "0700957d",
   "metadata": {},
   "source": [
    "## K-nearest neighboors (KNN)"
   ]
  },
  {
   "cell_type": "code",
   "execution_count": 172,
   "id": "21cc4c64",
   "metadata": {},
   "outputs": [
    {
     "name": "stdout",
     "output_type": "stream",
     "text": [
      "training set\n",
      "R^2: 0.391 +/- 0.026\n",
      "MAE: 2.25 +/- 0.06\n",
      "RMSE: 3.0 +/- 0.06\n",
      "test set\n",
      "R^2: 0.222 +/- 0.027\n",
      "MAE: 2.33 +/- 0.1\n",
      "RMSE: 3.12 +/- 0.11\n"
     ]
    }
   ],
   "source": [
    "knn = KNeighborsRegressor(n_neighbors=4)\n",
    "knn.fit(x_train, y_train.values.ravel())\n",
    "print('training set')\n",
    "model_metrics(knn, x_train, y_train, cv=5)\n",
    "print('test set')\n",
    "model_metrics(knn, x_test, y_test, cv=5)"
   ]
  },
  {
   "cell_type": "markdown",
   "id": "1e5f0a60",
   "metadata": {},
   "source": [
    "## LightGBM "
   ]
  },
  {
   "cell_type": "code",
   "execution_count": 17,
   "id": "cf88954c",
   "metadata": {},
   "outputs": [
    {
     "name": "stdout",
     "output_type": "stream",
     "text": [
      "training set\n",
      "R^2: 0.371 +/- 0.03\n",
      "MAE: 2.4 +/- 0.07\n",
      "RMSE: 3.05 +/- 0.07\n",
      "test set\n",
      "R^2: 0.137 +/- 0.013\n",
      "MAE: 2.53 +/- 0.1\n",
      "RMSE: 3.29 +/- 0.1\n"
     ]
    }
   ],
   "source": [
    "lgbm = LGBMRegressor(n_estimators=10, max_depth=5, num_leaves=2**5, learning_rate=0.1)\n",
    "lgbm.fit(x_train, y_train.values.ravel())\n",
    "print('training set')\n",
    "model_metrics(lgbm, x_train, y_train, cv=5)\n",
    "print('test set')\n",
    "model_metrics(lgbm, x_test, y_test, cv=5)"
   ]
  },
  {
   "cell_type": "markdown",
   "id": "bf19b038",
   "metadata": {},
   "source": [
    "# Performance of models with morgan fingerprints"
   ]
  },
  {
   "cell_type": "markdown",
   "id": "94342ce1",
   "metadata": {},
   "source": [
    "We can add in morgan fingerprints and see if the performance improves"
   ]
  },
  {
   "cell_type": "code",
   "execution_count": 30,
   "id": "9cd2e415",
   "metadata": {},
   "outputs": [
    {
     "name": "stdout",
     "output_type": "stream",
     "text": [
      "Number of donor-acceptor pairs is: 1001\n"
     ]
    }
   ],
   "source": [
    "data = pd.read_csv('descriptors_with_fingerprints.csv')\n",
    "print('Number of donor-acceptor pairs is: ' + str(len(data)))"
   ]
  },
  {
   "cell_type": "markdown",
   "id": "4cd23264",
   "metadata": {},
   "source": [
    "Standardizes the descrptors (not including fingerprints) and then concats the fingerprints"
   ]
  },
  {
   "cell_type": "code",
   "execution_count": 50,
   "id": "60d10a79",
   "metadata": {},
   "outputs": [],
   "source": [
    "X_unstandardized = data.iloc[:, 8:64]\n",
    "y = data.iloc[:, 7:8]\n",
    "\n",
    "#standardize\n",
    "x_labels = X_unstandardized.columns\n",
    "scaler = StandardScaler().fit(X_unstandardized[x_labels]) \n",
    "X_unstandardized[x_labels] = scaler.transform(X_unstandardized[x_labels])\n",
    "\n",
    "fps = data.iloc[:,64:]\n",
    "X = pd.concat([X_unstandardized, fps], axis=1)"
   ]
  },
  {
   "cell_type": "code",
   "execution_count": 51,
   "id": "c8e40f70",
   "metadata": {},
   "outputs": [],
   "source": [
    "# split into training and testing\n",
    "x_train, x_test, y_train, y_test = train_test_split(X, y, test_size = 0.2, random_state=14)"
   ]
  },
  {
   "cell_type": "markdown",
   "id": "81b318c9",
   "metadata": {},
   "source": [
    "## Lasso"
   ]
  },
  {
   "cell_type": "code",
   "execution_count": 54,
   "id": "5e49c6a8",
   "metadata": {},
   "outputs": [
    {
     "name": "stdout",
     "output_type": "stream",
     "text": [
      "training set\n",
      "R^2: 0.494 +/- 0.037\n",
      "MAE: 2.05 +/- 0.07\n",
      "RMSE: 2.73 +/- 0.09\n",
      "test set\n",
      "R^2: 0.019 +/- 0.095\n",
      "MAE: 2.64 +/- 0.12\n",
      "RMSE: 3.48 +/- 0.16\n"
     ]
    }
   ],
   "source": [
    "lasso = Lasso(alpha=0.01, random_state=14, max_iter=10000)\n",
    "lasso.fit(x_train, y_train)\n",
    "#print('Best alpha is ' + str(lasso.alpha_))\n",
    "\n",
    "print('training set')\n",
    "model_metrics(lasso, x_train, y_train, cv=5)\n",
    "print('test set')\n",
    "model_metrics(lasso, x_test, y_test, cv=5)"
   ]
  },
  {
   "cell_type": "markdown",
   "id": "1a4bd13b",
   "metadata": {},
   "source": [
    "## Random Forest"
   ]
  },
  {
   "cell_type": "code",
   "execution_count": 55,
   "id": "7f94ed86",
   "metadata": {},
   "outputs": [
    {
     "name": "stdout",
     "output_type": "stream",
     "text": [
      "training set\n",
      "R^2: 0.428 +/- 0.035\n",
      "MAE: 2.26 +/- 0.06\n",
      "RMSE: 2.91 +/- 0.08\n",
      "test set\n",
      "R^2: 0.204 +/- 0.012\n",
      "MAE: 2.43 +/- 0.1\n",
      "RMSE: 3.16 +/- 0.09\n"
     ]
    }
   ],
   "source": [
    "rf = RandomForestRegressor(n_estimators=100,max_depth=30, min_samples_split=2, min_samples_leaf=2, max_features=17, random_state=14)\n",
    "rf.fit(x_train, y_train)\n",
    "print('training set')\n",
    "model_metrics(rf, x_train, y_train, cv=5)\n",
    "print('test set')\n",
    "model_metrics(rf, x_test, y_test, cv=5)"
   ]
  },
  {
   "cell_type": "code",
   "execution_count": 69,
   "id": "205d7af0",
   "metadata": {},
   "outputs": [
    {
     "name": "stdout",
     "output_type": "stream",
     "text": [
      "30\n",
      "test set\n",
      "R^2: 0.272 +/- 0.017\n",
      "MAE: 2.31 +/- 0.11\n",
      "RMSE: 3.02 +/- 0.11\n",
      "40\n",
      "test set\n",
      "R^2: 0.286 +/- 0.02\n",
      "MAE: 2.29 +/- 0.11\n",
      "RMSE: 3.0 +/- 0.11\n",
      "50\n",
      "test set\n",
      "R^2: 0.299 +/- 0.02\n",
      "MAE: 2.27 +/- 0.11\n",
      "RMSE: 2.97 +/- 0.11\n",
      "60\n",
      "test set\n",
      "R^2: 0.297 +/- 0.022\n",
      "MAE: 2.27 +/- 0.11\n",
      "RMSE: 2.97 +/- 0.11\n",
      "70\n",
      "test set\n",
      "R^2: 0.3 +/- 0.022\n",
      "MAE: 2.26 +/- 0.11\n",
      "RMSE: 2.97 +/- 0.11\n"
     ]
    }
   ],
   "source": [
    "n_estimators = [10, 100, 500, 1000] \n",
    "max_depth = [10, 30, 50, 100]\n",
    "min_samples_split = [2, 5, 7]\n",
    "min_samples_leaf = [2, 4, 6]\n",
    "# max features had the biggest impact\n",
    "max_features = [30, 40, 50, 60, 70]\n",
    "for x in max_features:\n",
    "    print(x)\n",
    "    rf = RandomForestRegressor(n_estimators=1000,max_depth=30, min_samples_split=2, min_samples_leaf=2, max_features=50, random_state=14)\n",
    "    rf.fit(x_train, y_train)\n",
    "    print('test set')\n",
    "    model_metrics(rf, x_test, y_test, cv=5)"
   ]
  },
  {
   "cell_type": "code",
   "execution_count": 71,
   "id": "d4054fa8",
   "metadata": {},
   "outputs": [
    {
     "name": "stdout",
     "output_type": "stream",
     "text": [
      "training set\n",
      "R^2: 0.503 +/- 0.036\n",
      "MAE: 2.06 +/- 0.07\n",
      "RMSE: 2.71 +/- 0.09\n",
      "test set\n",
      "R^2: 0.299 +/- 0.02\n",
      "MAE: 2.27 +/- 0.11\n",
      "RMSE: 2.97 +/- 0.11\n"
     ]
    }
   ],
   "source": [
    "rf = RandomForestRegressor(n_estimators=1000,max_depth=30, min_samples_split=2, min_samples_leaf=2, max_features=50, random_state=14)\n",
    "rf.fit(x_train, y_train)\n",
    "print('training set')\n",
    "model_metrics(rf, x_train, y_train, cv=5)\n",
    "print('test set')\n",
    "model_metrics(rf, x_test, y_test, cv=5)"
   ]
  },
  {
   "cell_type": "markdown",
   "id": "b7be90ef",
   "metadata": {},
   "source": [
    "## Gradient Boosting"
   ]
  },
  {
   "cell_type": "code",
   "execution_count": 56,
   "id": "50ff291c",
   "metadata": {},
   "outputs": [
    {
     "name": "stdout",
     "output_type": "stream",
     "text": [
      "training set\n",
      "R^2: 0.531 +/- 0.04\n",
      "MAE: 1.93 +/- 0.08\n",
      "RMSE: 2.63 +/- 0.1\n",
      "test set\n",
      "R^2: 0.194 +/- 0.043\n",
      "MAE: 2.46 +/- 0.14\n",
      "RMSE: 3.18 +/- 0.15\n"
     ]
    }
   ],
   "source": [
    "gb = GradientBoostingRegressor(learning_rate = 0.02, subsample = 0.5, n_estimators = 1000, max_depth=6, random_state=14)\n",
    "\n",
    "gb.fit(x_train, y_train.values.ravel())\n",
    "print('training set')\n",
    "model_metrics(gb, x_train, y_train, cv=5)\n",
    "print('test set')\n",
    "model_metrics(gb, x_test, y_test, cv=5)"
   ]
  },
  {
   "cell_type": "code",
   "execution_count": 116,
   "id": "b69941e6",
   "metadata": {},
   "outputs": [
    {
     "name": "stdout",
     "output_type": "stream",
     "text": [
      "11\n",
      "test set\n",
      "R^2: 0.232 +/- 0.035\n",
      "MAE: 2.39 +/- 0.13\n",
      "RMSE: 3.11 +/- 0.13\n",
      "12\n",
      "test set\n",
      "R^2: 0.254 +/- 0.026\n",
      "MAE: 2.35 +/- 0.12\n",
      "RMSE: 3.06 +/- 0.12\n",
      "13\n",
      "test set\n",
      "R^2: 0.224 +/- 0.038\n",
      "MAE: 2.39 +/- 0.13\n",
      "RMSE: 3.12 +/- 0.14\n",
      "14\n",
      "test set\n",
      "R^2: 0.232 +/- 0.035\n",
      "MAE: 2.38 +/- 0.13\n",
      "RMSE: 3.11 +/- 0.13\n",
      "15\n",
      "test set\n",
      "R^2: 0.232 +/- 0.035\n",
      "MAE: 2.38 +/- 0.13\n",
      "RMSE: 3.11 +/- 0.13\n"
     ]
    }
   ],
   "source": [
    "n_estimators = [90, 100, 110]\n",
    "subsample = [0.3, 0.5]\n",
    "learning_rate = [0.015, 0.02, 0.025]\n",
    "max_depth = [11, 12, 13, 14, 15]\n",
    "\n",
    "for x in max_depth:\n",
    "    print(x)\n",
    "    gb = GradientBoostingRegressor(learning_rate = 0.015, subsample = 0.3, n_estimators = 100, max_depth=12, random_state=14)\n",
    "    gb.fit(x_train, y_train.values.ravel())\n",
    "    print('test set')\n",
    "    model_metrics(gb, x_test, y_test, cv=5)"
   ]
  },
  {
   "cell_type": "code",
   "execution_count": 117,
   "id": "cf1723a5",
   "metadata": {},
   "outputs": [
    {
     "name": "stdout",
     "output_type": "stream",
     "text": [
      "training set\n",
      "R^2: 0.481 +/- 0.034\n",
      "MAE: 2.14 +/- 0.07\n",
      "RMSE: 2.77 +/- 0.08\n",
      "test set\n",
      "R^2: 0.254 +/- 0.026\n",
      "MAE: 2.35 +/- 0.12\n",
      "RMSE: 3.06 +/- 0.12\n"
     ]
    }
   ],
   "source": [
    "gb = GradientBoostingRegressor(learning_rate = 0.015, subsample = 0.3, n_estimators = 100, max_depth=12, random_state=14)\n",
    "gb.fit(x_train, y_train.values.ravel())\n",
    "print('training set')\n",
    "model_metrics(gb, x_train, y_train, cv=5)\n",
    "print('test set')\n",
    "model_metrics(gb, x_test, y_test, cv=5)"
   ]
  },
  {
   "cell_type": "markdown",
   "id": "acbd2f23",
   "metadata": {},
   "source": [
    "## XGBoost"
   ]
  },
  {
   "cell_type": "code",
   "execution_count": 57,
   "id": "22c956bf",
   "metadata": {},
   "outputs": [
    {
     "name": "stdout",
     "output_type": "stream",
     "text": [
      "training set\n",
      "R^2: 0.474 +/- 0.038\n",
      "MAE: 2.11 +/- 0.07\n",
      "RMSE: 2.79 +/- 0.09\n",
      "test set\n",
      "R^2: 0.255 +/- 0.02\n",
      "MAE: 2.33 +/- 0.1\n",
      "RMSE: 3.06 +/- 0.1\n"
     ]
    }
   ],
   "source": [
    "xgbrfr = XGBRFRegressor(n_estimators=1000, subsample=0.9, colsample_bynode=0.1, random_state=14)\n",
    "xgbrfr.fit(x_train, y_train.values.ravel())\n",
    "print('training set')\n",
    "model_metrics(xgbrfr, x_train, y_train, cv=5)\n",
    "print('test set')\n",
    "model_metrics(xgbrfr, x_test, y_test, cv=5)"
   ]
  },
  {
   "cell_type": "code",
   "execution_count": 80,
   "id": "be748222",
   "metadata": {},
   "outputs": [
    {
     "name": "stdout",
     "output_type": "stream",
     "text": [
      "0.03\n",
      "test set\n",
      "R^2: 0.283 +/- 0.018\n",
      "MAE: 2.29 +/- 0.11\n",
      "RMSE: 3.0 +/- 0.1\n",
      "0.02\n",
      "test set\n",
      "R^2: 0.277 +/- 0.02\n",
      "MAE: 2.29 +/- 0.1\n",
      "RMSE: 3.01 +/- 0.1\n",
      "0.04\n",
      "test set\n",
      "R^2: 0.283 +/- 0.019\n",
      "MAE: 2.29 +/- 0.1\n",
      "RMSE: 3.0 +/- 0.1\n"
     ]
    }
   ],
   "source": [
    "n_estimators = [10, 100, 500, 1000, 5000]\n",
    "subsample = [0.25, 0.3, 0.35]\n",
    "colsample_bynode = [0.03, 0.02, 0.04]\n",
    "\n",
    "for x in colsample_bynode:\n",
    "    print(x)\n",
    "    xgbrfr = XGBRFRegressor(n_estimators=500, subsample=0.35, colsample_bynode=0.03, random_state=14)\n",
    "    xgbrfr.fit(x_train, y_train.values.ravel())\n",
    "    print('test set')\n",
    "    model_metrics(xgbrfr, x_test, y_test, cv=5)"
   ]
  },
  {
   "cell_type": "code",
   "execution_count": 81,
   "id": "c4b487b2",
   "metadata": {},
   "outputs": [
    {
     "name": "stdout",
     "output_type": "stream",
     "text": [
      "training set\n",
      "R^2: 0.459 +/- 0.035\n",
      "MAE: 2.17 +/- 0.07\n",
      "RMSE: 2.83 +/- 0.08\n",
      "test set\n",
      "R^2: 0.283 +/- 0.018\n",
      "MAE: 2.29 +/- 0.11\n",
      "RMSE: 3.0 +/- 0.1\n"
     ]
    }
   ],
   "source": [
    "xgbrfr = XGBRFRegressor(n_estimators=500, subsample=0.35, colsample_bynode=0.03, random_state=14)\n",
    "xgbrfr.fit(x_train, y_train.values.ravel())\n",
    "print('training set')\n",
    "model_metrics(xgbrfr, x_train, y_train, cv=5)\n",
    "print('test set')\n",
    "model_metrics(xgbrfr, x_test, y_test, cv=5)"
   ]
  },
  {
   "cell_type": "markdown",
   "id": "66ff9c5f",
   "metadata": {},
   "source": [
    "## SVR"
   ]
  },
  {
   "cell_type": "code",
   "execution_count": 58,
   "id": "9f244e63",
   "metadata": {},
   "outputs": [
    {
     "name": "stdout",
     "output_type": "stream",
     "text": [
      "training set\n",
      "R^2: 0.279 +/- 0.031\n",
      "MAE: 2.53 +/- 0.05\n",
      "RMSE: 3.27 +/- 0.06\n",
      "test set\n",
      "R^2: 0.057 +/- 0.019\n",
      "MAE: 2.61 +/- 0.11\n",
      "RMSE: 3.44 +/- 0.1\n"
     ]
    }
   ],
   "source": [
    "svr_rbf = SVR(kernel=\"rbf\", C=1, gamma='auto', epsilon=0.1)\n",
    "svr_rbf.fit(x_train, y_train.values.ravel())\n",
    "print('training set')\n",
    "model_metrics(svr_rbf, x_train, y_train, cv=5)\n",
    "print('test set')\n",
    "model_metrics(svr_rbf, x_test, y_test, cv=5)"
   ]
  },
  {
   "cell_type": "code",
   "execution_count": 105,
   "id": "6fd2107d",
   "metadata": {},
   "outputs": [
    {
     "name": "stdout",
     "output_type": "stream",
     "text": [
      "0.35\n",
      "test set\n",
      "R^2: 0.3 +/- 0.034\n",
      "MAE: 2.16 +/- 0.06\n",
      "RMSE: 2.96 +/- 0.09\n",
      "0.4\n",
      "test set\n",
      "R^2: 0.3 +/- 0.034\n",
      "MAE: 2.16 +/- 0.07\n",
      "RMSE: 2.96 +/- 0.09\n",
      "0.45\n",
      "test set\n",
      "R^2: 0.3 +/- 0.033\n",
      "MAE: 2.17 +/- 0.07\n",
      "RMSE: 2.96 +/- 0.09\n"
     ]
    }
   ],
   "source": [
    "C = [70, 60]\n",
    "epsilon = [0.35, 0.4, 0.45]\n",
    "for n in epsilon:\n",
    "    print(n)\n",
    "    svr_rbf = SVR(kernel=\"rbf\", C=70, gamma='auto', epsilon=0.4)\n",
    "    svr_rbf.fit(x_train, y_train.values.ravel())\n",
    "    print('test set')\n",
    "    model_metrics(svr_rbf, x_test, y_test, cv=5)"
   ]
  },
  {
   "cell_type": "code",
   "execution_count": 106,
   "id": "a79e33dc",
   "metadata": {},
   "outputs": [
    {
     "name": "stdout",
     "output_type": "stream",
     "text": [
      "training set\n",
      "R^2: 0.471 +/- 0.041\n",
      "MAE: 1.99 +/- 0.09\n",
      "RMSE: 2.79 +/- 0.1\n",
      "test set\n",
      "R^2: 0.3 +/- 0.034\n",
      "MAE: 2.16 +/- 0.07\n",
      "RMSE: 2.96 +/- 0.09\n"
     ]
    }
   ],
   "source": [
    "svr_rbf = SVR(kernel=\"rbf\", C=70, gamma='auto', epsilon=0.4)\n",
    "svr_rbf.fit(x_train, y_train.values.ravel())\n",
    "print('training set')\n",
    "model_metrics(svr_rbf, x_train, y_train, cv=5)\n",
    "print('test set')\n",
    "model_metrics(svr_rbf, x_test, y_test, cv=5)"
   ]
  },
  {
   "cell_type": "markdown",
   "id": "9fe15af1",
   "metadata": {},
   "source": [
    "## KNN"
   ]
  },
  {
   "cell_type": "code",
   "execution_count": 59,
   "id": "59a5d4e2",
   "metadata": {},
   "outputs": [
    {
     "name": "stdout",
     "output_type": "stream",
     "text": [
      "training set\n",
      "R^2: 0.429 +/- 0.049\n",
      "MAE: 2.1 +/- 0.07\n",
      "RMSE: 2.9 +/- 0.12\n",
      "test set\n",
      "R^2: 0.127 +/- 0.042\n",
      "MAE: 2.49 +/- 0.13\n",
      "RMSE: 3.3 +/- 0.11\n"
     ]
    }
   ],
   "source": [
    "knn = KNeighborsRegressor(n_neighbors=4)\n",
    "knn.fit(x_train, y_train.values.ravel())\n",
    "print('training set')\n",
    "model_metrics(knn, x_train, y_train, cv=5)\n",
    "print('test set')\n",
    "model_metrics(knn, x_test, y_test, cv=5)"
   ]
  },
  {
   "cell_type": "code",
   "execution_count": 84,
   "id": "2669fde7",
   "metadata": {},
   "outputs": [
    {
     "name": "stdout",
     "output_type": "stream",
     "text": [
      "8\n",
      "test set\n",
      "R^2: 0.266 +/- 0.039\n",
      "MAE: 2.29 +/- 0.09\n",
      "RMSE: 3.03 +/- 0.09\n",
      "9\n",
      "test set\n",
      "R^2: 0.279 +/- 0.039\n",
      "MAE: 2.27 +/- 0.11\n",
      "RMSE: 3.0 +/- 0.11\n",
      "10\n",
      "test set\n",
      "R^2: 0.292 +/- 0.034\n",
      "MAE: 2.24 +/- 0.12\n",
      "RMSE: 2.98 +/- 0.12\n",
      "11\n",
      "test set\n",
      "R^2: 0.305 +/- 0.029\n",
      "MAE: 2.25 +/- 0.12\n",
      "RMSE: 2.95 +/- 0.12\n",
      "12\n",
      "test set\n",
      "R^2: 0.274 +/- 0.025\n",
      "MAE: 2.28 +/- 0.11\n",
      "RMSE: 3.02 +/- 0.11\n"
     ]
    }
   ],
   "source": [
    "neighbors = [8, 9, 10, 11, 12]\n",
    "for n in neighbors:\n",
    "    print(n)\n",
    "    knn = KNeighborsRegressor(n_neighbors=n)\n",
    "    knn.fit(x_train, y_train.values.ravel())\n",
    "    print('test set')\n",
    "    model_metrics(knn, x_test, y_test, cv=5)"
   ]
  },
  {
   "cell_type": "code",
   "execution_count": 85,
   "id": "307b6cf6",
   "metadata": {},
   "outputs": [
    {
     "name": "stdout",
     "output_type": "stream",
     "text": [
      "training set\n",
      "R^2: 0.434 +/- 0.046\n",
      "MAE: 2.12 +/- 0.08\n",
      "RMSE: 2.88 +/- 0.11\n",
      "test set\n",
      "R^2: 0.305 +/- 0.029\n",
      "MAE: 2.25 +/- 0.12\n",
      "RMSE: 2.95 +/- 0.12\n"
     ]
    }
   ],
   "source": [
    "knn = KNeighborsRegressor(n_neighbors=11)\n",
    "knn.fit(x_train, y_train.values.ravel())\n",
    "print('training set')\n",
    "model_metrics(knn, x_train, y_train, cv=5)\n",
    "print('test set')\n",
    "model_metrics(knn, x_test, y_test, cv=5)"
   ]
  },
  {
   "cell_type": "markdown",
   "id": "734ea003",
   "metadata": {},
   "source": [
    "## lightGBM"
   ]
  },
  {
   "cell_type": "code",
   "execution_count": 60,
   "id": "fb925742",
   "metadata": {},
   "outputs": [
    {
     "name": "stdout",
     "output_type": "stream",
     "text": [
      "training set\n",
      "R^2: 0.399 +/- 0.027\n",
      "MAE: 2.32 +/- 0.06\n",
      "RMSE: 2.98 +/- 0.07\n",
      "test set\n",
      "R^2: 0.18 +/- 0.028\n",
      "MAE: 2.48 +/- 0.08\n",
      "RMSE: 3.21 +/- 0.1\n"
     ]
    }
   ],
   "source": [
    "lgbm = LGBMRegressor(n_estimators=10, max_depth=5, num_leaves=2**5, learning_rate=0.1)\n",
    "lgbm.fit(x_train, y_train.values.ravel())\n",
    "print('training set')\n",
    "model_metrics(lgbm, x_train, y_train, cv=5)\n",
    "print('test set')\n",
    "model_metrics(lgbm, x_test, y_test, cv=5)"
   ]
  },
  {
   "cell_type": "code",
   "execution_count": 91,
   "id": "dade362f",
   "metadata": {},
   "outputs": [
    {
     "name": "stdout",
     "output_type": "stream",
     "text": [
      "0.01\n",
      "test set\n",
      "R^2: 0.023 +/- 0.006\n",
      "MAE: 2.72 +/- 0.1\n",
      "RMSE: 3.5 +/- 0.09\n",
      "0.1\n",
      "test set\n",
      "R^2: 0.184 +/- 0.025\n",
      "MAE: 2.47 +/- 0.08\n",
      "RMSE: 3.2 +/- 0.11\n",
      "0.5\n",
      "test set\n",
      "R^2: 0.125 +/- 0.022\n",
      "MAE: 2.57 +/- 0.09\n",
      "RMSE: 3.31 +/- 0.1\n"
     ]
    }
   ],
   "source": [
    "n_estimators=[10, 100, 500, 1000]\n",
    "max_depth = [3, 5, 7, 10]\n",
    "learning_rates = [0.01, 0.1, 0.5]\n",
    "for x in learning_rates:\n",
    "    print(x)\n",
    "    lgbm = LGBMRegressor(n_estimators=10, max_depth=3, num_leaves=2**3, learning_rate=0.1)\n",
    "    lgbm.fit(x_train, y_train.values.ravel())\n",
    "    print('test set')\n",
    "    model_metrics(lgbm, x_test, y_test, cv=5)"
   ]
  },
  {
   "cell_type": "code",
   "execution_count": 93,
   "id": "6f8686bf",
   "metadata": {},
   "outputs": [
    {
     "name": "stdout",
     "output_type": "stream",
     "text": [
      "training set\n",
      "R^2: 0.36 +/- 0.029\n",
      "MAE: 2.42 +/- 0.07\n",
      "RMSE: 3.08 +/- 0.07\n",
      "test set\n",
      "R^2: 0.184 +/- 0.025\n",
      "MAE: 2.47 +/- 0.08\n",
      "RMSE: 3.2 +/- 0.11\n"
     ]
    }
   ],
   "source": [
    "lgbm = LGBMRegressor(n_estimators=10, max_depth=3, num_leaves=2**3, learning_rate=0.1)\n",
    "lgbm.fit(x_train, y_train.values.ravel())\n",
    "print('training set')\n",
    "model_metrics(lgbm, x_train, y_train, cv=5)\n",
    "print('test set')\n",
    "model_metrics(lgbm, x_test, y_test, cv=5)"
   ]
  },
  {
   "cell_type": "markdown",
   "id": "da1aa18d",
   "metadata": {},
   "source": [
    "## Results"
   ]
  },
  {
   "cell_type": "markdown",
   "id": "f61ca24b",
   "metadata": {},
   "source": [
    "KNN performs the best with fingerprints and without. Let's see how the models improve by only training on PCE above 10 %"
   ]
  },
  {
   "cell_type": "code",
   "execution_count": 124,
   "id": "426d9991",
   "metadata": {},
   "outputs": [],
   "source": [
    "data_highPCE = data[data['PCE'] > 10]\n",
    "\n",
    "X_unstandardized = data_highPCE.iloc[:, 8:64]\n",
    "y = data_highPCE.iloc[:, 7:8]\n",
    "\n",
    "#standardize\n",
    "x_labels = X_unstandardized.columns\n",
    "scaler = StandardScaler().fit(X_unstandardized[x_labels]) \n",
    "X_unstandardized[x_labels] = scaler.transform(X_unstandardized[x_labels])\n",
    "\n",
    "fps = data_highPCE.iloc[:,64:]\n",
    "X = pd.concat([X_unstandardized, fps], axis=1)"
   ]
  },
  {
   "cell_type": "code",
   "execution_count": 125,
   "id": "2a95eef4",
   "metadata": {},
   "outputs": [],
   "source": [
    "# split into training and testing\n",
    "x_train, x_test, y_train, y_test = train_test_split(X, y, test_size = 0.2, random_state=14)"
   ]
  },
  {
   "cell_type": "markdown",
   "id": "6d05be09",
   "metadata": {},
   "source": [
    "### Lasso"
   ]
  },
  {
   "cell_type": "code",
   "execution_count": 126,
   "id": "10f8db5a",
   "metadata": {},
   "outputs": [
    {
     "name": "stdout",
     "output_type": "stream",
     "text": [
      "training set\n",
      "R^2: 0.382 +/- 0.026\n",
      "MAE: 1.16 +/- 0.04\n",
      "RMSE: 1.48 +/- 0.05\n",
      "test set\n",
      "R^2: 0.314 +/- 0.145\n",
      "MAE: 1.27 +/- 0.1\n",
      "RMSE: 1.56 +/- 0.13\n"
     ]
    }
   ],
   "source": [
    "lasso = Lasso(alpha=0.01, random_state=14, max_iter=10000)\n",
    "lasso.fit(x_train, y_train)\n",
    "#print('Best alpha is ' + str(lasso.alpha_))\n",
    "\n",
    "print('training set')\n",
    "model_metrics(lasso, x_train, y_train, cv=5)\n",
    "print('test set')\n",
    "model_metrics(lasso, x_test, y_test, cv=5)"
   ]
  },
  {
   "cell_type": "markdown",
   "id": "6afd718f",
   "metadata": {},
   "source": [
    "### RF"
   ]
  },
  {
   "cell_type": "code",
   "execution_count": 139,
   "id": "93d74989",
   "metadata": {},
   "outputs": [
    {
     "name": "stdout",
     "output_type": "stream",
     "text": [
      "56\n",
      "test set\n",
      "R^2: 0.412 +/- 0.093\n",
      "MAE: 1.21 +/- 0.1\n",
      "RMSE: 1.47 +/- 0.12\n",
      "57\n",
      "test set\n",
      "R^2: 0.422 +/- 0.089\n",
      "MAE: 1.2 +/- 0.1\n",
      "RMSE: 1.45 +/- 0.11\n",
      "58\n",
      "test set\n",
      "R^2: 0.415 +/- 0.088\n",
      "MAE: 1.21 +/- 0.09\n",
      "RMSE: 1.46 +/- 0.11\n",
      "59\n",
      "test set\n",
      "R^2: 0.414 +/- 0.093\n",
      "MAE: 1.21 +/- 0.1\n",
      "RMSE: 1.46 +/- 0.11\n"
     ]
    }
   ],
   "source": [
    "n_estimators = [300, 400, 500] \n",
    "max_depth = [5, 8, 10]\n",
    "min_samples_split = [2, 3]\n",
    "min_samples_leaf = [2, 4, 6]\n",
    "# max features had the biggest impact\n",
    "max_features = [56, 57, 58, 59]\n",
    "for x in max_features:\n",
    "    print(x)\n",
    "    rf = RandomForestRegressor(n_estimators=500,max_depth=10, min_samples_split=2, min_samples_leaf=2, max_features=57, random_state=14)\n",
    "    rf.fit(x_train, y_train)\n",
    "    print('test set')\n",
    "    model_metrics(rf, x_test, y_test, cv=5)"
   ]
  },
  {
   "cell_type": "code",
   "execution_count": 140,
   "id": "65ea1bb1",
   "metadata": {},
   "outputs": [
    {
     "name": "stdout",
     "output_type": "stream",
     "text": [
      "training set\n",
      "R^2: 0.438 +/- 0.023\n",
      "MAE: 1.13 +/- 0.04\n",
      "RMSE: 1.41 +/- 0.05\n",
      "test set\n",
      "R^2: 0.422 +/- 0.089\n",
      "MAE: 1.2 +/- 0.1\n",
      "RMSE: 1.45 +/- 0.11\n"
     ]
    }
   ],
   "source": [
    "rf = RandomForestRegressor(n_estimators=500,max_depth=10, min_samples_split=2, min_samples_leaf=2, max_features=57, random_state=14)\n",
    "rf.fit(x_train, y_train)\n",
    "print('training set')\n",
    "model_metrics(rf, x_train, y_train, cv=5)\n",
    "print('test set')\n",
    "model_metrics(rf, x_test, y_test, cv=5)"
   ]
  },
  {
   "cell_type": "markdown",
   "id": "0e8ea416",
   "metadata": {},
   "source": [
    "### GB"
   ]
  },
  {
   "cell_type": "code",
   "execution_count": 147,
   "id": "0e31a3a1",
   "metadata": {},
   "outputs": [
    {
     "name": "stdout",
     "output_type": "stream",
     "text": [
      "11\n",
      "test set\n",
      "R^2: 0.423 +/- 0.115\n",
      "MAE: 1.15 +/- 0.12\n",
      "RMSE: 1.43 +/- 0.12\n",
      "12\n",
      "test set\n",
      "R^2: 0.424 +/- 0.112\n",
      "MAE: 1.15 +/- 0.11\n",
      "RMSE: 1.43 +/- 0.12\n",
      "13\n",
      "test set\n",
      "R^2: 0.424 +/- 0.114\n",
      "MAE: 1.14 +/- 0.12\n",
      "RMSE: 1.43 +/- 0.12\n",
      "14\n",
      "test set\n",
      "R^2: 0.424 +/- 0.114\n",
      "MAE: 1.14 +/- 0.12\n",
      "RMSE: 1.43 +/- 0.12\n",
      "15\n",
      "test set\n",
      "R^2: 0.424 +/- 0.114\n",
      "MAE: 1.14 +/- 0.12\n",
      "RMSE: 1.43 +/- 0.12\n"
     ]
    }
   ],
   "source": [
    "n_estimators = [10, 100, 500, 1000]\n",
    "subsample = [0.1, 0.2, 0.3]\n",
    "learning_rate = [0.02, 0.01, 0.03]\n",
    "max_depth = [11, 12, 13, 14, 15]\n",
    "\n",
    "for x in max_depth:\n",
    "    print(x)\n",
    "    gb = GradientBoostingRegressor(learning_rate = 0.01, subsample = 0.3, n_estimators = 500, max_depth=12, random_state=14)\n",
    "    gb.fit(x_train, y_train.values.ravel())\n",
    "    print('test set')\n",
    "    model_metrics(gb, x_test, y_test, cv=5)"
   ]
  },
  {
   "cell_type": "code",
   "execution_count": 148,
   "id": "00825d31",
   "metadata": {},
   "outputs": [
    {
     "name": "stdout",
     "output_type": "stream",
     "text": [
      "training set\n",
      "R^2: 0.401 +/- 0.025\n",
      "MAE: 1.13 +/- 0.03\n",
      "RMSE: 1.46 +/- 0.04\n",
      "test set\n",
      "R^2: 0.424 +/- 0.112\n",
      "MAE: 1.15 +/- 0.11\n",
      "RMSE: 1.43 +/- 0.12\n"
     ]
    }
   ],
   "source": [
    "gb = GradientBoostingRegressor(learning_rate = 0.01, subsample = 0.3, n_estimators = 500, max_depth=12, random_state=14)\n",
    "gb.fit(x_train, y_train.values.ravel())\n",
    "print('training set')\n",
    "model_metrics(gb, x_train, y_train, cv=5)\n",
    "print('test set')\n",
    "model_metrics(gb, x_test, y_test, cv=5)"
   ]
  },
  {
   "cell_type": "markdown",
   "id": "e3b63dc5",
   "metadata": {},
   "source": [
    "### XGBRFR"
   ]
  },
  {
   "cell_type": "code",
   "execution_count": 154,
   "id": "32df4e61",
   "metadata": {},
   "outputs": [
    {
     "name": "stdout",
     "output_type": "stream",
     "text": [
      "0.03\n",
      "test set\n",
      "R^2: 0.426 +/- 0.099\n",
      "MAE: 1.19 +/- 0.09\n",
      "RMSE: 1.44 +/- 0.12\n",
      "0.04\n",
      "test set\n",
      "R^2: 0.429 +/- 0.097\n",
      "MAE: 1.18 +/- 0.09\n",
      "RMSE: 1.44 +/- 0.1\n",
      "0.05\n",
      "test set\n",
      "R^2: 0.414 +/- 0.102\n",
      "MAE: 1.2 +/- 0.09\n",
      "RMSE: 1.45 +/- 0.11\n"
     ]
    }
   ],
   "source": [
    "n_estimators = [10, 100, 500, 1000, 5000]\n",
    "subsample = [0.55, 0.6, 0.65, 0.8]\n",
    "colsample_bynode = [0.03, 0.04, 0.05]\n",
    "\n",
    "for x in colsample_bynode:\n",
    "    print(x)\n",
    "    xgbrfr = XGBRFRegressor(n_estimators=100, subsample=0.6, colsample_bynode=0.04, random_state=14)\n",
    "    xgbrfr.fit(x_train, y_train.values.ravel())\n",
    "    print('test set')\n",
    "    model_metrics(xgbrfr, x_test, y_test, cv=5)"
   ]
  },
  {
   "cell_type": "code",
   "execution_count": 155,
   "id": "b4c8b514",
   "metadata": {},
   "outputs": [
    {
     "name": "stdout",
     "output_type": "stream",
     "text": [
      "training set\n",
      "R^2: 0.43 +/- 0.021\n",
      "MAE: 1.13 +/- 0.03\n",
      "RMSE: 1.42 +/- 0.05\n",
      "test set\n",
      "R^2: 0.429 +/- 0.097\n",
      "MAE: 1.18 +/- 0.09\n",
      "RMSE: 1.44 +/- 0.1\n"
     ]
    }
   ],
   "source": [
    "xgbrfr = XGBRFRegressor(n_estimators=100, subsample=0.6, colsample_bynode=0.04, random_state=14)\n",
    "xgbrfr.fit(x_train, y_train.values.ravel())\n",
    "print('training set')\n",
    "model_metrics(xgbrfr, x_train, y_train, cv=5)\n",
    "print('test set')\n",
    "model_metrics(xgbrfr, x_test, y_test, cv=5)"
   ]
  },
  {
   "cell_type": "markdown",
   "id": "8ebff262",
   "metadata": {},
   "source": [
    "### SVR"
   ]
  },
  {
   "cell_type": "code",
   "execution_count": 162,
   "id": "89eb155d",
   "metadata": {},
   "outputs": [
    {
     "name": "stdout",
     "output_type": "stream",
     "text": [
      "0.1\n",
      "test set\n",
      "R^2: 0.475 +/- 0.125\n",
      "MAE: 1.07 +/- 0.11\n",
      "RMSE: 1.35 +/- 0.15\n",
      "0.15\n",
      "test set\n",
      "R^2: 0.476 +/- 0.123\n",
      "MAE: 1.07 +/- 0.11\n",
      "RMSE: 1.35 +/- 0.15\n",
      "0.2\n",
      "test set\n",
      "R^2: 0.476 +/- 0.122\n",
      "MAE: 1.07 +/- 0.11\n",
      "RMSE: 1.35 +/- 0.15\n"
     ]
    }
   ],
   "source": [
    "C = [65, 70, 75]\n",
    "epsilon = [0.1, 0.15, 0.2]\n",
    "for x in epsilon:\n",
    "    print(x)\n",
    "    svr_rbf = SVR(kernel=\"rbf\", C=70, gamma='auto', epsilon=0.2)\n",
    "    svr_rbf.fit(x_train, y_train.values.ravel())\n",
    "    print('test set')\n",
    "    model_metrics(svr_rbf, x_test, y_test, cv=5)"
   ]
  },
  {
   "cell_type": "code",
   "execution_count": 163,
   "id": "4bcc084d",
   "metadata": {},
   "outputs": [
    {
     "name": "stdout",
     "output_type": "stream",
     "text": [
      "training set\n",
      "R^2: 0.41 +/- 0.045\n",
      "MAE: 1.11 +/- 0.03\n",
      "RMSE: 1.44 +/- 0.04\n",
      "test set\n",
      "R^2: 0.476 +/- 0.122\n",
      "MAE: 1.07 +/- 0.11\n",
      "RMSE: 1.35 +/- 0.15\n"
     ]
    }
   ],
   "source": [
    "svr_rbf = SVR(kernel=\"rbf\", C=70, gamma='auto', epsilon=0.2)\n",
    "svr_rbf.fit(x_train, y_train.values.ravel())\n",
    "print('training set')\n",
    "model_metrics(svr_rbf, x_train, y_train, cv=5)\n",
    "print('test set')\n",
    "model_metrics(svr_rbf, x_test, y_test, cv=5)"
   ]
  },
  {
   "cell_type": "markdown",
   "id": "946079aa",
   "metadata": {},
   "source": [
    "### KNN"
   ]
  },
  {
   "cell_type": "code",
   "execution_count": 164,
   "id": "1733dc8a",
   "metadata": {},
   "outputs": [
    {
     "name": "stdout",
     "output_type": "stream",
     "text": [
      "8\n",
      "test set\n",
      "R^2: 0.396 +/- 0.103\n",
      "MAE: 1.22 +/- 0.08\n",
      "RMSE: 1.48 +/- 0.1\n",
      "9\n",
      "test set\n",
      "R^2: 0.4 +/- 0.101\n",
      "MAE: 1.22 +/- 0.08\n",
      "RMSE: 1.48 +/- 0.11\n",
      "10\n",
      "test set\n",
      "R^2: 0.417 +/- 0.105\n",
      "MAE: 1.2 +/- 0.08\n",
      "RMSE: 1.45 +/- 0.11\n",
      "11\n",
      "test set\n",
      "R^2: 0.421 +/- 0.098\n",
      "MAE: 1.21 +/- 0.09\n",
      "RMSE: 1.45 +/- 0.11\n",
      "12\n",
      "test set\n",
      "R^2: 0.411 +/- 0.101\n",
      "MAE: 1.23 +/- 0.09\n",
      "RMSE: 1.46 +/- 0.11\n"
     ]
    }
   ],
   "source": [
    "neighbors = [8, 9, 10, 11, 12]\n",
    "for n in neighbors:\n",
    "    print(n)\n",
    "    knn = KNeighborsRegressor(n_neighbors=n)\n",
    "    knn.fit(x_train, y_train.values.ravel())\n",
    "    print('test set')\n",
    "    model_metrics(knn, x_test, y_test, cv=5)"
   ]
  },
  {
   "cell_type": "code",
   "execution_count": 165,
   "id": "aff83323",
   "metadata": {},
   "outputs": [
    {
     "name": "stdout",
     "output_type": "stream",
     "text": [
      "training set\n",
      "R^2: 0.37 +/- 0.04\n",
      "MAE: 1.17 +/- 0.04\n",
      "RMSE: 1.49 +/- 0.04\n",
      "test set\n",
      "R^2: 0.421 +/- 0.098\n",
      "MAE: 1.21 +/- 0.09\n",
      "RMSE: 1.45 +/- 0.11\n"
     ]
    }
   ],
   "source": [
    "knn = KNeighborsRegressor(n_neighbors=11)\n",
    "knn.fit(x_train, y_train.values.ravel())\n",
    "print('training set')\n",
    "model_metrics(knn, x_train, y_train, cv=5)\n",
    "print('test set')\n",
    "model_metrics(knn, x_test, y_test, cv=5)"
   ]
  },
  {
   "cell_type": "markdown",
   "id": "d5fc4e06",
   "metadata": {},
   "source": [
    "### lightGBM"
   ]
  },
  {
   "cell_type": "code",
   "execution_count": 177,
   "id": "095de1c5",
   "metadata": {},
   "outputs": [
    {
     "name": "stdout",
     "output_type": "stream",
     "text": [
      "0.15\n",
      "test set\n",
      "R^2: 0.329 +/- 0.143\n",
      "MAE: 1.25 +/- 0.12\n",
      "RMSE: 1.54 +/- 0.14\n",
      "0.2\n",
      "test set\n",
      "R^2: 0.342 +/- 0.157\n",
      "MAE: 1.21 +/- 0.13\n",
      "RMSE: 1.52 +/- 0.15\n",
      "0.25\n",
      "test set\n",
      "R^2: 0.324 +/- 0.154\n",
      "MAE: 1.23 +/- 0.13\n",
      "RMSE: 1.54 +/- 0.15\n"
     ]
    }
   ],
   "source": [
    "n_estimators=[49, 50, 51, 52, 53]\n",
    "max_depth = [3, 5, 7, 10]\n",
    "learning_rates = [0.15, 0.2, 0.25]\n",
    "for x in learning_rates:\n",
    "    print(x)\n",
    "    lgbm = LGBMRegressor(n_estimators=51, max_depth=3, num_leaves=2**3, learning_rate=0.2)\n",
    "    lgbm.fit(x_train, y_train.values.ravel())\n",
    "    print('test set')\n",
    "    model_metrics(lgbm, x_test, y_test, cv=5)"
   ]
  },
  {
   "cell_type": "code",
   "execution_count": 178,
   "id": "9c87b428",
   "metadata": {},
   "outputs": [
    {
     "name": "stdout",
     "output_type": "stream",
     "text": [
      "training set\n",
      "R^2: 0.35 +/- 0.025\n",
      "MAE: 1.16 +/- 0.03\n",
      "RMSE: 1.52 +/- 0.04\n",
      "test set\n",
      "R^2: 0.342 +/- 0.157\n",
      "MAE: 1.21 +/- 0.13\n",
      "RMSE: 1.52 +/- 0.15\n"
     ]
    }
   ],
   "source": [
    "lgbm = LGBMRegressor(n_estimators=51, max_depth=3, num_leaves=2**3, learning_rate=0.2)\n",
    "lgbm.fit(x_train, y_train.values.ravel())\n",
    "print('training set')\n",
    "model_metrics(lgbm, x_train, y_train, cv=5)\n",
    "print('test set')\n",
    "model_metrics(lgbm, x_test, y_test, cv=5)"
   ]
  },
  {
   "cell_type": "markdown",
   "id": "ca6fc4ae",
   "metadata": {},
   "source": [
    "# Using Morgan FP Counts with PCE>10%"
   ]
  },
  {
   "cell_type": "code",
   "execution_count": 3,
   "id": "dbe4f4f2",
   "metadata": {},
   "outputs": [
    {
     "name": "stdout",
     "output_type": "stream",
     "text": [
      "Number of donor-acceptor pairs is: 999\n"
     ]
    }
   ],
   "source": [
    "data = pd.read_csv('descriptors_with_fingerprints_counts.csv')\n",
    "print('Number of donor-acceptor pairs is: ' + str(len(data)))"
   ]
  },
  {
   "cell_type": "code",
   "execution_count": 4,
   "id": "42d987aa",
   "metadata": {},
   "outputs": [],
   "source": [
    "data_highPCE = data[data['PCE'] > 10]\n",
    "\n",
    "X_unstandardized = data_highPCE.iloc[:, 8:64]\n",
    "y = data_highPCE.iloc[:, 7:8]\n",
    "\n",
    "#standardize\n",
    "x_labels = X_unstandardized.columns\n",
    "scaler = StandardScaler().fit(X_unstandardized[x_labels]) \n",
    "X_unstandardized[x_labels] = scaler.transform(X_unstandardized[x_labels])\n",
    "\n",
    "fps = data_highPCE.iloc[:,64:]\n",
    "X = pd.concat([X_unstandardized, fps], axis=1)\n",
    "\n",
    "dump(scaler, open('scaler.pkl', 'wb'))"
   ]
  },
  {
   "cell_type": "code",
   "execution_count": 5,
   "id": "9356a288",
   "metadata": {},
   "outputs": [],
   "source": [
    "# split into training and testing\n",
    "x_train, x_test, y_train, y_test = train_test_split(X, y, test_size = 0.2, random_state=14)"
   ]
  },
  {
   "cell_type": "code",
   "execution_count": 6,
   "id": "5dc52f5b",
   "metadata": {},
   "outputs": [
    {
     "data": {
      "text/html": [
       "<div>\n",
       "<style scoped>\n",
       "    .dataframe tbody tr th:only-of-type {\n",
       "        vertical-align: middle;\n",
       "    }\n",
       "\n",
       "    .dataframe tbody tr th {\n",
       "        vertical-align: top;\n",
       "    }\n",
       "\n",
       "    .dataframe thead th {\n",
       "        text-align: right;\n",
       "    }\n",
       "</style>\n",
       "<table border=\"1\" class=\"dataframe\">\n",
       "  <thead>\n",
       "    <tr style=\"text-align: right;\">\n",
       "      <th></th>\n",
       "      <th>A-HOMO</th>\n",
       "      <th>A-HOMOminus1</th>\n",
       "      <th>A-LUMO</th>\n",
       "      <th>A-LUMOplus1</th>\n",
       "      <th>A-fundbg</th>\n",
       "      <th>A-deltaHOMO</th>\n",
       "      <th>A-deltaLUMO</th>\n",
       "      <th>A-opt_bg</th>\n",
       "      <th>A-max_abs</th>\n",
       "      <th>A-summed_oscs</th>\n",
       "      <th>...</th>\n",
       "      <th>D-ECFP_2038</th>\n",
       "      <th>D-ECFP_2039</th>\n",
       "      <th>D-ECFP_2040</th>\n",
       "      <th>D-ECFP_2041</th>\n",
       "      <th>D-ECFP_2042</th>\n",
       "      <th>D-ECFP_2043</th>\n",
       "      <th>D-ECFP_2044</th>\n",
       "      <th>D-ECFP_2045</th>\n",
       "      <th>D-ECFP_2046</th>\n",
       "      <th>D-ECFP_2047</th>\n",
       "    </tr>\n",
       "  </thead>\n",
       "  <tbody>\n",
       "    <tr>\n",
       "      <th>817</th>\n",
       "      <td>-0.078408</td>\n",
       "      <td>1.539964</td>\n",
       "      <td>0.339081</td>\n",
       "      <td>-0.920729</td>\n",
       "      <td>0.285203</td>\n",
       "      <td>-2.477023</td>\n",
       "      <td>-2.375402</td>\n",
       "      <td>0.708746</td>\n",
       "      <td>-1.521699</td>\n",
       "      <td>3.948174</td>\n",
       "      <td>...</td>\n",
       "      <td>0</td>\n",
       "      <td>0</td>\n",
       "      <td>0</td>\n",
       "      <td>0</td>\n",
       "      <td>0</td>\n",
       "      <td>0</td>\n",
       "      <td>0</td>\n",
       "      <td>0</td>\n",
       "      <td>0</td>\n",
       "      <td>0</td>\n",
       "    </tr>\n",
       "    <tr>\n",
       "      <th>635</th>\n",
       "      <td>-0.430541</td>\n",
       "      <td>-0.614192</td>\n",
       "      <td>0.272551</td>\n",
       "      <td>0.475998</td>\n",
       "      <td>0.617681</td>\n",
       "      <td>0.480279</td>\n",
       "      <td>0.428974</td>\n",
       "      <td>0.403589</td>\n",
       "      <td>-0.412541</td>\n",
       "      <td>-0.263237</td>\n",
       "      <td>...</td>\n",
       "      <td>0</td>\n",
       "      <td>0</td>\n",
       "      <td>0</td>\n",
       "      <td>0</td>\n",
       "      <td>0</td>\n",
       "      <td>0</td>\n",
       "      <td>0</td>\n",
       "      <td>0</td>\n",
       "      <td>0</td>\n",
       "      <td>0</td>\n",
       "    </tr>\n",
       "    <tr>\n",
       "      <th>26</th>\n",
       "      <td>1.494457</td>\n",
       "      <td>2.733393</td>\n",
       "      <td>1.179022</td>\n",
       "      <td>-0.195357</td>\n",
       "      <td>-0.875991</td>\n",
       "      <td>-2.600890</td>\n",
       "      <td>-2.479268</td>\n",
       "      <td>1.013902</td>\n",
       "      <td>-2.589776</td>\n",
       "      <td>7.647295</td>\n",
       "      <td>...</td>\n",
       "      <td>0</td>\n",
       "      <td>0</td>\n",
       "      <td>0</td>\n",
       "      <td>0</td>\n",
       "      <td>0</td>\n",
       "      <td>0</td>\n",
       "      <td>0</td>\n",
       "      <td>0</td>\n",
       "      <td>0</td>\n",
       "      <td>0</td>\n",
       "    </tr>\n",
       "    <tr>\n",
       "      <th>512</th>\n",
       "      <td>-0.975175</td>\n",
       "      <td>-0.986515</td>\n",
       "      <td>-1.324167</td>\n",
       "      <td>-1.028764</td>\n",
       "      <td>0.240542</td>\n",
       "      <td>0.459634</td>\n",
       "      <td>0.384460</td>\n",
       "      <td>0.174722</td>\n",
       "      <td>-0.115853</td>\n",
       "      <td>-0.242525</td>\n",
       "      <td>...</td>\n",
       "      <td>0</td>\n",
       "      <td>0</td>\n",
       "      <td>0</td>\n",
       "      <td>0</td>\n",
       "      <td>0</td>\n",
       "      <td>0</td>\n",
       "      <td>0</td>\n",
       "      <td>0</td>\n",
       "      <td>0</td>\n",
       "      <td>0</td>\n",
       "    </tr>\n",
       "    <tr>\n",
       "      <th>62</th>\n",
       "      <td>0.527263</td>\n",
       "      <td>-0.464598</td>\n",
       "      <td>0.264235</td>\n",
       "      <td>0.460564</td>\n",
       "      <td>-0.399604</td>\n",
       "      <td>1.300891</td>\n",
       "      <td>0.414136</td>\n",
       "      <td>-1.427350</td>\n",
       "      <td>1.897062</td>\n",
       "      <td>-0.340025</td>\n",
       "      <td>...</td>\n",
       "      <td>0</td>\n",
       "      <td>0</td>\n",
       "      <td>0</td>\n",
       "      <td>0</td>\n",
       "      <td>0</td>\n",
       "      <td>0</td>\n",
       "      <td>0</td>\n",
       "      <td>0</td>\n",
       "      <td>0</td>\n",
       "      <td>0</td>\n",
       "    </tr>\n",
       "    <tr>\n",
       "      <th>...</th>\n",
       "      <td>...</td>\n",
       "      <td>...</td>\n",
       "      <td>...</td>\n",
       "      <td>...</td>\n",
       "      <td>...</td>\n",
       "      <td>...</td>\n",
       "      <td>...</td>\n",
       "      <td>...</td>\n",
       "      <td>...</td>\n",
       "      <td>...</td>\n",
       "      <td>...</td>\n",
       "      <td>...</td>\n",
       "      <td>...</td>\n",
       "      <td>...</td>\n",
       "      <td>...</td>\n",
       "      <td>...</td>\n",
       "      <td>...</td>\n",
       "      <td>...</td>\n",
       "      <td>...</td>\n",
       "      <td>...</td>\n",
       "      <td>...</td>\n",
       "    </tr>\n",
       "    <tr>\n",
       "      <th>139</th>\n",
       "      <td>0.207995</td>\n",
       "      <td>1.057938</td>\n",
       "      <td>-0.700449</td>\n",
       "      <td>-1.267982</td>\n",
       "      <td>-0.637797</td>\n",
       "      <td>-1.413840</td>\n",
       "      <td>-1.188365</td>\n",
       "      <td>-0.283013</td>\n",
       "      <td>0.450137</td>\n",
       "      <td>-0.101464</td>\n",
       "      <td>...</td>\n",
       "      <td>0</td>\n",
       "      <td>0</td>\n",
       "      <td>0</td>\n",
       "      <td>0</td>\n",
       "      <td>0</td>\n",
       "      <td>0</td>\n",
       "      <td>0</td>\n",
       "      <td>0</td>\n",
       "      <td>0</td>\n",
       "      <td>0</td>\n",
       "    </tr>\n",
       "    <tr>\n",
       "      <th>920</th>\n",
       "      <td>0.353543</td>\n",
       "      <td>0.851831</td>\n",
       "      <td>0.463825</td>\n",
       "      <td>0.151895</td>\n",
       "      <td>-0.096899</td>\n",
       "      <td>-0.933859</td>\n",
       "      <td>-0.535494</td>\n",
       "      <td>-0.130435</td>\n",
       "      <td>0.226479</td>\n",
       "      <td>-0.013003</td>\n",
       "      <td>...</td>\n",
       "      <td>0</td>\n",
       "      <td>0</td>\n",
       "      <td>0</td>\n",
       "      <td>0</td>\n",
       "      <td>0</td>\n",
       "      <td>0</td>\n",
       "      <td>0</td>\n",
       "      <td>0</td>\n",
       "      <td>0</td>\n",
       "      <td>0</td>\n",
       "    </tr>\n",
       "    <tr>\n",
       "      <th>723</th>\n",
       "      <td>-0.411761</td>\n",
       "      <td>-0.624165</td>\n",
       "      <td>0.239286</td>\n",
       "      <td>0.468281</td>\n",
       "      <td>0.577982</td>\n",
       "      <td>0.516406</td>\n",
       "      <td>0.473488</td>\n",
       "      <td>0.327300</td>\n",
       "      <td>-0.339510</td>\n",
       "      <td>-0.664714</td>\n",
       "      <td>...</td>\n",
       "      <td>0</td>\n",
       "      <td>0</td>\n",
       "      <td>0</td>\n",
       "      <td>0</td>\n",
       "      <td>0</td>\n",
       "      <td>0</td>\n",
       "      <td>0</td>\n",
       "      <td>0</td>\n",
       "      <td>0</td>\n",
       "      <td>0</td>\n",
       "    </tr>\n",
       "    <tr>\n",
       "      <th>747</th>\n",
       "      <td>-0.608956</td>\n",
       "      <td>-1.584892</td>\n",
       "      <td>1.511671</td>\n",
       "      <td>1.880441</td>\n",
       "      <td>1.545644</td>\n",
       "      <td>1.791194</td>\n",
       "      <td>0.918627</td>\n",
       "      <td>0.403589</td>\n",
       "      <td>-0.417106</td>\n",
       "      <td>-0.972167</td>\n",
       "      <td>...</td>\n",
       "      <td>0</td>\n",
       "      <td>0</td>\n",
       "      <td>0</td>\n",
       "      <td>0</td>\n",
       "      <td>0</td>\n",
       "      <td>0</td>\n",
       "      <td>0</td>\n",
       "      <td>0</td>\n",
       "      <td>0</td>\n",
       "      <td>0</td>\n",
       "    </tr>\n",
       "    <tr>\n",
       "      <th>520</th>\n",
       "      <td>-0.975175</td>\n",
       "      <td>-0.986515</td>\n",
       "      <td>-1.324167</td>\n",
       "      <td>-1.028764</td>\n",
       "      <td>0.240542</td>\n",
       "      <td>0.459634</td>\n",
       "      <td>0.384460</td>\n",
       "      <td>0.174722</td>\n",
       "      <td>-0.115853</td>\n",
       "      <td>-0.242525</td>\n",
       "      <td>...</td>\n",
       "      <td>0</td>\n",
       "      <td>0</td>\n",
       "      <td>0</td>\n",
       "      <td>0</td>\n",
       "      <td>0</td>\n",
       "      <td>0</td>\n",
       "      <td>0</td>\n",
       "      <td>0</td>\n",
       "      <td>0</td>\n",
       "      <td>0</td>\n",
       "    </tr>\n",
       "  </tbody>\n",
       "</table>\n",
       "<p>101 rows × 4152 columns</p>\n",
       "</div>"
      ],
      "text/plain": [
       "       A-HOMO  A-HOMOminus1    A-LUMO  A-LUMOplus1  A-fundbg  A-deltaHOMO  \\\n",
       "817 -0.078408      1.539964  0.339081    -0.920729  0.285203    -2.477023   \n",
       "635 -0.430541     -0.614192  0.272551     0.475998  0.617681     0.480279   \n",
       "26   1.494457      2.733393  1.179022    -0.195357 -0.875991    -2.600890   \n",
       "512 -0.975175     -0.986515 -1.324167    -1.028764  0.240542     0.459634   \n",
       "62   0.527263     -0.464598  0.264235     0.460564 -0.399604     1.300891   \n",
       "..        ...           ...       ...          ...       ...          ...   \n",
       "139  0.207995      1.057938 -0.700449    -1.267982 -0.637797    -1.413840   \n",
       "920  0.353543      0.851831  0.463825     0.151895 -0.096899    -0.933859   \n",
       "723 -0.411761     -0.624165  0.239286     0.468281  0.577982     0.516406   \n",
       "747 -0.608956     -1.584892  1.511671     1.880441  1.545644     1.791194   \n",
       "520 -0.975175     -0.986515 -1.324167    -1.028764  0.240542     0.459634   \n",
       "\n",
       "     A-deltaLUMO  A-opt_bg  A-max_abs  A-summed_oscs  ...  D-ECFP_2038  \\\n",
       "817    -2.375402  0.708746  -1.521699       3.948174  ...            0   \n",
       "635     0.428974  0.403589  -0.412541      -0.263237  ...            0   \n",
       "26     -2.479268  1.013902  -2.589776       7.647295  ...            0   \n",
       "512     0.384460  0.174722  -0.115853      -0.242525  ...            0   \n",
       "62      0.414136 -1.427350   1.897062      -0.340025  ...            0   \n",
       "..           ...       ...        ...            ...  ...          ...   \n",
       "139    -1.188365 -0.283013   0.450137      -0.101464  ...            0   \n",
       "920    -0.535494 -0.130435   0.226479      -0.013003  ...            0   \n",
       "723     0.473488  0.327300  -0.339510      -0.664714  ...            0   \n",
       "747     0.918627  0.403589  -0.417106      -0.972167  ...            0   \n",
       "520     0.384460  0.174722  -0.115853      -0.242525  ...            0   \n",
       "\n",
       "     D-ECFP_2039  D-ECFP_2040  D-ECFP_2041  D-ECFP_2042  D-ECFP_2043  \\\n",
       "817            0            0            0            0            0   \n",
       "635            0            0            0            0            0   \n",
       "26             0            0            0            0            0   \n",
       "512            0            0            0            0            0   \n",
       "62             0            0            0            0            0   \n",
       "..           ...          ...          ...          ...          ...   \n",
       "139            0            0            0            0            0   \n",
       "920            0            0            0            0            0   \n",
       "723            0            0            0            0            0   \n",
       "747            0            0            0            0            0   \n",
       "520            0            0            0            0            0   \n",
       "\n",
       "     D-ECFP_2044  D-ECFP_2045  D-ECFP_2046  D-ECFP_2047  \n",
       "817            0            0            0            0  \n",
       "635            0            0            0            0  \n",
       "26             0            0            0            0  \n",
       "512            0            0            0            0  \n",
       "62             0            0            0            0  \n",
       "..           ...          ...          ...          ...  \n",
       "139            0            0            0            0  \n",
       "920            0            0            0            0  \n",
       "723            0            0            0            0  \n",
       "747            0            0            0            0  \n",
       "520            0            0            0            0  \n",
       "\n",
       "[101 rows x 4152 columns]"
      ]
     },
     "execution_count": 6,
     "metadata": {},
     "output_type": "execute_result"
    }
   ],
   "source": [
    "x_test"
   ]
  },
  {
   "cell_type": "markdown",
   "id": "347aa770",
   "metadata": {},
   "source": [
    "## LASSO"
   ]
  },
  {
   "cell_type": "code",
   "execution_count": 9,
   "id": "5163c149",
   "metadata": {},
   "outputs": [
    {
     "name": "stdout",
     "output_type": "stream",
     "text": [
      "Best alpha is 0.046476054722918166\n"
     ]
    }
   ],
   "source": [
    "lasso = LassoCV(cv=5, random_state=14, max_iter=10000)\n",
    "lasso.fit(x_train, y_train)\n",
    "print('Best alpha is ' + str(lasso.alpha_))"
   ]
  },
  {
   "cell_type": "code",
   "execution_count": 10,
   "id": "176e0e2b",
   "metadata": {},
   "outputs": [
    {
     "name": "stdout",
     "output_type": "stream",
     "text": [
      "training set\n",
      "R^2: 0.45 +/- 0.03\n",
      "MAE: 1.07 +/- 0.03\n",
      "RMSE: 1.38 +/- 0.05\n",
      "test set\n",
      "R^2: -0.09 +/- 0.13\n",
      "MAE: 1.48 +/- 0.14\n",
      "RMSE: 1.95 +/- 0.17\n"
     ]
    }
   ],
   "source": [
    "lasso = Lasso(alpha=0.046476, random_state=14, max_iter=10000)\n",
    "lasso.fit(x_train, y_train)\n",
    "\n",
    "print('training set')\n",
    "model_metrics(lasso, x_train, y_train, cv=5)\n",
    "print('test set')\n",
    "model_metrics(lasso, x_test, y_test, cv=5)\n",
    "\n",
    "# save the model\n",
    "dump(lasso, open('lasso_mfcounts_standardized_above10.pkl', 'wb'))\n"
   ]
  },
  {
   "cell_type": "code",
   "execution_count": 11,
   "id": "4154fec7",
   "metadata": {},
   "outputs": [
    {
     "name": "stdout",
     "output_type": "stream",
     "text": [
      "16.06020705119034\n",
      "16.201249166415465\n"
     ]
    }
   ],
   "source": [
    "lasso_predictions_test = lasso.predict(x_test)\n",
    "lasso_predictions_train = lasso.predict(x_train)\n",
    "\n",
    "print(lasso_predictions_test.max())\n",
    "print(lasso_predictions_train.max())"
   ]
  },
  {
   "cell_type": "markdown",
   "id": "cab23a97",
   "metadata": {},
   "source": [
    "### RF"
   ]
  },
  {
   "cell_type": "code",
   "execution_count": 15,
   "id": "42e0066f",
   "metadata": {
    "collapsed": true,
    "jupyter": {
     "outputs_hidden": true
    },
    "tags": []
   },
   "outputs": [
    {
     "name": "stdout",
     "output_type": "stream",
     "text": [
      "30\n",
      "test set\n",
      "R^2: 0.323 +/- 0.063\n",
      "MAE: 1.29 +/- 0.16\n",
      "RMSE: 1.58 +/- 0.19\n",
      "50\n",
      "test set\n",
      "R^2: 0.351 +/- 0.06\n",
      "MAE: 1.24 +/- 0.16\n",
      "RMSE: 1.55 +/- 0.2\n",
      "56\n",
      "test set\n",
      "R^2: 0.388 +/- 0.061\n",
      "MAE: 1.21 +/- 0.16\n",
      "RMSE: 1.51 +/- 0.2\n",
      "57\n",
      "test set\n",
      "R^2: 0.399 +/- 0.073\n",
      "MAE: 1.2 +/- 0.16\n",
      "RMSE: 1.5 +/- 0.21\n",
      "58\n",
      "test set\n",
      "R^2: 0.368 +/- 0.07\n",
      "MAE: 1.23 +/- 0.17\n",
      "RMSE: 1.54 +/- 0.21\n",
      "59\n",
      "test set\n",
      "R^2: 0.37 +/- 0.083\n",
      "MAE: 1.22 +/- 0.16\n",
      "RMSE: 1.53 +/- 0.21\n",
      "70\n",
      "test set\n",
      "R^2: 0.365 +/- 0.072\n",
      "MAE: 1.22 +/- 0.16\n",
      "RMSE: 1.54 +/- 0.2\n",
      "100\n",
      "test set\n",
      "R^2: 0.368 +/- 0.07\n",
      "MAE: 1.23 +/- 0.16\n",
      "RMSE: 1.53 +/- 0.2\n"
     ]
    }
   ],
   "source": [
    "n_estimators = [50, 60, 70, 80, 90, 100, 110, 120] \n",
    "max_depth = [5, 8, 10]\n",
    "min_samples_split = [2, 3]\n",
    "min_samples_leaf = [2, 4, 6]\n",
    "# max features had the biggest impact\n",
    "max_features = [30, 50, 56, 57, 58, 59, 70, 100]\n",
    "for x in max_features:\n",
    "    print(x)\n",
    "    rf = RandomForestRegressor(n_estimators=80,max_depth=8, min_samples_split=2, min_samples_leaf=2, max_features=57, random_state=20)\n",
    "    rf.fit(x_train, y_train)\n",
    "    print('test set')\n",
    "    model_metrics(rf, x_test, y_test, cv=5)"
   ]
  },
  {
   "cell_type": "code",
   "execution_count": 12,
   "id": "0d12d90b",
   "metadata": {},
   "outputs": [
    {
     "name": "stdout",
     "output_type": "stream",
     "text": [
      "training set\n",
      "R^2: 0.47 +/- 0.03\n",
      "MAE: 1.09 +/- 0.02\n",
      "RMSE: 1.36 +/- 0.03\n",
      "test set\n",
      "R^2: 0.4 +/- 0.07\n",
      "MAE: 1.2 +/- 0.16\n",
      "RMSE: 1.5 +/- 0.21\n"
     ]
    }
   ],
   "source": [
    "rf = RandomForestRegressor(n_estimators=80,max_depth=8, min_samples_split=2, min_samples_leaf=2, max_features=57, random_state=20)\n",
    "rf.fit(x_train, y_train)\n",
    "print('training set')\n",
    "R2_train, R2_SEM_train, RMSE_train, RMSE_SEM_train = model_metrics(rf, x_train, y_train, cv=5)\n",
    "print('test set')\n",
    "R2_test, R2_SEM_test, RMSE_test, RMSE_SEM_test = model_metrics(rf, x_test, y_test, cv=5)\n",
    "\n",
    "# save the model\n",
    "dump(rf, open('rf_mfcounts_standardized_above10.pkl', 'wb'))"
   ]
  },
  {
   "cell_type": "code",
   "execution_count": 13,
   "id": "963a9b44",
   "metadata": {},
   "outputs": [
    {
     "name": "stdout",
     "output_type": "stream",
     "text": [
      "15.721787572434812\n",
      "15.853514178386632\n"
     ]
    }
   ],
   "source": [
    "rf_predictions_test = rf.predict(x_test)\n",
    "rf_predictions_train = rf.predict(x_train)\n",
    "\n",
    "print(rf_predictions_test.max())\n",
    "print(rf_predictions_train.max())"
   ]
  },
  {
   "cell_type": "code",
   "execution_count": 24,
   "id": "9ec4120c",
   "metadata": {},
   "outputs": [],
   "source": [
    "x_test['predictions'] = rf_predictions_test\n",
    "x_train['predictions'] = rf_predictions_train\n",
    "#x_test.to_csv('rf_test_predictions.csv')\n",
    "#x_train.to_csv('rf_train_predictions.csv')"
   ]
  },
  {
   "cell_type": "code",
   "execution_count": 31,
   "id": "215a72d2",
   "metadata": {
    "collapsed": true,
    "jupyter": {
     "outputs_hidden": true
    },
    "tags": []
   },
   "outputs": [
    {
     "ename": "KeyError",
     "evalue": "5",
     "output_type": "error",
     "traceback": [
      "\u001b[1;31m---------------------------------------------------------------------------\u001b[0m",
      "\u001b[1;31mKeyError\u001b[0m                                  Traceback (most recent call last)",
      "\u001b[1;32m~\\anaconda3\\lib\\site-packages\\pandas\\core\\indexes\\base.py\u001b[0m in \u001b[0;36mget_loc\u001b[1;34m(self, key, method, tolerance)\u001b[0m\n\u001b[0;32m   3079\u001b[0m             \u001b[1;32mtry\u001b[0m\u001b[1;33m:\u001b[0m\u001b[1;33m\u001b[0m\u001b[1;33m\u001b[0m\u001b[0m\n\u001b[1;32m-> 3080\u001b[1;33m                 \u001b[1;32mreturn\u001b[0m \u001b[0mself\u001b[0m\u001b[1;33m.\u001b[0m\u001b[0m_engine\u001b[0m\u001b[1;33m.\u001b[0m\u001b[0mget_loc\u001b[0m\u001b[1;33m(\u001b[0m\u001b[0mcasted_key\u001b[0m\u001b[1;33m)\u001b[0m\u001b[1;33m\u001b[0m\u001b[1;33m\u001b[0m\u001b[0m\n\u001b[0m\u001b[0;32m   3081\u001b[0m             \u001b[1;32mexcept\u001b[0m \u001b[0mKeyError\u001b[0m \u001b[1;32mas\u001b[0m \u001b[0merr\u001b[0m\u001b[1;33m:\u001b[0m\u001b[1;33m\u001b[0m\u001b[1;33m\u001b[0m\u001b[0m\n",
      "\u001b[1;32mpandas\\_libs\\index.pyx\u001b[0m in \u001b[0;36mpandas._libs.index.IndexEngine.get_loc\u001b[1;34m()\u001b[0m\n",
      "\u001b[1;32mpandas\\_libs\\index.pyx\u001b[0m in \u001b[0;36mpandas._libs.index.IndexEngine.get_loc\u001b[1;34m()\u001b[0m\n",
      "\u001b[1;32mpandas\\_libs\\hashtable_class_helper.pxi\u001b[0m in \u001b[0;36mpandas._libs.hashtable.Int64HashTable.get_item\u001b[1;34m()\u001b[0m\n",
      "\u001b[1;32mpandas\\_libs\\hashtable_class_helper.pxi\u001b[0m in \u001b[0;36mpandas._libs.hashtable.Int64HashTable.get_item\u001b[1;34m()\u001b[0m\n",
      "\u001b[1;31mKeyError\u001b[0m: 5",
      "\nThe above exception was the direct cause of the following exception:\n",
      "\u001b[1;31mKeyError\u001b[0m                                  Traceback (most recent call last)",
      "\u001b[1;32m<ipython-input-31-afc6b5206996>\u001b[0m in \u001b[0;36m<module>\u001b[1;34m\u001b[0m\n\u001b[1;32m----> 1\u001b[1;33m \u001b[0mx_train\u001b[0m\u001b[1;33m.\u001b[0m\u001b[0mloc\u001b[0m\u001b[1;33m[\u001b[0m\u001b[1;36m5\u001b[0m\u001b[1;33m]\u001b[0m\u001b[1;33m\u001b[0m\u001b[1;33m\u001b[0m\u001b[0m\n\u001b[0m",
      "\u001b[1;32m~\\anaconda3\\lib\\site-packages\\pandas\\core\\indexing.py\u001b[0m in \u001b[0;36m__getitem__\u001b[1;34m(self, key)\u001b[0m\n\u001b[0;32m    893\u001b[0m \u001b[1;33m\u001b[0m\u001b[0m\n\u001b[0;32m    894\u001b[0m             \u001b[0mmaybe_callable\u001b[0m \u001b[1;33m=\u001b[0m \u001b[0mcom\u001b[0m\u001b[1;33m.\u001b[0m\u001b[0mapply_if_callable\u001b[0m\u001b[1;33m(\u001b[0m\u001b[0mkey\u001b[0m\u001b[1;33m,\u001b[0m \u001b[0mself\u001b[0m\u001b[1;33m.\u001b[0m\u001b[0mobj\u001b[0m\u001b[1;33m)\u001b[0m\u001b[1;33m\u001b[0m\u001b[1;33m\u001b[0m\u001b[0m\n\u001b[1;32m--> 895\u001b[1;33m             \u001b[1;32mreturn\u001b[0m \u001b[0mself\u001b[0m\u001b[1;33m.\u001b[0m\u001b[0m_getitem_axis\u001b[0m\u001b[1;33m(\u001b[0m\u001b[0mmaybe_callable\u001b[0m\u001b[1;33m,\u001b[0m \u001b[0maxis\u001b[0m\u001b[1;33m=\u001b[0m\u001b[0maxis\u001b[0m\u001b[1;33m)\u001b[0m\u001b[1;33m\u001b[0m\u001b[1;33m\u001b[0m\u001b[0m\n\u001b[0m\u001b[0;32m    896\u001b[0m \u001b[1;33m\u001b[0m\u001b[0m\n\u001b[0;32m    897\u001b[0m     \u001b[1;32mdef\u001b[0m \u001b[0m_is_scalar_access\u001b[0m\u001b[1;33m(\u001b[0m\u001b[0mself\u001b[0m\u001b[1;33m,\u001b[0m \u001b[0mkey\u001b[0m\u001b[1;33m:\u001b[0m \u001b[0mTuple\u001b[0m\u001b[1;33m)\u001b[0m\u001b[1;33m:\u001b[0m\u001b[1;33m\u001b[0m\u001b[1;33m\u001b[0m\u001b[0m\n",
      "\u001b[1;32m~\\anaconda3\\lib\\site-packages\\pandas\\core\\indexing.py\u001b[0m in \u001b[0;36m_getitem_axis\u001b[1;34m(self, key, axis)\u001b[0m\n\u001b[0;32m   1122\u001b[0m         \u001b[1;31m# fall thru to straight lookup\u001b[0m\u001b[1;33m\u001b[0m\u001b[1;33m\u001b[0m\u001b[1;33m\u001b[0m\u001b[0m\n\u001b[0;32m   1123\u001b[0m         \u001b[0mself\u001b[0m\u001b[1;33m.\u001b[0m\u001b[0m_validate_key\u001b[0m\u001b[1;33m(\u001b[0m\u001b[0mkey\u001b[0m\u001b[1;33m,\u001b[0m \u001b[0maxis\u001b[0m\u001b[1;33m)\u001b[0m\u001b[1;33m\u001b[0m\u001b[1;33m\u001b[0m\u001b[0m\n\u001b[1;32m-> 1124\u001b[1;33m         \u001b[1;32mreturn\u001b[0m \u001b[0mself\u001b[0m\u001b[1;33m.\u001b[0m\u001b[0m_get_label\u001b[0m\u001b[1;33m(\u001b[0m\u001b[0mkey\u001b[0m\u001b[1;33m,\u001b[0m \u001b[0maxis\u001b[0m\u001b[1;33m=\u001b[0m\u001b[0maxis\u001b[0m\u001b[1;33m)\u001b[0m\u001b[1;33m\u001b[0m\u001b[1;33m\u001b[0m\u001b[0m\n\u001b[0m\u001b[0;32m   1125\u001b[0m \u001b[1;33m\u001b[0m\u001b[0m\n\u001b[0;32m   1126\u001b[0m     \u001b[1;32mdef\u001b[0m \u001b[0m_get_slice_axis\u001b[0m\u001b[1;33m(\u001b[0m\u001b[0mself\u001b[0m\u001b[1;33m,\u001b[0m \u001b[0mslice_obj\u001b[0m\u001b[1;33m:\u001b[0m \u001b[0mslice\u001b[0m\u001b[1;33m,\u001b[0m \u001b[0maxis\u001b[0m\u001b[1;33m:\u001b[0m \u001b[0mint\u001b[0m\u001b[1;33m)\u001b[0m\u001b[1;33m:\u001b[0m\u001b[1;33m\u001b[0m\u001b[1;33m\u001b[0m\u001b[0m\n",
      "\u001b[1;32m~\\anaconda3\\lib\\site-packages\\pandas\\core\\indexing.py\u001b[0m in \u001b[0;36m_get_label\u001b[1;34m(self, label, axis)\u001b[0m\n\u001b[0;32m   1071\u001b[0m     \u001b[1;32mdef\u001b[0m \u001b[0m_get_label\u001b[0m\u001b[1;33m(\u001b[0m\u001b[0mself\u001b[0m\u001b[1;33m,\u001b[0m \u001b[0mlabel\u001b[0m\u001b[1;33m,\u001b[0m \u001b[0maxis\u001b[0m\u001b[1;33m:\u001b[0m \u001b[0mint\u001b[0m\u001b[1;33m)\u001b[0m\u001b[1;33m:\u001b[0m\u001b[1;33m\u001b[0m\u001b[1;33m\u001b[0m\u001b[0m\n\u001b[0;32m   1072\u001b[0m         \u001b[1;31m# GH#5667 this will fail if the label is not present in the axis.\u001b[0m\u001b[1;33m\u001b[0m\u001b[1;33m\u001b[0m\u001b[1;33m\u001b[0m\u001b[0m\n\u001b[1;32m-> 1073\u001b[1;33m         \u001b[1;32mreturn\u001b[0m \u001b[0mself\u001b[0m\u001b[1;33m.\u001b[0m\u001b[0mobj\u001b[0m\u001b[1;33m.\u001b[0m\u001b[0mxs\u001b[0m\u001b[1;33m(\u001b[0m\u001b[0mlabel\u001b[0m\u001b[1;33m,\u001b[0m \u001b[0maxis\u001b[0m\u001b[1;33m=\u001b[0m\u001b[0maxis\u001b[0m\u001b[1;33m)\u001b[0m\u001b[1;33m\u001b[0m\u001b[1;33m\u001b[0m\u001b[0m\n\u001b[0m\u001b[0;32m   1074\u001b[0m \u001b[1;33m\u001b[0m\u001b[0m\n\u001b[0;32m   1075\u001b[0m     \u001b[1;32mdef\u001b[0m \u001b[0m_handle_lowerdim_multi_index_axis0\u001b[0m\u001b[1;33m(\u001b[0m\u001b[0mself\u001b[0m\u001b[1;33m,\u001b[0m \u001b[0mtup\u001b[0m\u001b[1;33m:\u001b[0m \u001b[0mTuple\u001b[0m\u001b[1;33m)\u001b[0m\u001b[1;33m:\u001b[0m\u001b[1;33m\u001b[0m\u001b[1;33m\u001b[0m\u001b[0m\n",
      "\u001b[1;32m~\\anaconda3\\lib\\site-packages\\pandas\\core\\generic.py\u001b[0m in \u001b[0;36mxs\u001b[1;34m(self, key, axis, level, drop_level)\u001b[0m\n\u001b[0;32m   3737\u001b[0m                 \u001b[1;32mraise\u001b[0m \u001b[0mTypeError\u001b[0m\u001b[1;33m(\u001b[0m\u001b[1;34mf\"Expected label or tuple of labels, got {key}\"\u001b[0m\u001b[1;33m)\u001b[0m \u001b[1;32mfrom\u001b[0m \u001b[0me\u001b[0m\u001b[1;33m\u001b[0m\u001b[1;33m\u001b[0m\u001b[0m\n\u001b[0;32m   3738\u001b[0m         \u001b[1;32melse\u001b[0m\u001b[1;33m:\u001b[0m\u001b[1;33m\u001b[0m\u001b[1;33m\u001b[0m\u001b[0m\n\u001b[1;32m-> 3739\u001b[1;33m             \u001b[0mloc\u001b[0m \u001b[1;33m=\u001b[0m \u001b[0mindex\u001b[0m\u001b[1;33m.\u001b[0m\u001b[0mget_loc\u001b[0m\u001b[1;33m(\u001b[0m\u001b[0mkey\u001b[0m\u001b[1;33m)\u001b[0m\u001b[1;33m\u001b[0m\u001b[1;33m\u001b[0m\u001b[0m\n\u001b[0m\u001b[0;32m   3740\u001b[0m \u001b[1;33m\u001b[0m\u001b[0m\n\u001b[0;32m   3741\u001b[0m             \u001b[1;32mif\u001b[0m \u001b[0misinstance\u001b[0m\u001b[1;33m(\u001b[0m\u001b[0mloc\u001b[0m\u001b[1;33m,\u001b[0m \u001b[0mnp\u001b[0m\u001b[1;33m.\u001b[0m\u001b[0mndarray\u001b[0m\u001b[1;33m)\u001b[0m\u001b[1;33m:\u001b[0m\u001b[1;33m\u001b[0m\u001b[1;33m\u001b[0m\u001b[0m\n",
      "\u001b[1;32m~\\anaconda3\\lib\\site-packages\\pandas\\core\\indexes\\base.py\u001b[0m in \u001b[0;36mget_loc\u001b[1;34m(self, key, method, tolerance)\u001b[0m\n\u001b[0;32m   3080\u001b[0m                 \u001b[1;32mreturn\u001b[0m \u001b[0mself\u001b[0m\u001b[1;33m.\u001b[0m\u001b[0m_engine\u001b[0m\u001b[1;33m.\u001b[0m\u001b[0mget_loc\u001b[0m\u001b[1;33m(\u001b[0m\u001b[0mcasted_key\u001b[0m\u001b[1;33m)\u001b[0m\u001b[1;33m\u001b[0m\u001b[1;33m\u001b[0m\u001b[0m\n\u001b[0;32m   3081\u001b[0m             \u001b[1;32mexcept\u001b[0m \u001b[0mKeyError\u001b[0m \u001b[1;32mas\u001b[0m \u001b[0merr\u001b[0m\u001b[1;33m:\u001b[0m\u001b[1;33m\u001b[0m\u001b[1;33m\u001b[0m\u001b[0m\n\u001b[1;32m-> 3082\u001b[1;33m                 \u001b[1;32mraise\u001b[0m \u001b[0mKeyError\u001b[0m\u001b[1;33m(\u001b[0m\u001b[0mkey\u001b[0m\u001b[1;33m)\u001b[0m \u001b[1;32mfrom\u001b[0m \u001b[0merr\u001b[0m\u001b[1;33m\u001b[0m\u001b[1;33m\u001b[0m\u001b[0m\n\u001b[0m\u001b[0;32m   3083\u001b[0m \u001b[1;33m\u001b[0m\u001b[0m\n\u001b[0;32m   3084\u001b[0m         \u001b[1;32mif\u001b[0m \u001b[0mtolerance\u001b[0m \u001b[1;32mis\u001b[0m \u001b[1;32mnot\u001b[0m \u001b[1;32mNone\u001b[0m\u001b[1;33m:\u001b[0m\u001b[1;33m\u001b[0m\u001b[1;33m\u001b[0m\u001b[0m\n",
      "\u001b[1;31mKeyError\u001b[0m: 5"
     ]
    }
   ],
   "source": []
  },
  {
   "cell_type": "code",
   "execution_count": 35,
   "id": "c4b90581",
   "metadata": {},
   "outputs": [
    {
     "data": {
      "text/html": [
       "<div>\n",
       "<style scoped>\n",
       "    .dataframe tbody tr th:only-of-type {\n",
       "        vertical-align: middle;\n",
       "    }\n",
       "\n",
       "    .dataframe tbody tr th {\n",
       "        vertical-align: top;\n",
       "    }\n",
       "\n",
       "    .dataframe thead th {\n",
       "        text-align: right;\n",
       "    }\n",
       "</style>\n",
       "<table border=\"1\" class=\"dataframe\">\n",
       "  <thead>\n",
       "    <tr style=\"text-align: right;\">\n",
       "      <th></th>\n",
       "      <th>Unnamed: 0</th>\n",
       "      <th>acceptor</th>\n",
       "      <th>donor</th>\n",
       "      <th>reference</th>\n",
       "      <th>Voc</th>\n",
       "      <th>Jsc</th>\n",
       "      <th>FF</th>\n",
       "      <th>PCE</th>\n",
       "      <th>A-HOMO</th>\n",
       "      <th>A-HOMOminus1</th>\n",
       "      <th>...</th>\n",
       "      <th>D-ECFP_2039</th>\n",
       "      <th>D-ECFP_2040</th>\n",
       "      <th>D-ECFP_2041</th>\n",
       "      <th>D-ECFP_2042</th>\n",
       "      <th>D-ECFP_2043</th>\n",
       "      <th>D-ECFP_2044</th>\n",
       "      <th>D-ECFP_2045</th>\n",
       "      <th>D-ECFP_2046</th>\n",
       "      <th>D-ECFP_2047</th>\n",
       "      <th>predicted_PCE</th>\n",
       "    </tr>\n",
       "  </thead>\n",
       "  <tbody>\n",
       "    <tr>\n",
       "      <th>0</th>\n",
       "      <td>0</td>\n",
       "      <td>2FIFIC</td>\n",
       "      <td>PBDB-TF</td>\n",
       "      <td>Zhang_preparation_2020</td>\n",
       "      <td>0.800</td>\n",
       "      <td>22.40</td>\n",
       "      <td>61.50</td>\n",
       "      <td>11.34</td>\n",
       "      <td>-13.838</td>\n",
       "      <td>-14.653</td>\n",
       "      <td>...</td>\n",
       "      <td>0</td>\n",
       "      <td>0</td>\n",
       "      <td>0</td>\n",
       "      <td>0</td>\n",
       "      <td>0</td>\n",
       "      <td>0</td>\n",
       "      <td>0</td>\n",
       "      <td>0</td>\n",
       "      <td>0</td>\n",
       "      <td>11.779392</td>\n",
       "    </tr>\n",
       "    <tr>\n",
       "      <th>1</th>\n",
       "      <td>1</td>\n",
       "      <td>2T2Se-F</td>\n",
       "      <td>PBDB-TF</td>\n",
       "      <td>Ding_selenophene_2022</td>\n",
       "      <td>0.875</td>\n",
       "      <td>20.63</td>\n",
       "      <td>66.90</td>\n",
       "      <td>12.05</td>\n",
       "      <td>-13.067</td>\n",
       "      <td>-13.891</td>\n",
       "      <td>...</td>\n",
       "      <td>0</td>\n",
       "      <td>0</td>\n",
       "      <td>0</td>\n",
       "      <td>0</td>\n",
       "      <td>0</td>\n",
       "      <td>0</td>\n",
       "      <td>0</td>\n",
       "      <td>0</td>\n",
       "      <td>0</td>\n",
       "      <td>12.121231</td>\n",
       "    </tr>\n",
       "    <tr>\n",
       "      <th>2</th>\n",
       "      <td>2</td>\n",
       "      <td>3TT-OCIC</td>\n",
       "      <td>PTB7-Th</td>\n",
       "      <td>Gao_achieving_2019</td>\n",
       "      <td>0.680</td>\n",
       "      <td>26.49</td>\n",
       "      <td>69.00</td>\n",
       "      <td>12.43</td>\n",
       "      <td>-13.392</td>\n",
       "      <td>-14.307</td>\n",
       "      <td>...</td>\n",
       "      <td>0</td>\n",
       "      <td>2</td>\n",
       "      <td>0</td>\n",
       "      <td>0</td>\n",
       "      <td>0</td>\n",
       "      <td>0</td>\n",
       "      <td>0</td>\n",
       "      <td>0</td>\n",
       "      <td>0</td>\n",
       "      <td>12.124100</td>\n",
       "    </tr>\n",
       "    <tr>\n",
       "      <th>3</th>\n",
       "      <td>3</td>\n",
       "      <td>4T-1</td>\n",
       "      <td>D18</td>\n",
       "      <td>Zhou_high-efficiency_2021</td>\n",
       "      <td>0.930</td>\n",
       "      <td>18.28</td>\n",
       "      <td>70.97</td>\n",
       "      <td>12.04</td>\n",
       "      <td>-13.948</td>\n",
       "      <td>-14.850</td>\n",
       "      <td>...</td>\n",
       "      <td>0</td>\n",
       "      <td>0</td>\n",
       "      <td>0</td>\n",
       "      <td>0</td>\n",
       "      <td>0</td>\n",
       "      <td>0</td>\n",
       "      <td>0</td>\n",
       "      <td>0</td>\n",
       "      <td>0</td>\n",
       "      <td>11.959549</td>\n",
       "    </tr>\n",
       "    <tr>\n",
       "      <th>4</th>\n",
       "      <td>4</td>\n",
       "      <td>4T-1</td>\n",
       "      <td>PBDB-T</td>\n",
       "      <td>Zhou_high-efficiency_2021</td>\n",
       "      <td>0.810</td>\n",
       "      <td>17.27</td>\n",
       "      <td>72.45</td>\n",
       "      <td>10.15</td>\n",
       "      <td>-13.948</td>\n",
       "      <td>-14.850</td>\n",
       "      <td>...</td>\n",
       "      <td>0</td>\n",
       "      <td>0</td>\n",
       "      <td>0</td>\n",
       "      <td>0</td>\n",
       "      <td>0</td>\n",
       "      <td>0</td>\n",
       "      <td>0</td>\n",
       "      <td>0</td>\n",
       "      <td>0</td>\n",
       "      <td>11.275350</td>\n",
       "    </tr>\n",
       "    <tr>\n",
       "      <th>...</th>\n",
       "      <td>...</td>\n",
       "      <td>...</td>\n",
       "      <td>...</td>\n",
       "      <td>...</td>\n",
       "      <td>...</td>\n",
       "      <td>...</td>\n",
       "      <td>...</td>\n",
       "      <td>...</td>\n",
       "      <td>...</td>\n",
       "      <td>...</td>\n",
       "      <td>...</td>\n",
       "      <td>...</td>\n",
       "      <td>...</td>\n",
       "      <td>...</td>\n",
       "      <td>...</td>\n",
       "      <td>...</td>\n",
       "      <td>...</td>\n",
       "      <td>...</td>\n",
       "      <td>...</td>\n",
       "      <td>...</td>\n",
       "      <td>...</td>\n",
       "    </tr>\n",
       "    <tr>\n",
       "      <th>991</th>\n",
       "      <td>991</td>\n",
       "      <td>ZITI</td>\n",
       "      <td>J100</td>\n",
       "      <td>Wang_a wide-bandgap_2019</td>\n",
       "      <td>0.937</td>\n",
       "      <td>21.25</td>\n",
       "      <td>72.48</td>\n",
       "      <td>14.43</td>\n",
       "      <td>-14.090</td>\n",
       "      <td>-14.696</td>\n",
       "      <td>...</td>\n",
       "      <td>0</td>\n",
       "      <td>0</td>\n",
       "      <td>0</td>\n",
       "      <td>0</td>\n",
       "      <td>0</td>\n",
       "      <td>0</td>\n",
       "      <td>0</td>\n",
       "      <td>0</td>\n",
       "      <td>0</td>\n",
       "      <td>12.869792</td>\n",
       "    </tr>\n",
       "    <tr>\n",
       "      <th>992</th>\n",
       "      <td>992</td>\n",
       "      <td>ZITI</td>\n",
       "      <td>PBDB-T</td>\n",
       "      <td>Liu_design_2018</td>\n",
       "      <td>0.890</td>\n",
       "      <td>19.80</td>\n",
       "      <td>74.04</td>\n",
       "      <td>13.03</td>\n",
       "      <td>-14.090</td>\n",
       "      <td>-14.696</td>\n",
       "      <td>...</td>\n",
       "      <td>0</td>\n",
       "      <td>0</td>\n",
       "      <td>0</td>\n",
       "      <td>0</td>\n",
       "      <td>0</td>\n",
       "      <td>0</td>\n",
       "      <td>0</td>\n",
       "      <td>0</td>\n",
       "      <td>0</td>\n",
       "      <td>11.928313</td>\n",
       "    </tr>\n",
       "    <tr>\n",
       "      <th>993</th>\n",
       "      <td>993</td>\n",
       "      <td>ZITI-C</td>\n",
       "      <td>J71</td>\n",
       "      <td>Zhang_revealing_2019</td>\n",
       "      <td>0.851</td>\n",
       "      <td>21.30</td>\n",
       "      <td>72.76</td>\n",
       "      <td>13.18</td>\n",
       "      <td>-14.184</td>\n",
       "      <td>-14.785</td>\n",
       "      <td>...</td>\n",
       "      <td>0</td>\n",
       "      <td>0</td>\n",
       "      <td>0</td>\n",
       "      <td>0</td>\n",
       "      <td>0</td>\n",
       "      <td>0</td>\n",
       "      <td>0</td>\n",
       "      <td>0</td>\n",
       "      <td>0</td>\n",
       "      <td>12.259730</td>\n",
       "    </tr>\n",
       "    <tr>\n",
       "      <th>995</th>\n",
       "      <td>995</td>\n",
       "      <td>ZITI-N</td>\n",
       "      <td>J71</td>\n",
       "      <td>Zhang_revealing_2019</td>\n",
       "      <td>0.876</td>\n",
       "      <td>21.78</td>\n",
       "      <td>72.00</td>\n",
       "      <td>13.68</td>\n",
       "      <td>-14.086</td>\n",
       "      <td>-14.504</td>\n",
       "      <td>...</td>\n",
       "      <td>0</td>\n",
       "      <td>0</td>\n",
       "      <td>0</td>\n",
       "      <td>0</td>\n",
       "      <td>0</td>\n",
       "      <td>0</td>\n",
       "      <td>0</td>\n",
       "      <td>0</td>\n",
       "      <td>0</td>\n",
       "      <td>12.150411</td>\n",
       "    </tr>\n",
       "    <tr>\n",
       "      <th>997</th>\n",
       "      <td>997</td>\n",
       "      <td>ZITI-S</td>\n",
       "      <td>PTQ10</td>\n",
       "      <td>Zhang_accurate_2020</td>\n",
       "      <td>0.960</td>\n",
       "      <td>16.94</td>\n",
       "      <td>65.75</td>\n",
       "      <td>10.69</td>\n",
       "      <td>-14.216</td>\n",
       "      <td>-14.785</td>\n",
       "      <td>...</td>\n",
       "      <td>0</td>\n",
       "      <td>0</td>\n",
       "      <td>0</td>\n",
       "      <td>0</td>\n",
       "      <td>0</td>\n",
       "      <td>0</td>\n",
       "      <td>0</td>\n",
       "      <td>0</td>\n",
       "      <td>0</td>\n",
       "      <td>11.733123</td>\n",
       "    </tr>\n",
       "  </tbody>\n",
       "</table>\n",
       "<p>503 rows × 4161 columns</p>\n",
       "</div>"
      ],
      "text/plain": [
       "     Unnamed: 0  acceptor    donor                  reference    Voc    Jsc  \\\n",
       "0             0    2FIFIC  PBDB-TF     Zhang_preparation_2020  0.800  22.40   \n",
       "1             1   2T2Se-F  PBDB-TF      Ding_selenophene_2022  0.875  20.63   \n",
       "2             2  3TT-OCIC  PTB7-Th         Gao_achieving_2019  0.680  26.49   \n",
       "3             3      4T-1      D18  Zhou_high-efficiency_2021  0.930  18.28   \n",
       "4             4      4T-1   PBDB-T  Zhou_high-efficiency_2021  0.810  17.27   \n",
       "..          ...       ...      ...                        ...    ...    ...   \n",
       "991         991      ZITI     J100   Wang_a wide-bandgap_2019  0.937  21.25   \n",
       "992         992      ZITI   PBDB-T            Liu_design_2018  0.890  19.80   \n",
       "993         993    ZITI-C      J71       Zhang_revealing_2019  0.851  21.30   \n",
       "995         995    ZITI-N      J71       Zhang_revealing_2019  0.876  21.78   \n",
       "997         997    ZITI-S    PTQ10        Zhang_accurate_2020  0.960  16.94   \n",
       "\n",
       "        FF    PCE  A-HOMO  A-HOMOminus1  ...  D-ECFP_2039  D-ECFP_2040  \\\n",
       "0    61.50  11.34 -13.838       -14.653  ...            0            0   \n",
       "1    66.90  12.05 -13.067       -13.891  ...            0            0   \n",
       "2    69.00  12.43 -13.392       -14.307  ...            0            2   \n",
       "3    70.97  12.04 -13.948       -14.850  ...            0            0   \n",
       "4    72.45  10.15 -13.948       -14.850  ...            0            0   \n",
       "..     ...    ...     ...           ...  ...          ...          ...   \n",
       "991  72.48  14.43 -14.090       -14.696  ...            0            0   \n",
       "992  74.04  13.03 -14.090       -14.696  ...            0            0   \n",
       "993  72.76  13.18 -14.184       -14.785  ...            0            0   \n",
       "995  72.00  13.68 -14.086       -14.504  ...            0            0   \n",
       "997  65.75  10.69 -14.216       -14.785  ...            0            0   \n",
       "\n",
       "     D-ECFP_2041  D-ECFP_2042  D-ECFP_2043  D-ECFP_2044  D-ECFP_2045  \\\n",
       "0              0            0            0            0            0   \n",
       "1              0            0            0            0            0   \n",
       "2              0            0            0            0            0   \n",
       "3              0            0            0            0            0   \n",
       "4              0            0            0            0            0   \n",
       "..           ...          ...          ...          ...          ...   \n",
       "991            0            0            0            0            0   \n",
       "992            0            0            0            0            0   \n",
       "993            0            0            0            0            0   \n",
       "995            0            0            0            0            0   \n",
       "997            0            0            0            0            0   \n",
       "\n",
       "     D-ECFP_2046  D-ECFP_2047  predicted_PCE  \n",
       "0              0            0      11.779392  \n",
       "1              0            0      12.121231  \n",
       "2              0            0      12.124100  \n",
       "3              0            0      11.959549  \n",
       "4              0            0      11.275350  \n",
       "..           ...          ...            ...  \n",
       "991            0            0      12.869792  \n",
       "992            0            0      11.928313  \n",
       "993            0            0      12.259730  \n",
       "995            0            0      12.150411  \n",
       "997            0            0      11.733123  \n",
       "\n",
       "[503 rows x 4161 columns]"
      ]
     },
     "execution_count": 35,
     "metadata": {},
     "output_type": "execute_result"
    }
   ],
   "source": [
    "predicted_PCE = []\n",
    "for x in data_highPCE.index:\n",
    "    try:\n",
    "        predicted_PCE.append(x_test.loc[x][-1])\n",
    "    except:\n",
    "        predicted_PCE.append(x_train.loc[x][-1])\n",
    "        \n",
    "\n",
    "data_highPCE['predicted_PCE'] = predicted_PCE\n",
    "data_highPCE.to_csv('rf_desc_with_predictions.csv')\n",
    "data_highPCE\n"
   ]
  },
  {
   "cell_type": "code",
   "execution_count": 67,
   "id": "a0c67ac8",
   "metadata": {},
   "outputs": [
    {
     "data": {
      "image/png": "[encoded data removed]",
      "text/plain": [
       "<Figure size 396x360 with 1 Axes>"
      ]
     },
     "metadata": {
      "needs_background": "light"
     },
     "output_type": "display_data"
    }
   ],
   "source": [
    "fig, ax = plt.subplots(figsize = (5.5, 5))\n",
    "ax.scatter(rf_predictions_train, y_train, color = '#882255')\n",
    "ax.scatter(rf_predictions_test, y_test, color = '#44AA99')\n",
    "\n",
    "\n",
    "#ax.plot(sTDA_HOMOs_array, m*sTDA_HOMOs_array + b, color='c', linewidth=5)\n",
    "\n",
    "# x=y line\n",
    "lims = [\n",
    "    np.min([ax.get_xlim(), ax.get_ylim()]),  # min of both axes\n",
    "    np.max([ax.get_xlim(), ax.get_ylim()]),  # max of both axes\n",
    "]\n",
    "\n",
    "# now plot both limits against eachother\n",
    "ax.plot(lims, lims, 'k-', alpha=0.75, zorder=0)\n",
    "\n",
    "ax.set_ylabel('Experimental PCE (%)', labelpad=10, weight='bold', size=16)\n",
    "ax.set_xlabel('Predicted PCE (%)', labelpad=10, weight='bold', size=16)\n",
    "ax.tick_params(axis = 'x', labelsize=14)\n",
    "ax.tick_params(axis = 'y', labelsize=14)\n",
    "\n",
    "\n",
    "text_train = 'Training Set\\n$R^2$=' + str(R2_train) + '$\\pm$' + str(R2_SEM_train) + '\\nRMSE=' + str(RMSE_train)+ '$\\pm$' + str(RMSE_SEM_train)\n",
    "text_test = 'Test Set\\n$R^2$=' + str(R2_test) + '$\\pm$' + str(R2_SEM_test) + '\\nRMSE=' + str(RMSE_test)+ '$\\pm$' + str(RMSE_SEM_test)\n",
    "\n",
    "ax.text(15.4, 11.5, text_train, ha='left', size=13, color='#882255')\n",
    "ax.text(15.4, 9.5, text_test, ha='left', size=13, color='#44AA99')\n",
    "ax.set_aspect('equal')\n",
    "plt.tight_layout()\n",
    "\n",
    "plt.savefig('rf_predictions_scatter_MFcounts_standardized.pdf', dpi=600)\n",
    "plt.savefig('rf_predictions_scatter_MFcounts_standardized.png', dpi=600)\n",
    "plt.show()"
   ]
  },
  {
   "cell_type": "markdown",
   "id": "51822721",
   "metadata": {},
   "source": [
    "### GB"
   ]
  },
  {
   "cell_type": "code",
   "execution_count": 21,
   "id": "e49c64c2",
   "metadata": {
    "collapsed": true,
    "jupyter": {
     "outputs_hidden": true
    },
    "tags": []
   },
   "outputs": [
    {
     "name": "stdout",
     "output_type": "stream",
     "text": [
      "5\n",
      "test set\n",
      "R^2: 0.348 +/- 0.079\n",
      "MAE: 1.25 +/- 0.17\n",
      "RMSE: 1.56 +/- 0.21\n",
      "6\n",
      "test set\n",
      "R^2: 0.342 +/- 0.075\n",
      "MAE: 1.26 +/- 0.17\n",
      "RMSE: 1.56 +/- 0.2\n",
      "7\n",
      "test set\n",
      "R^2: 0.35 +/- 0.069\n",
      "MAE: 1.25 +/- 0.17\n",
      "RMSE: 1.56 +/- 0.2\n",
      "8\n",
      "test set\n",
      "R^2: 0.347 +/- 0.073\n",
      "MAE: 1.25 +/- 0.17\n",
      "RMSE: 1.56 +/- 0.2\n",
      "9\n",
      "test set\n",
      "R^2: 0.347 +/- 0.077\n",
      "MAE: 1.25 +/- 0.17\n",
      "RMSE: 1.56 +/- 0.21\n",
      "10\n",
      "test set\n",
      "R^2: 0.348 +/- 0.076\n",
      "MAE: 1.25 +/- 0.17\n",
      "RMSE: 1.56 +/- 0.21\n",
      "11\n",
      "test set\n",
      "R^2: 0.348 +/- 0.076\n",
      "MAE: 1.25 +/- 0.17\n",
      "RMSE: 1.56 +/- 0.21\n"
     ]
    }
   ],
   "source": [
    "n_estimators = [200, 250, 300]\n",
    "subsample = [0.1, 0.2, 0.3]\n",
    "learning_rate = [0.02, 0.01, 0.03]\n",
    "max_depth = [5, 6, 7, 8, 9 , 10, 11]\n",
    "\n",
    "for x in max_depth:\n",
    "    print(x)\n",
    "    gb = GradientBoostingRegressor(learning_rate = 0.01, subsample =0.2, n_estimators = 250, max_depth=7, random_state=20)\n",
    "    gb.fit(x_train, y_train.values.ravel())\n",
    "    print('test set')\n",
    "    model_metrics(gb, x_test, y_test, cv=5)"
   ]
  },
  {
   "cell_type": "code",
   "execution_count": 9,
   "id": "4a2e6eb0",
   "metadata": {},
   "outputs": [
    {
     "name": "stdout",
     "output_type": "stream",
     "text": [
      "training set\n",
      "R^2: 0.47 +/- 0.03\n",
      "MAE: 1.09 +/- 0.04\n",
      "RMSE: 1.36 +/- 0.04\n",
      "test set\n",
      "R^2: 0.35 +/- 0.07\n",
      "MAE: 1.25 +/- 0.17\n",
      "RMSE: 1.56 +/- 0.2\n"
     ]
    }
   ],
   "source": [
    "gb = GradientBoostingRegressor(learning_rate = 0.01, subsample =0.2, n_estimators = 250, max_depth=7, random_state=20)\n",
    "gb.fit(x_train, y_train.values.ravel())\n",
    "print('training set')\n",
    "R2_train, R2_SEM_train, RMSE_train, RMSE_SEM_train = model_metrics(gb, x_train, y_train, cv=5)\n",
    "print('test set')\n",
    "R2_test, R2_SEM_test, RMSE_test, RMSE_SEM_test = model_metrics(gb, x_test, y_test, cv=5)\n",
    "\n",
    "# save the model\n",
    "dump(gb, open('gb_mfcounts_standardized_above10.pkl', 'wb'))"
   ]
  },
  {
   "cell_type": "code",
   "execution_count": 8,
   "id": "dc3b13cb",
   "metadata": {},
   "outputs": [
    {
     "name": "stdout",
     "output_type": "stream",
     "text": [
      "16.246745166044597\n",
      "16.30684851774687\n"
     ]
    }
   ],
   "source": [
    "gb_predictions_test = gb.predict(x_test)\n",
    "gb_predictions_train = gb.predict(x_train)\n",
    "\n",
    "print(gb_predictions_test.max())\n",
    "print(gb_predictions_train.max())"
   ]
  },
  {
   "cell_type": "code",
   "execution_count": 10,
   "id": "9ba74e6e-f046-4552-953e-42462299340f",
   "metadata": {},
   "outputs": [
    {
     "data": {
      "image/png": "[encoded data removed]",
      "text/plain": [
       "<Figure size 396x360 with 1 Axes>"
      ]
     },
     "metadata": {
      "needs_background": "light"
     },
     "output_type": "display_data"
    }
   ],
   "source": [
    "fig, ax = plt.subplots(figsize = (5.5, 5))\n",
    "ax.scatter(gb_predictions_train, y_train, color = '#882255')\n",
    "ax.scatter(gb_predictions_test, y_test, color = '#44AA99')\n",
    "\n",
    "\n",
    "#ax.plot(sTDA_HOMOs_array, m*sTDA_HOMOs_array + b, color='c', linewidth=5)\n",
    "\n",
    "# x=y line\n",
    "lims = [\n",
    "    np.min([ax.get_xlim(), ax.get_ylim()]),  # min of both axes\n",
    "    np.max([ax.get_xlim(), ax.get_ylim()]),  # max of both axes\n",
    "]\n",
    "\n",
    "# now plot both limits against eachother\n",
    "ax.plot(lims, lims, 'k-', alpha=0.75, zorder=0)\n",
    "\n",
    "ax.set_ylabel('Experimental PCE (%)', labelpad=10, weight='bold', size=16)\n",
    "ax.set_xlabel('Predicted PCE (%)', labelpad=10, weight='bold', size=16)\n",
    "ax.tick_params(axis = 'x', labelsize=14)\n",
    "ax.tick_params(axis = 'y', labelsize=14)\n",
    "\n",
    "\n",
    "text_train = 'Training Set\\n$R^2$=' + str(R2_train) + '$\\pm$' + str(R2_SEM_train) + '\\nRMSE=' + str(RMSE_train)+ '$\\pm$' + str(RMSE_SEM_train)\n",
    "text_test = 'Test Set\\n$R^2$=' + str(R2_test) + '$\\pm$' + str(R2_SEM_test) + '\\nRMSE=' + str(RMSE_test)+ '$\\pm$' + str(RMSE_SEM_test)\n",
    "\n",
    "ax.text(15.4, 11.5, text_train, ha='left', size=13, color='#882255')\n",
    "ax.text(15.4, 9.5, text_test, ha='left', size=13, color='#44AA99')\n",
    "ax.set_aspect('equal')\n",
    "plt.tight_layout()\n",
    "\n",
    "plt.savefig('gb_predictions_scatter_MFcounts_standardized.pdf', dpi=600)\n",
    "plt.savefig('gb_predictions_scatter_MFcounts_standardized.png', dpi=600)\n",
    "plt.show()"
   ]
  },
  {
   "cell_type": "markdown",
   "id": "785b5532",
   "metadata": {},
   "source": [
    "### XGBRFR"
   ]
  },
  {
   "cell_type": "code",
   "execution_count": 28,
   "id": "2e995163",
   "metadata": {},
   "outputs": [
    {
     "name": "stdout",
     "output_type": "stream",
     "text": [
      "0.03\n",
      "test set\n",
      "R^2: 0.363 +/- 0.065\n",
      "MAE: 1.23 +/- 0.17\n",
      "RMSE: 1.54 +/- 0.21\n",
      "0.04\n",
      "test set\n",
      "R^2: 0.373 +/- 0.066\n",
      "MAE: 1.22 +/- 0.17\n",
      "RMSE: 1.53 +/- 0.21\n",
      "0.05\n",
      "test set\n",
      "R^2: 0.356 +/- 0.072\n",
      "MAE: 1.24 +/- 0.17\n",
      "RMSE: 1.55 +/- 0.21\n"
     ]
    }
   ],
   "source": [
    "n_estimators = [75, 100, 150]\n",
    "subsample = [0.1, 0.2, 0.3, 0.4, 0.5, 0.6]\n",
    "colsample_bynode = [0.03, 0.04, 0.05]\n",
    "\n",
    "for x in colsample_bynode:\n",
    "    print(x)\n",
    "    xgbrfr = XGBRFRegressor(n_estimators=75, subsample=0.4, colsample_bynode=0.04, random_state=22)\n",
    "    xgbrfr.fit(x_train, y_train.values.ravel())\n",
    "    print('test set')\n",
    "    model_metrics(xgbrfr, x_test, y_test, cv=5)"
   ]
  },
  {
   "cell_type": "code",
   "execution_count": 19,
   "id": "8226f0c0",
   "metadata": {
    "collapsed": true,
    "jupyter": {
     "outputs_hidden": true
    },
    "tags": []
   },
   "outputs": [
    {
     "ename": "XGBoostError",
     "evalue": "sklearn needs to be installed in order to use this module",
     "output_type": "error",
     "traceback": [
      "\u001b[1;31m---------------------------------------------------------------------------\u001b[0m",
      "\u001b[1;31mXGBoostError\u001b[0m                              Traceback (most recent call last)",
      "\u001b[1;32m<ipython-input-19-270156d08e62>\u001b[0m in \u001b[0;36m<module>\u001b[1;34m\u001b[0m\n\u001b[1;32m----> 1\u001b[1;33m \u001b[0mxgbrfr\u001b[0m \u001b[1;33m=\u001b[0m \u001b[0mXGBRFRegressor\u001b[0m\u001b[1;33m(\u001b[0m\u001b[0mn_estimators\u001b[0m\u001b[1;33m=\u001b[0m\u001b[1;36m75\u001b[0m\u001b[1;33m,\u001b[0m \u001b[0msubsample\u001b[0m\u001b[1;33m=\u001b[0m\u001b[1;36m0.4\u001b[0m\u001b[1;33m,\u001b[0m \u001b[0mcolsample_bynode\u001b[0m\u001b[1;33m=\u001b[0m\u001b[1;36m0.04\u001b[0m\u001b[1;33m,\u001b[0m \u001b[0mrandom_state\u001b[0m\u001b[1;33m=\u001b[0m\u001b[1;36m22\u001b[0m\u001b[1;33m)\u001b[0m\u001b[1;33m\u001b[0m\u001b[1;33m\u001b[0m\u001b[0m\n\u001b[0m\u001b[0;32m      2\u001b[0m \u001b[0mxgbrfr\u001b[0m\u001b[1;33m.\u001b[0m\u001b[0mfit\u001b[0m\u001b[1;33m(\u001b[0m\u001b[0mx_train\u001b[0m\u001b[1;33m,\u001b[0m \u001b[0my_train\u001b[0m\u001b[1;33m.\u001b[0m\u001b[0mvalues\u001b[0m\u001b[1;33m.\u001b[0m\u001b[0mravel\u001b[0m\u001b[1;33m(\u001b[0m\u001b[1;33m)\u001b[0m\u001b[1;33m)\u001b[0m\u001b[1;33m\u001b[0m\u001b[1;33m\u001b[0m\u001b[0m\n\u001b[0;32m      3\u001b[0m \u001b[0mprint\u001b[0m\u001b[1;33m(\u001b[0m\u001b[1;34m'training set'\u001b[0m\u001b[1;33m)\u001b[0m\u001b[1;33m\u001b[0m\u001b[1;33m\u001b[0m\u001b[0m\n\u001b[0;32m      4\u001b[0m \u001b[0mmodel_metrics\u001b[0m\u001b[1;33m(\u001b[0m\u001b[0mxgbrfr\u001b[0m\u001b[1;33m,\u001b[0m \u001b[0mx_train\u001b[0m\u001b[1;33m,\u001b[0m \u001b[0my_train\u001b[0m\u001b[1;33m,\u001b[0m \u001b[0mcv\u001b[0m\u001b[1;33m=\u001b[0m\u001b[1;36m5\u001b[0m\u001b[1;33m)\u001b[0m\u001b[1;33m\u001b[0m\u001b[1;33m\u001b[0m\u001b[0m\n\u001b[0;32m      5\u001b[0m \u001b[0mprint\u001b[0m\u001b[1;33m(\u001b[0m\u001b[1;34m'test set'\u001b[0m\u001b[1;33m)\u001b[0m\u001b[1;33m\u001b[0m\u001b[1;33m\u001b[0m\u001b[0m\n",
      "\u001b[1;32m~\\anaconda3\\lib\\site-packages\\xgboost\\core.py\u001b[0m in \u001b[0;36minner_f\u001b[1;34m(*args, **kwargs)\u001b[0m\n\u001b[0;32m    504\u001b[0m         \u001b[1;32mfor\u001b[0m \u001b[0mk\u001b[0m\u001b[1;33m,\u001b[0m \u001b[0marg\u001b[0m \u001b[1;32min\u001b[0m \u001b[0mzip\u001b[0m\u001b[1;33m(\u001b[0m\u001b[0msig\u001b[0m\u001b[1;33m.\u001b[0m\u001b[0mparameters\u001b[0m\u001b[1;33m,\u001b[0m \u001b[0margs\u001b[0m\u001b[1;33m)\u001b[0m\u001b[1;33m:\u001b[0m\u001b[1;33m\u001b[0m\u001b[1;33m\u001b[0m\u001b[0m\n\u001b[0;32m    505\u001b[0m             \u001b[0mkwargs\u001b[0m\u001b[1;33m[\u001b[0m\u001b[0mk\u001b[0m\u001b[1;33m]\u001b[0m \u001b[1;33m=\u001b[0m \u001b[0marg\u001b[0m\u001b[1;33m\u001b[0m\u001b[1;33m\u001b[0m\u001b[0m\n\u001b[1;32m--> 506\u001b[1;33m         \u001b[1;32mreturn\u001b[0m \u001b[0mf\u001b[0m\u001b[1;33m(\u001b[0m\u001b[1;33m**\u001b[0m\u001b[0mkwargs\u001b[0m\u001b[1;33m)\u001b[0m\u001b[1;33m\u001b[0m\u001b[1;33m\u001b[0m\u001b[0m\n\u001b[0m\u001b[0;32m    507\u001b[0m \u001b[1;33m\u001b[0m\u001b[0m\n\u001b[0;32m    508\u001b[0m     \u001b[1;32mreturn\u001b[0m \u001b[0minner_f\u001b[0m\u001b[1;33m\u001b[0m\u001b[1;33m\u001b[0m\u001b[0m\n",
      "\u001b[1;32m~\\anaconda3\\lib\\site-packages\\xgboost\\sklearn.py\u001b[0m in \u001b[0;36m__init__\u001b[1;34m(self, learning_rate, subsample, colsample_bynode, reg_lambda, **kwargs)\u001b[0m\n\u001b[0;32m   1494\u001b[0m         \u001b[1;33m**\u001b[0m\u001b[0mkwargs\u001b[0m\u001b[1;33m:\u001b[0m \u001b[0mAny\u001b[0m\u001b[1;33m\u001b[0m\u001b[1;33m\u001b[0m\u001b[0m\n\u001b[0;32m   1495\u001b[0m     ) -> None:\n\u001b[1;32m-> 1496\u001b[1;33m         super().__init__(\n\u001b[0m\u001b[0;32m   1497\u001b[0m             \u001b[0mlearning_rate\u001b[0m\u001b[1;33m=\u001b[0m\u001b[0mlearning_rate\u001b[0m\u001b[1;33m,\u001b[0m\u001b[1;33m\u001b[0m\u001b[1;33m\u001b[0m\u001b[0m\n\u001b[0;32m   1498\u001b[0m             \u001b[0msubsample\u001b[0m\u001b[1;33m=\u001b[0m\u001b[0msubsample\u001b[0m\u001b[1;33m,\u001b[0m\u001b[1;33m\u001b[0m\u001b[1;33m\u001b[0m\u001b[0m\n",
      "\u001b[1;32m~\\anaconda3\\lib\\site-packages\\xgboost\\core.py\u001b[0m in \u001b[0;36minner_f\u001b[1;34m(*args, **kwargs)\u001b[0m\n\u001b[0;32m    504\u001b[0m         \u001b[1;32mfor\u001b[0m \u001b[0mk\u001b[0m\u001b[1;33m,\u001b[0m \u001b[0marg\u001b[0m \u001b[1;32min\u001b[0m \u001b[0mzip\u001b[0m\u001b[1;33m(\u001b[0m\u001b[0msig\u001b[0m\u001b[1;33m.\u001b[0m\u001b[0mparameters\u001b[0m\u001b[1;33m,\u001b[0m \u001b[0margs\u001b[0m\u001b[1;33m)\u001b[0m\u001b[1;33m:\u001b[0m\u001b[1;33m\u001b[0m\u001b[1;33m\u001b[0m\u001b[0m\n\u001b[0;32m    505\u001b[0m             \u001b[0mkwargs\u001b[0m\u001b[1;33m[\u001b[0m\u001b[0mk\u001b[0m\u001b[1;33m]\u001b[0m \u001b[1;33m=\u001b[0m \u001b[0marg\u001b[0m\u001b[1;33m\u001b[0m\u001b[1;33m\u001b[0m\u001b[0m\n\u001b[1;32m--> 506\u001b[1;33m         \u001b[1;32mreturn\u001b[0m \u001b[0mf\u001b[0m\u001b[1;33m(\u001b[0m\u001b[1;33m**\u001b[0m\u001b[0mkwargs\u001b[0m\u001b[1;33m)\u001b[0m\u001b[1;33m\u001b[0m\u001b[1;33m\u001b[0m\u001b[0m\n\u001b[0m\u001b[0;32m    507\u001b[0m \u001b[1;33m\u001b[0m\u001b[0m\n\u001b[0;32m    508\u001b[0m     \u001b[1;32mreturn\u001b[0m \u001b[0minner_f\u001b[0m\u001b[1;33m\u001b[0m\u001b[1;33m\u001b[0m\u001b[0m\n",
      "\u001b[1;32m~\\anaconda3\\lib\\site-packages\\xgboost\\sklearn.py\u001b[0m in \u001b[0;36m__init__\u001b[1;34m(self, objective, **kwargs)\u001b[0m\n\u001b[0;32m   1473\u001b[0m         \u001b[0mself\u001b[0m\u001b[1;33m,\u001b[0m \u001b[1;33m*\u001b[0m\u001b[1;33m,\u001b[0m \u001b[0mobjective\u001b[0m\u001b[1;33m:\u001b[0m \u001b[0m_SklObjective\u001b[0m \u001b[1;33m=\u001b[0m \u001b[1;34m\"reg:squarederror\"\u001b[0m\u001b[1;33m,\u001b[0m \u001b[1;33m**\u001b[0m\u001b[0mkwargs\u001b[0m\u001b[1;33m:\u001b[0m \u001b[0mAny\u001b[0m\u001b[1;33m\u001b[0m\u001b[1;33m\u001b[0m\u001b[0m\n\u001b[0;32m   1474\u001b[0m     ) -> None:\n\u001b[1;32m-> 1475\u001b[1;33m         \u001b[0msuper\u001b[0m\u001b[1;33m(\u001b[0m\u001b[1;33m)\u001b[0m\u001b[1;33m.\u001b[0m\u001b[0m__init__\u001b[0m\u001b[1;33m(\u001b[0m\u001b[0mobjective\u001b[0m\u001b[1;33m=\u001b[0m\u001b[0mobjective\u001b[0m\u001b[1;33m,\u001b[0m \u001b[1;33m**\u001b[0m\u001b[0mkwargs\u001b[0m\u001b[1;33m)\u001b[0m\u001b[1;33m\u001b[0m\u001b[1;33m\u001b[0m\u001b[0m\n\u001b[0m\u001b[0;32m   1476\u001b[0m \u001b[1;33m\u001b[0m\u001b[0m\n\u001b[0;32m   1477\u001b[0m \u001b[1;33m\u001b[0m\u001b[0m\n",
      "\u001b[1;32m~\\anaconda3\\lib\\site-packages\\xgboost\\sklearn.py\u001b[0m in \u001b[0;36m__init__\u001b[1;34m(self, max_depth, learning_rate, n_estimators, verbosity, objective, booster, tree_method, n_jobs, gamma, min_child_weight, max_delta_step, subsample, colsample_bytree, colsample_bylevel, colsample_bynode, reg_alpha, reg_lambda, scale_pos_weight, base_score, random_state, missing, num_parallel_tree, monotone_constraints, interaction_constraints, importance_type, gpu_id, validate_parameters, predictor, enable_categorical, **kwargs)\u001b[0m\n\u001b[0;32m    403\u001b[0m     ) -> None:\n\u001b[0;32m    404\u001b[0m         \u001b[1;32mif\u001b[0m \u001b[1;32mnot\u001b[0m \u001b[0mSKLEARN_INSTALLED\u001b[0m\u001b[1;33m:\u001b[0m\u001b[1;33m\u001b[0m\u001b[1;33m\u001b[0m\u001b[0m\n\u001b[1;32m--> 405\u001b[1;33m             raise XGBoostError(\n\u001b[0m\u001b[0;32m    406\u001b[0m                 \u001b[1;34m\"sklearn needs to be installed in order to use this module\"\u001b[0m\u001b[1;33m\u001b[0m\u001b[1;33m\u001b[0m\u001b[0m\n\u001b[0;32m    407\u001b[0m             )\n",
      "\u001b[1;31mXGBoostError\u001b[0m: sklearn needs to be installed in order to use this module"
     ]
    }
   ],
   "source": [
    "xgbrfr = XGBRFRegressor(n_estimators=75, subsample=0.4, colsample_bynode=0.04, random_state=22)\n",
    "xgbrfr.fit(x_train, y_train.values.ravel())\n",
    "print('training set')\n",
    "model_metrics(xgbrfr, x_train, y_train, cv=5)\n",
    "print('test set')\n",
    "model_metrics(xgbrfr, x_test, y_test, cv=5)\n",
    "\n",
    "# save the model\n",
    "dump(xgbrfr, open('xgbrfr_mfcounts_standardized_above10.pkl', 'wb'))"
   ]
  },
  {
   "cell_type": "code",
   "execution_count": 20,
   "id": "8bd20b47",
   "metadata": {},
   "outputs": [],
   "source": [
    "xgbrfr_predictions_test = xgbrfr.predict(x_test)"
   ]
  },
  {
   "cell_type": "markdown",
   "id": "6ea4b4e0",
   "metadata": {},
   "source": [
    "### SVR"
   ]
  },
  {
   "cell_type": "code",
   "execution_count": 36,
   "id": "acf67fdd",
   "metadata": {
    "collapsed": true,
    "jupyter": {
     "outputs_hidden": true
    },
    "tags": []
   },
   "outputs": [
    {
     "name": "stdout",
     "output_type": "stream",
     "text": [
      "0.75\n",
      "test set\n",
      "R^2: 0.193 +/- 0.116\n",
      "MAE: 1.38 +/- 0.14\n",
      "RMSE: 1.7 +/- 0.2\n",
      "0.9\n",
      "test set\n",
      "R^2: 0.191 +/- 0.111\n",
      "MAE: 1.39 +/- 0.15\n",
      "RMSE: 1.7 +/- 0.2\n",
      "1\n",
      "test set\n",
      "R^2: 0.188 +/- 0.108\n",
      "MAE: 1.39 +/- 0.15\n",
      "RMSE: 1.71 +/- 0.2\n",
      "1.5\n",
      "test set\n",
      "R^2: 0.149 +/- 0.083\n",
      "MAE: 1.43 +/- 0.15\n",
      "RMSE: 1.76 +/- 0.2\n",
      "3\n",
      "test set\n",
      "R^2: -0.154 +/- 0.113\n",
      "MAE: 1.73 +/- 0.17\n",
      "RMSE: 2.01 +/- 0.17\n"
     ]
    }
   ],
   "source": [
    "C = [1, 10, 15, 20]\n",
    "epsilon = [0.75, 0.9, 1, 1.5, 3]\n",
    "for x in epsilon:\n",
    "    print(x)\n",
    "    svr_rbf = SVR(kernel=\"rbf\", C=1, gamma='auto', epsilon=0.75)\n",
    "    svr_rbf.fit(x_train, y_train.values.ravel())\n",
    "    print('test set')\n",
    "    model_metrics(svr_rbf, x_test, y_test, cv=5)"
   ]
  },
  {
   "cell_type": "code",
   "execution_count": 16,
   "id": "fc84e679",
   "metadata": {},
   "outputs": [
    {
     "name": "stdout",
     "output_type": "stream",
     "text": [
      "training set\n",
      "R^2: 0.4 +/- 0.02\n",
      "MAE: 1.15 +/- 0.02\n",
      "RMSE: 1.45 +/- 0.03\n",
      "test set\n",
      "R^2: 0.19 +/- 0.12\n",
      "MAE: 1.38 +/- 0.14\n",
      "RMSE: 1.7 +/- 0.2\n"
     ]
    }
   ],
   "source": [
    "svr_rbf = SVR(kernel=\"rbf\", C=1, gamma='auto', epsilon=0.75)\n",
    "svr_rbf.fit(x_train, y_train.values.ravel())\n",
    "print('training set')\n",
    "model_metrics(svr_rbf, x_train, y_train, cv=5)\n",
    "print('test set')\n",
    "model_metrics(svr_rbf, x_test, y_test, cv=5)\n",
    "\n",
    "# save the model\n",
    "dump(svr_rbf, open('svr_mfcounts_standardized_above10.pkl', 'wb'))"
   ]
  },
  {
   "cell_type": "code",
   "execution_count": 17,
   "id": "84ed35ba",
   "metadata": {},
   "outputs": [
    {
     "name": "stdout",
     "output_type": "stream",
     "text": [
      "15.08194630080704\n",
      "15.151454502260917\n"
     ]
    }
   ],
   "source": [
    "svr_rbf_predictions_test = svr_rbf.predict(x_test)\n",
    "svr_rbf_predictions_train = svr_rbf.predict(x_train)\n",
    "\n",
    "print(svr_rbf_predictions_test.max())\n",
    "print(svr_rbf_predictions_train.max())"
   ]
  },
  {
   "cell_type": "markdown",
   "id": "a4134de0",
   "metadata": {},
   "source": [
    "### KNN"
   ]
  },
  {
   "cell_type": "code",
   "execution_count": 38,
   "id": "49a2fdc1",
   "metadata": {},
   "outputs": [
    {
     "name": "stdout",
     "output_type": "stream",
     "text": [
      "2\n",
      "test set\n",
      "R^2: -0.186 +/- 0.091\n",
      "MAE: 1.66 +/- 0.14\n",
      "RMSE: 2.06 +/- 0.21\n",
      "3\n",
      "test set\n",
      "R^2: -0.004 +/- 0.129\n",
      "MAE: 1.51 +/- 0.14\n",
      "RMSE: 1.87 +/- 0.2\n",
      "4\n",
      "test set\n",
      "R^2: 0.165 +/- 0.108\n",
      "MAE: 1.42 +/- 0.14\n",
      "RMSE: 1.7 +/- 0.16\n",
      "5\n",
      "test set\n",
      "R^2: 0.196 +/- 0.131\n",
      "MAE: 1.38 +/- 0.15\n",
      "RMSE: 1.68 +/- 0.19\n",
      "6\n",
      "test set\n",
      "R^2: 0.177 +/- 0.161\n",
      "MAE: 1.38 +/- 0.17\n",
      "RMSE: 1.68 +/- 0.21\n",
      "7\n",
      "test set\n",
      "R^2: 0.167 +/- 0.18\n",
      "MAE: 1.39 +/- 0.18\n",
      "RMSE: 1.68 +/- 0.22\n",
      "8\n",
      "test set\n",
      "R^2: 0.196 +/- 0.161\n",
      "MAE: 1.37 +/- 0.16\n",
      "RMSE: 1.65 +/- 0.2\n",
      "9\n",
      "test set\n",
      "R^2: 0.163 +/- 0.168\n",
      "MAE: 1.39 +/- 0.16\n",
      "RMSE: 1.69 +/- 0.21\n",
      "10\n",
      "test set\n",
      "R^2: 0.18 +/- 0.163\n",
      "MAE: 1.38 +/- 0.16\n",
      "RMSE: 1.68 +/- 0.21\n",
      "11\n",
      "test set\n",
      "R^2: 0.184 +/- 0.171\n",
      "MAE: 1.37 +/- 0.17\n",
      "RMSE: 1.68 +/- 0.23\n",
      "12\n",
      "test set\n",
      "R^2: 0.181 +/- 0.164\n",
      "MAE: 1.37 +/- 0.18\n",
      "RMSE: 1.69 +/- 0.22\n"
     ]
    }
   ],
   "source": [
    "neighbors = [2, 3, 4, 5, 6, 7, 8, 9, 10, 11, 12]\n",
    "for n in neighbors:\n",
    "    print(n)\n",
    "    knn = KNeighborsRegressor(n_neighbors=n)\n",
    "    knn.fit(x_train, y_train.values.ravel())\n",
    "    print('test set')\n",
    "    model_metrics(knn, x_test, y_test, cv=5)"
   ]
  },
  {
   "cell_type": "code",
   "execution_count": 18,
   "id": "29aff4dc",
   "metadata": {},
   "outputs": [
    {
     "name": "stdout",
     "output_type": "stream",
     "text": [
      "training set\n",
      "R^2: 0.38 +/- 0.03\n",
      "MAE: 1.17 +/- 0.02\n",
      "RMSE: 1.47 +/- 0.02\n",
      "test set\n",
      "R^2: 0.2 +/- 0.16\n",
      "MAE: 1.37 +/- 0.16\n",
      "RMSE: 1.65 +/- 0.2\n"
     ]
    }
   ],
   "source": [
    "knn = KNeighborsRegressor(n_neighbors=8)\n",
    "knn.fit(x_train, y_train.values.ravel())\n",
    "print('training set')\n",
    "model_metrics(knn, x_train, y_train, cv=5)\n",
    "print('test set')\n",
    "model_metrics(knn, x_test, y_test, cv=5)\n",
    "\n",
    "# save the model\n",
    "dump(knn, open('knn_mfcounts_standardized_above10.pkl', 'wb'))"
   ]
  },
  {
   "cell_type": "code",
   "execution_count": 19,
   "id": "fbb3e826",
   "metadata": {},
   "outputs": [
    {
     "name": "stdout",
     "output_type": "stream",
     "text": [
      "16.353749999999998\n",
      "16.415\n"
     ]
    }
   ],
   "source": [
    "knn_predictions_test = knn.predict(x_test)\n",
    "knn_predictions_train = knn.predict(x_train)\n",
    "\n",
    "print(knn_predictions_test.max())\n",
    "print(knn_predictions_train.max())"
   ]
  },
  {
   "cell_type": "markdown",
   "id": "08073f8f",
   "metadata": {},
   "source": [
    "### lightGBM"
   ]
  },
  {
   "cell_type": "code",
   "execution_count": 43,
   "id": "a581cd40",
   "metadata": {
    "collapsed": true,
    "jupyter": {
     "outputs_hidden": true
    },
    "tags": []
   },
   "outputs": [
    {
     "name": "stdout",
     "output_type": "stream",
     "text": [
      "0.25\n",
      "test set\n",
      "R^2: 0.323 +/- 0.065\n",
      "MAE: 1.29 +/- 0.16\n",
      "RMSE: 1.58 +/- 0.19\n",
      "0.3\n",
      "test set\n",
      "R^2: 0.289 +/- 0.057\n",
      "MAE: 1.32 +/- 0.16\n",
      "RMSE: 1.62 +/- 0.19\n",
      "0.4\n",
      "test set\n",
      "R^2: 0.249 +/- 0.076\n",
      "MAE: 1.35 +/- 0.16\n",
      "RMSE: 1.65 +/- 0.19\n",
      "0.5\n",
      "test set\n",
      "R^2: 0.192 +/- 0.066\n",
      "MAE: 1.41 +/- 0.17\n",
      "RMSE: 1.72 +/- 0.19\n",
      "0.6\n",
      "test set\n",
      "R^2: 0.104 +/- 0.073\n",
      "MAE: 1.45 +/- 0.14\n",
      "RMSE: 1.78 +/- 0.15\n"
     ]
    }
   ],
   "source": [
    "n_estimators=[5, 6, 7, 8, 9, 10, 11, 12, 13, 14, 15, 50, 100]\n",
    "max_depth = [3, 5, 7, 10]\n",
    "learning_rates = [0.25, 0.3, 0.4, 0.5, 0.6]\n",
    "for x in learning_rates:\n",
    "    print(x)\n",
    "    lgbm = LGBMRegressor(n_estimators=11, max_depth=3, num_leaves=2**3, learning_rate=0.25)\n",
    "    lgbm.fit(x_train, y_train.values.ravel())\n",
    "    print('test set')\n",
    "    model_metrics(lgbm, x_test, y_test, cv=5)"
   ]
  },
  {
   "cell_type": "code",
   "execution_count": 20,
   "id": "36c90f3a",
   "metadata": {},
   "outputs": [
    {
     "name": "stdout",
     "output_type": "stream",
     "text": [
      "training set\n",
      "R^2: 0.45 +/- 0.03\n",
      "MAE: 1.09 +/- 0.02\n",
      "RMSE: 1.39 +/- 0.04\n",
      "test set\n",
      "R^2: 0.32 +/- 0.07\n",
      "MAE: 1.29 +/- 0.16\n",
      "RMSE: 1.58 +/- 0.19\n"
     ]
    }
   ],
   "source": [
    "lgbm = LGBMRegressor(n_estimators=11, max_depth=3, num_leaves=2**3, learning_rate=0.25)\n",
    "lgbm.fit(x_train, y_train.values.ravel())\n",
    "print('training set')\n",
    "model_metrics(lgbm, x_train, y_train, cv=5)\n",
    "print('test set')\n",
    "model_metrics(lgbm, x_test, y_test, cv=5)\n",
    "\n",
    "# save the model\n",
    "dump(lgbm, open('lgbm_mfcounts_standardized_above10.pkl', 'wb'))"
   ]
  },
  {
   "cell_type": "code",
   "execution_count": 21,
   "id": "1534e9b1",
   "metadata": {},
   "outputs": [
    {
     "name": "stdout",
     "output_type": "stream",
     "text": [
      "16.084952770940486\n",
      "16.1767111612109\n"
     ]
    }
   ],
   "source": [
    "lgbm_predictions_test = lgbm.predict(x_test)\n",
    "lgbm_predictions_train = lgbm.predict(x_train)\n",
    "\n",
    "print(lgbm_predictions_test.max())\n",
    "print(lgbm_predictions_train.max())"
   ]
  },
  {
   "cell_type": "markdown",
   "id": "056892af",
   "metadata": {},
   "source": [
    "### ANN"
   ]
  },
  {
   "cell_type": "code",
   "execution_count": 47,
   "id": "d327de7e",
   "metadata": {},
   "outputs": [
    {
     "name": "stdout",
     "output_type": "stream",
     "text": [
      "training set\n",
      "R^2: 0.036 +/- 0.171\n",
      "MAE: 1.35 +/- 0.1\n",
      "RMSE: 1.8 +/- 0.15\n",
      "test set\n",
      "R^2: -0.587 +/- 0.351\n",
      "MAE: 1.72 +/- 0.03\n",
      "RMSE: 2.21 +/- 0.06\n"
     ]
    }
   ],
   "source": [
    "ann = MLPRegressor(random_state=1, max_iter=500)\n",
    "ann.fit(x_train, y_train.values.ravel())\n",
    "print('training set')\n",
    "model_metrics(ann, x_train, y_train, cv=5)\n",
    "print('test set')\n",
    "model_metrics(ann, x_test, y_test, cv=5)"
   ]
  },
  {
   "cell_type": "code",
   "execution_count": 48,
   "id": "abd784b3",
   "metadata": {},
   "outputs": [
    {
     "name": "stdout",
     "output_type": "stream",
     "text": [
      "Fitting 3 folds for each of 36 candidates, totalling 108 fits\n"
     ]
    },
    {
     "data": {
      "text/plain": [
       "{'activation': 'relu',\n",
       " 'alpha': 0.0001,\n",
       " 'hidden_layer_sizes': (50, 50, 50),\n",
       " 'learning_rate': 'adaptive',\n",
       " 'solver': 'adam'}"
      ]
     },
     "execution_count": 48,
     "metadata": {},
     "output_type": "execute_result"
    }
   ],
   "source": [
    "ann = MLPRegressor()\n",
    "param_grid = {'hidden_layer_sizes': [(50,50,50), (50,100,50), (100,1)],\n",
    "          'activation': ['relu','tanh','logistic'],\n",
    "          'alpha': [0.0001, 0.05],\n",
    "          'learning_rate': ['constant','adaptive'],\n",
    "          'solver': ['adam']}\n",
    "\n",
    "\n",
    "grid_search = GridSearchCV(estimator = ann, param_grid = param_grid, \n",
    "                          cv = 3, n_jobs = -1, verbose = 2)\n",
    "grid_search.fit(x_train, y_train)\n",
    "grid_search.best_params_"
   ]
  },
  {
   "cell_type": "code",
   "execution_count": 22,
   "id": "2c39279f",
   "metadata": {},
   "outputs": [
    {
     "name": "stdout",
     "output_type": "stream",
     "text": [
      "training set\n",
      "R^2: 0.04 +/- 0.12\n",
      "MAE: 1.32 +/- 0.08\n",
      "RMSE: 1.69 +/- 0.14\n",
      "test set\n",
      "R^2: -0.51 +/- 0.48\n",
      "MAE: 1.6 +/- 0.07\n",
      "RMSE: 2.07 +/- 0.07\n"
     ]
    }
   ],
   "source": [
    "ann = MLPRegressor(hidden_layer_sizes = (50, 50, 50), learning_rate = 'adaptive', random_state=14, max_iter=500)\n",
    "ann.fit(x_train, y_train.values.ravel())\n",
    "print('training set')\n",
    "model_metrics(ann, x_train, y_train, cv=5)\n",
    "print('test set')\n",
    "model_metrics(ann, x_test, y_test, cv=5)\n",
    "\n",
    "# save the model\n",
    "dump(ann, open('ann_mfcounts_standardized_above10.pkl', 'wb'))"
   ]
  },
  {
   "cell_type": "code",
   "execution_count": 23,
   "id": "0929ef1c",
   "metadata": {},
   "outputs": [
    {
     "name": "stdout",
     "output_type": "stream",
     "text": [
      "16.73551840306628\n",
      "17.772325287009014\n"
     ]
    }
   ],
   "source": [
    "ann_predictions_test = ann.predict(x_test)\n",
    "ann_predictions_train = ann.predict(x_train)\n",
    "\n",
    "print(ann_predictions_test.max())\n",
    "print(ann_predictions_train.max())"
   ]
  },
  {
   "cell_type": "markdown",
   "id": "6c085f96",
   "metadata": {},
   "source": [
    "# Ensemble models"
   ]
  },
  {
   "cell_type": "markdown",
   "id": "d8a2a77d",
   "metadata": {},
   "source": [
    "### Ensemble models with LASSO, just averging the predictions"
   ]
  },
  {
   "cell_type": "code",
   "execution_count": 25,
   "id": "862f5cc6",
   "metadata": {},
   "outputs": [],
   "source": [
    "lasso_rf = []\n",
    "lasso_gb = []\n",
    "lasso_xbg = []\n",
    "lasso_svr = []\n",
    "lasso_knn = []\n",
    "lasso_lgbm = []\n",
    "lasso_ann = []\n",
    "\n",
    "for x in range(len(x_test)):\n",
    "    lasso = lasso_predictions_test[x]\n",
    "    rf = rf_predictions_test[x]\n",
    "    gb = gb_predictions_test[x]\n",
    "    xbg = xgbrfr_predictions_test[x]\n",
    "    svr = svr_predictions_test[x]\n",
    "    knn = knn_predictions_test[x]\n",
    "    lgbm = lgbm_predictions_test[x]\n",
    "    ann = ann_predictions_test[x]\n",
    "    \n",
    "    lasso_rf.append((lasso + rf)/2)\n",
    "    lasso_gb.append((lasso + gb)/2)\n",
    "    lasso_xbg.append((lasso + xbg)/2)\n",
    "    lasso_svr.append((lasso + svr)/2)\n",
    "    lasso_knn.append((lasso + knn)/2)\n",
    "    lasso_lgbm.append((lasso + lgbm)/2)\n",
    "    lasso_ann.append((lasso + ann)/2)"
   ]
  },
  {
   "cell_type": "code",
   "execution_count": 27,
   "id": "b350a5f0",
   "metadata": {},
   "outputs": [
    {
     "name": "stdout",
     "output_type": "stream",
     "text": [
      "Lasso_rf RMSE = 1.362074814023621\n",
      "lasso_gb RMSE = 1.3460401761412288\n",
      "lasso_xbg RMSE = 1.3642269251880397\n",
      "lasso_svr RMSE = 1.41122909032242\n",
      "lasso_knn RMSE = 1.3878441266770054\n",
      "lasso_lgbm RMSE = 1.359949015411596\n",
      "lasso_ann RMSE = 1.3885234696628386\n"
     ]
    }
   ],
   "source": [
    "print('Lasso_rf RMSE = ' + str(mean_squared_error(y_test, lasso_rf, squared=False)))\n",
    "print('lasso_gb RMSE = ' + str(mean_squared_error(y_test, lasso_gb, squared=False)))\n",
    "print('lasso_xbg RMSE = ' + str(mean_squared_error(y_test, lasso_xbg, squared=False)))\n",
    "print('lasso_svr RMSE = ' + str(mean_squared_error(y_test, lasso_svr, squared=False)))\n",
    "print('lasso_knn RMSE = ' + str(mean_squared_error(y_test, lasso_knn, squared=False)))\n",
    "print('lasso_lgbm RMSE = ' + str(mean_squared_error(y_test, lasso_lgbm, squared=False)))\n",
    "print('lasso_ann RMSE = ' + str(mean_squared_error(y_test, lasso_ann, squared=False)))"
   ]
  },
  {
   "cell_type": "markdown",
   "id": "7ced1896",
   "metadata": {},
   "source": [
    "### Lasso & other models ensemble"
   ]
  },
  {
   "cell_type": "markdown",
   "id": "e639065e",
   "metadata": {},
   "source": [
    "Unfit models"
   ]
  },
  {
   "cell_type": "code",
   "execution_count": 24,
   "id": "cae9d88e",
   "metadata": {},
   "outputs": [],
   "source": [
    "lasso_model = Lasso(alpha=0.046476, random_state=14, max_iter=10000)\n",
    "rf_model =RandomForestRegressor(n_estimators=80,max_depth=8, min_samples_split=2, min_samples_leaf=2, max_features=57, random_state=20)\n",
    "gb_model = GradientBoostingRegressor(learning_rate = 0.01, subsample =0.2, n_estimators = 250, max_depth=7, random_state=20)\n",
    "#xgb_model = XGBRFRegressor(n_estimators=75, subsample=0.4, colsample_bynode=0.04, random_state=22)\n",
    "svr_model = SVR(kernel=\"rbf\", C=1, gamma='auto', epsilon=0.75)\n",
    "knn_model = KNeighborsRegressor(n_neighbors=8)\n",
    "lgbm_model = LGBMRegressor(n_estimators=11, max_depth=3, num_leaves=2**3, learning_rate=0.25)\n",
    "ann_model = MLPRegressor(hidden_layer_sizes = (50, 50, 50), learning_rate = 'adaptive', random_state=14, max_iter=500)"
   ]
  },
  {
   "cell_type": "code",
   "execution_count": 21,
   "id": "cb5c3708",
   "metadata": {
    "collapsed": true,
    "jupyter": {
     "outputs_hidden": true
    },
    "tags": []
   },
   "outputs": [
    {
     "name": "stdout",
     "output_type": "stream",
     "text": [
      "em_lasso_rf\n",
      "training set\n"
     ]
    },
    {
     "ename": "KeyboardInterrupt",
     "evalue": "",
     "output_type": "error",
     "traceback": [
      "\u001b[1;31m---------------------------------------------------------------------------\u001b[0m",
      "\u001b[1;31mKeyboardInterrupt\u001b[0m                         Traceback (most recent call last)",
      "\u001b[1;32m<ipython-input-21-11eb485718b3>\u001b[0m in \u001b[0;36m<module>\u001b[1;34m\u001b[0m\n\u001b[0;32m      3\u001b[0m \u001b[0mprint\u001b[0m\u001b[1;33m(\u001b[0m\u001b[1;34m'em_lasso_rf'\u001b[0m\u001b[1;33m)\u001b[0m\u001b[1;33m\u001b[0m\u001b[1;33m\u001b[0m\u001b[0m\n\u001b[0;32m      4\u001b[0m \u001b[0mprint\u001b[0m\u001b[1;33m(\u001b[0m\u001b[1;34m'training set'\u001b[0m\u001b[1;33m)\u001b[0m\u001b[1;33m\u001b[0m\u001b[1;33m\u001b[0m\u001b[0m\n\u001b[1;32m----> 5\u001b[1;33m \u001b[0mmodel_metrics\u001b[0m\u001b[1;33m(\u001b[0m\u001b[0mem_lasso_rf\u001b[0m\u001b[1;33m,\u001b[0m \u001b[0mx_train\u001b[0m\u001b[1;33m,\u001b[0m \u001b[0my_train\u001b[0m\u001b[1;33m,\u001b[0m \u001b[0mcv\u001b[0m\u001b[1;33m=\u001b[0m\u001b[1;36m5\u001b[0m\u001b[1;33m)\u001b[0m\u001b[1;33m\u001b[0m\u001b[1;33m\u001b[0m\u001b[0m\n\u001b[0m\u001b[0;32m      6\u001b[0m \u001b[0mprint\u001b[0m\u001b[1;33m(\u001b[0m\u001b[1;34m'test set'\u001b[0m\u001b[1;33m)\u001b[0m\u001b[1;33m\u001b[0m\u001b[1;33m\u001b[0m\u001b[0m\n\u001b[0;32m      7\u001b[0m \u001b[0mmodel_metrics\u001b[0m\u001b[1;33m(\u001b[0m\u001b[0mem_lasso_rf\u001b[0m\u001b[1;33m,\u001b[0m \u001b[0mx_test\u001b[0m\u001b[1;33m,\u001b[0m \u001b[0my_test\u001b[0m\u001b[1;33m,\u001b[0m \u001b[0mcv\u001b[0m\u001b[1;33m=\u001b[0m\u001b[1;36m5\u001b[0m\u001b[1;33m)\u001b[0m\u001b[1;33m\u001b[0m\u001b[1;33m\u001b[0m\u001b[0m\n",
      "\u001b[1;32m<ipython-input-4-1c58b174e648>\u001b[0m in \u001b[0;36mmodel_metrics\u001b[1;34m(model, X, y, cv)\u001b[0m\n\u001b[0;32m      1\u001b[0m \u001b[1;32mdef\u001b[0m \u001b[0mmodel_metrics\u001b[0m\u001b[1;33m(\u001b[0m\u001b[0mmodel\u001b[0m\u001b[1;33m,\u001b[0m \u001b[0mX\u001b[0m\u001b[1;33m,\u001b[0m \u001b[0my\u001b[0m\u001b[1;33m,\u001b[0m \u001b[0mcv\u001b[0m\u001b[1;33m=\u001b[0m\u001b[1;36m5\u001b[0m\u001b[1;33m)\u001b[0m\u001b[1;33m:\u001b[0m\u001b[1;33m\u001b[0m\u001b[1;33m\u001b[0m\u001b[0m\n\u001b[1;32m----> 2\u001b[1;33m     \u001b[0mscore\u001b[0m \u001b[1;33m=\u001b[0m \u001b[0mcross_val_score\u001b[0m\u001b[1;33m(\u001b[0m\u001b[0mmodel\u001b[0m\u001b[1;33m,\u001b[0m \u001b[0mX\u001b[0m\u001b[1;33m,\u001b[0m \u001b[0my\u001b[0m\u001b[1;33m,\u001b[0m \u001b[0mcv\u001b[0m\u001b[1;33m=\u001b[0m\u001b[0mcv\u001b[0m\u001b[1;33m,\u001b[0m \u001b[0mscoring\u001b[0m \u001b[1;33m=\u001b[0m \u001b[1;34m'r2'\u001b[0m\u001b[1;33m)\u001b[0m\u001b[1;33m\u001b[0m\u001b[1;33m\u001b[0m\u001b[0m\n\u001b[0m\u001b[0;32m      3\u001b[0m     \u001b[0mSEM_r2\u001b[0m \u001b[1;33m=\u001b[0m \u001b[0mround\u001b[0m\u001b[1;33m(\u001b[0m\u001b[1;33m(\u001b[0m\u001b[0mscore\u001b[0m\u001b[1;33m.\u001b[0m\u001b[0mstd\u001b[0m\u001b[1;33m(\u001b[0m\u001b[1;33m)\u001b[0m \u001b[1;33m/\u001b[0m \u001b[0mmath\u001b[0m\u001b[1;33m.\u001b[0m\u001b[0msqrt\u001b[0m\u001b[1;33m(\u001b[0m\u001b[1;36m5\u001b[0m\u001b[1;33m)\u001b[0m\u001b[1;33m)\u001b[0m \u001b[1;33m,\u001b[0m \u001b[1;36m2\u001b[0m\u001b[1;33m)\u001b[0m\u001b[1;33m\u001b[0m\u001b[1;33m\u001b[0m\u001b[0m\n\u001b[0;32m      4\u001b[0m     \u001b[1;31m#r2 = str(round(score.mean(), 3)) + ' +/- ' +  str(SEM_r2)\u001b[0m\u001b[1;33m\u001b[0m\u001b[1;33m\u001b[0m\u001b[1;33m\u001b[0m\u001b[0m\n\u001b[0;32m      5\u001b[0m     \u001b[0mr2\u001b[0m \u001b[1;33m=\u001b[0m \u001b[0mround\u001b[0m\u001b[1;33m(\u001b[0m\u001b[0mfloat\u001b[0m\u001b[1;33m(\u001b[0m\u001b[0mscore\u001b[0m\u001b[1;33m.\u001b[0m\u001b[0mmean\u001b[0m\u001b[1;33m(\u001b[0m\u001b[1;33m)\u001b[0m\u001b[1;33m)\u001b[0m\u001b[1;33m,\u001b[0m \u001b[1;36m2\u001b[0m\u001b[1;33m)\u001b[0m\u001b[1;33m\u001b[0m\u001b[1;33m\u001b[0m\u001b[0m\n",
      "\u001b[1;32m~\\anaconda3\\lib\\site-packages\\sklearn\\model_selection\\_validation.py\u001b[0m in \u001b[0;36mcross_val_score\u001b[1;34m(estimator, X, y, groups, scoring, cv, n_jobs, verbose, fit_params, pre_dispatch, error_score)\u001b[0m\n\u001b[0;32m    507\u001b[0m     \u001b[0mscorer\u001b[0m \u001b[1;33m=\u001b[0m \u001b[0mcheck_scoring\u001b[0m\u001b[1;33m(\u001b[0m\u001b[0mestimator\u001b[0m\u001b[1;33m,\u001b[0m \u001b[0mscoring\u001b[0m\u001b[1;33m=\u001b[0m\u001b[0mscoring\u001b[0m\u001b[1;33m)\u001b[0m\u001b[1;33m\u001b[0m\u001b[1;33m\u001b[0m\u001b[0m\n\u001b[0;32m    508\u001b[0m \u001b[1;33m\u001b[0m\u001b[0m\n\u001b[1;32m--> 509\u001b[1;33m     cv_results = cross_validate(\n\u001b[0m\u001b[0;32m    510\u001b[0m         \u001b[0mestimator\u001b[0m\u001b[1;33m=\u001b[0m\u001b[0mestimator\u001b[0m\u001b[1;33m,\u001b[0m\u001b[1;33m\u001b[0m\u001b[1;33m\u001b[0m\u001b[0m\n\u001b[0;32m    511\u001b[0m         \u001b[0mX\u001b[0m\u001b[1;33m=\u001b[0m\u001b[0mX\u001b[0m\u001b[1;33m,\u001b[0m\u001b[1;33m\u001b[0m\u001b[1;33m\u001b[0m\u001b[0m\n",
      "\u001b[1;32m~\\anaconda3\\lib\\site-packages\\sklearn\\model_selection\\_validation.py\u001b[0m in \u001b[0;36mcross_validate\u001b[1;34m(estimator, X, y, groups, scoring, cv, n_jobs, verbose, fit_params, pre_dispatch, return_train_score, return_estimator, error_score)\u001b[0m\n\u001b[0;32m    265\u001b[0m     \u001b[1;31m# independent, and that it is pickle-able.\u001b[0m\u001b[1;33m\u001b[0m\u001b[1;33m\u001b[0m\u001b[1;33m\u001b[0m\u001b[0m\n\u001b[0;32m    266\u001b[0m     \u001b[0mparallel\u001b[0m \u001b[1;33m=\u001b[0m \u001b[0mParallel\u001b[0m\u001b[1;33m(\u001b[0m\u001b[0mn_jobs\u001b[0m\u001b[1;33m=\u001b[0m\u001b[0mn_jobs\u001b[0m\u001b[1;33m,\u001b[0m \u001b[0mverbose\u001b[0m\u001b[1;33m=\u001b[0m\u001b[0mverbose\u001b[0m\u001b[1;33m,\u001b[0m \u001b[0mpre_dispatch\u001b[0m\u001b[1;33m=\u001b[0m\u001b[0mpre_dispatch\u001b[0m\u001b[1;33m)\u001b[0m\u001b[1;33m\u001b[0m\u001b[1;33m\u001b[0m\u001b[0m\n\u001b[1;32m--> 267\u001b[1;33m     results = parallel(\n\u001b[0m\u001b[0;32m    268\u001b[0m         delayed(_fit_and_score)(\n\u001b[0;32m    269\u001b[0m             \u001b[0mclone\u001b[0m\u001b[1;33m(\u001b[0m\u001b[0mestimator\u001b[0m\u001b[1;33m)\u001b[0m\u001b[1;33m,\u001b[0m\u001b[1;33m\u001b[0m\u001b[1;33m\u001b[0m\u001b[0m\n",
      "\u001b[1;32m~\\anaconda3\\lib\\site-packages\\joblib\\parallel.py\u001b[0m in \u001b[0;36m__call__\u001b[1;34m(self, iterable)\u001b[0m\n\u001b[0;32m   1042\u001b[0m             \u001b[0mself\u001b[0m\u001b[1;33m.\u001b[0m\u001b[0m_iterating\u001b[0m \u001b[1;33m=\u001b[0m \u001b[1;32mFalse\u001b[0m\u001b[1;33m\u001b[0m\u001b[1;33m\u001b[0m\u001b[0m\n\u001b[0;32m   1043\u001b[0m             \u001b[1;32mif\u001b[0m \u001b[0mself\u001b[0m\u001b[1;33m.\u001b[0m\u001b[0mdispatch_one_batch\u001b[0m\u001b[1;33m(\u001b[0m\u001b[0miterator\u001b[0m\u001b[1;33m)\u001b[0m\u001b[1;33m:\u001b[0m\u001b[1;33m\u001b[0m\u001b[1;33m\u001b[0m\u001b[0m\n\u001b[1;32m-> 1044\u001b[1;33m                 \u001b[0mself\u001b[0m\u001b[1;33m.\u001b[0m\u001b[0m_iterating\u001b[0m \u001b[1;33m=\u001b[0m \u001b[0mself\u001b[0m\u001b[1;33m.\u001b[0m\u001b[0m_original_iterator\u001b[0m \u001b[1;32mis\u001b[0m \u001b[1;32mnot\u001b[0m \u001b[1;32mNone\u001b[0m\u001b[1;33m\u001b[0m\u001b[1;33m\u001b[0m\u001b[0m\n\u001b[0m\u001b[0;32m   1045\u001b[0m \u001b[1;33m\u001b[0m\u001b[0m\n\u001b[0;32m   1046\u001b[0m             \u001b[1;32mwhile\u001b[0m \u001b[0mself\u001b[0m\u001b[1;33m.\u001b[0m\u001b[0mdispatch_one_batch\u001b[0m\u001b[1;33m(\u001b[0m\u001b[0miterator\u001b[0m\u001b[1;33m)\u001b[0m\u001b[1;33m:\u001b[0m\u001b[1;33m\u001b[0m\u001b[1;33m\u001b[0m\u001b[0m\n",
      "\u001b[1;32m~\\anaconda3\\lib\\site-packages\\joblib\\parallel.py\u001b[0m in \u001b[0;36mdispatch_one_batch\u001b[1;34m(self, iterator)\u001b[0m\n\u001b[0;32m    857\u001b[0m             \u001b[1;32mif\u001b[0m \u001b[0mlen\u001b[0m\u001b[1;33m(\u001b[0m\u001b[0mtasks\u001b[0m\u001b[1;33m)\u001b[0m \u001b[1;33m==\u001b[0m \u001b[1;36m0\u001b[0m\u001b[1;33m:\u001b[0m\u001b[1;33m\u001b[0m\u001b[1;33m\u001b[0m\u001b[0m\n\u001b[0;32m    858\u001b[0m                 \u001b[1;31m# No more tasks available in the iterator: tell caller to stop.\u001b[0m\u001b[1;33m\u001b[0m\u001b[1;33m\u001b[0m\u001b[1;33m\u001b[0m\u001b[0m\n\u001b[1;32m--> 859\u001b[1;33m                 \u001b[1;32mreturn\u001b[0m \u001b[1;32mFalse\u001b[0m\u001b[1;33m\u001b[0m\u001b[1;33m\u001b[0m\u001b[0m\n\u001b[0m\u001b[0;32m    860\u001b[0m             \u001b[1;32melse\u001b[0m\u001b[1;33m:\u001b[0m\u001b[1;33m\u001b[0m\u001b[1;33m\u001b[0m\u001b[0m\n\u001b[0;32m    861\u001b[0m                 \u001b[0mself\u001b[0m\u001b[1;33m.\u001b[0m\u001b[0m_dispatch\u001b[0m\u001b[1;33m(\u001b[0m\u001b[0mtasks\u001b[0m\u001b[1;33m)\u001b[0m\u001b[1;33m\u001b[0m\u001b[1;33m\u001b[0m\u001b[0m\n",
      "\u001b[1;32m~\\anaconda3\\lib\\site-packages\\joblib\\parallel.py\u001b[0m in \u001b[0;36m_dispatch\u001b[1;34m(self, batch)\u001b[0m\n\u001b[0;32m    775\u001b[0m         \u001b[0mdispatch_timestamp\u001b[0m \u001b[1;33m=\u001b[0m \u001b[0mtime\u001b[0m\u001b[1;33m.\u001b[0m\u001b[0mtime\u001b[0m\u001b[1;33m(\u001b[0m\u001b[1;33m)\u001b[0m\u001b[1;33m\u001b[0m\u001b[1;33m\u001b[0m\u001b[0m\n\u001b[0;32m    776\u001b[0m         \u001b[0mcb\u001b[0m \u001b[1;33m=\u001b[0m \u001b[0mBatchCompletionCallBack\u001b[0m\u001b[1;33m(\u001b[0m\u001b[0mdispatch_timestamp\u001b[0m\u001b[1;33m,\u001b[0m \u001b[0mlen\u001b[0m\u001b[1;33m(\u001b[0m\u001b[0mbatch\u001b[0m\u001b[1;33m)\u001b[0m\u001b[1;33m,\u001b[0m \u001b[0mself\u001b[0m\u001b[1;33m)\u001b[0m\u001b[1;33m\u001b[0m\u001b[1;33m\u001b[0m\u001b[0m\n\u001b[1;32m--> 777\u001b[1;33m         \u001b[1;32mwith\u001b[0m \u001b[0mself\u001b[0m\u001b[1;33m.\u001b[0m\u001b[0m_lock\u001b[0m\u001b[1;33m:\u001b[0m\u001b[1;33m\u001b[0m\u001b[1;33m\u001b[0m\u001b[0m\n\u001b[0m\u001b[0;32m    778\u001b[0m             \u001b[0mjob_idx\u001b[0m \u001b[1;33m=\u001b[0m \u001b[0mlen\u001b[0m\u001b[1;33m(\u001b[0m\u001b[0mself\u001b[0m\u001b[1;33m.\u001b[0m\u001b[0m_jobs\u001b[0m\u001b[1;33m)\u001b[0m\u001b[1;33m\u001b[0m\u001b[1;33m\u001b[0m\u001b[0m\n\u001b[0;32m    779\u001b[0m             \u001b[0mjob\u001b[0m \u001b[1;33m=\u001b[0m \u001b[0mself\u001b[0m\u001b[1;33m.\u001b[0m\u001b[0m_backend\u001b[0m\u001b[1;33m.\u001b[0m\u001b[0mapply_async\u001b[0m\u001b[1;33m(\u001b[0m\u001b[0mbatch\u001b[0m\u001b[1;33m,\u001b[0m \u001b[0mcallback\u001b[0m\u001b[1;33m=\u001b[0m\u001b[0mcb\u001b[0m\u001b[1;33m)\u001b[0m\u001b[1;33m\u001b[0m\u001b[1;33m\u001b[0m\u001b[0m\n",
      "\u001b[1;32m~\\anaconda3\\lib\\site-packages\\joblib\\_parallel_backends.py\u001b[0m in \u001b[0;36mapply_async\u001b[1;34m(self, func, callback)\u001b[0m\n\u001b[0;32m    206\u001b[0m     \u001b[1;32mdef\u001b[0m \u001b[0mapply_async\u001b[0m\u001b[1;33m(\u001b[0m\u001b[0mself\u001b[0m\u001b[1;33m,\u001b[0m \u001b[0mfunc\u001b[0m\u001b[1;33m,\u001b[0m \u001b[0mcallback\u001b[0m\u001b[1;33m=\u001b[0m\u001b[1;32mNone\u001b[0m\u001b[1;33m)\u001b[0m\u001b[1;33m:\u001b[0m\u001b[1;33m\u001b[0m\u001b[1;33m\u001b[0m\u001b[0m\n\u001b[0;32m    207\u001b[0m         \u001b[1;34m\"\"\"Schedule a func to be run\"\"\"\u001b[0m\u001b[1;33m\u001b[0m\u001b[1;33m\u001b[0m\u001b[0m\n\u001b[1;32m--> 208\u001b[1;33m         \u001b[0mresult\u001b[0m \u001b[1;33m=\u001b[0m \u001b[0mImmediateResult\u001b[0m\u001b[1;33m(\u001b[0m\u001b[0mfunc\u001b[0m\u001b[1;33m)\u001b[0m\u001b[1;33m\u001b[0m\u001b[1;33m\u001b[0m\u001b[0m\n\u001b[0m\u001b[0;32m    209\u001b[0m         \u001b[1;32mif\u001b[0m \u001b[0mcallback\u001b[0m\u001b[1;33m:\u001b[0m\u001b[1;33m\u001b[0m\u001b[1;33m\u001b[0m\u001b[0m\n\u001b[0;32m    210\u001b[0m             \u001b[0mcallback\u001b[0m\u001b[1;33m(\u001b[0m\u001b[0mresult\u001b[0m\u001b[1;33m)\u001b[0m\u001b[1;33m\u001b[0m\u001b[1;33m\u001b[0m\u001b[0m\n",
      "\u001b[1;32m~\\anaconda3\\lib\\site-packages\\joblib\\_parallel_backends.py\u001b[0m in \u001b[0;36m__init__\u001b[1;34m(self, batch)\u001b[0m\n\u001b[0;32m    570\u001b[0m         \u001b[1;31m# Don't delay the application, to avoid keeping the input\u001b[0m\u001b[1;33m\u001b[0m\u001b[1;33m\u001b[0m\u001b[1;33m\u001b[0m\u001b[0m\n\u001b[0;32m    571\u001b[0m         \u001b[1;31m# arguments in memory\u001b[0m\u001b[1;33m\u001b[0m\u001b[1;33m\u001b[0m\u001b[1;33m\u001b[0m\u001b[0m\n\u001b[1;32m--> 572\u001b[1;33m         \u001b[0mself\u001b[0m\u001b[1;33m.\u001b[0m\u001b[0mresults\u001b[0m \u001b[1;33m=\u001b[0m \u001b[0mbatch\u001b[0m\u001b[1;33m(\u001b[0m\u001b[1;33m)\u001b[0m\u001b[1;33m\u001b[0m\u001b[1;33m\u001b[0m\u001b[0m\n\u001b[0m\u001b[0;32m    573\u001b[0m \u001b[1;33m\u001b[0m\u001b[0m\n\u001b[0;32m    574\u001b[0m     \u001b[1;32mdef\u001b[0m \u001b[0mget\u001b[0m\u001b[1;33m(\u001b[0m\u001b[0mself\u001b[0m\u001b[1;33m)\u001b[0m\u001b[1;33m:\u001b[0m\u001b[1;33m\u001b[0m\u001b[1;33m\u001b[0m\u001b[0m\n",
      "\u001b[1;32m~\\anaconda3\\lib\\site-packages\\joblib\\parallel.py\u001b[0m in \u001b[0;36m__call__\u001b[1;34m(self)\u001b[0m\n\u001b[0;32m    260\u001b[0m         \u001b[1;31m# change the default number of processes to -1\u001b[0m\u001b[1;33m\u001b[0m\u001b[1;33m\u001b[0m\u001b[1;33m\u001b[0m\u001b[0m\n\u001b[0;32m    261\u001b[0m         \u001b[1;32mwith\u001b[0m \u001b[0mparallel_backend\u001b[0m\u001b[1;33m(\u001b[0m\u001b[0mself\u001b[0m\u001b[1;33m.\u001b[0m\u001b[0m_backend\u001b[0m\u001b[1;33m,\u001b[0m \u001b[0mn_jobs\u001b[0m\u001b[1;33m=\u001b[0m\u001b[0mself\u001b[0m\u001b[1;33m.\u001b[0m\u001b[0m_n_jobs\u001b[0m\u001b[1;33m)\u001b[0m\u001b[1;33m:\u001b[0m\u001b[1;33m\u001b[0m\u001b[1;33m\u001b[0m\u001b[0m\n\u001b[1;32m--> 262\u001b[1;33m             return [func(*args, **kwargs)\n\u001b[0m\u001b[0;32m    263\u001b[0m                     for func, args, kwargs in self.items]\n\u001b[0;32m    264\u001b[0m \u001b[1;33m\u001b[0m\u001b[0m\n",
      "\u001b[1;32m~\\anaconda3\\lib\\site-packages\\joblib\\parallel.py\u001b[0m in \u001b[0;36m<listcomp>\u001b[1;34m(.0)\u001b[0m\n\u001b[0;32m    260\u001b[0m         \u001b[1;31m# change the default number of processes to -1\u001b[0m\u001b[1;33m\u001b[0m\u001b[1;33m\u001b[0m\u001b[1;33m\u001b[0m\u001b[0m\n\u001b[0;32m    261\u001b[0m         \u001b[1;32mwith\u001b[0m \u001b[0mparallel_backend\u001b[0m\u001b[1;33m(\u001b[0m\u001b[0mself\u001b[0m\u001b[1;33m.\u001b[0m\u001b[0m_backend\u001b[0m\u001b[1;33m,\u001b[0m \u001b[0mn_jobs\u001b[0m\u001b[1;33m=\u001b[0m\u001b[0mself\u001b[0m\u001b[1;33m.\u001b[0m\u001b[0m_n_jobs\u001b[0m\u001b[1;33m)\u001b[0m\u001b[1;33m:\u001b[0m\u001b[1;33m\u001b[0m\u001b[1;33m\u001b[0m\u001b[0m\n\u001b[1;32m--> 262\u001b[1;33m             return [func(*args, **kwargs)\n\u001b[0m\u001b[0;32m    263\u001b[0m                     for func, args, kwargs in self.items]\n\u001b[0;32m    264\u001b[0m \u001b[1;33m\u001b[0m\u001b[0m\n",
      "\u001b[1;32m~\\anaconda3\\lib\\site-packages\\sklearn\\utils\\fixes.py\u001b[0m in \u001b[0;36m__call__\u001b[1;34m(self, *args, **kwargs)\u001b[0m\n\u001b[0;32m    214\u001b[0m     \u001b[1;32mdef\u001b[0m \u001b[0m__call__\u001b[0m\u001b[1;33m(\u001b[0m\u001b[0mself\u001b[0m\u001b[1;33m,\u001b[0m \u001b[1;33m*\u001b[0m\u001b[0margs\u001b[0m\u001b[1;33m,\u001b[0m \u001b[1;33m**\u001b[0m\u001b[0mkwargs\u001b[0m\u001b[1;33m)\u001b[0m\u001b[1;33m:\u001b[0m\u001b[1;33m\u001b[0m\u001b[1;33m\u001b[0m\u001b[0m\n\u001b[0;32m    215\u001b[0m         \u001b[1;32mwith\u001b[0m \u001b[0mconfig_context\u001b[0m\u001b[1;33m(\u001b[0m\u001b[1;33m**\u001b[0m\u001b[0mself\u001b[0m\u001b[1;33m.\u001b[0m\u001b[0mconfig\u001b[0m\u001b[1;33m)\u001b[0m\u001b[1;33m:\u001b[0m\u001b[1;33m\u001b[0m\u001b[1;33m\u001b[0m\u001b[0m\n\u001b[1;32m--> 216\u001b[1;33m             \u001b[1;32mreturn\u001b[0m \u001b[0mself\u001b[0m\u001b[1;33m.\u001b[0m\u001b[0mfunction\u001b[0m\u001b[1;33m(\u001b[0m\u001b[1;33m*\u001b[0m\u001b[0margs\u001b[0m\u001b[1;33m,\u001b[0m \u001b[1;33m**\u001b[0m\u001b[0mkwargs\u001b[0m\u001b[1;33m)\u001b[0m\u001b[1;33m\u001b[0m\u001b[1;33m\u001b[0m\u001b[0m\n\u001b[0m\u001b[0;32m    217\u001b[0m \u001b[1;33m\u001b[0m\u001b[0m\n\u001b[0;32m    218\u001b[0m \u001b[1;33m\u001b[0m\u001b[0m\n",
      "\u001b[1;32m~\\anaconda3\\lib\\site-packages\\sklearn\\model_selection\\_validation.py\u001b[0m in \u001b[0;36m_fit_and_score\u001b[1;34m(estimator, X, y, scorer, train, test, verbose, parameters, fit_params, return_train_score, return_parameters, return_n_test_samples, return_times, return_estimator, split_progress, candidate_progress, error_score)\u001b[0m\n\u001b[0;32m    700\u001b[0m \u001b[1;33m\u001b[0m\u001b[0m\n\u001b[0;32m    701\u001b[0m         \u001b[0mfit_time\u001b[0m \u001b[1;33m=\u001b[0m \u001b[0mtime\u001b[0m\u001b[1;33m.\u001b[0m\u001b[0mtime\u001b[0m\u001b[1;33m(\u001b[0m\u001b[1;33m)\u001b[0m \u001b[1;33m-\u001b[0m \u001b[0mstart_time\u001b[0m\u001b[1;33m\u001b[0m\u001b[1;33m\u001b[0m\u001b[0m\n\u001b[1;32m--> 702\u001b[1;33m         \u001b[0mtest_scores\u001b[0m \u001b[1;33m=\u001b[0m \u001b[0m_score\u001b[0m\u001b[1;33m(\u001b[0m\u001b[0mestimator\u001b[0m\u001b[1;33m,\u001b[0m \u001b[0mX_test\u001b[0m\u001b[1;33m,\u001b[0m \u001b[0my_test\u001b[0m\u001b[1;33m,\u001b[0m \u001b[0mscorer\u001b[0m\u001b[1;33m,\u001b[0m \u001b[0merror_score\u001b[0m\u001b[1;33m)\u001b[0m\u001b[1;33m\u001b[0m\u001b[1;33m\u001b[0m\u001b[0m\n\u001b[0m\u001b[0;32m    703\u001b[0m         \u001b[0mscore_time\u001b[0m \u001b[1;33m=\u001b[0m \u001b[0mtime\u001b[0m\u001b[1;33m.\u001b[0m\u001b[0mtime\u001b[0m\u001b[1;33m(\u001b[0m\u001b[1;33m)\u001b[0m \u001b[1;33m-\u001b[0m \u001b[0mstart_time\u001b[0m \u001b[1;33m-\u001b[0m \u001b[0mfit_time\u001b[0m\u001b[1;33m\u001b[0m\u001b[1;33m\u001b[0m\u001b[0m\n\u001b[0;32m    704\u001b[0m         \u001b[1;32mif\u001b[0m \u001b[0mreturn_train_score\u001b[0m\u001b[1;33m:\u001b[0m\u001b[1;33m\u001b[0m\u001b[1;33m\u001b[0m\u001b[0m\n",
      "\u001b[1;32m~\\anaconda3\\lib\\site-packages\\sklearn\\model_selection\\_validation.py\u001b[0m in \u001b[0;36m_score\u001b[1;34m(estimator, X_test, y_test, scorer, error_score)\u001b[0m\n\u001b[0;32m    759\u001b[0m             \u001b[0mscores\u001b[0m \u001b[1;33m=\u001b[0m \u001b[0mscorer\u001b[0m\u001b[1;33m(\u001b[0m\u001b[0mestimator\u001b[0m\u001b[1;33m,\u001b[0m \u001b[0mX_test\u001b[0m\u001b[1;33m)\u001b[0m\u001b[1;33m\u001b[0m\u001b[1;33m\u001b[0m\u001b[0m\n\u001b[0;32m    760\u001b[0m         \u001b[1;32melse\u001b[0m\u001b[1;33m:\u001b[0m\u001b[1;33m\u001b[0m\u001b[1;33m\u001b[0m\u001b[0m\n\u001b[1;32m--> 761\u001b[1;33m             \u001b[0mscores\u001b[0m \u001b[1;33m=\u001b[0m \u001b[0mscorer\u001b[0m\u001b[1;33m(\u001b[0m\u001b[0mestimator\u001b[0m\u001b[1;33m,\u001b[0m \u001b[0mX_test\u001b[0m\u001b[1;33m,\u001b[0m \u001b[0my_test\u001b[0m\u001b[1;33m)\u001b[0m\u001b[1;33m\u001b[0m\u001b[1;33m\u001b[0m\u001b[0m\n\u001b[0m\u001b[0;32m    762\u001b[0m     \u001b[1;32mexcept\u001b[0m \u001b[0mException\u001b[0m\u001b[1;33m:\u001b[0m\u001b[1;33m\u001b[0m\u001b[1;33m\u001b[0m\u001b[0m\n\u001b[0;32m    763\u001b[0m         \u001b[1;32mif\u001b[0m \u001b[0merror_score\u001b[0m \u001b[1;33m==\u001b[0m \u001b[1;34m\"raise\"\u001b[0m\u001b[1;33m:\u001b[0m\u001b[1;33m\u001b[0m\u001b[1;33m\u001b[0m\u001b[0m\n",
      "\u001b[1;32m~\\anaconda3\\lib\\site-packages\\sklearn\\metrics\\_scorer.py\u001b[0m in \u001b[0;36m__call__\u001b[1;34m(self, estimator, *args, **kwargs)\u001b[0m\n\u001b[0;32m    101\u001b[0m         \u001b[1;32mfor\u001b[0m \u001b[0mname\u001b[0m\u001b[1;33m,\u001b[0m \u001b[0mscorer\u001b[0m \u001b[1;32min\u001b[0m \u001b[0mself\u001b[0m\u001b[1;33m.\u001b[0m\u001b[0m_scorers\u001b[0m\u001b[1;33m.\u001b[0m\u001b[0mitems\u001b[0m\u001b[1;33m(\u001b[0m\u001b[1;33m)\u001b[0m\u001b[1;33m:\u001b[0m\u001b[1;33m\u001b[0m\u001b[1;33m\u001b[0m\u001b[0m\n\u001b[0;32m    102\u001b[0m             \u001b[1;32mif\u001b[0m \u001b[0misinstance\u001b[0m\u001b[1;33m(\u001b[0m\u001b[0mscorer\u001b[0m\u001b[1;33m,\u001b[0m \u001b[0m_BaseScorer\u001b[0m\u001b[1;33m)\u001b[0m\u001b[1;33m:\u001b[0m\u001b[1;33m\u001b[0m\u001b[1;33m\u001b[0m\u001b[0m\n\u001b[1;32m--> 103\u001b[1;33m                 \u001b[0mscore\u001b[0m \u001b[1;33m=\u001b[0m \u001b[0mscorer\u001b[0m\u001b[1;33m.\u001b[0m\u001b[0m_score\u001b[0m\u001b[1;33m(\u001b[0m\u001b[0mcached_call\u001b[0m\u001b[1;33m,\u001b[0m \u001b[0mestimator\u001b[0m\u001b[1;33m,\u001b[0m \u001b[1;33m*\u001b[0m\u001b[0margs\u001b[0m\u001b[1;33m,\u001b[0m \u001b[1;33m**\u001b[0m\u001b[0mkwargs\u001b[0m\u001b[1;33m)\u001b[0m\u001b[1;33m\u001b[0m\u001b[1;33m\u001b[0m\u001b[0m\n\u001b[0m\u001b[0;32m    104\u001b[0m             \u001b[1;32melse\u001b[0m\u001b[1;33m:\u001b[0m\u001b[1;33m\u001b[0m\u001b[1;33m\u001b[0m\u001b[0m\n\u001b[0;32m    105\u001b[0m                 \u001b[0mscore\u001b[0m \u001b[1;33m=\u001b[0m \u001b[0mscorer\u001b[0m\u001b[1;33m(\u001b[0m\u001b[0mestimator\u001b[0m\u001b[1;33m,\u001b[0m \u001b[1;33m*\u001b[0m\u001b[0margs\u001b[0m\u001b[1;33m,\u001b[0m \u001b[1;33m**\u001b[0m\u001b[0mkwargs\u001b[0m\u001b[1;33m)\u001b[0m\u001b[1;33m\u001b[0m\u001b[1;33m\u001b[0m\u001b[0m\n",
      "\u001b[1;32m~\\anaconda3\\lib\\site-packages\\sklearn\\metrics\\_scorer.py\u001b[0m in \u001b[0;36m_score\u001b[1;34m(self, method_caller, estimator, X, y_true, sample_weight)\u001b[0m\n\u001b[0;32m    256\u001b[0m         \"\"\"\n\u001b[0;32m    257\u001b[0m \u001b[1;33m\u001b[0m\u001b[0m\n\u001b[1;32m--> 258\u001b[1;33m         \u001b[0my_pred\u001b[0m \u001b[1;33m=\u001b[0m \u001b[0mmethod_caller\u001b[0m\u001b[1;33m(\u001b[0m\u001b[0mestimator\u001b[0m\u001b[1;33m,\u001b[0m \u001b[1;34m\"predict\"\u001b[0m\u001b[1;33m,\u001b[0m \u001b[0mX\u001b[0m\u001b[1;33m)\u001b[0m\u001b[1;33m\u001b[0m\u001b[1;33m\u001b[0m\u001b[0m\n\u001b[0m\u001b[0;32m    259\u001b[0m         \u001b[1;32mif\u001b[0m \u001b[0msample_weight\u001b[0m \u001b[1;32mis\u001b[0m \u001b[1;32mnot\u001b[0m \u001b[1;32mNone\u001b[0m\u001b[1;33m:\u001b[0m\u001b[1;33m\u001b[0m\u001b[1;33m\u001b[0m\u001b[0m\n\u001b[0;32m    260\u001b[0m             return self._sign * self._score_func(\n",
      "\u001b[1;32m~\\anaconda3\\lib\\site-packages\\sklearn\\metrics\\_scorer.py\u001b[0m in \u001b[0;36m_cached_call\u001b[1;34m(cache, estimator, method, *args, **kwargs)\u001b[0m\n\u001b[0;32m     66\u001b[0m     \u001b[1;34m\"\"\"Call estimator with method and args and kwargs.\"\"\"\u001b[0m\u001b[1;33m\u001b[0m\u001b[1;33m\u001b[0m\u001b[0m\n\u001b[0;32m     67\u001b[0m     \u001b[1;32mif\u001b[0m \u001b[0mcache\u001b[0m \u001b[1;32mis\u001b[0m \u001b[1;32mNone\u001b[0m\u001b[1;33m:\u001b[0m\u001b[1;33m\u001b[0m\u001b[1;33m\u001b[0m\u001b[0m\n\u001b[1;32m---> 68\u001b[1;33m         \u001b[1;32mreturn\u001b[0m \u001b[0mgetattr\u001b[0m\u001b[1;33m(\u001b[0m\u001b[0mestimator\u001b[0m\u001b[1;33m,\u001b[0m \u001b[0mmethod\u001b[0m\u001b[1;33m)\u001b[0m\u001b[1;33m(\u001b[0m\u001b[1;33m*\u001b[0m\u001b[0margs\u001b[0m\u001b[1;33m,\u001b[0m \u001b[1;33m**\u001b[0m\u001b[0mkwargs\u001b[0m\u001b[1;33m)\u001b[0m\u001b[1;33m\u001b[0m\u001b[1;33m\u001b[0m\u001b[0m\n\u001b[0m\u001b[0;32m     69\u001b[0m \u001b[1;33m\u001b[0m\u001b[0m\n\u001b[0;32m     70\u001b[0m     \u001b[1;32mtry\u001b[0m\u001b[1;33m:\u001b[0m\u001b[1;33m\u001b[0m\u001b[1;33m\u001b[0m\u001b[0m\n",
      "\u001b[1;32m~\\anaconda3\\lib\\site-packages\\sklearn\\ensemble\\_voting.py\u001b[0m in \u001b[0;36mpredict\u001b[1;34m(self, X)\u001b[0m\n\u001b[0;32m    546\u001b[0m         \"\"\"\n\u001b[0;32m    547\u001b[0m         \u001b[0mcheck_is_fitted\u001b[0m\u001b[1;33m(\u001b[0m\u001b[0mself\u001b[0m\u001b[1;33m)\u001b[0m\u001b[1;33m\u001b[0m\u001b[1;33m\u001b[0m\u001b[0m\n\u001b[1;32m--> 548\u001b[1;33m         \u001b[1;32mreturn\u001b[0m \u001b[0mnp\u001b[0m\u001b[1;33m.\u001b[0m\u001b[0maverage\u001b[0m\u001b[1;33m(\u001b[0m\u001b[0mself\u001b[0m\u001b[1;33m.\u001b[0m\u001b[0m_predict\u001b[0m\u001b[1;33m(\u001b[0m\u001b[0mX\u001b[0m\u001b[1;33m)\u001b[0m\u001b[1;33m,\u001b[0m \u001b[0maxis\u001b[0m\u001b[1;33m=\u001b[0m\u001b[1;36m1\u001b[0m\u001b[1;33m,\u001b[0m \u001b[0mweights\u001b[0m\u001b[1;33m=\u001b[0m\u001b[0mself\u001b[0m\u001b[1;33m.\u001b[0m\u001b[0m_weights_not_none\u001b[0m\u001b[1;33m)\u001b[0m\u001b[1;33m\u001b[0m\u001b[1;33m\u001b[0m\u001b[0m\n\u001b[0m\u001b[0;32m    549\u001b[0m \u001b[1;33m\u001b[0m\u001b[0m\n\u001b[0;32m    550\u001b[0m     \u001b[1;32mdef\u001b[0m \u001b[0mtransform\u001b[0m\u001b[1;33m(\u001b[0m\u001b[0mself\u001b[0m\u001b[1;33m,\u001b[0m \u001b[0mX\u001b[0m\u001b[1;33m)\u001b[0m\u001b[1;33m:\u001b[0m\u001b[1;33m\u001b[0m\u001b[1;33m\u001b[0m\u001b[0m\n",
      "\u001b[1;32m~\\anaconda3\\lib\\site-packages\\sklearn\\ensemble\\_voting.py\u001b[0m in \u001b[0;36m_predict\u001b[1;34m(self, X)\u001b[0m\n\u001b[0;32m     58\u001b[0m     \u001b[1;32mdef\u001b[0m \u001b[0m_predict\u001b[0m\u001b[1;33m(\u001b[0m\u001b[0mself\u001b[0m\u001b[1;33m,\u001b[0m \u001b[0mX\u001b[0m\u001b[1;33m)\u001b[0m\u001b[1;33m:\u001b[0m\u001b[1;33m\u001b[0m\u001b[1;33m\u001b[0m\u001b[0m\n\u001b[0;32m     59\u001b[0m         \u001b[1;34m\"\"\"Collect results from clf.predict calls.\"\"\"\u001b[0m\u001b[1;33m\u001b[0m\u001b[1;33m\u001b[0m\u001b[0m\n\u001b[1;32m---> 60\u001b[1;33m         \u001b[1;32mreturn\u001b[0m \u001b[0mnp\u001b[0m\u001b[1;33m.\u001b[0m\u001b[0masarray\u001b[0m\u001b[1;33m(\u001b[0m\u001b[1;33m[\u001b[0m\u001b[0mest\u001b[0m\u001b[1;33m.\u001b[0m\u001b[0mpredict\u001b[0m\u001b[1;33m(\u001b[0m\u001b[0mX\u001b[0m\u001b[1;33m)\u001b[0m \u001b[1;32mfor\u001b[0m \u001b[0mest\u001b[0m \u001b[1;32min\u001b[0m \u001b[0mself\u001b[0m\u001b[1;33m.\u001b[0m\u001b[0mestimators_\u001b[0m\u001b[1;33m]\u001b[0m\u001b[1;33m)\u001b[0m\u001b[1;33m.\u001b[0m\u001b[0mT\u001b[0m\u001b[1;33m\u001b[0m\u001b[1;33m\u001b[0m\u001b[0m\n\u001b[0m\u001b[0;32m     61\u001b[0m \u001b[1;33m\u001b[0m\u001b[0m\n\u001b[0;32m     62\u001b[0m     \u001b[1;33m@\u001b[0m\u001b[0mabstractmethod\u001b[0m\u001b[1;33m\u001b[0m\u001b[1;33m\u001b[0m\u001b[0m\n",
      "\u001b[1;32m~\\anaconda3\\lib\\site-packages\\sklearn\\ensemble\\_voting.py\u001b[0m in \u001b[0;36m<listcomp>\u001b[1;34m(.0)\u001b[0m\n\u001b[0;32m     58\u001b[0m     \u001b[1;32mdef\u001b[0m \u001b[0m_predict\u001b[0m\u001b[1;33m(\u001b[0m\u001b[0mself\u001b[0m\u001b[1;33m,\u001b[0m \u001b[0mX\u001b[0m\u001b[1;33m)\u001b[0m\u001b[1;33m:\u001b[0m\u001b[1;33m\u001b[0m\u001b[1;33m\u001b[0m\u001b[0m\n\u001b[0;32m     59\u001b[0m         \u001b[1;34m\"\"\"Collect results from clf.predict calls.\"\"\"\u001b[0m\u001b[1;33m\u001b[0m\u001b[1;33m\u001b[0m\u001b[0m\n\u001b[1;32m---> 60\u001b[1;33m         \u001b[1;32mreturn\u001b[0m \u001b[0mnp\u001b[0m\u001b[1;33m.\u001b[0m\u001b[0masarray\u001b[0m\u001b[1;33m(\u001b[0m\u001b[1;33m[\u001b[0m\u001b[0mest\u001b[0m\u001b[1;33m.\u001b[0m\u001b[0mpredict\u001b[0m\u001b[1;33m(\u001b[0m\u001b[0mX\u001b[0m\u001b[1;33m)\u001b[0m \u001b[1;32mfor\u001b[0m \u001b[0mest\u001b[0m \u001b[1;32min\u001b[0m \u001b[0mself\u001b[0m\u001b[1;33m.\u001b[0m\u001b[0mestimators_\u001b[0m\u001b[1;33m]\u001b[0m\u001b[1;33m)\u001b[0m\u001b[1;33m.\u001b[0m\u001b[0mT\u001b[0m\u001b[1;33m\u001b[0m\u001b[1;33m\u001b[0m\u001b[0m\n\u001b[0m\u001b[0;32m     61\u001b[0m \u001b[1;33m\u001b[0m\u001b[0m\n\u001b[0;32m     62\u001b[0m     \u001b[1;33m@\u001b[0m\u001b[0mabstractmethod\u001b[0m\u001b[1;33m\u001b[0m\u001b[1;33m\u001b[0m\u001b[0m\n",
      "\u001b[1;32m~\\anaconda3\\lib\\site-packages\\sklearn\\ensemble\\_forest.py\u001b[0m in \u001b[0;36mpredict\u001b[1;34m(self, X)\u001b[0m\n\u001b[0;32m    969\u001b[0m         \u001b[0mcheck_is_fitted\u001b[0m\u001b[1;33m(\u001b[0m\u001b[0mself\u001b[0m\u001b[1;33m)\u001b[0m\u001b[1;33m\u001b[0m\u001b[1;33m\u001b[0m\u001b[0m\n\u001b[0;32m    970\u001b[0m         \u001b[1;31m# Check data\u001b[0m\u001b[1;33m\u001b[0m\u001b[1;33m\u001b[0m\u001b[1;33m\u001b[0m\u001b[0m\n\u001b[1;32m--> 971\u001b[1;33m         \u001b[0mX\u001b[0m \u001b[1;33m=\u001b[0m \u001b[0mself\u001b[0m\u001b[1;33m.\u001b[0m\u001b[0m_validate_X_predict\u001b[0m\u001b[1;33m(\u001b[0m\u001b[0mX\u001b[0m\u001b[1;33m)\u001b[0m\u001b[1;33m\u001b[0m\u001b[1;33m\u001b[0m\u001b[0m\n\u001b[0m\u001b[0;32m    972\u001b[0m \u001b[1;33m\u001b[0m\u001b[0m\n\u001b[0;32m    973\u001b[0m         \u001b[1;31m# Assign chunk of trees to jobs\u001b[0m\u001b[1;33m\u001b[0m\u001b[1;33m\u001b[0m\u001b[1;33m\u001b[0m\u001b[0m\n",
      "\u001b[1;32m~\\anaconda3\\lib\\site-packages\\sklearn\\ensemble\\_forest.py\u001b[0m in \u001b[0;36m_validate_X_predict\u001b[1;34m(self, X)\u001b[0m\n\u001b[0;32m    577\u001b[0m         Validate X whenever one tries to predict, apply, predict_proba.\"\"\"\n\u001b[0;32m    578\u001b[0m         \u001b[0mcheck_is_fitted\u001b[0m\u001b[1;33m(\u001b[0m\u001b[0mself\u001b[0m\u001b[1;33m)\u001b[0m\u001b[1;33m\u001b[0m\u001b[1;33m\u001b[0m\u001b[0m\n\u001b[1;32m--> 579\u001b[1;33m         \u001b[0mX\u001b[0m \u001b[1;33m=\u001b[0m \u001b[0mself\u001b[0m\u001b[1;33m.\u001b[0m\u001b[0m_validate_data\u001b[0m\u001b[1;33m(\u001b[0m\u001b[0mX\u001b[0m\u001b[1;33m,\u001b[0m \u001b[0mdtype\u001b[0m\u001b[1;33m=\u001b[0m\u001b[0mDTYPE\u001b[0m\u001b[1;33m,\u001b[0m \u001b[0maccept_sparse\u001b[0m\u001b[1;33m=\u001b[0m\u001b[1;34m\"csr\"\u001b[0m\u001b[1;33m,\u001b[0m \u001b[0mreset\u001b[0m\u001b[1;33m=\u001b[0m\u001b[1;32mFalse\u001b[0m\u001b[1;33m)\u001b[0m\u001b[1;33m\u001b[0m\u001b[1;33m\u001b[0m\u001b[0m\n\u001b[0m\u001b[0;32m    580\u001b[0m         \u001b[1;32mif\u001b[0m \u001b[0missparse\u001b[0m\u001b[1;33m(\u001b[0m\u001b[0mX\u001b[0m\u001b[1;33m)\u001b[0m \u001b[1;32mand\u001b[0m \u001b[1;33m(\u001b[0m\u001b[0mX\u001b[0m\u001b[1;33m.\u001b[0m\u001b[0mindices\u001b[0m\u001b[1;33m.\u001b[0m\u001b[0mdtype\u001b[0m \u001b[1;33m!=\u001b[0m \u001b[0mnp\u001b[0m\u001b[1;33m.\u001b[0m\u001b[0mintc\u001b[0m \u001b[1;32mor\u001b[0m \u001b[0mX\u001b[0m\u001b[1;33m.\u001b[0m\u001b[0mindptr\u001b[0m\u001b[1;33m.\u001b[0m\u001b[0mdtype\u001b[0m \u001b[1;33m!=\u001b[0m \u001b[0mnp\u001b[0m\u001b[1;33m.\u001b[0m\u001b[0mintc\u001b[0m\u001b[1;33m)\u001b[0m\u001b[1;33m:\u001b[0m\u001b[1;33m\u001b[0m\u001b[1;33m\u001b[0m\u001b[0m\n\u001b[0;32m    581\u001b[0m             \u001b[1;32mraise\u001b[0m \u001b[0mValueError\u001b[0m\u001b[1;33m(\u001b[0m\u001b[1;34m\"No support for np.int64 index based sparse matrices\"\u001b[0m\u001b[1;33m)\u001b[0m\u001b[1;33m\u001b[0m\u001b[1;33m\u001b[0m\u001b[0m\n",
      "\u001b[1;32m~\\anaconda3\\lib\\site-packages\\sklearn\\base.py\u001b[0m in \u001b[0;36m_validate_data\u001b[1;34m(self, X, y, reset, validate_separately, **check_params)\u001b[0m\n\u001b[0;32m    564\u001b[0m             \u001b[1;32mraise\u001b[0m \u001b[0mValueError\u001b[0m\u001b[1;33m(\u001b[0m\u001b[1;34m\"Validation should be done on X, y or both.\"\u001b[0m\u001b[1;33m)\u001b[0m\u001b[1;33m\u001b[0m\u001b[1;33m\u001b[0m\u001b[0m\n\u001b[0;32m    565\u001b[0m         \u001b[1;32melif\u001b[0m \u001b[1;32mnot\u001b[0m \u001b[0mno_val_X\u001b[0m \u001b[1;32mand\u001b[0m \u001b[0mno_val_y\u001b[0m\u001b[1;33m:\u001b[0m\u001b[1;33m\u001b[0m\u001b[1;33m\u001b[0m\u001b[0m\n\u001b[1;32m--> 566\u001b[1;33m             \u001b[0mX\u001b[0m \u001b[1;33m=\u001b[0m \u001b[0mcheck_array\u001b[0m\u001b[1;33m(\u001b[0m\u001b[0mX\u001b[0m\u001b[1;33m,\u001b[0m \u001b[1;33m**\u001b[0m\u001b[0mcheck_params\u001b[0m\u001b[1;33m)\u001b[0m\u001b[1;33m\u001b[0m\u001b[1;33m\u001b[0m\u001b[0m\n\u001b[0m\u001b[0;32m    567\u001b[0m             \u001b[0mout\u001b[0m \u001b[1;33m=\u001b[0m \u001b[0mX\u001b[0m\u001b[1;33m\u001b[0m\u001b[1;33m\u001b[0m\u001b[0m\n\u001b[0;32m    568\u001b[0m         \u001b[1;32melif\u001b[0m \u001b[0mno_val_X\u001b[0m \u001b[1;32mand\u001b[0m \u001b[1;32mnot\u001b[0m \u001b[0mno_val_y\u001b[0m\u001b[1;33m:\u001b[0m\u001b[1;33m\u001b[0m\u001b[1;33m\u001b[0m\u001b[0m\n",
      "\u001b[1;32m~\\anaconda3\\lib\\site-packages\\sklearn\\utils\\validation.py\u001b[0m in \u001b[0;36mcheck_array\u001b[1;34m(array, accept_sparse, accept_large_sparse, dtype, order, copy, force_all_finite, ensure_2d, allow_nd, ensure_min_samples, ensure_min_features, estimator)\u001b[0m\n\u001b[0;32m    744\u001b[0m                     \u001b[0marray\u001b[0m \u001b[1;33m=\u001b[0m \u001b[0marray\u001b[0m\u001b[1;33m.\u001b[0m\u001b[0mastype\u001b[0m\u001b[1;33m(\u001b[0m\u001b[0mdtype\u001b[0m\u001b[1;33m,\u001b[0m \u001b[0mcasting\u001b[0m\u001b[1;33m=\u001b[0m\u001b[1;34m\"unsafe\"\u001b[0m\u001b[1;33m,\u001b[0m \u001b[0mcopy\u001b[0m\u001b[1;33m=\u001b[0m\u001b[1;32mFalse\u001b[0m\u001b[1;33m)\u001b[0m\u001b[1;33m\u001b[0m\u001b[1;33m\u001b[0m\u001b[0m\n\u001b[0;32m    745\u001b[0m                 \u001b[1;32melse\u001b[0m\u001b[1;33m:\u001b[0m\u001b[1;33m\u001b[0m\u001b[1;33m\u001b[0m\u001b[0m\n\u001b[1;32m--> 746\u001b[1;33m                     \u001b[0marray\u001b[0m \u001b[1;33m=\u001b[0m \u001b[0mnp\u001b[0m\u001b[1;33m.\u001b[0m\u001b[0masarray\u001b[0m\u001b[1;33m(\u001b[0m\u001b[0marray\u001b[0m\u001b[1;33m,\u001b[0m \u001b[0morder\u001b[0m\u001b[1;33m=\u001b[0m\u001b[0morder\u001b[0m\u001b[1;33m,\u001b[0m \u001b[0mdtype\u001b[0m\u001b[1;33m=\u001b[0m\u001b[0mdtype\u001b[0m\u001b[1;33m)\u001b[0m\u001b[1;33m\u001b[0m\u001b[1;33m\u001b[0m\u001b[0m\n\u001b[0m\u001b[0;32m    747\u001b[0m             \u001b[1;32mexcept\u001b[0m \u001b[0mComplexWarning\u001b[0m \u001b[1;32mas\u001b[0m \u001b[0mcomplex_warning\u001b[0m\u001b[1;33m:\u001b[0m\u001b[1;33m\u001b[0m\u001b[1;33m\u001b[0m\u001b[0m\n\u001b[0;32m    748\u001b[0m                 raise ValueError(\n",
      "\u001b[1;32m~\\anaconda3\\lib\\site-packages\\numpy\\core\\_asarray.py\u001b[0m in \u001b[0;36masarray\u001b[1;34m(a, dtype, order, like)\u001b[0m\n\u001b[0;32m    100\u001b[0m         )\n\u001b[0;32m    101\u001b[0m \u001b[1;33m\u001b[0m\u001b[0m\n\u001b[1;32m--> 102\u001b[1;33m     possible_flags = {'C': 'C', 'C_CONTIGUOUS': 'C', 'CONTIGUOUS': 'C',\n\u001b[0m\u001b[0;32m    103\u001b[0m                       \u001b[1;34m'F'\u001b[0m\u001b[1;33m:\u001b[0m \u001b[1;34m'F'\u001b[0m\u001b[1;33m,\u001b[0m \u001b[1;34m'F_CONTIGUOUS'\u001b[0m\u001b[1;33m:\u001b[0m \u001b[1;34m'F'\u001b[0m\u001b[1;33m,\u001b[0m \u001b[1;34m'FORTRAN'\u001b[0m\u001b[1;33m:\u001b[0m \u001b[1;34m'F'\u001b[0m\u001b[1;33m,\u001b[0m\u001b[1;33m\u001b[0m\u001b[1;33m\u001b[0m\u001b[0m\n\u001b[0;32m    104\u001b[0m                       \u001b[1;34m'A'\u001b[0m\u001b[1;33m:\u001b[0m \u001b[1;34m'A'\u001b[0m\u001b[1;33m,\u001b[0m \u001b[1;34m'ALIGNED'\u001b[0m\u001b[1;33m:\u001b[0m \u001b[1;34m'A'\u001b[0m\u001b[1;33m,\u001b[0m\u001b[1;33m\u001b[0m\u001b[1;33m\u001b[0m\u001b[0m\n",
      "\u001b[1;32m~\\anaconda3\\lib\\site-packages\\pandas\\core\\generic.py\u001b[0m in \u001b[0;36m__array__\u001b[1;34m(self, dtype)\u001b[0m\n\u001b[0;32m   1897\u001b[0m \u001b[1;33m\u001b[0m\u001b[0m\n\u001b[0;32m   1898\u001b[0m         \u001b[1;31m# Validate keys\u001b[0m\u001b[1;33m\u001b[0m\u001b[1;33m\u001b[0m\u001b[1;33m\u001b[0m\u001b[0m\n\u001b[1;32m-> 1899\u001b[1;33m         \u001b[0mkeys\u001b[0m \u001b[1;33m=\u001b[0m \u001b[0mcom\u001b[0m\u001b[1;33m.\u001b[0m\u001b[0mmaybe_make_list\u001b[0m\u001b[1;33m(\u001b[0m\u001b[0mkeys\u001b[0m\u001b[1;33m)\u001b[0m\u001b[1;33m\u001b[0m\u001b[1;33m\u001b[0m\u001b[0m\n\u001b[0m\u001b[0;32m   1900\u001b[0m         invalid_keys = [\n\u001b[0;32m   1901\u001b[0m             \u001b[0mk\u001b[0m \u001b[1;32mfor\u001b[0m \u001b[0mk\u001b[0m \u001b[1;32min\u001b[0m \u001b[0mkeys\u001b[0m \u001b[1;32mif\u001b[0m \u001b[1;32mnot\u001b[0m \u001b[0mself\u001b[0m\u001b[1;33m.\u001b[0m\u001b[0m_is_label_or_level_reference\u001b[0m\u001b[1;33m(\u001b[0m\u001b[0mk\u001b[0m\u001b[1;33m,\u001b[0m \u001b[0maxis\u001b[0m\u001b[1;33m=\u001b[0m\u001b[0maxis\u001b[0m\u001b[1;33m)\u001b[0m\u001b[1;33m\u001b[0m\u001b[1;33m\u001b[0m\u001b[0m\n",
      "\u001b[1;32m~\\anaconda3\\lib\\site-packages\\pandas\\core\\generic.py\u001b[0m in \u001b[0;36m_values\u001b[1;34m(self)\u001b[0m\n\u001b[0;32m   5676\u001b[0m \u001b[1;33m\u001b[0m\u001b[0m\n\u001b[0;32m   5677\u001b[0m     \u001b[1;33m@\u001b[0m\u001b[0mfinal\u001b[0m\u001b[1;33m\u001b[0m\u001b[1;33m\u001b[0m\u001b[0m\n\u001b[1;32m-> 5678\u001b[1;33m     \u001b[1;33m@\u001b[0m\u001b[0mproperty\u001b[0m\u001b[1;33m\u001b[0m\u001b[1;33m\u001b[0m\u001b[0m\n\u001b[0m\u001b[0;32m   5679\u001b[0m     \u001b[1;32mdef\u001b[0m \u001b[0m_is_mixed_type\u001b[0m\u001b[1;33m(\u001b[0m\u001b[0mself\u001b[0m\u001b[1;33m)\u001b[0m \u001b[1;33m->\u001b[0m \u001b[0mbool_t\u001b[0m\u001b[1;33m:\u001b[0m\u001b[1;33m\u001b[0m\u001b[1;33m\u001b[0m\u001b[0m\n\u001b[0;32m   5680\u001b[0m         \u001b[1;32mif\u001b[0m \u001b[0mself\u001b[0m\u001b[1;33m.\u001b[0m\u001b[0m_mgr\u001b[0m\u001b[1;33m.\u001b[0m\u001b[0mis_single_block\u001b[0m\u001b[1;33m:\u001b[0m\u001b[1;33m\u001b[0m\u001b[1;33m\u001b[0m\u001b[0m\n",
      "\u001b[1;32m~\\anaconda3\\lib\\site-packages\\pandas\\core\\generic.py\u001b[0m in \u001b[0;36mvalues\u001b[1;34m(self)\u001b[0m\n\u001b[0;32m   5671\u001b[0m         \u001b[0mconsolidated\u001b[0m \u001b[1;33m:\u001b[0m \u001b[0msame\u001b[0m \u001b[0mtype\u001b[0m \u001b[1;32mas\u001b[0m \u001b[0mcaller\u001b[0m\u001b[1;33m\u001b[0m\u001b[1;33m\u001b[0m\u001b[0m\n\u001b[0;32m   5672\u001b[0m         \"\"\"\n\u001b[1;32m-> 5673\u001b[1;33m         \u001b[0mf\u001b[0m \u001b[1;33m=\u001b[0m \u001b[1;32mlambda\u001b[0m\u001b[1;33m:\u001b[0m \u001b[0mself\u001b[0m\u001b[1;33m.\u001b[0m\u001b[0m_mgr\u001b[0m\u001b[1;33m.\u001b[0m\u001b[0mconsolidate\u001b[0m\u001b[1;33m(\u001b[0m\u001b[1;33m)\u001b[0m\u001b[1;33m\u001b[0m\u001b[1;33m\u001b[0m\u001b[0m\n\u001b[0m\u001b[0;32m   5674\u001b[0m         \u001b[0mcons_data\u001b[0m \u001b[1;33m=\u001b[0m \u001b[0mself\u001b[0m\u001b[1;33m.\u001b[0m\u001b[0m_protect_consolidate\u001b[0m\u001b[1;33m(\u001b[0m\u001b[0mf\u001b[0m\u001b[1;33m)\u001b[0m\u001b[1;33m\u001b[0m\u001b[1;33m\u001b[0m\u001b[0m\n\u001b[0;32m   5675\u001b[0m         \u001b[1;32mreturn\u001b[0m \u001b[0mself\u001b[0m\u001b[1;33m.\u001b[0m\u001b[0m_constructor\u001b[0m\u001b[1;33m(\u001b[0m\u001b[0mcons_data\u001b[0m\u001b[1;33m)\u001b[0m\u001b[1;33m.\u001b[0m\u001b[0m__finalize__\u001b[0m\u001b[1;33m(\u001b[0m\u001b[0mself\u001b[0m\u001b[1;33m)\u001b[0m\u001b[1;33m\u001b[0m\u001b[1;33m\u001b[0m\u001b[0m\n",
      "\u001b[1;32m~\\anaconda3\\lib\\site-packages\\pandas\\core\\internals\\managers.py\u001b[0m in \u001b[0;36mas_array\u001b[1;34m(self, transpose, dtype, copy, na_value)\u001b[0m\n\u001b[0;32m    870\u001b[0m         \u001b[1;31m# Tuple[Any, Any]]\"\u001b[0m\u001b[1;33m\u001b[0m\u001b[1;33m\u001b[0m\u001b[1;33m\u001b[0m\u001b[0m\n\u001b[0;32m    871\u001b[0m         \u001b[0mblock_values\u001b[0m \u001b[1;33m=\u001b[0m \u001b[0mnp\u001b[0m\u001b[1;33m.\u001b[0m\u001b[0mempty\u001b[0m\u001b[1;33m(\u001b[0m\u001b[0mblock_shape\u001b[0m\u001b[1;33m,\u001b[0m \u001b[0mdtype\u001b[0m\u001b[1;33m=\u001b[0m\u001b[0mdtype\u001b[0m\u001b[1;33m)\u001b[0m  \u001b[1;31m# type: ignore[arg-type]\u001b[0m\u001b[1;33m\u001b[0m\u001b[1;33m\u001b[0m\u001b[0m\n\u001b[1;32m--> 872\u001b[1;33m         \u001b[0mblock_values\u001b[0m\u001b[1;33m.\u001b[0m\u001b[0mfill\u001b[0m\u001b[1;33m(\u001b[0m\u001b[0mfill_value\u001b[0m\u001b[1;33m)\u001b[0m\u001b[1;33m\u001b[0m\u001b[1;33m\u001b[0m\u001b[0m\n\u001b[0m\u001b[0;32m    873\u001b[0m         \u001b[1;32mreturn\u001b[0m \u001b[0mnew_block_2d\u001b[0m\u001b[1;33m(\u001b[0m\u001b[0mblock_values\u001b[0m\u001b[1;33m,\u001b[0m \u001b[0mplacement\u001b[0m\u001b[1;33m=\u001b[0m\u001b[0mplacement\u001b[0m\u001b[1;33m)\u001b[0m\u001b[1;33m\u001b[0m\u001b[1;33m\u001b[0m\u001b[0m\n\u001b[0;32m    874\u001b[0m \u001b[1;33m\u001b[0m\u001b[0m\n",
      "\u001b[1;32m~\\anaconda3\\lib\\site-packages\\pandas\\core\\internals\\managers.py\u001b[0m in \u001b[0;36m_interleave\u001b[1;34m(self, dtype, na_value)\u001b[0m\n\u001b[0;32m    910\u001b[0m     \"\"\"\n\u001b[0;32m    911\u001b[0m     \u001b[0mBaseBlockManager\u001b[0m \u001b[0mthat\u001b[0m \u001b[0mholds\u001b[0m \u001b[1;36m2\u001b[0m\u001b[0mD\u001b[0m \u001b[0mblocks\u001b[0m\u001b[1;33m.\u001b[0m\u001b[1;33m\u001b[0m\u001b[1;33m\u001b[0m\u001b[0m\n\u001b[1;32m--> 912\u001b[1;33m     \"\"\"\n\u001b[0m\u001b[0;32m    913\u001b[0m \u001b[1;33m\u001b[0m\u001b[0m\n\u001b[0;32m    914\u001b[0m     \u001b[0mndim\u001b[0m \u001b[1;33m=\u001b[0m \u001b[1;36m2\u001b[0m\u001b[1;33m\u001b[0m\u001b[1;33m\u001b[0m\u001b[0m\n",
      "\u001b[1;31mKeyboardInterrupt\u001b[0m: "
     ]
    }
   ],
   "source": [
    "em_lasso_rf = VotingRegressor([('lasso', lasso_model), ('rf', rf_model)])\n",
    "em_lasso_rf.fit(x_train, y_train.values.ravel())\n",
    "print('em_lasso_rf')\n",
    "print('training set')\n",
    "model_metrics(em_lasso_rf, x_train, y_train, cv=5)\n",
    "print('test set')\n",
    "model_metrics(em_lasso_rf, x_test, y_test, cv=5)\n",
    "\n",
    "em_lasso_gb = VotingRegressor([('lasso', lasso_model), ('gb', gb_model)])\n",
    "em_lasso_gb.fit(x_train, y_train.values.ravel())\n",
    "print('em_lasso_gb')\n",
    "print('training set')\n",
    "model_metrics(em_lasso_gb, x_train, y_train, cv=5)\n",
    "print('test set')\n",
    "model_metrics(em_lasso_gb, x_test, y_test, cv=5)\n",
    "\n",
    "'''em_lasso_xgb = VotingRegressor([('lasso', lasso_model), ('xgb', xgb_model)])\n",
    "em_lasso_xgb.fit(x_train, y_train.values.ravel())\n",
    "print('em_lasso_xgb')\n",
    "print('training set')\n",
    "model_metrics(em_lasso_xgb, x_train, y_train, cv=5)\n",
    "print('test set')\n",
    "model_metrics(em_lasso_xgb, x_test, y_test, cv=5)'''\n",
    "\n",
    "em_lasso_svr = VotingRegressor([('lasso', lasso_model), ('svr', svr_model)])\n",
    "em_lasso_svr.fit(x_train, y_train.values.ravel())\n",
    "print('em_lasso_svr')\n",
    "print('training set')\n",
    "model_metrics(em_lasso_svr, x_train, y_train, cv=5)\n",
    "print('test set')\n",
    "model_metrics(em_lasso_svr, x_test, y_test, cv=5)\n",
    "\n",
    "em_lasso_knn = VotingRegressor([('lasso', lasso_model), ('knn', knn_model)])\n",
    "em_lasso_knn.fit(x_train, y_train.values.ravel())\n",
    "print('em_lasso_knn')\n",
    "print('training set')\n",
    "model_metrics(em_lasso_knn, x_train, y_train, cv=5)\n",
    "print('test set')\n",
    "model_metrics(em_lasso_knn, x_test, y_test, cv=5)\n",
    "\n",
    "em_lasso_lgbm = VotingRegressor([('lasso', lasso_model), ('lgbm', lgbm_model)])\n",
    "em_lasso_lgbm.fit(x_train, y_train.values.ravel())\n",
    "print('em_lasso_lgbm')\n",
    "print('training set')\n",
    "model_metrics(em_lasso_lgbm, x_train, y_train, cv=5)\n",
    "print('test set')\n",
    "model_metrics(em_lasso_lgbm, x_test, y_test, cv=5)\n",
    "\n",
    "em_lasso_ann = VotingRegressor([('lasso', lasso_model), ('ann', ann_model)])\n",
    "em_lasso_ann.fit(x_train, y_train.values.ravel())\n",
    "print('em_lasso_ann')\n",
    "print('training set')\n",
    "model_metrics(em_lasso_ann, x_train, y_train, cv=5)\n",
    "print('test set')\n",
    "model_metrics(em_lasso_ann, x_test, y_test, cv=5)"
   ]
  },
  {
   "cell_type": "markdown",
   "id": "d3837b8e",
   "metadata": {},
   "source": [
    "Random Forest with other models"
   ]
  },
  {
   "cell_type": "code",
   "execution_count": 25,
   "id": "a838075e",
   "metadata": {},
   "outputs": [
    {
     "name": "stdout",
     "output_type": "stream",
     "text": [
      "em_rf_lasso\n",
      "training set\n",
      "R^2: 0.48 +/- 0.03\n",
      "MAE: 1.06 +/- 0.03\n",
      "RMSE: 1.34 +/- 0.04\n",
      "test set\n",
      "R^2: 0.28 +/- 0.09\n",
      "MAE: 1.24 +/- 0.16\n",
      "RMSE: 1.62 +/- 0.19\n",
      "15.890997311812576\n",
      "15.878217938396027\n",
      "em_rf_gb\n",
      "training set\n",
      "R^2: 0.48 +/- 0.02\n",
      "MAE: 1.09 +/- 0.03\n",
      "RMSE: 1.35 +/- 0.04\n",
      "test set\n",
      "R^2: 0.38 +/- 0.07\n",
      "MAE: 1.22 +/- 0.17\n",
      "RMSE: 1.52 +/- 0.21\n",
      "15.984266369239705\n",
      "16.054095932920465\n",
      "em_rf_svr\n",
      "training set\n",
      "R^2: 0.45 +/- 0.02\n",
      "MAE: 1.11 +/- 0.02\n",
      "RMSE: 1.38 +/- 0.03\n",
      "test set\n",
      "R^2: 0.32 +/- 0.09\n",
      "MAE: 1.27 +/- 0.16\n",
      "RMSE: 1.58 +/- 0.2\n",
      "15.168396860577548\n",
      "15.431193866141378\n",
      "em_rf_knn\n",
      "training set\n",
      "R^2: 0.46 +/- 0.02\n",
      "MAE: 1.11 +/- 0.02\n",
      "RMSE: 1.38 +/- 0.03\n",
      "test set\n",
      "R^2: 0.34 +/- 0.11\n",
      "MAE: 1.27 +/- 0.15\n",
      "RMSE: 1.54 +/- 0.19\n",
      "16.037768786217406\n",
      "16.012268980214955\n",
      "em_rf_lgbm\n",
      "training set\n",
      "R^2: 0.47 +/- 0.03\n",
      "MAE: 1.08 +/- 0.02\n",
      "RMSE: 1.36 +/- 0.04\n",
      "test set\n",
      "R^2: 0.38 +/- 0.07\n",
      "MAE: 1.23 +/- 0.17\n",
      "RMSE: 1.52 +/- 0.2\n",
      "15.752853810972892\n",
      "15.938036913460488\n",
      "em_rf_ann\n",
      "training set\n",
      "R^2: 0.41 +/- 0.06\n",
      "MAE: 1.13 +/- 0.04\n",
      "RMSE: 1.43 +/- 0.07\n",
      "test set\n",
      "R^2: 0.28 +/- 0.07\n",
      "MAE: 1.2 +/- 0.09\n",
      "RMSE: 1.57 +/- 0.1\n",
      "16.228652987750547\n",
      "16.81291973269782\n"
     ]
    }
   ],
   "source": [
    "em_rf_lasso = VotingRegressor([('rf', rf_model), ('lasso', lasso_model)])\n",
    "em_rf_lasso.fit(x_train, y_train.values.ravel())\n",
    "print('em_rf_lasso')\n",
    "print('training set')\n",
    "model_metrics(em_rf_lasso, x_train, y_train, cv=5)\n",
    "print('test set')\n",
    "model_metrics(em_rf_lasso, x_test, y_test, cv=5)\n",
    "# save the model\n",
    "dump(em_rf_lasso, open('ensemble_rf_lasso_mfcounts_standardized_above10.pkl', 'wb'))\n",
    "\n",
    "em_rf_lasso_predictions_test = em_rf_lasso.predict(x_test)\n",
    "em_rf_lasso_predictions_train = em_rf_lasso.predict(x_train)\n",
    "print(em_rf_lasso_predictions_test.max())\n",
    "print(em_rf_lasso_predictions_train.max())\n",
    "\n",
    "em_rf_gb = VotingRegressor([('rf', rf_model), ('gb', gb_model)])\n",
    "em_rf_gb.fit(x_train, y_train.values.ravel())\n",
    "print('em_rf_gb')\n",
    "print('training set')\n",
    "model_metrics(em_rf_gb, x_train, y_train, cv=5)\n",
    "print('test set')\n",
    "model_metrics(em_rf_gb, x_test, y_test, cv=5)\n",
    "# save the model\n",
    "dump(em_rf_gb, open('ensemble_rf_gb_mfcounts_standardized_above10.pkl', 'wb'))\n",
    "\n",
    "em_rf_gb_predictions_test = em_rf_gb.predict(x_test)\n",
    "em_rf_gb_predictions_train = em_rf_gb.predict(x_train)\n",
    "print(em_rf_gb_predictions_test.max())\n",
    "print(em_rf_gb_predictions_train.max())\n",
    "\n",
    "\n",
    "'''em_rf_xgb = VotingRegressor([('rf', rf_model), ('xgb', xgb_model)])\n",
    "em_rf_xgb.fit(x_train, y_train.values.ravel())\n",
    "print('em_rf_xgb')\n",
    "print('training set')\n",
    "model_metrics(em_rf_xgb, x_train, y_train, cv=5)\n",
    "print('test set')\n",
    "model_metrics(em_rf_xgb, x_test, y_test, cv=5)\n",
    "# save the model\n",
    "dump(em_rf_xgb, open('ensemble_rf_xgb_mfcounts_standardized_above10.pkl', 'wb'))'''\n",
    "\n",
    "\n",
    "em_rf_svr = VotingRegressor([('rf', rf_model), ('svr', svr_model)])\n",
    "em_rf_svr.fit(x_train, y_train.values.ravel())\n",
    "print('em_rf_svr')\n",
    "print('training set')\n",
    "model_metrics(em_rf_svr, x_train, y_train, cv=5)\n",
    "print('test set')\n",
    "model_metrics(em_rf_svr, x_test, y_test, cv=5)\n",
    "# save the model\n",
    "dump(em_rf_svr, open('ensemble_rf_svr_mfcounts_standardized_above10.pkl', 'wb'))\n",
    "\n",
    "em_rf_svr_predictions_test = em_rf_svr.predict(x_test)\n",
    "em_rf_svr_predictions_train = em_rf_svr.predict(x_train)\n",
    "print(em_rf_svr_predictions_test.max())\n",
    "print(em_rf_svr_predictions_train.max())\n",
    "\n",
    "\n",
    "em_rf_knn = VotingRegressor([('rf', rf_model), ('knn', knn_model)])\n",
    "em_rf_knn.fit(x_train, y_train.values.ravel())\n",
    "print('em_rf_knn')\n",
    "print('training set')\n",
    "model_metrics(em_rf_knn, x_train, y_train, cv=5)\n",
    "print('test set')\n",
    "model_metrics(em_rf_knn, x_test, y_test, cv=5)\n",
    "# save the model\n",
    "dump(em_rf_knn, open('ensemble_rf_knn_mfcounts_standardized_above10.pkl', 'wb'))\n",
    "\n",
    "em_rf_knn_predictions_test = em_rf_knn.predict(x_test)\n",
    "em_rf_knn_predictions_train = em_rf_knn.predict(x_train)\n",
    "print(em_rf_knn_predictions_test.max())\n",
    "print(em_rf_knn_predictions_train.max())\n",
    "\n",
    "\n",
    "em_rf_lgbm = VotingRegressor([('rf', rf_model), ('lgbm', lgbm_model)])\n",
    "em_rf_lgbm.fit(x_train, y_train.values.ravel())\n",
    "print('em_rf_lgbm')\n",
    "print('training set')\n",
    "model_metrics(em_rf_lgbm, x_train, y_train, cv=5)\n",
    "print('test set')\n",
    "model_metrics(em_rf_lgbm, x_test, y_test, cv=5)\n",
    "# save the model\n",
    "dump(em_rf_lgbm, open('ensemble_rf_lgbm_mfcounts_standardized_above10.pkl', 'wb'))\n",
    "\n",
    "em_rf_lgbm_predictions_test = em_rf_lgbm.predict(x_test)\n",
    "em_rf_lgbm_predictions_train = em_rf_lgbm.predict(x_train)\n",
    "print(em_rf_lgbm_predictions_test.max())\n",
    "print(em_rf_lgbm_predictions_train.max())\n",
    "\n",
    "\n",
    "em_rf_ann = VotingRegressor([('rf', rf_model), ('ann', ann_model)])\n",
    "em_rf_ann.fit(x_train, y_train.values.ravel())\n",
    "print('em_rf_ann')\n",
    "print('training set')\n",
    "model_metrics(em_rf_ann, x_train, y_train, cv=5)\n",
    "print('test set')\n",
    "model_metrics(em_rf_ann, x_test, y_test, cv=5)\n",
    "# save the model\n",
    "dump(em_rf_ann, open('ensemble_rf_ann_mfcounts_standardized_above10.pkl', 'wb'))\n",
    "\n",
    "em_rf_ann_predictions_test = em_rf_ann.predict(x_test)\n",
    "em_rf_ann_predictions_train = em_rf_ann.predict(x_train)\n",
    "print(em_rf_ann_predictions_test.max())\n",
    "print(em_rf_ann_predictions_train.max())\n"
   ]
  },
  {
   "cell_type": "code",
   "execution_count": 11,
   "id": "5833efbf-b308-4ca4-abcf-7b858e7cf3ad",
   "metadata": {},
   "outputs": [
    {
     "name": "stdout",
     "output_type": "stream",
     "text": [
      "em_rf_ann\n",
      "training set\n",
      "R^2: 0.41 +/- 0.06\n",
      "MAE: 1.13 +/- 0.04\n",
      "RMSE: 1.43 +/- 0.07\n",
      "test set\n",
      "R^2: 0.28 +/- 0.07\n",
      "MAE: 1.2 +/- 0.09\n",
      "RMSE: 1.57 +/- 0.1\n",
      "16.228652987750547\n",
      "16.81291973269782\n"
     ]
    },
    {
     "data": {
      "image/png": "[encoded data removed]",
      "text/plain": [
       "<Figure size 396x360 with 1 Axes>"
      ]
     },
     "metadata": {
      "needs_background": "light"
     },
     "output_type": "display_data"
    }
   ],
   "source": [
    "rf_model =RandomForestRegressor(n_estimators=80,max_depth=8, min_samples_split=2, min_samples_leaf=2, max_features=57, random_state=20)\n",
    "ann_model = MLPRegressor(hidden_layer_sizes = (50, 50, 50), learning_rate = 'adaptive', random_state=14, max_iter=500)\n",
    "\n",
    "em_rf_ann = VotingRegressor([('rf', rf_model), ('ann', ann_model)])\n",
    "em_rf_ann.fit(x_train, y_train.values.ravel())\n",
    "print('em_rf_ann')\n",
    "print('training set')\n",
    "R2_train, R2_SEM_train, RMSE_train, RMSE_SEM_train = model_metrics(em_rf_ann, x_train, y_train, cv=5)\n",
    "print('test set')\n",
    "R2_test, R2_SEM_test, RMSE_test, RMSE_SEM_test = model_metrics(em_rf_ann, x_test, y_test, cv=5)\n",
    "\n",
    "em_rf_ann_predictions_test = em_rf_ann.predict(x_test)\n",
    "em_rf_ann_predictions_train = em_rf_ann.predict(x_train)\n",
    "print(em_rf_ann_predictions_test.max())\n",
    "print(em_rf_ann_predictions_train.max())\n",
    "\n",
    "fig, ax = plt.subplots(figsize = (5.5, 5))\n",
    "ax.scatter(em_rf_ann_predictions_train, y_train, color = '#882255')\n",
    "ax.scatter(em_rf_ann_predictions_test, y_test, color = '#44AA99')\n",
    "\n",
    "\n",
    "#ax.plot(sTDA_HOMOs_array, m*sTDA_HOMOs_array + b, color='c', linewidth=5)\n",
    "\n",
    "# x=y line\n",
    "lims = [\n",
    "    np.min([ax.get_xlim(), ax.get_ylim()]),  # min of both axes\n",
    "    np.max([ax.get_xlim(), ax.get_ylim()]),  # max of both axes\n",
    "]\n",
    "\n",
    "# now plot both limits against eachother\n",
    "ax.plot(lims, lims, 'k-', alpha=0.75, zorder=0)\n",
    "\n",
    "ax.set_ylabel('Experimental PCE (%)', labelpad=10, weight='bold', size=16)\n",
    "ax.set_xlabel('Predicted PCE (%)', labelpad=10, weight='bold', size=16)\n",
    "ax.tick_params(axis = 'x', labelsize=14)\n",
    "ax.tick_params(axis = 'y', labelsize=14)\n",
    "\n",
    "\n",
    "text_train = 'Training Set\\n$R^2$=' + str(R2_train) + '$\\pm$' + str(R2_SEM_train) + '\\nRMSE=' + str(RMSE_train)+ '$\\pm$' + str(RMSE_SEM_train)\n",
    "text_test = 'Test Set\\n$R^2$=' + str(R2_test) + '$\\pm$' + str(R2_SEM_test) + '\\nRMSE=' + str(RMSE_test)+ '$\\pm$' + str(RMSE_SEM_test)\n",
    "\n",
    "ax.text(15.4, 11.5, text_train, ha='left', size=13, color='#882255')\n",
    "ax.text(15.4, 9.5, text_test, ha='left', size=13, color='#44AA99')\n",
    "ax.set_aspect('equal')\n",
    "plt.tight_layout()\n",
    "\n",
    "plt.savefig('em_rf_ann_predictions_scatter_MFcounts_standardized.pdf', dpi=600)\n",
    "plt.savefig('em_rf_ann_predictions_scatter_MFcounts_standardized.png', dpi=600)\n",
    "plt.show()"
   ]
  },
  {
   "cell_type": "code",
   "execution_count": null,
   "id": "3146e43b",
   "metadata": {},
   "outputs": [],
   "source": []
  }
 ],
 "metadata": {
  "kernelspec": {
   "display_name": "Python 3 (ipykernel)",
   "language": "python",
   "name": "python3"
  },
  "language_info": {
   "codemirror_mode": {
    "name": "ipython",
    "version": 3
   },
   "file_extension": ".py",
   "mimetype": "text/x-python",
   "name": "python",
   "nbconvert_exporter": "python",
   "pygments_lexer": "ipython3",
   "version": "3.8.12"
  }
 },
 "nbformat": 4,
 "nbformat_minor": 5
}
