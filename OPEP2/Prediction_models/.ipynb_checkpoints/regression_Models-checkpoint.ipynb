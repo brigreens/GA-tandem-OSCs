{
 "cells": [
  {
   "cell_type": "markdown",
   "id": "b5774fd4-07ed-43d5-aa3c-cc74ed89d50c",
   "metadata": {},
   "source": [
    "# Models to predict PCE"
   ]
  },
  {
   "cell_type": "code",
   "execution_count": 165,
   "id": "f02d5a54-a105-4e15-8238-e43c056d65f7",
   "metadata": {},
   "outputs": [],
   "source": [
    "import numpy as np\n",
    "import pandas as pd\n",
    "import matplotlib.pyplot as plt\n",
    "import pylab\n",
    "import seaborn as sns\n",
    "import math\n",
    "import statistics\n",
    "from scipy.stats import sem\n",
    "from scipy import stats\n",
    "\n",
    "from pathlib import Path\n",
    "\n",
    "import statsmodels.api as sm\n",
    "from xgboost import XGBRFRegressor\n",
    "from sklearn.svm import SVR\n",
    "from sklearn.neighbors import KNeighborsRegressor\n",
    "\n",
    "import sklearn\n",
    "from sklearn.metrics import mean_absolute_error\n",
    "from sklearn.metrics import mean_squared_error\n",
    "from sklearn.metrics import make_scorer\n",
    "from sklearn.utils import check_consistent_length\n",
    "from sklearn.utils import check_array\n",
    "from sklearn.linear_model import Lasso\n",
    "from sklearn.model_selection import cross_validate\n",
    "\n",
    "from sklearn.base import BaseEstimator, RegressorMixin\n",
    "from sklearn.preprocessing import StandardScaler\n",
    "\n",
    "from numpy import mean\n",
    "from numpy import std\n",
    "from sklearn.datasets import make_regression\n",
    "from sklearn.model_selection import cross_val_score, GridSearchCV, cross_val_predict\n",
    "from sklearn.model_selection import RepeatedKFold\n",
    "from sklearn.ensemble import RandomForestRegressor\n",
    "from sklearn.model_selection import RandomizedSearchCV\n",
    "\n",
    "from sklearn.model_selection import train_test_split\n",
    "from sklearn import metrics\n",
    "from sklearn.preprocessing import MinMaxScaler\n",
    "import math\n",
    "from sklearn.metrics import make_scorer\n",
    "\n",
    "import matplotlib.pyplot as plt\n",
    "from sklearn.linear_model import LassoCV\n",
    "from sklearn.ensemble import GradientBoostingRegressor\n",
    "\n",
    "\n",
    "import warnings\n",
    "warnings.filterwarnings(\"ignore\")"
   ]
  },
  {
   "cell_type": "code",
   "execution_count": 32,
   "id": "bd8528d9-fa39-4ddc-9c1f-68369de68c39",
   "metadata": {},
   "outputs": [
    {
     "name": "stdout",
     "output_type": "stream",
     "text": [
      "Number of donor-acceptor pairs is: 1001\n"
     ]
    }
   ],
   "source": [
    "data = pd.read_csv('descriptors.csv')\n",
    "print('Number of donor-acceptor pairs is: ' + str(len(data)))"
   ]
  },
  {
   "cell_type": "code",
   "execution_count": 33,
   "id": "038c7d42-de85-4e4f-b599-3ff3254f5d15",
   "metadata": {},
   "outputs": [
    {
     "name": "stdout",
     "output_type": "stream",
     "text": [
      "Number of donor-acceptor pairs with a PCE greater than 9% is: 505\n"
     ]
    }
   ],
   "source": [
    "data_highPCE = data[data['PCE'] > 10]\n",
    "print('Number of donor-acceptor pairs with a PCE greater than 9% is: ' + str(len(data_highPCE)))"
   ]
  },
  {
   "cell_type": "markdown",
   "id": "360d073e-552f-458e-a864-706f768e2a50",
   "metadata": {},
   "source": [
    "## LASSO"
   ]
  },
  {
   "cell_type": "code",
   "execution_count": 101,
   "id": "eb17276b-e235-4242-a3fc-7e41dd19d762",
   "metadata": {
    "tags": []
   },
   "outputs": [],
   "source": [
    "# Will tune the descriptors down to 6 until to achieve an optimized RMSE\n",
    "# returns a list of the top 6 descriptors\n",
    "def optimize_eq(df, target):\n",
    "    \n",
    "    all_descriptors = ['A-HOMO', 'A-HOMOminus1', 'A-LUMO', 'A-LUMOplus1', 'A-fundbg', 'A-deltaHOMO', 'A-deltaLUMO', 'A-opt_bg', 'A-max_abs', 'A-summed_oscs', 'A-area_spectra', 'A-area_sim_solar_spectra', 'A-chemical_potential', 'A-electrophilicity', 'A-pi_sys_size', 'A-num_rot_bonds', 'A-MolLogP', 'A-TPSA', 'A-NumHAcceptors', 'A-NumHDonors', 'A-planarity','A-dipole_moment', 'A-polarizability', 'A-SolvationEnergy_water', 'A-SolvationEnergy_hexane', 'D-HOMO', 'D-HOMOminus1', 'D-LUMO', 'D-LUMOplus1', 'D-fundbg', 'D-deltaHOMO', 'D-deltaLUMO', 'D-opt_bg', 'D-max_abs', 'D-summed_oscs', 'D-area_spectra', 'D-area_sim_solar_spectra', 'D-chemical_potential', 'D-electrophilicity', 'D-pi_sys_size', 'D-num_rot_bonds', 'D-MolLogP', 'D-TPSA', 'D-NumHAcceptors', 'D-NumHDonors', 'D-planarity','D-dipole_moment', 'D-polarizability', 'D-SolvationEnergy_water', 'D-SolvationEnergy_hexane', 'AD-overlap', 'AD-HOMOoffset', 'AD-LUMOoffset', 'DHOMO_ALUMO_offset']\n",
    "    \n",
    "    # LASSO to remove any with coefficients of zero\n",
    "    descriptors_to_remove = []\n",
    "    results = evaluate_model(all_descriptors, df[target], df,output=False)\n",
    "    for x in range(len(results[9])):\n",
    "        if results[9][x][1] == 0.0:\n",
    "            descriptors_to_remove.append(results[9][x][0])\n",
    "            \n",
    "    for x in descriptors_to_remove:\n",
    "        all_descriptors.remove(x)\n",
    "    print(all_descriptors)\n",
    "    \n",
    "    while len(all_descriptors) > 6:\n",
    "        rmse = 100.0\n",
    "        diff = 0.0\n",
    "        mae = 100.0\n",
    "        r2 = -1.00\n",
    "        for x in range(len(all_descriptors)):\n",
    "            temp_descriptor = all_descriptors[x]\n",
    "            new_list = all_descriptors.copy()\n",
    "            new_list.remove(temp_descriptor)\n",
    "            results = evaluate_model(new_list, df[target], df,output=False)\n",
    "            new_diff = 100.0 - float(results[4])\n",
    "            \n",
    "            if new_diff >= diff:\n",
    "                if new_diff == diff:\n",
    "                    if mae == results[2]:\n",
    "                        if results[0] > r2:\n",
    "                            diff = new_diff\n",
    "                            mae = results[2]\n",
    "                            r2 = results[0]\n",
    "                            rmse = results[4]\n",
    "                            best_list = new_list\n",
    "                    elif mae > results[2]:\n",
    "                        diff = new_diff\n",
    "                        mae = results[2]\n",
    "                        r2 = results[0]\n",
    "                        rmse = results[4]\n",
    "                        best_list = new_list\n",
    "                else:\n",
    "                    diff = new_diff\n",
    "                    mae = results[2]\n",
    "                    r2 = results[0]\n",
    "                    rmse = results[4]\n",
    "                    best_list = new_list\n",
    "                \n",
    "        all_descriptors = best_list\n",
    "        print(len(all_descriptors))\n",
    "        print(rmse)\n",
    "        \n",
    "    print(all_descriptors)\n",
    "    print(rmse)\n",
    "    \n",
    "    return all_descriptors\n",
    "\n",
    "## from sci-kit-learn https://github.com/scikit-learn/scikit-learn/blob/4773f3e39/sklearn/metrics/_regression.py#L197\n",
    "def _check_reg_targets(y_true, y_pred, multioutput, dtype=\"numeric\"):\n",
    "    check_consistent_length(y_true, y_pred)\n",
    "    y_true = check_array(y_true, ensure_2d=False, dtype=dtype)\n",
    "    y_pred = check_array(y_pred, ensure_2d=False, dtype=dtype)\n",
    "\n",
    "    if y_true.ndim == 1:\n",
    "        y_true = y_true.reshape((-1, 1))\n",
    "\n",
    "    if y_pred.ndim == 1:\n",
    "        y_pred = y_pred.reshape((-1, 1))\n",
    "\n",
    "    if y_true.shape[1] != y_pred.shape[1]:\n",
    "        raise ValueError(\"y_true and y_pred have different number of output \"\n",
    "                         \"({0}!={1})\".format(y_true.shape[1], y_pred.shape[1]))\n",
    "\n",
    "    n_outputs = y_true.shape[1]\n",
    "    allowed_multioutput_str = ('raw_values', 'uniform_average',\n",
    "                               'variance_weighted')\n",
    "    if isinstance(multioutput, str):\n",
    "        if multioutput not in allowed_multioutput_str:\n",
    "            raise ValueError(\"Allowed 'multioutput' string values are {}. \"\n",
    "                             \"You provided multioutput={!r}\".format(\n",
    "                                 allowed_multioutput_str,\n",
    "                                 multioutput))\n",
    "    elif multioutput is not None:\n",
    "        multioutput = check_array(multioutput, ensure_2d=False)\n",
    "        if n_outputs == 1:\n",
    "            raise ValueError(\"Custom weights are useful only in \"\n",
    "                             \"multi-output cases.\")\n",
    "        elif n_outputs != len(multioutput):\n",
    "            raise ValueError((\"There must be equally many custom weights \"\n",
    "                              \"(%d) as outputs (%d).\") %\n",
    "                             (len(multioutput), n_outputs))\n",
    "    y_type = 'continuous' if n_outputs == 1 else 'continuous-multioutput'\n",
    "\n",
    "    return y_type, y_true, y_pred, multioutput\n",
    "\n",
    "def mean_absolute_percentage_error(y_true, y_pred,\n",
    "                                   sample_weight=None,\n",
    "                                   multioutput='uniform_average'):\n",
    "\n",
    "    y_type, y_true, y_pred, multioutput = _check_reg_targets(\n",
    "        y_true, y_pred, multioutput)\n",
    "    check_consistent_length(y_true, y_pred, sample_weight)\n",
    "    epsilon = np.finfo(np.float64).eps\n",
    "    mape = np.abs(y_pred - y_true) / np.maximum(np.abs(y_true), epsilon)\n",
    "    output_errors = np.average(mape,\n",
    "                               weights=sample_weight, axis=0)\n",
    "    if isinstance(multioutput, str):\n",
    "        if multioutput == 'raw_values':\n",
    "            return output_errors\n",
    "        elif multioutput == 'uniform_average':\n",
    "            # pass None as weights to np.average: uniform mean\n",
    "            multioutput = None\n",
    "\n",
    "    return np.average(output_errors, weights=multioutput)\n",
    "\n",
    "def evaluate_model(list_of_desc, target, dataframe, cf = False, output=True):\n",
    "    '''\n",
    "    Evaluates the errors of the proposed model\n",
    "    \n",
    "    Parameters\n",
    "    ---------\n",
    "    list_of_desc = name of the list that contains the descriptors\n",
    "    target = target experimental value in the dataframe. Ex: df_highPCE['ExperimentalJsc']\n",
    "    dataframe = name of dataframe to use descriptors from\n",
    "    cf = should it show the coefficients\n",
    "    \n",
    "    Returns\n",
    "    -------\n",
    "    R2, MAE, RMSE, MAPE, y-intercept of equation, coefficients of each descriptor, average predictions\n",
    "    '''\n",
    "    \n",
    "    new_df = dataframe[list_of_desc].copy()\n",
    "    \n",
    "    max_mae = 10.0\n",
    "    best_alpha = 0\n",
    "    for a in range(1,200):\n",
    "        lm =Lasso(alpha=float(a)/100.0)\n",
    "        lm.fit(new_df, target)\n",
    "        mae = mean_absolute_error(target, lm.predict(new_df))\n",
    "        if mae < max_mae:\n",
    "            best_alpha = float(a)/100.0\n",
    "            max_mae = mae\n",
    "\n",
    "    r2_score = []\n",
    "    intercepts = []\n",
    "    coefs = []\n",
    "    predicted_PCE = []\n",
    "    MAE_cv = []\n",
    "    RMSE_cv = []\n",
    "    \n",
    "    print('Best alpha is', best_alpha)\n",
    "\n",
    "    PCE_cv = cross_validate(Lasso(alpha = best_alpha, max_iter = 100000), new_df, target, cv=5, scoring = ['neg_mean_squared_error'] , return_estimator = True)\n",
    "    for x in PCE_cv['estimator']:\n",
    "        coef = x.coef_\n",
    "        coefs.append(coef)\n",
    "\n",
    "        pred = x.predict(new_df)\n",
    "        predicted_PCE.append(pred)\n",
    "\n",
    "        r2_score.append(x.score(new_df, target))\n",
    "        intercepts.append(x.intercept_)\n",
    "\n",
    "        \n",
    "    avg_coef = sum(coefs)/5.0    \n",
    "    zipped_coefs = zip(list_of_desc, avg_coef)\n",
    "    \n",
    "    if output == True:\n",
    "        if cf == True:\n",
    "            print('The average intercept from 5 folds is ', statistics.mean(intercepts))\n",
    "            print('The average coefficients of the 5 folds is ', list(zipped_coefs))\n",
    "    \n",
    "    coefficients = list(zipped_coefs)\n",
    "    \n",
    "    avg_pred = sum(predicted_PCE)/ 5.0    \n",
    "    all_mae = []\n",
    "    all_RMSE = []\n",
    "    all_MAPE = []\n",
    "    for x in range(len(predicted_PCE)):\n",
    "        mae = mean_absolute_error(target, predicted_PCE[x])\n",
    "        all_mae.append(mae)\n",
    "        mse = mean_squared_error(target, predicted_PCE[x])\n",
    "        rmse = math.sqrt(mse)\n",
    "        all_RMSE.append(rmse)\n",
    "        mape = mean_absolute_percentage_error(target, predicted_PCE[x]) * 100\n",
    "        all_MAPE.append(mape)\n",
    "    SEM_mae = round(sem(all_mae), 3)\n",
    "    SEM_RMSE = round(sem(all_RMSE), 5)\n",
    "    SEM_MAPE = round(sem(all_MAPE), 5)\n",
    "    \n",
    "    \n",
    "    mean_MAE = round(statistics.mean(all_mae), 3)\n",
    "    mean_RMSE = round(statistics.mean(all_RMSE), 4)\n",
    "    mean_MAPE = round(statistics.mean(all_MAPE), 4)\n",
    "    SEM_r2 = round(sem(r2_score), 3)\n",
    "    \n",
    "    if output == True:\n",
    "        print('The 5-fold cross-validated RMSE of this model is, ', mean_RMSE, ' +/- ', SEM_RMSE)\n",
    "        print('The 5-fold cross-validated MAE of the average ', mean_MAE, ' +/- ', SEM_mae)\n",
    "        print('The average r^2 value is ', statistics.mean(r2_score), ' +/- ', SEM_r2 )\n",
    "    mean_r2 = round(statistics.mean(r2_score), 3)\n",
    "    \n",
    "    intercept = statistics.mean(intercepts)\n",
    "    \n",
    "    return mean_r2, SEM_r2, mean_MAE, SEM_mae, mean_RMSE, SEM_RMSE, mean_MAPE, SEM_MAPE, intercept, coefficients, avg_pred"
   ]
  },
  {
   "cell_type": "code",
   "execution_count": 35,
   "id": "96bd6202-d561-4620-9b1f-1814dd294ed0",
   "metadata": {},
   "outputs": [],
   "source": [
    "#https://www.programcreek.com/python/example/99249/sklearn.linear_model.LassoCV\n",
    "\n",
    "def load_default(self, machine_list='basic'):\n",
    "        \"\"\"\n",
    "        Loads 4 different scikit-learn regressors by default. The advanced list adds more machines. \n",
    "\n",
    "        Parameters\n",
    "        ----------\n",
    "        machine_list: optional, list of strings\n",
    "            List of default machine names to be loaded.\n",
    "        Returns\n",
    "        -------\n",
    "        self : returns an instance of self.\n",
    "        \"\"\"\n",
    "\n",
    "        if machine_list == 'basic':\n",
    "            machine_list = ['tree', 'ridge', 'random_forest', 'svm']\n",
    "        if machine_list == 'advanced':\n",
    "            machine_list=['lasso', 'tree', 'ridge', 'random_forest', 'svm', 'bayesian_ridge', 'sgd']\n",
    "\n",
    "        self.estimators_ = {}\n",
    "        for machine in machine_list:\n",
    "            try:\n",
    "                if machine == 'lasso':\n",
    "                    self.estimators_['lasso'] = linear_model.LassoCV(random_state=self.random_state).fit(self.X_k_, self.y_k_)\n",
    "                if machine == 'tree':\n",
    "                    self.estimators_['tree'] = DecisionTreeRegressor(random_state=self.random_state).fit(self.X_k_, self.y_k_)\n",
    "                if machine == 'ridge':\n",
    "                    self.estimators_['ridge'] = linear_model.RidgeCV().fit(self.X_k_, self.y_k_)\n",
    "                if machine == 'random_forest':\n",
    "                    self.estimators_['random_forest'] = RandomForestRegressor(random_state=self.random_state).fit(self.X_k_, self.y_k_)\n",
    "                if machine == 'svm':\n",
    "                    self.estimators_['svm'] = LinearSVR(random_state=self.random_state).fit(self.X_k_, self.y_k_)\n",
    "                if machine == 'sgd':\n",
    "                    self.estimators_['sgd'] = linear_model.SGDRegressor(random_state=self.random_state).fit(self.X_k_, self.y_k_)\n",
    "                if machine == 'bayesian_ridge':\n",
    "                    self.estimators_['bayesian_ridge'] = linear_model.BayesianRidge().fit(self.X_k_, self.y_k_)\n",
    "            except ValueError:\n",
    "                continue\n",
    "        return self "
   ]
  },
  {
   "cell_type": "markdown",
   "id": "24ef9aab-208c-45ae-8181-8d4dc92c65aa",
   "metadata": {},
   "source": [
    "Lets see which descriptors LASSO selects:"
   ]
  },
  {
   "cell_type": "code",
   "execution_count": 8,
   "id": "b988486c-4c33-4fbb-94b8-771049975242",
   "metadata": {},
   "outputs": [
    {
     "name": "stdout",
     "output_type": "stream",
     "text": [
      "There are 54 descriptors\n"
     ]
    }
   ],
   "source": [
    "all_descriptors = ['A-HOMO', 'A-HOMOminus1', 'A-LUMO', 'A-LUMOplus1', 'A-fundbg', 'A-deltaHOMO', 'A-deltaLUMO', 'A-opt_bg', 'A-max_abs', 'A-summed_oscs', 'A-area_spectra', 'A-area_sim_solar_spectra', 'A-chemical_potential', 'A-electrophilicity', 'A-pi_sys_size', 'A-num_rot_bonds', 'A-MolLogP', 'A-TPSA', 'A-NumHAcceptors', 'A-NumHDonors', 'A-planarity','A-dipole_moment', 'A-polarizability', 'A-SolvationEnergy_water', 'A-SolvationEnergy_hexane', 'D-HOMO', 'D-HOMOminus1', 'D-LUMO', 'D-LUMOplus1', 'D-fundbg', 'D-deltaHOMO', 'D-deltaLUMO', 'D-opt_bg', 'D-max_abs', 'D-summed_oscs', 'D-area_spectra', 'D-area_sim_solar_spectra', 'D-chemical_potential', 'D-electrophilicity', 'D-pi_sys_size', 'D-num_rot_bonds', 'D-MolLogP', 'D-TPSA', 'D-NumHAcceptors', 'D-NumHDonors', 'D-planarity','D-dipole_moment', 'D-polarizability', 'D-SolvationEnergy_water', 'D-SolvationEnergy_hexane', 'AD-overlap', 'AD-HOMOoffset', 'AD-LUMOoffset', 'DHOMO_ALUMO_offset']\n",
    "print(\"There are \" + str(len(all_descriptors)) + ' descriptors')"
   ]
  },
  {
   "cell_type": "code",
   "execution_count": 102,
   "id": "3a5807b5-2d51-4095-b904-09b0322786ca",
   "metadata": {},
   "outputs": [
    {
     "name": "stdout",
     "output_type": "stream",
     "text": [
      "Best alpha is 0.01\n",
      "The average intercept from 5 folds is  -51.57087072184057\n",
      "The average coefficients of the 5 folds is  [('A-HOMO', 0.0), ('A-HOMOminus1', 0.0), ('A-LUMO', -0.17545975271623135), ('A-LUMOplus1', -0.37452985792697435), ('A-fundbg', 0.0), ('A-deltaHOMO', -2.257287427054922), ('A-deltaLUMO', -0.0010517494440340231), ('A-opt_bg', 0.0), ('A-max_abs', 0.012185671244768142), ('A-summed_oscs', -0.11552792341660978), ('A-area_spectra', -0.0024600261908346815), ('A-area_sim_solar_spectra', 0.06207173287218095), ('A-chemical_potential', 0.0), ('A-electrophilicity', -0.03011792426999103), ('A-pi_sys_size', -0.03922436041426376), ('A-num_rot_bonds', -0.39931444393768434), ('A-MolLogP', 0.3033117383147984), ('A-TPSA', 0.019222160253011905), ('A-NumHAcceptors', 0.06030204224934772), ('A-NumHDonors', 0.0), ('A-planarity', -0.16661875585035552), ('A-dipole_moment', -0.02827826710704328), ('A-polarizability', -0.0011481163925569366), ('A-SolvationEnergy_water', 0.0), ('A-SolvationEnergy_hexane', 0.0), ('D-HOMO', 0.0), ('D-HOMOminus1', -2.609560498762281), ('D-LUMO', -0.09153978351798593), ('D-LUMOplus1', -2.4630012027165327), ('D-fundbg', 0.0), ('D-deltaHOMO', 0.0), ('D-deltaLUMO', 0.0), ('D-opt_bg', 0.0), ('D-max_abs', -0.005792822722166216), ('D-summed_oscs', 0.061046950921234355), ('D-area_spectra', -0.0009257572306575465), ('D-area_sim_solar_spectra', 0.07486112837362366), ('D-chemical_potential', 0.0), ('D-electrophilicity', 0.019743047637750682), ('D-pi_sys_size', 0.0028551618219520873), ('D-num_rot_bonds', 0.1379674641410618), ('D-MolLogP', 0.09091670347420719), ('D-TPSA', -0.01842713958710088), ('D-NumHAcceptors', 0.19570504708200062), ('D-NumHDonors', 0.0), ('D-planarity', -0.197607592555249), ('D-dipole_moment', -0.05797453846768639), ('D-polarizability', -0.005094977289589237), ('D-SolvationEnergy_water', 0.0), ('D-SolvationEnergy_hexane', 0.0), ('AD-overlap', 0.0012525194003496043), ('AD-HOMOoffset', 0.0), ('AD-LUMOoffset', -0.004279434045421667), ('DHOMO_ALUMO_offset', 0.0)]\n",
      "The 5-fold cross-validated RMSE of this model is,  2.9167  +/-  0.00412\n",
      "The 5-fold cross-validated MAE of the average  2.23  +/-  0.003\n",
      "The average r^2 value is  0.41299670588474546  +/-  0.002\n"
     ]
    }
   ],
   "source": [
    "Lasso_PCE = evaluate_model(all_descriptors, data['PCE'], data, cf=True)"
   ]
  },
  {
   "cell_type": "markdown",
   "id": "07715e20-b58d-40b3-bb55-558adf621de4",
   "metadata": {},
   "source": [
    "When the coefficient is zero, it means there is no correlation between the descriptor and the PCE, so it can be discarded.  \n",
    "The following descriptors were zeroed out:\n",
    "1. HOMO (acc & don)\n",
    "2. HOMO-1 (acc)\n",
    "3. fundamental bandgap (acc & don)\n",
    "4. optical bandgap (acc & don)\n",
    "5. chemical potential (acc & don)\n",
    "6. NumHDonors (acc & don)\n",
    "7. Solvation energies for water and hexane (acc & don)\n",
    "8. deltaHOMO (don)\n",
    "9. deltaLUMO (don)\n",
    "10. HOMO offset between donor and acceptor\n",
    "11. Offset between donor HOMO and acceptor LUMO"
   ]
  },
  {
   "cell_type": "markdown",
   "id": "01418764-b798-4491-8550-96c630db1dcd",
   "metadata": {},
   "source": [
    "The remaining descriptors are hand-tuned to lower the RMSE"
   ]
  },
  {
   "cell_type": "code",
   "execution_count": 19,
   "id": "821e2d85-d87e-4ff0-a35e-8a986326a278",
   "metadata": {
    "collapsed": true,
    "jupyter": {
     "outputs_hidden": true
    },
    "tags": []
   },
   "outputs": [
    {
     "name": "stdout",
     "output_type": "stream",
     "text": [
      "['A-LUMO', 'A-LUMOplus1', 'A-deltaHOMO', 'A-deltaLUMO', 'A-max_abs', 'A-summed_oscs', 'A-area_spectra', 'A-area_sim_solar_spectra', 'A-electrophilicity', 'A-pi_sys_size', 'A-num_rot_bonds', 'A-MolLogP', 'A-TPSA', 'A-NumHAcceptors', 'A-planarity', 'A-dipole_moment', 'A-polarizability', 'D-HOMOminus1', 'D-LUMO', 'D-LUMOplus1', 'D-max_abs', 'D-summed_oscs', 'D-area_spectra', 'D-area_sim_solar_spectra', 'D-electrophilicity', 'D-pi_sys_size', 'D-num_rot_bonds', 'D-MolLogP', 'D-TPSA', 'D-NumHAcceptors', 'D-planarity', 'D-dipole_moment', 'D-polarizability', 'AD-overlap', 'AD-LUMOoffset']\n"
     ]
    },
    {
     "name": "stderr",
     "output_type": "stream",
     "text": [
      "C:\\Users\\bripe\\anaconda3\\lib\\site-packages\\sklearn\\linear_model\\_coordinate_descent.py:530: ConvergenceWarning: Objective did not converge. You might want to increase the number of iterations. Duality gap: 6.781293106398152, tolerance: 1.4507535502977023\n",
      "  model = cd_fast.enet_coordinate_descent(\n",
      "C:\\Users\\bripe\\anaconda3\\lib\\site-packages\\sklearn\\linear_model\\_coordinate_descent.py:530: ConvergenceWarning: Objective did not converge. You might want to increase the number of iterations. Duality gap: 31.384951783514225, tolerance: 1.4507535502977023\n",
      "  model = cd_fast.enet_coordinate_descent(\n",
      "C:\\Users\\bripe\\anaconda3\\lib\\site-packages\\sklearn\\linear_model\\_coordinate_descent.py:530: ConvergenceWarning: Objective did not converge. You might want to increase the number of iterations. Duality gap: 8.786145665426375, tolerance: 1.4507535502977023\n",
      "  model = cd_fast.enet_coordinate_descent(\n",
      "C:\\Users\\bripe\\anaconda3\\lib\\site-packages\\sklearn\\linear_model\\_coordinate_descent.py:530: ConvergenceWarning: Objective did not converge. You might want to increase the number of iterations. Duality gap: 2.2772241456805205, tolerance: 1.4507535502977023\n",
      "  model = cd_fast.enet_coordinate_descent(\n",
      "C:\\Users\\bripe\\anaconda3\\lib\\site-packages\\sklearn\\linear_model\\_coordinate_descent.py:530: ConvergenceWarning: Objective did not converge. You might want to increase the number of iterations. Duality gap: 4.260510541649637, tolerance: 1.4507535502977023\n",
      "  model = cd_fast.enet_coordinate_descent(\n",
      "C:\\Users\\bripe\\anaconda3\\lib\\site-packages\\sklearn\\linear_model\\_coordinate_descent.py:530: ConvergenceWarning: Objective did not converge. You might want to increase the number of iterations. Duality gap: 2.282502544549061, tolerance: 1.4507535502977023\n",
      "  model = cd_fast.enet_coordinate_descent(\n",
      "C:\\Users\\bripe\\anaconda3\\lib\\site-packages\\sklearn\\linear_model\\_coordinate_descent.py:530: ConvergenceWarning: Objective did not converge. You might want to increase the number of iterations. Duality gap: 70.73498220931742, tolerance: 1.4507535502977023\n",
      "  model = cd_fast.enet_coordinate_descent(\n",
      "C:\\Users\\bripe\\anaconda3\\lib\\site-packages\\sklearn\\linear_model\\_coordinate_descent.py:530: ConvergenceWarning: Objective did not converge. You might want to increase the number of iterations. Duality gap: 24.674763146816076, tolerance: 1.4507535502977023\n",
      "  model = cd_fast.enet_coordinate_descent(\n",
      "C:\\Users\\bripe\\anaconda3\\lib\\site-packages\\sklearn\\linear_model\\_coordinate_descent.py:530: ConvergenceWarning: Objective did not converge. You might want to increase the number of iterations. Duality gap: 23.753236227011257, tolerance: 1.4507535502977023\n",
      "  model = cd_fast.enet_coordinate_descent(\n",
      "C:\\Users\\bripe\\anaconda3\\lib\\site-packages\\sklearn\\linear_model\\_coordinate_descent.py:530: ConvergenceWarning: Objective did not converge. You might want to increase the number of iterations. Duality gap: 5.990294182571233, tolerance: 1.4507535502977023\n",
      "  model = cd_fast.enet_coordinate_descent(\n",
      "C:\\Users\\bripe\\anaconda3\\lib\\site-packages\\sklearn\\linear_model\\_coordinate_descent.py:530: ConvergenceWarning: Objective did not converge. You might want to increase the number of iterations. Duality gap: 3.13262742337065, tolerance: 1.4507535502977023\n",
      "  model = cd_fast.enet_coordinate_descent(\n"
     ]
    },
    {
     "name": "stdout",
     "output_type": "stream",
     "text": [
      "34\n",
      "2.9135\n"
     ]
    },
    {
     "name": "stderr",
     "output_type": "stream",
     "text": [
      "C:\\Users\\bripe\\anaconda3\\lib\\site-packages\\sklearn\\linear_model\\_coordinate_descent.py:530: ConvergenceWarning: Objective did not converge. You might want to increase the number of iterations. Duality gap: 6.383602071324276, tolerance: 1.4507535502977023\n",
      "  model = cd_fast.enet_coordinate_descent(\n",
      "C:\\Users\\bripe\\anaconda3\\lib\\site-packages\\sklearn\\linear_model\\_coordinate_descent.py:530: ConvergenceWarning: Objective did not converge. You might want to increase the number of iterations. Duality gap: 30.775178613127537, tolerance: 1.4507535502977023\n",
      "  model = cd_fast.enet_coordinate_descent(\n",
      "C:\\Users\\bripe\\anaconda3\\lib\\site-packages\\sklearn\\linear_model\\_coordinate_descent.py:530: ConvergenceWarning: Objective did not converge. You might want to increase the number of iterations. Duality gap: 8.57423568455124, tolerance: 1.4507535502977023\n",
      "  model = cd_fast.enet_coordinate_descent(\n",
      "C:\\Users\\bripe\\anaconda3\\lib\\site-packages\\sklearn\\linear_model\\_coordinate_descent.py:530: ConvergenceWarning: Objective did not converge. You might want to increase the number of iterations. Duality gap: 2.2667150969664362, tolerance: 1.4507535502977023\n",
      "  model = cd_fast.enet_coordinate_descent(\n",
      "C:\\Users\\bripe\\anaconda3\\lib\\site-packages\\sklearn\\linear_model\\_coordinate_descent.py:530: ConvergenceWarning: Objective did not converge. You might want to increase the number of iterations. Duality gap: 4.02869174305124, tolerance: 1.4507535502977023\n",
      "  model = cd_fast.enet_coordinate_descent(\n",
      "C:\\Users\\bripe\\anaconda3\\lib\\site-packages\\sklearn\\linear_model\\_coordinate_descent.py:530: ConvergenceWarning: Objective did not converge. You might want to increase the number of iterations. Duality gap: 2.239054768853748, tolerance: 1.4507535502977023\n",
      "  model = cd_fast.enet_coordinate_descent(\n",
      "C:\\Users\\bripe\\anaconda3\\lib\\site-packages\\sklearn\\linear_model\\_coordinate_descent.py:530: ConvergenceWarning: Objective did not converge. You might want to increase the number of iterations. Duality gap: 72.48473122874748, tolerance: 1.4507535502977023\n",
      "  model = cd_fast.enet_coordinate_descent(\n",
      "C:\\Users\\bripe\\anaconda3\\lib\\site-packages\\sklearn\\linear_model\\_coordinate_descent.py:530: ConvergenceWarning: Objective did not converge. You might want to increase the number of iterations. Duality gap: 24.562403660802374, tolerance: 1.4507535502977023\n",
      "  model = cd_fast.enet_coordinate_descent(\n",
      "C:\\Users\\bripe\\anaconda3\\lib\\site-packages\\sklearn\\linear_model\\_coordinate_descent.py:530: ConvergenceWarning: Objective did not converge. You might want to increase the number of iterations. Duality gap: 23.67700429018896, tolerance: 1.4507535502977023\n",
      "  model = cd_fast.enet_coordinate_descent(\n",
      "C:\\Users\\bripe\\anaconda3\\lib\\site-packages\\sklearn\\linear_model\\_coordinate_descent.py:530: ConvergenceWarning: Objective did not converge. You might want to increase the number of iterations. Duality gap: 5.834006099430553, tolerance: 1.4507535502977023\n",
      "  model = cd_fast.enet_coordinate_descent(\n",
      "C:\\Users\\bripe\\anaconda3\\lib\\site-packages\\sklearn\\linear_model\\_coordinate_descent.py:530: ConvergenceWarning: Objective did not converge. You might want to increase the number of iterations. Duality gap: 3.0625718640767445, tolerance: 1.4507535502977023\n",
      "  model = cd_fast.enet_coordinate_descent(\n"
     ]
    },
    {
     "name": "stdout",
     "output_type": "stream",
     "text": [
      "33\n",
      "2.9108\n"
     ]
    },
    {
     "name": "stderr",
     "output_type": "stream",
     "text": [
      "C:\\Users\\bripe\\anaconda3\\lib\\site-packages\\sklearn\\linear_model\\_coordinate_descent.py:530: ConvergenceWarning: Objective did not converge. You might want to increase the number of iterations. Duality gap: 24.301351982651795, tolerance: 1.4507535502977023\n",
      "  model = cd_fast.enet_coordinate_descent(\n",
      "C:\\Users\\bripe\\anaconda3\\lib\\site-packages\\sklearn\\linear_model\\_coordinate_descent.py:530: ConvergenceWarning: Objective did not converge. You might want to increase the number of iterations. Duality gap: 6.025165096245473, tolerance: 1.4507535502977023\n",
      "  model = cd_fast.enet_coordinate_descent(\n",
      "C:\\Users\\bripe\\anaconda3\\lib\\site-packages\\sklearn\\linear_model\\_coordinate_descent.py:530: ConvergenceWarning: Objective did not converge. You might want to increase the number of iterations. Duality gap: 1.7502440586868033, tolerance: 1.4507535502977023\n",
      "  model = cd_fast.enet_coordinate_descent(\n",
      "C:\\Users\\bripe\\anaconda3\\lib\\site-packages\\sklearn\\linear_model\\_coordinate_descent.py:530: ConvergenceWarning: Objective did not converge. You might want to increase the number of iterations. Duality gap: 5.288329381630319, tolerance: 1.4507535502977023\n",
      "  model = cd_fast.enet_coordinate_descent(\n",
      "C:\\Users\\bripe\\anaconda3\\lib\\site-packages\\sklearn\\linear_model\\_coordinate_descent.py:530: ConvergenceWarning: Objective did not converge. You might want to increase the number of iterations. Duality gap: 2.7654079249496135, tolerance: 1.4507535502977023\n",
      "  model = cd_fast.enet_coordinate_descent(\n",
      "C:\\Users\\bripe\\anaconda3\\lib\\site-packages\\sklearn\\linear_model\\_coordinate_descent.py:530: ConvergenceWarning: Objective did not converge. You might want to increase the number of iterations. Duality gap: 1.8021353130952775, tolerance: 1.4507535502977023\n",
      "  model = cd_fast.enet_coordinate_descent(\n",
      "C:\\Users\\bripe\\anaconda3\\lib\\site-packages\\sklearn\\linear_model\\_coordinate_descent.py:530: ConvergenceWarning: Objective did not converge. You might want to increase the number of iterations. Duality gap: 2.4987743007950485, tolerance: 1.4507535502977023\n",
      "  model = cd_fast.enet_coordinate_descent(\n",
      "C:\\Users\\bripe\\anaconda3\\lib\\site-packages\\sklearn\\linear_model\\_coordinate_descent.py:530: ConvergenceWarning: Objective did not converge. You might want to increase the number of iterations. Duality gap: 44.58912390049318, tolerance: 1.4507535502977023\n",
      "  model = cd_fast.enet_coordinate_descent(\n",
      "C:\\Users\\bripe\\anaconda3\\lib\\site-packages\\sklearn\\linear_model\\_coordinate_descent.py:530: ConvergenceWarning: Objective did not converge. You might want to increase the number of iterations. Duality gap: 10.754715273023976, tolerance: 1.4507535502977023\n",
      "  model = cd_fast.enet_coordinate_descent(\n",
      "C:\\Users\\bripe\\anaconda3\\lib\\site-packages\\sklearn\\linear_model\\_coordinate_descent.py:530: ConvergenceWarning: Objective did not converge. You might want to increase the number of iterations. Duality gap: 3.4640453134106792, tolerance: 1.4507535502977023\n",
      "  model = cd_fast.enet_coordinate_descent(\n",
      "C:\\Users\\bripe\\anaconda3\\lib\\site-packages\\sklearn\\linear_model\\_coordinate_descent.py:530: ConvergenceWarning: Objective did not converge. You might want to increase the number of iterations. Duality gap: 23.896206012603216, tolerance: 1.4507535502977023\n",
      "  model = cd_fast.enet_coordinate_descent(\n",
      "C:\\Users\\bripe\\anaconda3\\lib\\site-packages\\sklearn\\linear_model\\_coordinate_descent.py:530: ConvergenceWarning: Objective did not converge. You might want to increase the number of iterations. Duality gap: 4.0530502701803925, tolerance: 1.4507535502977023\n",
      "  model = cd_fast.enet_coordinate_descent(\n",
      "C:\\Users\\bripe\\anaconda3\\lib\\site-packages\\sklearn\\linear_model\\_coordinate_descent.py:530: ConvergenceWarning: Objective did not converge. You might want to increase the number of iterations. Duality gap: 42.4364885807754, tolerance: 1.4507535502977023\n",
      "  model = cd_fast.enet_coordinate_descent(\n",
      "C:\\Users\\bripe\\anaconda3\\lib\\site-packages\\sklearn\\linear_model\\_coordinate_descent.py:530: ConvergenceWarning: Objective did not converge. You might want to increase the number of iterations. Duality gap: 1.5672356891773234, tolerance: 1.4507535502977023\n",
      "  model = cd_fast.enet_coordinate_descent(\n"
     ]
    },
    {
     "name": "stdout",
     "output_type": "stream",
     "text": [
      "32\n",
      "2.9095\n"
     ]
    },
    {
     "name": "stderr",
     "output_type": "stream",
     "text": [
      "C:\\Users\\bripe\\anaconda3\\lib\\site-packages\\sklearn\\linear_model\\_coordinate_descent.py:530: ConvergenceWarning: Objective did not converge. You might want to increase the number of iterations. Duality gap: 24.306155209224016, tolerance: 1.4507535502977023\n",
      "  model = cd_fast.enet_coordinate_descent(\n",
      "C:\\Users\\bripe\\anaconda3\\lib\\site-packages\\sklearn\\linear_model\\_coordinate_descent.py:530: ConvergenceWarning: Objective did not converge. You might want to increase the number of iterations. Duality gap: 6.057061871975748, tolerance: 1.4507535502977023\n",
      "  model = cd_fast.enet_coordinate_descent(\n",
      "C:\\Users\\bripe\\anaconda3\\lib\\site-packages\\sklearn\\linear_model\\_coordinate_descent.py:530: ConvergenceWarning: Objective did not converge. You might want to increase the number of iterations. Duality gap: 1.7463449306924304, tolerance: 1.4507535502977023\n",
      "  model = cd_fast.enet_coordinate_descent(\n",
      "C:\\Users\\bripe\\anaconda3\\lib\\site-packages\\sklearn\\linear_model\\_coordinate_descent.py:530: ConvergenceWarning: Objective did not converge. You might want to increase the number of iterations. Duality gap: 5.324489222378361, tolerance: 1.4507535502977023\n",
      "  model = cd_fast.enet_coordinate_descent(\n",
      "C:\\Users\\bripe\\anaconda3\\lib\\site-packages\\sklearn\\linear_model\\_coordinate_descent.py:530: ConvergenceWarning: Objective did not converge. You might want to increase the number of iterations. Duality gap: 2.7893016733887634, tolerance: 1.4507535502977023\n",
      "  model = cd_fast.enet_coordinate_descent(\n",
      "C:\\Users\\bripe\\anaconda3\\lib\\site-packages\\sklearn\\linear_model\\_coordinate_descent.py:530: ConvergenceWarning: Objective did not converge. You might want to increase the number of iterations. Duality gap: 1.8337253094941843, tolerance: 1.4507535502977023\n",
      "  model = cd_fast.enet_coordinate_descent(\n",
      "C:\\Users\\bripe\\anaconda3\\lib\\site-packages\\sklearn\\linear_model\\_coordinate_descent.py:530: ConvergenceWarning: Objective did not converge. You might want to increase the number of iterations. Duality gap: 2.3274596461978945, tolerance: 1.4507535502977023\n",
      "  model = cd_fast.enet_coordinate_descent(\n",
      "C:\\Users\\bripe\\anaconda3\\lib\\site-packages\\sklearn\\linear_model\\_coordinate_descent.py:530: ConvergenceWarning: Objective did not converge. You might want to increase the number of iterations. Duality gap: 43.95695209141559, tolerance: 1.4507535502977023\n",
      "  model = cd_fast.enet_coordinate_descent(\n",
      "C:\\Users\\bripe\\anaconda3\\lib\\site-packages\\sklearn\\linear_model\\_coordinate_descent.py:530: ConvergenceWarning: Objective did not converge. You might want to increase the number of iterations. Duality gap: 10.496191342392194, tolerance: 1.4507535502977023\n",
      "  model = cd_fast.enet_coordinate_descent(\n",
      "C:\\Users\\bripe\\anaconda3\\lib\\site-packages\\sklearn\\linear_model\\_coordinate_descent.py:530: ConvergenceWarning: Objective did not converge. You might want to increase the number of iterations. Duality gap: 3.433170798494757, tolerance: 1.4507535502977023\n",
      "  model = cd_fast.enet_coordinate_descent(\n",
      "C:\\Users\\bripe\\anaconda3\\lib\\site-packages\\sklearn\\linear_model\\_coordinate_descent.py:530: ConvergenceWarning: Objective did not converge. You might want to increase the number of iterations. Duality gap: 23.880480846841238, tolerance: 1.4507535502977023\n",
      "  model = cd_fast.enet_coordinate_descent(\n",
      "C:\\Users\\bripe\\anaconda3\\lib\\site-packages\\sklearn\\linear_model\\_coordinate_descent.py:530: ConvergenceWarning: Objective did not converge. You might want to increase the number of iterations. Duality gap: 4.384104757751629, tolerance: 1.4507535502977023\n",
      "  model = cd_fast.enet_coordinate_descent(\n",
      "C:\\Users\\bripe\\anaconda3\\lib\\site-packages\\sklearn\\linear_model\\_coordinate_descent.py:530: ConvergenceWarning: Objective did not converge. You might want to increase the number of iterations. Duality gap: 42.52907656645766, tolerance: 1.4507535502977023\n",
      "  model = cd_fast.enet_coordinate_descent(\n",
      "C:\\Users\\bripe\\anaconda3\\lib\\site-packages\\sklearn\\linear_model\\_coordinate_descent.py:530: ConvergenceWarning: Objective did not converge. You might want to increase the number of iterations. Duality gap: 1.5518216047585156, tolerance: 1.4507535502977023\n",
      "  model = cd_fast.enet_coordinate_descent(\n"
     ]
    },
    {
     "name": "stdout",
     "output_type": "stream",
     "text": [
      "31\n",
      "2.9085\n"
     ]
    },
    {
     "name": "stderr",
     "output_type": "stream",
     "text": [
      "C:\\Users\\bripe\\anaconda3\\lib\\site-packages\\sklearn\\linear_model\\_coordinate_descent.py:530: ConvergenceWarning: Objective did not converge. You might want to increase the number of iterations. Duality gap: 24.001718903598885, tolerance: 1.4507535502977023\n",
      "  model = cd_fast.enet_coordinate_descent(\n",
      "C:\\Users\\bripe\\anaconda3\\lib\\site-packages\\sklearn\\linear_model\\_coordinate_descent.py:530: ConvergenceWarning: Objective did not converge. You might want to increase the number of iterations. Duality gap: 5.9781181618564005, tolerance: 1.4507535502977023\n",
      "  model = cd_fast.enet_coordinate_descent(\n",
      "C:\\Users\\bripe\\anaconda3\\lib\\site-packages\\sklearn\\linear_model\\_coordinate_descent.py:530: ConvergenceWarning: Objective did not converge. You might want to increase the number of iterations. Duality gap: 1.7062921895540057, tolerance: 1.4507535502977023\n",
      "  model = cd_fast.enet_coordinate_descent(\n",
      "C:\\Users\\bripe\\anaconda3\\lib\\site-packages\\sklearn\\linear_model\\_coordinate_descent.py:530: ConvergenceWarning: Objective did not converge. You might want to increase the number of iterations. Duality gap: 5.304513937702723, tolerance: 1.4507535502977023\n",
      "  model = cd_fast.enet_coordinate_descent(\n",
      "C:\\Users\\bripe\\anaconda3\\lib\\site-packages\\sklearn\\linear_model\\_coordinate_descent.py:530: ConvergenceWarning: Objective did not converge. You might want to increase the number of iterations. Duality gap: 2.7624674436028727, tolerance: 1.4507535502977023\n",
      "  model = cd_fast.enet_coordinate_descent(\n",
      "C:\\Users\\bripe\\anaconda3\\lib\\site-packages\\sklearn\\linear_model\\_coordinate_descent.py:530: ConvergenceWarning: Objective did not converge. You might want to increase the number of iterations. Duality gap: 1.816240828635273, tolerance: 1.4507535502977023\n",
      "  model = cd_fast.enet_coordinate_descent(\n",
      "C:\\Users\\bripe\\anaconda3\\lib\\site-packages\\sklearn\\linear_model\\_coordinate_descent.py:530: ConvergenceWarning: Objective did not converge. You might want to increase the number of iterations. Duality gap: 2.553716903739769, tolerance: 1.4507535502977023\n",
      "  model = cd_fast.enet_coordinate_descent(\n",
      "C:\\Users\\bripe\\anaconda3\\lib\\site-packages\\sklearn\\linear_model\\_coordinate_descent.py:530: ConvergenceWarning: Objective did not converge. You might want to increase the number of iterations. Duality gap: 44.00393140355936, tolerance: 1.4507535502977023\n",
      "  model = cd_fast.enet_coordinate_descent(\n",
      "C:\\Users\\bripe\\anaconda3\\lib\\site-packages\\sklearn\\linear_model\\_coordinate_descent.py:530: ConvergenceWarning: Objective did not converge. You might want to increase the number of iterations. Duality gap: 10.541430529434365, tolerance: 1.4507535502977023\n",
      "  model = cd_fast.enet_coordinate_descent(\n",
      "C:\\Users\\bripe\\anaconda3\\lib\\site-packages\\sklearn\\linear_model\\_coordinate_descent.py:530: ConvergenceWarning: Objective did not converge. You might want to increase the number of iterations. Duality gap: 3.4181886972273787, tolerance: 1.4507535502977023\n",
      "  model = cd_fast.enet_coordinate_descent(\n",
      "C:\\Users\\bripe\\anaconda3\\lib\\site-packages\\sklearn\\linear_model\\_coordinate_descent.py:530: ConvergenceWarning: Objective did not converge. You might want to increase the number of iterations. Duality gap: 24.96782234258808, tolerance: 1.4507535502977023\n",
      "  model = cd_fast.enet_coordinate_descent(\n",
      "C:\\Users\\bripe\\anaconda3\\lib\\site-packages\\sklearn\\linear_model\\_coordinate_descent.py:530: ConvergenceWarning: Objective did not converge. You might want to increase the number of iterations. Duality gap: 5.132559676310848, tolerance: 1.4507535502977023\n",
      "  model = cd_fast.enet_coordinate_descent(\n",
      "C:\\Users\\bripe\\anaconda3\\lib\\site-packages\\sklearn\\linear_model\\_coordinate_descent.py:530: ConvergenceWarning: Objective did not converge. You might want to increase the number of iterations. Duality gap: 6.3065746684369515, tolerance: 1.4507535502977023\n",
      "  model = cd_fast.enet_coordinate_descent(\n",
      "C:\\Users\\bripe\\anaconda3\\lib\\site-packages\\sklearn\\linear_model\\_coordinate_descent.py:530: ConvergenceWarning: Objective did not converge. You might want to increase the number of iterations. Duality gap: 1.4936008759777906, tolerance: 1.4507535502977023\n",
      "  model = cd_fast.enet_coordinate_descent(\n"
     ]
    },
    {
     "name": "stdout",
     "output_type": "stream",
     "text": [
      "30\n",
      "2.9082\n"
     ]
    },
    {
     "name": "stderr",
     "output_type": "stream",
     "text": [
      "C:\\Users\\bripe\\anaconda3\\lib\\site-packages\\sklearn\\linear_model\\_coordinate_descent.py:530: ConvergenceWarning: Objective did not converge. You might want to increase the number of iterations. Duality gap: 24.071758336947823, tolerance: 1.4507535502977023\n",
      "  model = cd_fast.enet_coordinate_descent(\n",
      "C:\\Users\\bripe\\anaconda3\\lib\\site-packages\\sklearn\\linear_model\\_coordinate_descent.py:530: ConvergenceWarning: Objective did not converge. You might want to increase the number of iterations. Duality gap: 6.020821837357289, tolerance: 1.4507535502977023\n",
      "  model = cd_fast.enet_coordinate_descent(\n",
      "C:\\Users\\bripe\\anaconda3\\lib\\site-packages\\sklearn\\linear_model\\_coordinate_descent.py:530: ConvergenceWarning: Objective did not converge. You might want to increase the number of iterations. Duality gap: 1.7129853078440647, tolerance: 1.4507535502977023\n",
      "  model = cd_fast.enet_coordinate_descent(\n",
      "C:\\Users\\bripe\\anaconda3\\lib\\site-packages\\sklearn\\linear_model\\_coordinate_descent.py:530: ConvergenceWarning: Objective did not converge. You might want to increase the number of iterations. Duality gap: 5.310130032267807, tolerance: 1.4507535502977023\n",
      "  model = cd_fast.enet_coordinate_descent(\n",
      "C:\\Users\\bripe\\anaconda3\\lib\\site-packages\\sklearn\\linear_model\\_coordinate_descent.py:530: ConvergenceWarning: Objective did not converge. You might want to increase the number of iterations. Duality gap: 2.763661356684679, tolerance: 1.4507535502977023\n",
      "  model = cd_fast.enet_coordinate_descent(\n",
      "C:\\Users\\bripe\\anaconda3\\lib\\site-packages\\sklearn\\linear_model\\_coordinate_descent.py:530: ConvergenceWarning: Objective did not converge. You might want to increase the number of iterations. Duality gap: 1.8151695219785324, tolerance: 1.4507535502977023\n",
      "  model = cd_fast.enet_coordinate_descent(\n",
      "C:\\Users\\bripe\\anaconda3\\lib\\site-packages\\sklearn\\linear_model\\_coordinate_descent.py:530: ConvergenceWarning: Objective did not converge. You might want to increase the number of iterations. Duality gap: 2.563876367696139, tolerance: 1.4507535502977023\n",
      "  model = cd_fast.enet_coordinate_descent(\n",
      "C:\\Users\\bripe\\anaconda3\\lib\\site-packages\\sklearn\\linear_model\\_coordinate_descent.py:530: ConvergenceWarning: Objective did not converge. You might want to increase the number of iterations. Duality gap: 44.05991859968526, tolerance: 1.4507535502977023\n",
      "  model = cd_fast.enet_coordinate_descent(\n",
      "C:\\Users\\bripe\\anaconda3\\lib\\site-packages\\sklearn\\linear_model\\_coordinate_descent.py:530: ConvergenceWarning: Objective did not converge. You might want to increase the number of iterations. Duality gap: 10.576109737254228, tolerance: 1.4507535502977023\n",
      "  model = cd_fast.enet_coordinate_descent(\n",
      "C:\\Users\\bripe\\anaconda3\\lib\\site-packages\\sklearn\\linear_model\\_coordinate_descent.py:530: ConvergenceWarning: Objective did not converge. You might want to increase the number of iterations. Duality gap: 3.4212568278908293, tolerance: 1.4507535502977023\n",
      "  model = cd_fast.enet_coordinate_descent(\n",
      "C:\\Users\\bripe\\anaconda3\\lib\\site-packages\\sklearn\\linear_model\\_coordinate_descent.py:530: ConvergenceWarning: Objective did not converge. You might want to increase the number of iterations. Duality gap: 24.929959260463875, tolerance: 1.4507535502977023\n",
      "  model = cd_fast.enet_coordinate_descent(\n",
      "C:\\Users\\bripe\\anaconda3\\lib\\site-packages\\sklearn\\linear_model\\_coordinate_descent.py:530: ConvergenceWarning: Objective did not converge. You might want to increase the number of iterations. Duality gap: 5.1319778331089765, tolerance: 1.4507535502977023\n",
      "  model = cd_fast.enet_coordinate_descent(\n",
      "C:\\Users\\bripe\\anaconda3\\lib\\site-packages\\sklearn\\linear_model\\_coordinate_descent.py:530: ConvergenceWarning: Objective did not converge. You might want to increase the number of iterations. Duality gap: 6.314683047163271, tolerance: 1.4507535502977023\n",
      "  model = cd_fast.enet_coordinate_descent(\n",
      "C:\\Users\\bripe\\anaconda3\\lib\\site-packages\\sklearn\\linear_model\\_coordinate_descent.py:530: ConvergenceWarning: Objective did not converge. You might want to increase the number of iterations. Duality gap: 1.4925233426565683, tolerance: 1.4507535502977023\n",
      "  model = cd_fast.enet_coordinate_descent(\n"
     ]
    },
    {
     "name": "stdout",
     "output_type": "stream",
     "text": [
      "29\n",
      "2.9081\n"
     ]
    },
    {
     "name": "stderr",
     "output_type": "stream",
     "text": [
      "C:\\Users\\bripe\\anaconda3\\lib\\site-packages\\sklearn\\linear_model\\_coordinate_descent.py:530: ConvergenceWarning: Objective did not converge. You might want to increase the number of iterations. Duality gap: 5.42211745480563, tolerance: 1.4507535502977023\n",
      "  model = cd_fast.enet_coordinate_descent(\n",
      "C:\\Users\\bripe\\anaconda3\\lib\\site-packages\\sklearn\\linear_model\\_coordinate_descent.py:530: ConvergenceWarning: Objective did not converge. You might want to increase the number of iterations. Duality gap: 4.1097545924567385, tolerance: 1.4507535502977023\n",
      "  model = cd_fast.enet_coordinate_descent(\n",
      "C:\\Users\\bripe\\anaconda3\\lib\\site-packages\\sklearn\\linear_model\\_coordinate_descent.py:530: ConvergenceWarning: Objective did not converge. You might want to increase the number of iterations. Duality gap: 2.308612215823814, tolerance: 1.4507535502977023\n",
      "  model = cd_fast.enet_coordinate_descent(\n",
      "C:\\Users\\bripe\\anaconda3\\lib\\site-packages\\sklearn\\linear_model\\_coordinate_descent.py:530: ConvergenceWarning: Objective did not converge. You might want to increase the number of iterations. Duality gap: 1.8263699089911825, tolerance: 1.4507535502977023\n",
      "  model = cd_fast.enet_coordinate_descent(\n",
      "C:\\Users\\bripe\\anaconda3\\lib\\site-packages\\sklearn\\linear_model\\_coordinate_descent.py:530: ConvergenceWarning: Objective did not converge. You might want to increase the number of iterations. Duality gap: 1.4724401852854498, tolerance: 1.4507535502977023\n",
      "  model = cd_fast.enet_coordinate_descent(\n",
      "C:\\Users\\bripe\\anaconda3\\lib\\site-packages\\sklearn\\linear_model\\_coordinate_descent.py:530: ConvergenceWarning: Objective did not converge. You might want to increase the number of iterations. Duality gap: 15.47469564525727, tolerance: 1.4507535502977023\n",
      "  model = cd_fast.enet_coordinate_descent(\n",
      "C:\\Users\\bripe\\anaconda3\\lib\\site-packages\\sklearn\\linear_model\\_coordinate_descent.py:530: ConvergenceWarning: Objective did not converge. You might want to increase the number of iterations. Duality gap: 4.025296182775492, tolerance: 1.4507535502977023\n",
      "  model = cd_fast.enet_coordinate_descent(\n",
      "C:\\Users\\bripe\\anaconda3\\lib\\site-packages\\sklearn\\linear_model\\_coordinate_descent.py:530: ConvergenceWarning: Objective did not converge. You might want to increase the number of iterations. Duality gap: 2.579880038567353, tolerance: 1.4507535502977023\n",
      "  model = cd_fast.enet_coordinate_descent(\n",
      "C:\\Users\\bripe\\anaconda3\\lib\\site-packages\\sklearn\\linear_model\\_coordinate_descent.py:530: ConvergenceWarning: Objective did not converge. You might want to increase the number of iterations. Duality gap: 2.9998961102719477, tolerance: 1.4507535502977023\n",
      "  model = cd_fast.enet_coordinate_descent(\n"
     ]
    },
    {
     "name": "stdout",
     "output_type": "stream",
     "text": [
      "28\n",
      "2.908\n"
     ]
    },
    {
     "name": "stderr",
     "output_type": "stream",
     "text": [
      "C:\\Users\\bripe\\anaconda3\\lib\\site-packages\\sklearn\\linear_model\\_coordinate_descent.py:530: ConvergenceWarning: Objective did not converge. You might want to increase the number of iterations. Duality gap: 2.9619208471431193, tolerance: 1.4507535502977023\n",
      "  model = cd_fast.enet_coordinate_descent(\n",
      "C:\\Users\\bripe\\anaconda3\\lib\\site-packages\\sklearn\\linear_model\\_coordinate_descent.py:530: ConvergenceWarning: Objective did not converge. You might want to increase the number of iterations. Duality gap: 2.8328546311240643, tolerance: 1.4507535502977023\n",
      "  model = cd_fast.enet_coordinate_descent(\n",
      "C:\\Users\\bripe\\anaconda3\\lib\\site-packages\\sklearn\\linear_model\\_coordinate_descent.py:530: ConvergenceWarning: Objective did not converge. You might want to increase the number of iterations. Duality gap: 4.075441451432198, tolerance: 1.4507535502977023\n",
      "  model = cd_fast.enet_coordinate_descent(\n",
      "C:\\Users\\bripe\\anaconda3\\lib\\site-packages\\sklearn\\linear_model\\_coordinate_descent.py:530: ConvergenceWarning: Objective did not converge. You might want to increase the number of iterations. Duality gap: 2.2749035971355624, tolerance: 1.4507535502977023\n",
      "  model = cd_fast.enet_coordinate_descent(\n",
      "C:\\Users\\bripe\\anaconda3\\lib\\site-packages\\sklearn\\linear_model\\_coordinate_descent.py:530: ConvergenceWarning: Objective did not converge. You might want to increase the number of iterations. Duality gap: 1.7682683980037837, tolerance: 1.4507535502977023\n",
      "  model = cd_fast.enet_coordinate_descent(\n",
      "C:\\Users\\bripe\\anaconda3\\lib\\site-packages\\sklearn\\linear_model\\_coordinate_descent.py:530: ConvergenceWarning: Objective did not converge. You might want to increase the number of iterations. Duality gap: 6.520131463032158, tolerance: 1.4507535502977023\n",
      "  model = cd_fast.enet_coordinate_descent(\n",
      "C:\\Users\\bripe\\anaconda3\\lib\\site-packages\\sklearn\\linear_model\\_coordinate_descent.py:530: ConvergenceWarning: Objective did not converge. You might want to increase the number of iterations. Duality gap: 1.883655185401949, tolerance: 1.4507535502977023\n",
      "  model = cd_fast.enet_coordinate_descent(\n",
      "C:\\Users\\bripe\\anaconda3\\lib\\site-packages\\sklearn\\linear_model\\_coordinate_descent.py:530: ConvergenceWarning: Objective did not converge. You might want to increase the number of iterations. Duality gap: 2.8247974749592686, tolerance: 1.4507535502977023\n",
      "  model = cd_fast.enet_coordinate_descent(\n",
      "C:\\Users\\bripe\\anaconda3\\lib\\site-packages\\sklearn\\linear_model\\_coordinate_descent.py:530: ConvergenceWarning: Objective did not converge. You might want to increase the number of iterations. Duality gap: 3.1485498036454374, tolerance: 1.4507535502977023\n",
      "  model = cd_fast.enet_coordinate_descent(\n"
     ]
    },
    {
     "name": "stdout",
     "output_type": "stream",
     "text": [
      "27\n",
      "2.9079\n"
     ]
    },
    {
     "name": "stderr",
     "output_type": "stream",
     "text": [
      "C:\\Users\\bripe\\anaconda3\\lib\\site-packages\\sklearn\\linear_model\\_coordinate_descent.py:530: ConvergenceWarning: Objective did not converge. You might want to increase the number of iterations. Duality gap: 2.741228766439235, tolerance: 1.4507535502977023\n",
      "  model = cd_fast.enet_coordinate_descent(\n",
      "C:\\Users\\bripe\\anaconda3\\lib\\site-packages\\sklearn\\linear_model\\_coordinate_descent.py:530: ConvergenceWarning: Objective did not converge. You might want to increase the number of iterations. Duality gap: 2.7996958278818056, tolerance: 1.4507535502977023\n",
      "  model = cd_fast.enet_coordinate_descent(\n",
      "C:\\Users\\bripe\\anaconda3\\lib\\site-packages\\sklearn\\linear_model\\_coordinate_descent.py:530: ConvergenceWarning: Objective did not converge. You might want to increase the number of iterations. Duality gap: 4.026895278819211, tolerance: 1.4507535502977023\n",
      "  model = cd_fast.enet_coordinate_descent(\n",
      "C:\\Users\\bripe\\anaconda3\\lib\\site-packages\\sklearn\\linear_model\\_coordinate_descent.py:530: ConvergenceWarning: Objective did not converge. You might want to increase the number of iterations. Duality gap: 2.273544587456854, tolerance: 1.4507535502977023\n",
      "  model = cd_fast.enet_coordinate_descent(\n",
      "C:\\Users\\bripe\\anaconda3\\lib\\site-packages\\sklearn\\linear_model\\_coordinate_descent.py:530: ConvergenceWarning: Objective did not converge. You might want to increase the number of iterations. Duality gap: 1.7682382396014873, tolerance: 1.4507535502977023\n",
      "  model = cd_fast.enet_coordinate_descent(\n",
      "C:\\Users\\bripe\\anaconda3\\lib\\site-packages\\sklearn\\linear_model\\_coordinate_descent.py:530: ConvergenceWarning: Objective did not converge. You might want to increase the number of iterations. Duality gap: 6.518215559439341, tolerance: 1.4507535502977023\n",
      "  model = cd_fast.enet_coordinate_descent(\n",
      "C:\\Users\\bripe\\anaconda3\\lib\\site-packages\\sklearn\\linear_model\\_coordinate_descent.py:530: ConvergenceWarning: Objective did not converge. You might want to increase the number of iterations. Duality gap: 1.8808430512108316, tolerance: 1.4507535502977023\n",
      "  model = cd_fast.enet_coordinate_descent(\n",
      "C:\\Users\\bripe\\anaconda3\\lib\\site-packages\\sklearn\\linear_model\\_coordinate_descent.py:530: ConvergenceWarning: Objective did not converge. You might want to increase the number of iterations. Duality gap: 2.824307470649728, tolerance: 1.4507535502977023\n",
      "  model = cd_fast.enet_coordinate_descent(\n",
      "C:\\Users\\bripe\\anaconda3\\lib\\site-packages\\sklearn\\linear_model\\_coordinate_descent.py:530: ConvergenceWarning: Objective did not converge. You might want to increase the number of iterations. Duality gap: 3.1497864651337295, tolerance: 1.4507535502977023\n",
      "  model = cd_fast.enet_coordinate_descent(\n"
     ]
    },
    {
     "name": "stdout",
     "output_type": "stream",
     "text": [
      "26\n",
      "2.9079\n"
     ]
    },
    {
     "name": "stderr",
     "output_type": "stream",
     "text": [
      "C:\\Users\\bripe\\anaconda3\\lib\\site-packages\\sklearn\\linear_model\\_coordinate_descent.py:530: ConvergenceWarning: Objective did not converge. You might want to increase the number of iterations. Duality gap: 2.741228766439235, tolerance: 1.4507535502977023\n",
      "  model = cd_fast.enet_coordinate_descent(\n",
      "C:\\Users\\bripe\\anaconda3\\lib\\site-packages\\sklearn\\linear_model\\_coordinate_descent.py:530: ConvergenceWarning: Objective did not converge. You might want to increase the number of iterations. Duality gap: 2.7996958278818056, tolerance: 1.4507535502977023\n",
      "  model = cd_fast.enet_coordinate_descent(\n",
      "C:\\Users\\bripe\\anaconda3\\lib\\site-packages\\sklearn\\linear_model\\_coordinate_descent.py:530: ConvergenceWarning: Objective did not converge. You might want to increase the number of iterations. Duality gap: 4.026916922037344, tolerance: 1.4507535502977023\n",
      "  model = cd_fast.enet_coordinate_descent(\n",
      "C:\\Users\\bripe\\anaconda3\\lib\\site-packages\\sklearn\\linear_model\\_coordinate_descent.py:530: ConvergenceWarning: Objective did not converge. You might want to increase the number of iterations. Duality gap: 2.273544587456854, tolerance: 1.4507535502977023\n",
      "  model = cd_fast.enet_coordinate_descent(\n",
      "C:\\Users\\bripe\\anaconda3\\lib\\site-packages\\sklearn\\linear_model\\_coordinate_descent.py:530: ConvergenceWarning: Objective did not converge. You might want to increase the number of iterations. Duality gap: 1.7682382396014873, tolerance: 1.4507535502977023\n",
      "  model = cd_fast.enet_coordinate_descent(\n",
      "C:\\Users\\bripe\\anaconda3\\lib\\site-packages\\sklearn\\linear_model\\_coordinate_descent.py:530: ConvergenceWarning: Objective did not converge. You might want to increase the number of iterations. Duality gap: 6.518215559439341, tolerance: 1.4507535502977023\n",
      "  model = cd_fast.enet_coordinate_descent(\n",
      "C:\\Users\\bripe\\anaconda3\\lib\\site-packages\\sklearn\\linear_model\\_coordinate_descent.py:530: ConvergenceWarning: Objective did not converge. You might want to increase the number of iterations. Duality gap: 1.8808430512108316, tolerance: 1.4507535502977023\n",
      "  model = cd_fast.enet_coordinate_descent(\n",
      "C:\\Users\\bripe\\anaconda3\\lib\\site-packages\\sklearn\\linear_model\\_coordinate_descent.py:530: ConvergenceWarning: Objective did not converge. You might want to increase the number of iterations. Duality gap: 2.824307470649728, tolerance: 1.4507535502977023\n",
      "  model = cd_fast.enet_coordinate_descent(\n",
      "C:\\Users\\bripe\\anaconda3\\lib\\site-packages\\sklearn\\linear_model\\_coordinate_descent.py:530: ConvergenceWarning: Objective did not converge. You might want to increase the number of iterations. Duality gap: 3.1497864651337295, tolerance: 1.4507535502977023\n",
      "  model = cd_fast.enet_coordinate_descent(\n"
     ]
    },
    {
     "name": "stdout",
     "output_type": "stream",
     "text": [
      "25\n",
      "2.9079\n"
     ]
    },
    {
     "name": "stderr",
     "output_type": "stream",
     "text": [
      "C:\\Users\\bripe\\anaconda3\\lib\\site-packages\\sklearn\\linear_model\\_coordinate_descent.py:530: ConvergenceWarning: Objective did not converge. You might want to increase the number of iterations. Duality gap: 3.252493299627531, tolerance: 1.4507535502977023\n",
      "  model = cd_fast.enet_coordinate_descent(\n",
      "C:\\Users\\bripe\\anaconda3\\lib\\site-packages\\sklearn\\linear_model\\_coordinate_descent.py:530: ConvergenceWarning: Objective did not converge. You might want to increase the number of iterations. Duality gap: 4.2570693885936635, tolerance: 1.4507535502977023\n",
      "  model = cd_fast.enet_coordinate_descent(\n",
      "C:\\Users\\bripe\\anaconda3\\lib\\site-packages\\sklearn\\linear_model\\_coordinate_descent.py:530: ConvergenceWarning: Objective did not converge. You might want to increase the number of iterations. Duality gap: 2.369651469778546, tolerance: 1.4507535502977023\n",
      "  model = cd_fast.enet_coordinate_descent(\n",
      "C:\\Users\\bripe\\anaconda3\\lib\\site-packages\\sklearn\\linear_model\\_coordinate_descent.py:530: ConvergenceWarning: Objective did not converge. You might want to increase the number of iterations. Duality gap: 1.829479173231448, tolerance: 1.4507535502977023\n",
      "  model = cd_fast.enet_coordinate_descent(\n",
      "C:\\Users\\bripe\\anaconda3\\lib\\site-packages\\sklearn\\linear_model\\_coordinate_descent.py:530: ConvergenceWarning: Objective did not converge. You might want to increase the number of iterations. Duality gap: 1.4636259296657954, tolerance: 1.4507535502977023\n",
      "  model = cd_fast.enet_coordinate_descent(\n",
      "C:\\Users\\bripe\\anaconda3\\lib\\site-packages\\sklearn\\linear_model\\_coordinate_descent.py:530: ConvergenceWarning: Objective did not converge. You might want to increase the number of iterations. Duality gap: 5.967768215698015, tolerance: 1.4507535502977023\n",
      "  model = cd_fast.enet_coordinate_descent(\n",
      "C:\\Users\\bripe\\anaconda3\\lib\\site-packages\\sklearn\\linear_model\\_coordinate_descent.py:530: ConvergenceWarning: Objective did not converge. You might want to increase the number of iterations. Duality gap: 1.929915897313549, tolerance: 1.4507535502977023\n",
      "  model = cd_fast.enet_coordinate_descent(\n",
      "C:\\Users\\bripe\\anaconda3\\lib\\site-packages\\sklearn\\linear_model\\_coordinate_descent.py:530: ConvergenceWarning: Objective did not converge. You might want to increase the number of iterations. Duality gap: 3.0358925940818153, tolerance: 1.4507535502977023\n",
      "  model = cd_fast.enet_coordinate_descent(\n",
      "C:\\Users\\bripe\\anaconda3\\lib\\site-packages\\sklearn\\linear_model\\_coordinate_descent.py:530: ConvergenceWarning: Objective did not converge. You might want to increase the number of iterations. Duality gap: 3.3570190052214457, tolerance: 1.4507535502977023\n",
      "  model = cd_fast.enet_coordinate_descent(\n"
     ]
    },
    {
     "name": "stdout",
     "output_type": "stream",
     "text": [
      "24\n",
      "2.908\n",
      "23\n",
      "2.908\n",
      "22\n",
      "2.908\n",
      "21\n",
      "2.9081\n",
      "20\n",
      "2.9083\n",
      "19\n",
      "2.9085\n",
      "18\n",
      "2.9079\n",
      "17\n",
      "2.9119\n",
      "16\n",
      "2.9155\n",
      "15\n",
      "2.9187\n",
      "14\n",
      "2.9229\n",
      "13\n",
      "2.927\n",
      "12\n",
      "2.9388\n",
      "11\n",
      "2.9556\n",
      "10\n",
      "2.9842\n",
      "9\n",
      "3.0081\n",
      "8\n",
      "3.0222\n",
      "7\n",
      "3.0494\n",
      "6\n",
      "3.0993\n",
      "['A-electrophilicity', 'A-num_rot_bonds', 'A-MolLogP', 'A-TPSA', 'D-HOMOminus1', 'D-NumHAcceptors']\n",
      "3.0993\n",
      "The average intercept from 5 folds is  -51.57087072184057\n",
      "The average coefficients of the 5 folds is  [('A-HOMO', 0.0), ('A-HOMOminus1', 0.0), ('A-LUMO', -0.17545975271623135), ('A-LUMOplus1', -0.37452985792697435), ('A-fundbg', 0.0), ('A-deltaHOMO', -2.257287427054922), ('A-deltaLUMO', -0.0010517494440340231), ('A-opt_bg', 0.0), ('A-max_abs', 0.012185671244768142), ('A-summed_oscs', -0.11552792341660978), ('A-area_spectra', -0.0024600261908346815), ('A-area_sim_solar_spectra', 0.06207173287218095), ('A-chemical_potential', 0.0), ('A-electrophilicity', -0.03011792426999103), ('A-pi_sys_size', -0.03922436041426376), ('A-num_rot_bonds', -0.39931444393768434), ('A-MolLogP', 0.3033117383147984), ('A-TPSA', 0.019222160253011905), ('A-NumHAcceptors', 0.06030204224934772), ('A-NumHDonors', 0.0), ('A-planarity', -0.16661875585035552), ('A-dipole_moment', -0.02827826710704328), ('A-polarizability', -0.0011481163925569366), ('A-SolvationEnergy_water', 0.0), ('A-SolvationEnergy_hexane', 0.0), ('D-HOMO', 0.0), ('D-HOMOminus1', -2.609560498762281), ('D-LUMO', -0.09153978351798593), ('D-LUMOplus1', -2.4630012027165327), ('D-fundbg', 0.0), ('D-deltaHOMO', 0.0), ('D-deltaLUMO', 0.0), ('D-opt_bg', 0.0), ('D-max_abs', -0.005792822722166216), ('D-summed_oscs', 0.061046950921234355), ('D-area_spectra', -0.0009257572306575465), ('D-area_sim_solar_spectra', 0.07486112837362366), ('D-chemical_potential', 0.0), ('D-electrophilicity', 0.019743047637750682), ('D-pi_sys_size', 0.0028551618219520873), ('D-num_rot_bonds', 0.1379674641410618), ('D-MolLogP', 0.09091670347420719), ('D-TPSA', -0.01842713958710088), ('D-NumHAcceptors', 0.19570504708200062), ('D-NumHDonors', 0.0), ('D-planarity', -0.197607592555249), ('D-dipole_moment', -0.05797453846768639), ('D-polarizability', -0.005094977289589237), ('D-SolvationEnergy_water', 0.0), ('D-SolvationEnergy_hexane', 0.0), ('AD-overlap', 0.0012525194003496043), ('AD-HOMOoffset', 0.0), ('AD-LUMOoffset', -0.004279434045421667), ('DHOMO_ALUMO_offset', 0.0)]\n",
      "The 5-fold cross-validated RMSE of this model is,  2.9167  +/-  0.00412\n",
      "The 5-fold cross-validated MAE of the average  2.23  +/-  0.003\n",
      "The average r^2 value is  0.41299670588474546  +/-  0.002\n"
     ]
    }
   ],
   "source": [
    "#best_descriptors = optimize_eq(data, 'PCE')\n",
    "Lasso_PCE = evaluate_model(best_descriptors, data['PCE'], data, cf=True)"
   ]
  },
  {
   "cell_type": "code",
   "execution_count": 103,
   "id": "4aa4e951-53d2-420d-9b05-f5586f4997d9",
   "metadata": {},
   "outputs": [
    {
     "name": "stdout",
     "output_type": "stream",
     "text": [
      "Best alpha is 0.01\n",
      "The average intercept from 5 folds is  -36.82762357618022\n",
      "The average coefficients of the 5 folds is  [('A-electrophilicity', -0.03673272675818182), ('A-num_rot_bonds', -0.3919236925943181), ('A-MolLogP', 0.12724213816888424), ('A-TPSA', 0.010438720700639826), ('D-HOMOminus1', -3.849560022147473), ('D-NumHAcceptors', 0.2502317935054116)]\n",
      "The 5-fold cross-validated RMSE of this model is,  3.0993  +/-  0.00088\n",
      "The 5-fold cross-validated MAE of the average  2.389  +/-  0.005\n",
      "The average r^2 value is  0.3372375057734442  +/-  0.0\n"
     ]
    }
   ],
   "source": [
    "best_descriptors = ['A-electrophilicity', 'A-num_rot_bonds', 'A-MolLogP', 'A-TPSA', 'D-HOMOminus1', 'D-NumHAcceptors']\n",
    "Lasso_PCE = evaluate_model(best_descriptors, data['PCE'], data, cf=True)"
   ]
  },
  {
   "cell_type": "markdown",
   "id": "1ec6dd6c-f2e4-4cdd-b01c-5e28e4e7b108",
   "metadata": {},
   "source": [
    "Using LASSO and some hand-tuning to narrow it down to 6 descriptors, the RMSE of this model is 3.0993 +/- 0.00088 for the PCE. The $R^2$ is 0.337. The descriptors selected is the electrophilicity index of the acceptor, number of rotatable bonds of the acceptor, MolLogP of the acceptor, TPSA of the acceptor, HOMO-1 of the donor, and number of hydrogen acceptors of the donor"
   ]
  },
  {
   "cell_type": "markdown",
   "id": "e529f5d4-25c7-40e3-a7f7-ad44ff196484",
   "metadata": {},
   "source": [
    "### Performance on PCE > 10%"
   ]
  },
  {
   "cell_type": "code",
   "execution_count": 104,
   "id": "ae8a9a46-9fe8-4308-bc2b-26a2825cbb7f",
   "metadata": {},
   "outputs": [
    {
     "name": "stdout",
     "output_type": "stream",
     "text": [
      "Best alpha is 0.01\n",
      "The average intercept from 5 folds is  -9.755106230909318\n",
      "The average coefficients of the 5 folds is  [('A-HOMO', 0.0), ('A-HOMOminus1', 0.14587450181053052), ('A-LUMO', 0.0), ('A-LUMOplus1', -0.8664064194319682), ('A-fundbg', 0.0), ('A-deltaHOMO', -1.9513053268745733), ('A-deltaLUMO', -0.2075692764533242), ('A-opt_bg', 0.0), ('A-max_abs', 0.012093334014061), ('A-summed_oscs', -0.26010959924607036), ('A-area_spectra', -0.001228889130884021), ('A-area_sim_solar_spectra', 0.2920244921890385), ('A-chemical_potential', 0.0), ('A-electrophilicity', -0.00972223340845234), ('A-pi_sys_size', -0.006020105349466437), ('A-num_rot_bonds', -0.20373383276074), ('A-MolLogP', 0.052010944326335386), ('A-TPSA', -0.0027253190160774965), ('A-NumHAcceptors', 0.1134797325798953), ('A-NumHDonors', -0.18691497892482584), ('A-planarity', -0.12323717504344753), ('A-dipole_moment', -0.045220084674240976), ('A-polarizability', 0.00019032656827361135), ('A-SolvationEnergy_water', 0.0), ('A-SolvationEnergy_hexane', 0.0), ('D-HOMO', 0.0), ('D-HOMOminus1', 0.0), ('D-LUMO', 0.0), ('D-LUMOplus1', 0.0), ('D-fundbg', 0.0), ('D-deltaHOMO', 0.0), ('D-deltaLUMO', 0.3167205844241542), ('D-opt_bg', 0.0), ('D-max_abs', 0.0036155174959300483), ('D-summed_oscs', 0.10382817180852141), ('D-area_spectra', -0.0016868472565315523), ('D-area_sim_solar_spectra', 0.11680753246273493), ('D-chemical_potential', 0.0), ('D-electrophilicity', 0.04884894768967496), ('D-pi_sys_size', 0.003604078501163531), ('D-num_rot_bonds', 0.044211465539061495), ('D-MolLogP', -0.02146951364144101), ('D-TPSA', -0.016133118294196867), ('D-NumHAcceptors', 0.12065412676513351), ('D-NumHDonors', 0.0), ('D-planarity', -0.34421907933167945), ('D-dipole_moment', -0.005459993724092817), ('D-polarizability', -0.0007445759423483119), ('D-SolvationEnergy_water', 0.0), ('D-SolvationEnergy_hexane', 0.0), ('AD-overlap', 0.0015985920378503173), ('AD-HOMOoffset', 0.0), ('AD-LUMOoffset', 0.0), ('DHOMO_ALUMO_offset', 0.0)]\n",
      "The 5-fold cross-validated RMSE of this model is,  1.4359  +/-  0.00744\n",
      "The 5-fold cross-validated MAE of the average  1.125  +/-  0.004\n",
      "The average r^2 value is  0.4486652962037473  +/-  0.006\n"
     ]
    }
   ],
   "source": [
    "Lasso_highPCE = evaluate_model(all_descriptors, data_highPCE['PCE'], data_highPCE, cf=True)"
   ]
  },
  {
   "cell_type": "code",
   "execution_count": 13,
   "id": "86615ffb-2d82-4a8b-9a6a-83658e0d97fb",
   "metadata": {},
   "outputs": [
    {
     "name": "stdout",
     "output_type": "stream",
     "text": [
      "The average intercept from 5 folds is  18.9053333875983\n",
      "The average coefficients of the 5 folds is  [('A-HOMOminus1', 2.4423791628342655), ('A-LUMOplus1', -1.8505026525125796), ('A-num_rot_bonds', -0.19904991306230863), ('D-electrophilicity', 0.04693050672741837), ('D-TPSA', -0.013340898905082504), ('D-NumHAcceptors', 0.06846537685637383)]\n",
      "The 5-fold cross-validated RMSE of this model is,  1.4972  +/-  0.00158\n",
      "The 5-fold cross-validated MAE of the average  1.19  +/-  0.002\n",
      "The average r^2 value is  0.4005937484240183  +/-  0.001\n"
     ]
    }
   ],
   "source": [
    "#best_descriptors = optimize_eq(data_highPCE, 'PCE')\n",
    "best_descriptors = ['A-HOMOminus1', 'A-LUMOplus1', 'A-num_rot_bonds', 'D-electrophilicity', 'D-TPSA', 'D-NumHAcceptors']\n",
    "Lasso_PCE = evaluate_model(best_descriptors, data_highPCE['PCE'], data_highPCE, cf=True)"
   ]
  },
  {
   "cell_type": "markdown",
   "id": "32beb4c3-16c9-4c27-94fe-96edf74d0cae",
   "metadata": {},
   "source": [
    "# Machine Learning"
   ]
  },
  {
   "cell_type": "markdown",
   "id": "8d48fd1d-789c-4cb3-9863-a0efb888d179",
   "metadata": {},
   "source": [
    "Sets X as all input descriptors and y as the PCE"
   ]
  },
  {
   "cell_type": "code",
   "execution_count": 131,
   "id": "dc64fd96-4fd3-4c5c-9b29-2b3ef11c060e",
   "metadata": {},
   "outputs": [],
   "source": [
    "X = data.iloc[:, 8:]\n",
    "y = data.iloc[:, 7:8]"
   ]
  },
  {
   "cell_type": "markdown",
   "id": "577025d1-11bb-402f-9209-314b7284d4db",
   "metadata": {},
   "source": [
    "Split into training (80%) and testing (20%) sets"
   ]
  },
  {
   "cell_type": "code",
   "execution_count": 132,
   "id": "cc9eafe7-2652-4db3-b57a-25d9d05c4fec",
   "metadata": {},
   "outputs": [],
   "source": [
    "x_train, x_test, y_train, y_test = train_test_split(X, y, test_size = 0.2, random_state=14)"
   ]
  },
  {
   "cell_type": "markdown",
   "id": "b90c4657-ae34-4fbe-b3aa-c9a41a7421d7",
   "metadata": {},
   "source": [
    "Standardizes the data so all values are centered around 0 and have variance of the same magnitude"
   ]
  },
  {
   "cell_type": "code",
   "execution_count": 133,
   "id": "a6fcd702-82e7-4874-b04b-a1dac3ea381b",
   "metadata": {},
   "outputs": [],
   "source": [
    "x_labels = x_train.columns\n",
    "\n",
    "scaler = StandardScaler().fit(x_train[x_labels]) \n",
    "\n",
    "x_train[x_labels] = scaler.transform(x_train[x_labels])\n",
    "\n",
    "x_test[x_labels] = scaler.transform(x_test[x_labels])"
   ]
  },
  {
   "cell_type": "markdown",
   "id": "d64973c2-0c95-4bbf-bca3-e0b09bead5d9",
   "metadata": {},
   "source": [
    "Optimize alpha"
   ]
  },
  {
   "cell_type": "code",
   "execution_count": 135,
   "id": "5ad74352-613c-4b3c-9c62-b4b381de6ec0",
   "metadata": {},
   "outputs": [
    {
     "name": "stdout",
     "output_type": "stream",
     "text": [
      "Best alpha is 0.015007680190353518\n",
      "[(-0.0, 'A-HOMO'), (0.0, 'A-HOMOminus1'), (-0.0, 'A-LUMO'), (-0.18356550898138208, 'A-LUMOplus1'), (-0.0, 'A-fundbg'), (-0.4309088211200134, 'A-deltaHOMO'), (-0.0, 'A-deltaLUMO'), (-0.0, 'A-opt_bg'), (0.4429274469223087, 'A-max_abs'), (-0.1450424618330334, 'A-summed_oscs'), (-0.5724597837732708, 'A-area_spectra'), (-0.0, 'A-area_sim_solar_spectra'), (-0.0, 'A-chemical_potential'), (-0.7615723538451237, 'A-electrophilicity'), (-0.7458678113357019, 'A-pi_sys_size'), (-1.386861521651988, 'A-num_rot_bonds'), (1.4120457511917808, 'A-MolLogP'), (0.645794565606799, 'A-TPSA'), (0.3110472062273547, 'A-NumHAcceptors'), (-0.04162046077847243, 'A-NumHDonors'), (-0.04742289248576082, 'A-planarity'), (-0.05591391382973767, 'A-dipole_moment'), (-0.0, 'A-polarizability'), (0.06650270144053748, 'A-SolvationEnergy_water'), (0.1502088025022912, 'A-SolvationEnergy_hexane'), (-0.0, 'D-HOMO'), (-0.9950438773340722, 'D-HOMOminus1'), (-0.0, 'D-LUMO'), (-0.7273710243476105, 'D-LUMOplus1'), (-0.0, 'D-fundbg'), (0.038434579878924735, 'D-deltaHOMO'), (-0.2994734511374772, 'D-deltaLUMO'), (-0.10744298401059155, 'D-opt_bg'), (-0.23861295889635448, 'D-max_abs'), (0.0, 'D-summed_oscs'), (-0.16997688176401066, 'D-area_spectra'), (-0.0, 'D-area_sim_solar_spectra'), (-0.0, 'D-chemical_potential'), (0.0, 'D-electrophilicity'), (0.0, 'D-pi_sys_size'), (0.7258711519217707, 'D-num_rot_bonds'), (0.0, 'D-MolLogP'), (-0.8985572416410363, 'D-TPSA'), (1.7145579590856805, 'D-NumHAcceptors'), (0.0, 'D-NumHDonors'), (-0.12152579140346827, 'D-planarity'), (-0.02116122205964055, 'D-dipole_moment'), (-0.5274132105442765, 'D-polarizability'), (-0.0, 'D-SolvationEnergy_water'), (0.0, 'D-SolvationEnergy_hexane'), (0.23578395526993456, 'AD-overlap'), (-0.0, 'AD-HOMOoffset'), (-0.0, 'AD-LUMOoffset'), (-0.0, 'DHOMO_ALUMO_offset')]\n",
      "R squared training set 0.45\n",
      "R squared test set 0.28\n"
     ]
    }
   ],
   "source": [
    "lasso = LassoCV(cv=5, random_state=14, max_iter=10000)\n",
    "lasso.fit(x_train, y_train)\n",
    "print('Best alpha is ' + str(lasso.alpha_))\n",
    "\n",
    "print(list(zip(lasso.coef_, X)))\n",
    "print('R squared training set', round(lasso.score(x_train, y_train), 2))\n",
    "print('R squared test set', round(lasso.score(x_test, y_test), 2))"
   ]
  },
  {
   "cell_type": "markdown",
   "id": "4eb2df60-8d3d-4977-926d-485562962f84",
   "metadata": {},
   "source": [
    "Visualize the optimization of alpha"
   ]
  },
  {
   "cell_type": "code",
   "execution_count": 97,
   "id": "8b14e4e8-e6ed-4f70-87c6-b7c36cca970c",
   "metadata": {},
   "outputs": [
    {
     "data": {
      "image/png": "[encoded data removed]",
      "text/plain": [
       "<Figure size 360x216 with 1 Axes>"
      ]
     },
     "metadata": {
      "needs_background": "light"
     },
     "output_type": "display_data"
    }
   ],
   "source": [
    "alphas = np.linspace(0.001,1,1000)\n",
    "lasso = Lasso(max_iter=10000)\n",
    "\n",
    "scores = []\n",
    "for a in alphas:\n",
    "    lasso.set_params(alpha=a)\n",
    "    lasso.fit(x_train, y_train)\n",
    "    \n",
    "    #scores.append(lasso.score(x_train, y_train))\n",
    "    scores.append(cross_val_score(lasso, x_train, y_train, cv=5).mean())\n",
    "\n",
    "plt.figure(figsize=(5, 3))  \n",
    "plt.plot(alphas, scores)\n",
    "plt.xlim([0, 1])\n",
    "plt.xlabel('alpha')\n",
    "plt.ylabel('$R^2$')\n",
    "plt.tight_layout()\n",
    "plt.savefig('lasso_cv_alpha.pdf', dpi=600)\n",
    "plt.show()"
   ]
  },
  {
   "cell_type": "markdown",
   "id": "a13c0e0c-7dd6-402b-9de2-22b726fc19a2",
   "metadata": {},
   "source": [
    "Final model metrics"
   ]
  },
  {
   "cell_type": "code",
   "execution_count": 116,
   "id": "eaca3d3e-cd84-4440-959d-dcb661b9d5fc",
   "metadata": {},
   "outputs": [],
   "source": [
    "def model_metrics(model, X, y, cv=5):\n",
    "    score = cross_val_score(model, X, y, cv=cv, scoring = 'r2')\n",
    "    SEM_r2 = round((score.std() / math.sqrt(5)) , 3)\n",
    "    #r2 = str(round(score.mean(), 3)) + ' +/- ' +  str(SEM_r2)\n",
    "    r2 = round(float(score.mean()), 3)\n",
    "    print('R^2: ' + str(r2) + ' +/- ' +  str(SEM_r2))\n",
    "    \n",
    "    score = cross_val_score(model, X, y, cv=cv, scoring = 'neg_mean_absolute_error')\n",
    "    score = np.multiply(score, -1)\n",
    "    SEM_MAE = round((score.std() / math.sqrt(5)) , 2)\n",
    "    #MAE = str(round(score.mean(), 2)) + ' +/- ' +  str(SEM_MAE)\n",
    "    MAE = round(score.mean(), 2) \n",
    "    print('MAE: ' + str(MAE) + ' +/- ' +  str(SEM_MAE))\n",
    "    \n",
    "    score = cross_val_score(model, X, y, cv=cv, scoring = 'neg_mean_squared_error')\n",
    "    score = np.sqrt(score * -1)\n",
    "    SEM_RMSE = round((score.std() / math.sqrt(5)) , 2)\n",
    "    #RMSE = str(round(score.mean(), 2)) + ' +/- ' +  str(SEM_RMSE)\n",
    "    RMSE = round(score.mean(), 2)\n",
    "    print('RMSE: ' + str(RMSE) + ' +/- ' +  str(SEM_RMSE))"
   ]
  },
  {
   "cell_type": "code",
   "execution_count": 136,
   "id": "02354f17-b7d8-44bf-ae78-46197057d235",
   "metadata": {},
   "outputs": [
    {
     "name": "stdout",
     "output_type": "stream",
     "text": [
      "Training set\n",
      "R^2: 0.383 +/- 0.041\n",
      "MAE: 2.33 +/- 0.09\n",
      "RMSE: 3.02 +/- 0.09\n",
      "Test set\n",
      "R^2: 0.169 +/- 0.031\n",
      "MAE: 2.49 +/- 0.11\n",
      "RMSE: 3.23 +/- 0.12\n"
     ]
    }
   ],
   "source": [
    "print('Training set')\n",
    "model_metrics(lasso, x_train, y_train, cv=5)\n",
    "\n",
    "print('Test set')\n",
    "model_metrics(lasso, x_test, y_test, cv=5)"
   ]
  },
  {
   "cell_type": "markdown",
   "id": "1c5a434a-27fd-4fde-b709-13ca711f6145",
   "metadata": {},
   "source": [
    "## Random Forest"
   ]
  },
  {
   "cell_type": "markdown",
   "id": "13716c29-2d08-4b18-8a50-63cfee32cba0",
   "metadata": {},
   "source": [
    "Find best hyperparameters with randomized search, then use those narrowed down parameters for a gridsearch"
   ]
  },
  {
   "cell_type": "code",
   "execution_count": 122,
   "id": "91bda905-7274-4afb-aa87-deadf118540d",
   "metadata": {},
   "outputs": [
    {
     "name": "stdout",
     "output_type": "stream",
     "text": [
      "Fitting 3 folds for each of 100 candidates, totalling 300 fits\n"
     ]
    },
    {
     "data": {
      "text/plain": [
       "{'n_estimators': 916,\n",
       " 'min_samples_split': 10,\n",
       " 'min_samples_leaf': 2,\n",
       " 'max_features': 'sqrt',\n",
       " 'max_depth': 26,\n",
       " 'bootstrap': False}"
      ]
     },
     "execution_count": 122,
     "metadata": {},
     "output_type": "execute_result"
    }
   ],
   "source": [
    "rf = RandomForestRegressor(random_state=14)\n",
    "\n",
    "# Number of trees in random forest\n",
    "n_estimators = [int(x) for x in np.linspace(start = 50, stop = 2000, num = 10)]\n",
    "\n",
    "# Number of features to consider at every split\n",
    "max_features = ['auto', 'sqrt']\n",
    "\n",
    "# Maximum number of levels in tree\n",
    "max_depth = [int(x) for x in np.linspace(3, 50, num = 5)]\n",
    "max_depth.append(None)\n",
    "\n",
    "# Minimum number of samples required to split a node\n",
    "min_samples_split = [2, 5, 10]\n",
    "\n",
    "# Minimum number of samples required at each leaf node\n",
    "min_samples_leaf = [1, 2, 4]\n",
    "\n",
    "# Method of selecting samples for training each tree\n",
    "bootstrap = [True, False]\n",
    "\n",
    "# Create the random grid\n",
    "random_grid = {'n_estimators': n_estimators,\n",
    "               'max_features': max_features,\n",
    "               'max_depth': max_depth,\n",
    "               'min_samples_split': min_samples_split,\n",
    "               'min_samples_leaf': min_samples_leaf,\n",
    "               'bootstrap': bootstrap}\n",
    "\n",
    "# Use the random grid to search for best hyperparameters\n",
    "# First create the base model to tune\n",
    "rf = RandomForestRegressor()\n",
    "# Random search of parameters, using 3 fold cross validation, \n",
    "# search across 100 different combinations, and use all available cores\n",
    "rf_random = RandomizedSearchCV(estimator = rf, param_distributions = random_grid, n_iter = 100, cv = 3, verbose=2, random_state=42, n_jobs = -1)\n",
    "# Fit the random search model\n",
    "rf_random.fit(x_train, y_train)\n",
    "\n",
    "rf_random.best_params_"
   ]
  },
  {
   "cell_type": "code",
   "execution_count": 138,
   "id": "5e33f470-d6d7-4b91-b641-cb1c9311ef3b",
   "metadata": {},
   "outputs": [
    {
     "name": "stdout",
     "output_type": "stream",
     "text": [
      "Fitting 3 folds for each of 162 candidates, totalling 486 fits\n"
     ]
    },
    {
     "data": {
      "text/plain": [
       "{'bootstrap': False,\n",
       " 'max_depth': 30,\n",
       " 'max_features': 17,\n",
       " 'min_samples_leaf': 2,\n",
       " 'min_samples_split': 12,\n",
       " 'n_estimators': 100}"
      ]
     },
     "execution_count": 138,
     "metadata": {},
     "output_type": "execute_result"
    }
   ],
   "source": [
    "# Create the parameter grid based on the results of random search \n",
    "param_grid = {\n",
    "    'bootstrap': [False],\n",
    "    'max_depth': [10, 25, 30],\n",
    "    'max_features': [17, 30],\n",
    "    'min_samples_leaf': [2, 3, 4],\n",
    "    'min_samples_split': [8, 10, 12],\n",
    "    'n_estimators': [100, 500, 1000]\n",
    "}\n",
    "# Create a based model\n",
    "rf = RandomForestRegressor()\n",
    "# Instantiate the grid search model\n",
    "grid_search = GridSearchCV(estimator = rf, param_grid = param_grid, \n",
    "                          cv = 3, n_jobs = -1, verbose = 2)\n",
    "grid_search.fit(x_train, y_train)\n",
    "grid_search.best_params_"
   ]
  },
  {
   "cell_type": "code",
   "execution_count": 146,
   "id": "e0d08ca3-017b-4430-84eb-b231bc1bdf5c",
   "metadata": {},
   "outputs": [
    {
     "name": "stdout",
     "output_type": "stream",
     "text": [
      "training set\n",
      "R^2: 0.486 +/- 0.037\n",
      "MAE: 2.07 +/- 0.08\n",
      "RMSE: 2.75 +/- 0.09\n",
      "test set\n",
      "R^2: 0.22 +/- 0.013\n",
      "MAE: 2.37 +/- 0.09\n",
      "RMSE: 3.13 +/- 0.1\n"
     ]
    }
   ],
   "source": [
    "rf = RandomForestRegressor(n_estimators=100,max_depth=30, min_samples_split=2, min_samples_leaf=2, max_features=17, random_state=14)\n",
    "rf.fit(x_train, y_train)\n",
    "print('training set')\n",
    "model_metrics(rf, x_train, y_train, cv=5)\n",
    "print('test set')\n",
    "model_metrics(rf, x_test, y_test, cv=5)"
   ]
  },
  {
   "cell_type": "markdown",
   "id": "7604c3cf-b2d6-413d-ad13-e766fd4cde10",
   "metadata": {},
   "source": [
    "These results are slightly better than LASSO"
   ]
  },
  {
   "cell_type": "markdown",
   "id": "72614e5b-8cad-435d-bc6c-2a1afc9ddbea",
   "metadata": {},
   "source": [
    "## Gradient boosting"
   ]
  },
  {
   "cell_type": "code",
   "execution_count": 145,
   "id": "8ea3f976-66f5-4dd4-9ff1-e530708a55f9",
   "metadata": {},
   "outputs": [
    {
     "name": "stdout",
     "output_type": "stream",
     "text": [
      "Fitting 3 folds for each of 256 candidates, totalling 768 fits\n"
     ]
    },
    {
     "data": {
      "text/plain": [
       "{'learning_rate': 0.02, 'max_depth': 6, 'n_estimators': 1000, 'subsample': 0.5}"
      ]
     },
     "execution_count": 145,
     "metadata": {},
     "output_type": "execute_result"
    }
   ],
   "source": [
    "from sklearn.ensemble import GradientBoostingRegressor\n",
    "\n",
    "# Create the parameter grid\n",
    "param_grid = {'learning_rate': [0.01,0.02,0.03,0.04],\n",
    "                  'subsample'    : [0.9, 0.5, 0.2, 0.1],\n",
    "                  'n_estimators' : [100,500,1000, 1500],\n",
    "                  'max_depth'    : [4,6,8,10]\n",
    "                 }\n",
    "# Create a based model\n",
    "gb = GradientBoostingRegressor()\n",
    "# Instantiate the grid search model\n",
    "grid_search = GridSearchCV(estimator = gb, param_grid = param_grid, \n",
    "                          cv = 3, n_jobs = -1, verbose = 2)\n",
    "grid_search.fit(x_train, y_train)\n",
    "grid_search.best_params_"
   ]
  },
  {
   "cell_type": "code",
   "execution_count": 147,
   "id": "4f3151f0-04b0-4edc-b57f-c2081e30e810",
   "metadata": {},
   "outputs": [
    {
     "name": "stdout",
     "output_type": "stream",
     "text": [
      "training set\n",
      "R^2: 0.482 +/- 0.036\n",
      "MAE: 2.05 +/- 0.09\n",
      "RMSE: 2.76 +/- 0.09\n",
      "test set\n",
      "R^2: 0.143 +/- 0.035\n",
      "MAE: 2.5 +/- 0.13\n",
      "RMSE: 3.28 +/- 0.15\n"
     ]
    }
   ],
   "source": [
    "gb = GradientBoostingRegressor(learning_rate = 0.02, subsample = 0.5, n_estimators = 1000, max_depth=6, random_state=14)\n",
    "\n",
    "gb.fit(x_train, y_train.values.ravel())\n",
    "print('training set')\n",
    "model_metrics(gb, x_train, y_train, cv=5)\n",
    "print('test set')\n",
    "model_metrics(gb, x_test, y_test, cv=5)"
   ]
  },
  {
   "cell_type": "markdown",
   "id": "cde935b2-7850-4e24-b23c-1035bcc54516",
   "metadata": {},
   "source": [
    "Random forest is still performing the best"
   ]
  },
  {
   "cell_type": "markdown",
   "id": "1c362177-75b9-453e-938c-302f1cfe4a18",
   "metadata": {},
   "source": [
    "## XGBoost for random forest (XGBRFR)"
   ]
  },
  {
   "cell_type": "code",
   "execution_count": 161,
   "id": "efadb102-7813-412d-89ec-c6c7753c9fb6",
   "metadata": {},
   "outputs": [
    {
     "name": "stdout",
     "output_type": "stream",
     "text": [
      "training set\n",
      "R^2: 0.444 +/- 0.039\n",
      "MAE: 2.2 +/- 0.08\n",
      "RMSE: 2.86 +/- 0.09\n",
      "test set\n",
      "R^2: 0.214 +/- 0.018\n",
      "MAE: 2.39 +/- 0.11\n",
      "RMSE: 3.14 +/- 0.11\n"
     ]
    }
   ],
   "source": [
    "xgbrfr = XGBRFRegressor(n_estimators=1000, subsample=0.9, colsample_bynode=0.1, random_state=14)\n",
    "xgbrfr.fit(x_train, y_train.values.ravel())\n",
    "print('training set')\n",
    "model_metrics(xgbrfr, x_train, y_train, cv=5)\n",
    "print('test set')\n",
    "model_metrics(xgbrfr, x_test, y_test, cv=5)"
   ]
  },
  {
   "cell_type": "markdown",
   "id": "72906535-6405-4ae4-9f01-2553490f4a08",
   "metadata": {},
   "source": [
    "## Support Vector Regression (SVR)"
   ]
  },
  {
   "cell_type": "code",
   "execution_count": 163,
   "id": "fd766d34-fdfe-46e4-8c71-5285b49a2f9e",
   "metadata": {},
   "outputs": [
    {
     "name": "stdout",
     "output_type": "stream",
     "text": [
      "training set\n",
      "R^2: 0.398 +/- 0.041\n",
      "MAE: 2.29 +/- 0.08\n",
      "RMSE: 2.98 +/- 0.09\n",
      "test set\n",
      "R^2: 0.162 +/- 0.025\n",
      "MAE: 2.47 +/- 0.13\n",
      "RMSE: 3.25 +/- 0.13\n"
     ]
    }
   ],
   "source": [
    "svr_rbf = SVR(kernel=\"rbf\", C=1, gamma='auto', epsilon=0.1)\n",
    "svr_rbf.fit(x_train, y_train.values.ravel())\n",
    "print('training set')\n",
    "model_metrics(svr_rbf, x_train, y_train, cv=5)\n",
    "print('test set')\n",
    "model_metrics(svr_rbf, x_test, y_test, cv=5)"
   ]
  },
  {
   "cell_type": "markdown",
   "id": "95c0e485-7d79-4784-bf26-0bf31d677474",
   "metadata": {},
   "source": [
    "## K-nearest neighboors (KNN)"
   ]
  },
  {
   "cell_type": "code",
   "execution_count": 172,
   "id": "7f1bdc9e-ea3b-4558-b0ab-86e330915090",
   "metadata": {},
   "outputs": [
    {
     "name": "stdout",
     "output_type": "stream",
     "text": [
      "training set\n",
      "R^2: 0.391 +/- 0.026\n",
      "MAE: 2.25 +/- 0.06\n",
      "RMSE: 3.0 +/- 0.06\n",
      "test set\n",
      "R^2: 0.222 +/- 0.027\n",
      "MAE: 2.33 +/- 0.1\n",
      "RMSE: 3.12 +/- 0.11\n"
     ]
    }
   ],
   "source": [
    "knn = KNeighborsRegressor(n_neighbors=4)\n",
    "knn.fit(x_train, y_train.values.ravel())\n",
    "print('training set')\n",
    "model_metrics(knn, x_train, y_train, cv=5)\n",
    "print('test set')\n",
    "model_metrics(knn, x_test, y_test, cv=5)"
   ]
  },
  {
   "cell_type": "code",
   "execution_count": null,
   "id": "3fa6c205-b09e-4100-89fb-05e295011abf",
   "metadata": {},
   "outputs": [],
   "source": []
  }
 ],
 "metadata": {
  "kernelspec": {
   "display_name": "Python 3",
   "language": "python",
   "name": "python3"
  },
  "language_info": {
   "codemirror_mode": {
    "name": "ipython",
    "version": 3
   },
   "file_extension": ".py",
   "mimetype": "text/x-python",
   "name": "python",
   "nbconvert_exporter": "python",
   "pygments_lexer": "ipython3",
   "version": "3.8.8"
  }
 },
 "nbformat": 4,
 "nbformat_minor": 5
}
