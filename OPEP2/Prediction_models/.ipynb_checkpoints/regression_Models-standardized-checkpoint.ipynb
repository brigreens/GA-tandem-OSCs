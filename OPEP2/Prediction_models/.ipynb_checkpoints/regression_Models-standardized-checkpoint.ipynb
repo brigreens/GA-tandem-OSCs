{
 "cells": [
  {
   "cell_type": "markdown",
   "id": "b5774fd4-07ed-43d5-aa3c-cc74ed89d50c",
   "metadata": {},
   "source": [
    "# Models to predict PCE with the descriptros standardized"
   ]
  },
  {
   "cell_type": "code",
   "execution_count": null,
   "id": "ae125026-79a4-4c84-9630-484e503b4b07",
   "metadata": {},
   "outputs": [],
   "source": []
  },
  {
   "cell_type": "code",
   "execution_count": 28,
   "id": "f02d5a54-a105-4e15-8238-e43c056d65f7",
   "metadata": {},
   "outputs": [],
   "source": [
    "import numpy as np\n",
    "import pandas as pd\n",
    "import matplotlib.pyplot as plt\n",
    "import pylab\n",
    "import seaborn as sns\n",
    "import math\n",
    "import statistics\n",
    "from scipy.stats import sem\n",
    "from scipy import stats\n",
    "\n",
    "from pathlib import Path\n",
    "\n",
    "import statsmodels.api as sm\n",
    "from xgboost import XGBRFRegressor\n",
    "from sklearn.svm import SVR\n",
    "from sklearn.neighbors import KNeighborsRegressor\n",
    "from lightgbm import LGBMRegressor\n",
    "import sklearn\n",
    "from sklearn.metrics import mean_absolute_error\n",
    "from sklearn.metrics import mean_squared_error\n",
    "from sklearn.metrics import make_scorer\n",
    "from sklearn.utils import check_consistent_length\n",
    "from sklearn.utils import check_array\n",
    "from sklearn.linear_model import Lasso\n",
    "from sklearn.model_selection import cross_validate\n",
    "\n",
    "from sklearn.base import BaseEstimator, RegressorMixin\n",
    "from sklearn.preprocessing import StandardScaler\n",
    "\n",
    "from numpy import mean\n",
    "from numpy import std\n",
    "from sklearn.datasets import make_regression\n",
    "from sklearn.model_selection import cross_val_score, GridSearchCV, cross_val_predict\n",
    "from sklearn.model_selection import RepeatedKFold\n",
    "from sklearn.ensemble import RandomForestRegressor\n",
    "from sklearn.model_selection import RandomizedSearchCV\n",
    "\n",
    "from sklearn.model_selection import train_test_split\n",
    "from sklearn import metrics\n",
    "from sklearn.preprocessing import MinMaxScaler\n",
    "import math\n",
    "from sklearn.metrics import make_scorer\n",
    "\n",
    "import matplotlib.pyplot as plt\n",
    "from sklearn.linear_model import LassoCV\n",
    "from sklearn.ensemble import GradientBoostingRegressor\n",
    "from keras.models import Sequential\n",
    "from keras.layers import Dense\n",
    "from sklearn.neural_network import MLPRegressor\n",
    "from sklearn.ensemble import VotingRegressor\n",
    "\n",
    "import warnings\n",
    "warnings.filterwarnings(\"ignore\")"
   ]
  },
  {
   "cell_type": "code",
   "execution_count": 2,
   "id": "bd8528d9-fa39-4ddc-9c1f-68369de68c39",
   "metadata": {},
   "outputs": [
    {
     "name": "stdout",
     "output_type": "stream",
     "text": [
      "Number of donor-acceptor pairs is: 1001\n"
     ]
    }
   ],
   "source": [
    "data = pd.read_csv('descriptors.csv')\n",
    "print('Number of donor-acceptor pairs is: ' + str(len(data)))"
   ]
  },
  {
   "cell_type": "code",
   "execution_count": 3,
   "id": "038c7d42-de85-4e4f-b599-3ff3254f5d15",
   "metadata": {},
   "outputs": [
    {
     "name": "stdout",
     "output_type": "stream",
     "text": [
      "Number of donor-acceptor pairs with a PCE greater than 9% is: 505\n"
     ]
    }
   ],
   "source": [
    "data_highPCE = data[data['PCE'] > 10]\n",
    "print('Number of donor-acceptor pairs with a PCE greater than 10% is: ' + str(len(data_highPCE)))"
   ]
  },
  {
   "cell_type": "markdown",
   "id": "360d073e-552f-458e-a864-706f768e2a50",
   "metadata": {},
   "source": [
    "## LASSO"
   ]
  },
  {
   "cell_type": "code",
   "execution_count": 4,
   "id": "eb17276b-e235-4242-a3fc-7e41dd19d762",
   "metadata": {
    "tags": []
   },
   "outputs": [],
   "source": [
    "# Will tune the descriptors down to 6 until to achieve an optimized RMSE\n",
    "# returns a list of the top 6 descriptors\n",
    "def optimize_eq(df, target):\n",
    "    \n",
    "    all_descriptors = ['A-HOMO', 'A-HOMOminus1', 'A-LUMO', 'A-LUMOplus1', 'A-fundbg', 'A-deltaHOMO', 'A-deltaLUMO', 'A-opt_bg', 'A-max_abs', 'A-summed_oscs', 'A-area_spectra', 'A-area_sim_solar_spectra', 'A-chemical_potential', 'A-electrophilicity', 'A-pi_sys_size', 'A-num_rot_bonds', 'A-MolLogP', 'A-TPSA', 'A-NumHAcceptors', 'A-NumHDonors', 'A-planarity','A-dipole_moment', 'A-polarizability', 'A-SolvationEnergy_water', 'A-SolvationEnergy_hexane', 'D-HOMO', 'D-HOMOminus1', 'D-LUMO', 'D-LUMOplus1', 'D-fundbg', 'D-deltaHOMO', 'D-deltaLUMO', 'D-opt_bg', 'D-max_abs', 'D-summed_oscs', 'D-area_spectra', 'D-area_sim_solar_spectra', 'D-chemical_potential', 'D-electrophilicity', 'D-pi_sys_size', 'D-num_rot_bonds', 'D-MolLogP', 'D-TPSA', 'D-NumHAcceptors', 'D-NumHDonors', 'D-planarity','D-dipole_moment', 'D-polarizability', 'D-SolvationEnergy_water', 'D-SolvationEnergy_hexane', 'AD-overlap', 'AD-HOMOoffset', 'AD-LUMOoffset', 'DHOMO_ALUMO_offset']\n",
    "    \n",
    "    # LASSO to remove any with coefficients of zero\n",
    "    descriptors_to_remove = []\n",
    "    results = evaluate_model(all_descriptors, df[target], df,output=False)\n",
    "    for x in range(len(results[9])):\n",
    "        if results[9][x][1] == 0.0:\n",
    "            descriptors_to_remove.append(results[9][x][0])\n",
    "            \n",
    "    for x in descriptors_to_remove:\n",
    "        all_descriptors.remove(x)\n",
    "    print(all_descriptors)\n",
    "    \n",
    "    while len(all_descriptors) > 6:\n",
    "        rmse = 100.0\n",
    "        diff = 0.0\n",
    "        mae = 100.0\n",
    "        r2 = -1.00\n",
    "        for x in range(len(all_descriptors)):\n",
    "            temp_descriptor = all_descriptors[x]\n",
    "            new_list = all_descriptors.copy()\n",
    "            new_list.remove(temp_descriptor)\n",
    "            results = evaluate_model(new_list, df[target], df,output=False)\n",
    "            new_diff = 100.0 - float(results[4])\n",
    "            \n",
    "            if new_diff >= diff:\n",
    "                if new_diff == diff:\n",
    "                    if mae == results[2]:\n",
    "                        if results[0] > r2:\n",
    "                            diff = new_diff\n",
    "                            mae = results[2]\n",
    "                            r2 = results[0]\n",
    "                            rmse = results[4]\n",
    "                            best_list = new_list\n",
    "                    elif mae > results[2]:\n",
    "                        diff = new_diff\n",
    "                        mae = results[2]\n",
    "                        r2 = results[0]\n",
    "                        rmse = results[4]\n",
    "                        best_list = new_list\n",
    "                else:\n",
    "                    diff = new_diff\n",
    "                    mae = results[2]\n",
    "                    r2 = results[0]\n",
    "                    rmse = results[4]\n",
    "                    best_list = new_list\n",
    "                \n",
    "        all_descriptors = best_list\n",
    "        print(len(all_descriptors))\n",
    "        print(rmse)\n",
    "        \n",
    "    print(all_descriptors)\n",
    "    print(rmse)\n",
    "    \n",
    "    return all_descriptors\n",
    "\n",
    "## from sci-kit-learn https://github.com/scikit-learn/scikit-learn/blob/4773f3e39/sklearn/metrics/_regression.py#L197\n",
    "def _check_reg_targets(y_true, y_pred, multioutput, dtype=\"numeric\"):\n",
    "    check_consistent_length(y_true, y_pred)\n",
    "    y_true = check_array(y_true, ensure_2d=False, dtype=dtype)\n",
    "    y_pred = check_array(y_pred, ensure_2d=False, dtype=dtype)\n",
    "\n",
    "    if y_true.ndim == 1:\n",
    "        y_true = y_true.reshape((-1, 1))\n",
    "\n",
    "    if y_pred.ndim == 1:\n",
    "        y_pred = y_pred.reshape((-1, 1))\n",
    "\n",
    "    if y_true.shape[1] != y_pred.shape[1]:\n",
    "        raise ValueError(\"y_true and y_pred have different number of output \"\n",
    "                         \"({0}!={1})\".format(y_true.shape[1], y_pred.shape[1]))\n",
    "\n",
    "    n_outputs = y_true.shape[1]\n",
    "    allowed_multioutput_str = ('raw_values', 'uniform_average',\n",
    "                               'variance_weighted')\n",
    "    if isinstance(multioutput, str):\n",
    "        if multioutput not in allowed_multioutput_str:\n",
    "            raise ValueError(\"Allowed 'multioutput' string values are {}. \"\n",
    "                             \"You provided multioutput={!r}\".format(\n",
    "                                 allowed_multioutput_str,\n",
    "                                 multioutput))\n",
    "    elif multioutput is not None:\n",
    "        multioutput = check_array(multioutput, ensure_2d=False)\n",
    "        if n_outputs == 1:\n",
    "            raise ValueError(\"Custom weights are useful only in \"\n",
    "                             \"multi-output cases.\")\n",
    "        elif n_outputs != len(multioutput):\n",
    "            raise ValueError((\"There must be equally many custom weights \"\n",
    "                              \"(%d) as outputs (%d).\") %\n",
    "                             (len(multioutput), n_outputs))\n",
    "    y_type = 'continuous' if n_outputs == 1 else 'continuous-multioutput'\n",
    "\n",
    "    return y_type, y_true, y_pred, multioutput\n",
    "\n",
    "def mean_absolute_percentage_error(y_true, y_pred,\n",
    "                                   sample_weight=None,\n",
    "                                   multioutput='uniform_average'):\n",
    "\n",
    "    y_type, y_true, y_pred, multioutput = _check_reg_targets(\n",
    "        y_true, y_pred, multioutput)\n",
    "    check_consistent_length(y_true, y_pred, sample_weight)\n",
    "    epsilon = np.finfo(np.float64).eps\n",
    "    mape = np.abs(y_pred - y_true) / np.maximum(np.abs(y_true), epsilon)\n",
    "    output_errors = np.average(mape,\n",
    "                               weights=sample_weight, axis=0)\n",
    "    if isinstance(multioutput, str):\n",
    "        if multioutput == 'raw_values':\n",
    "            return output_errors\n",
    "        elif multioutput == 'uniform_average':\n",
    "            # pass None as weights to np.average: uniform mean\n",
    "            multioutput = None\n",
    "\n",
    "    return np.average(output_errors, weights=multioutput)\n",
    "\n",
    "def evaluate_model(list_of_desc, target, dataframe, cf = False, output=True):\n",
    "    '''\n",
    "    Evaluates the errors of the proposed model\n",
    "    \n",
    "    Parameters\n",
    "    ---------\n",
    "    list_of_desc = name of the list that contains the descriptors\n",
    "    target = target experimental value in the dataframe. Ex: df_highPCE['ExperimentalJsc']\n",
    "    dataframe = name of dataframe to use descriptors from\n",
    "    cf = should it show the coefficients\n",
    "    \n",
    "    Returns\n",
    "    -------\n",
    "    R2, MAE, RMSE, MAPE, y-intercept of equation, coefficients of each descriptor, average predictions\n",
    "    '''\n",
    "    \n",
    "    new_df = dataframe[list_of_desc].copy()\n",
    "    \n",
    "    max_mae = 10.0\n",
    "    best_alpha = 0\n",
    "    for a in range(1,200):\n",
    "        lm =Lasso(alpha=float(a)/100.0)\n",
    "        lm.fit(new_df, target)\n",
    "        mae = mean_absolute_error(target, lm.predict(new_df))\n",
    "        if mae < max_mae:\n",
    "            best_alpha = float(a)/100.0\n",
    "            max_mae = mae\n",
    "\n",
    "    r2_score = []\n",
    "    intercepts = []\n",
    "    coefs = []\n",
    "    predicted_PCE = []\n",
    "    MAE_cv = []\n",
    "    RMSE_cv = []\n",
    "    \n",
    "    print('Best alpha is', best_alpha)\n",
    "\n",
    "    PCE_cv = cross_validate(Lasso(alpha = best_alpha, max_iter = 100000), new_df, target, cv=5, scoring = ['neg_mean_squared_error'] , return_estimator = True)\n",
    "    for x in PCE_cv['estimator']:\n",
    "        coef = x.coef_\n",
    "        coefs.append(coef)\n",
    "\n",
    "        pred = x.predict(new_df)\n",
    "        predicted_PCE.append(pred)\n",
    "\n",
    "        r2_score.append(x.score(new_df, target))\n",
    "        intercepts.append(x.intercept_)\n",
    "\n",
    "        \n",
    "    avg_coef = sum(coefs)/5.0    \n",
    "    zipped_coefs = zip(list_of_desc, avg_coef)\n",
    "    \n",
    "    if output == True:\n",
    "        if cf == True:\n",
    "            print('The average intercept from 5 folds is ', statistics.mean(intercepts))\n",
    "            print('The average coefficients of the 5 folds is ', list(zipped_coefs))\n",
    "    \n",
    "    coefficients = list(zipped_coefs)\n",
    "    \n",
    "    avg_pred = sum(predicted_PCE)/ 5.0    \n",
    "    all_mae = []\n",
    "    all_RMSE = []\n",
    "    all_MAPE = []\n",
    "    for x in range(len(predicted_PCE)):\n",
    "        mae = mean_absolute_error(target, predicted_PCE[x])\n",
    "        all_mae.append(mae)\n",
    "        mse = mean_squared_error(target, predicted_PCE[x])\n",
    "        rmse = math.sqrt(mse)\n",
    "        all_RMSE.append(rmse)\n",
    "        mape = mean_absolute_percentage_error(target, predicted_PCE[x]) * 100\n",
    "        all_MAPE.append(mape)\n",
    "    SEM_mae = round(sem(all_mae), 3)\n",
    "    SEM_RMSE = round(sem(all_RMSE), 5)\n",
    "    SEM_MAPE = round(sem(all_MAPE), 5)\n",
    "    \n",
    "    \n",
    "    mean_MAE = round(statistics.mean(all_mae), 3)\n",
    "    mean_RMSE = round(statistics.mean(all_RMSE), 4)\n",
    "    mean_MAPE = round(statistics.mean(all_MAPE), 4)\n",
    "    SEM_r2 = round(sem(r2_score), 3)\n",
    "    \n",
    "    if output == True:\n",
    "        print('The 5-fold cross-validated RMSE of this model is, ', mean_RMSE, ' +/- ', SEM_RMSE)\n",
    "        print('The 5-fold cross-validated MAE of the average ', mean_MAE, ' +/- ', SEM_mae)\n",
    "        print('The average r^2 value is ', statistics.mean(r2_score), ' +/- ', SEM_r2 )\n",
    "    mean_r2 = round(statistics.mean(r2_score), 3)\n",
    "    \n",
    "    intercept = statistics.mean(intercepts)\n",
    "    \n",
    "    return mean_r2, SEM_r2, mean_MAE, SEM_mae, mean_RMSE, SEM_RMSE, mean_MAPE, SEM_MAPE, intercept, coefficients, avg_pred"
   ]
  },
  {
   "cell_type": "code",
   "execution_count": 35,
   "id": "96bd6202-d561-4620-9b1f-1814dd294ed0",
   "metadata": {},
   "outputs": [],
   "source": [
    "#https://www.programcreek.com/python/example/99249/sklearn.linear_model.LassoCV\n",
    "\n",
    "def load_default(self, machine_list='basic'):\n",
    "        \"\"\"\n",
    "        Loads 4 different scikit-learn regressors by default. The advanced list adds more machines. \n",
    "\n",
    "        Parameters\n",
    "        ----------\n",
    "        machine_list: optional, list of strings\n",
    "            List of default machine names to be loaded.\n",
    "        Returns\n",
    "        -------\n",
    "        self : returns an instance of self.\n",
    "        \"\"\"\n",
    "\n",
    "        if machine_list == 'basic':\n",
    "            machine_list = ['tree', 'ridge', 'random_forest', 'svm']\n",
    "        if machine_list == 'advanced':\n",
    "            machine_list=['lasso', 'tree', 'ridge', 'random_forest', 'svm', 'bayesian_ridge', 'sgd']\n",
    "\n",
    "        self.estimators_ = {}\n",
    "        for machine in machine_list:\n",
    "            try:\n",
    "                if machine == 'lasso':\n",
    "                    self.estimators_['lasso'] = linear_model.LassoCV(random_state=self.random_state).fit(self.X_k_, self.y_k_)\n",
    "                if machine == 'tree':\n",
    "                    self.estimators_['tree'] = DecisionTreeRegressor(random_state=self.random_state).fit(self.X_k_, self.y_k_)\n",
    "                if machine == 'ridge':\n",
    "                    self.estimators_['ridge'] = linear_model.RidgeCV().fit(self.X_k_, self.y_k_)\n",
    "                if machine == 'random_forest':\n",
    "                    self.estimators_['random_forest'] = RandomForestRegressor(random_state=self.random_state).fit(self.X_k_, self.y_k_)\n",
    "                if machine == 'svm':\n",
    "                    self.estimators_['svm'] = LinearSVR(random_state=self.random_state).fit(self.X_k_, self.y_k_)\n",
    "                if machine == 'sgd':\n",
    "                    self.estimators_['sgd'] = linear_model.SGDRegressor(random_state=self.random_state).fit(self.X_k_, self.y_k_)\n",
    "                if machine == 'bayesian_ridge':\n",
    "                    self.estimators_['bayesian_ridge'] = linear_model.BayesianRidge().fit(self.X_k_, self.y_k_)\n",
    "            except ValueError:\n",
    "                continue\n",
    "        return self "
   ]
  },
  {
   "cell_type": "markdown",
   "id": "24ef9aab-208c-45ae-8181-8d4dc92c65aa",
   "metadata": {},
   "source": [
    "Lets see which descriptors LASSO selects:"
   ]
  },
  {
   "cell_type": "code",
   "execution_count": 8,
   "id": "b988486c-4c33-4fbb-94b8-771049975242",
   "metadata": {},
   "outputs": [
    {
     "name": "stdout",
     "output_type": "stream",
     "text": [
      "There are 54 descriptors\n"
     ]
    }
   ],
   "source": [
    "all_descriptors = ['A-HOMO', 'A-HOMOminus1', 'A-LUMO', 'A-LUMOplus1', 'A-fundbg', 'A-deltaHOMO', 'A-deltaLUMO', 'A-opt_bg', 'A-max_abs', 'A-summed_oscs', 'A-area_spectra', 'A-area_sim_solar_spectra', 'A-chemical_potential', 'A-electrophilicity', 'A-pi_sys_size', 'A-num_rot_bonds', 'A-MolLogP', 'A-TPSA', 'A-NumHAcceptors', 'A-NumHDonors', 'A-planarity','A-dipole_moment', 'A-polarizability', 'A-SolvationEnergy_water', 'A-SolvationEnergy_hexane', 'D-HOMO', 'D-HOMOminus1', 'D-LUMO', 'D-LUMOplus1', 'D-fundbg', 'D-deltaHOMO', 'D-deltaLUMO', 'D-opt_bg', 'D-max_abs', 'D-summed_oscs', 'D-area_spectra', 'D-area_sim_solar_spectra', 'D-chemical_potential', 'D-electrophilicity', 'D-pi_sys_size', 'D-num_rot_bonds', 'D-MolLogP', 'D-TPSA', 'D-NumHAcceptors', 'D-NumHDonors', 'D-planarity','D-dipole_moment', 'D-polarizability', 'D-SolvationEnergy_water', 'D-SolvationEnergy_hexane', 'AD-overlap', 'AD-HOMOoffset', 'AD-LUMOoffset', 'DHOMO_ALUMO_offset']\n",
    "print(\"There are \" + str(len(all_descriptors)) + ' descriptors')"
   ]
  },
  {
   "cell_type": "code",
   "execution_count": 102,
   "id": "3a5807b5-2d51-4095-b904-09b0322786ca",
   "metadata": {},
   "outputs": [
    {
     "name": "stdout",
     "output_type": "stream",
     "text": [
      "Best alpha is 0.01\n",
      "The average intercept from 5 folds is  -51.57087072184057\n",
      "The average coefficients of the 5 folds is  [('A-HOMO', 0.0), ('A-HOMOminus1', 0.0), ('A-LUMO', -0.17545975271623135), ('A-LUMOplus1', -0.37452985792697435), ('A-fundbg', 0.0), ('A-deltaHOMO', -2.257287427054922), ('A-deltaLUMO', -0.0010517494440340231), ('A-opt_bg', 0.0), ('A-max_abs', 0.012185671244768142), ('A-summed_oscs', -0.11552792341660978), ('A-area_spectra', -0.0024600261908346815), ('A-area_sim_solar_spectra', 0.06207173287218095), ('A-chemical_potential', 0.0), ('A-electrophilicity', -0.03011792426999103), ('A-pi_sys_size', -0.03922436041426376), ('A-num_rot_bonds', -0.39931444393768434), ('A-MolLogP', 0.3033117383147984), ('A-TPSA', 0.019222160253011905), ('A-NumHAcceptors', 0.06030204224934772), ('A-NumHDonors', 0.0), ('A-planarity', -0.16661875585035552), ('A-dipole_moment', -0.02827826710704328), ('A-polarizability', -0.0011481163925569366), ('A-SolvationEnergy_water', 0.0), ('A-SolvationEnergy_hexane', 0.0), ('D-HOMO', 0.0), ('D-HOMOminus1', -2.609560498762281), ('D-LUMO', -0.09153978351798593), ('D-LUMOplus1', -2.4630012027165327), ('D-fundbg', 0.0), ('D-deltaHOMO', 0.0), ('D-deltaLUMO', 0.0), ('D-opt_bg', 0.0), ('D-max_abs', -0.005792822722166216), ('D-summed_oscs', 0.061046950921234355), ('D-area_spectra', -0.0009257572306575465), ('D-area_sim_solar_spectra', 0.07486112837362366), ('D-chemical_potential', 0.0), ('D-electrophilicity', 0.019743047637750682), ('D-pi_sys_size', 0.0028551618219520873), ('D-num_rot_bonds', 0.1379674641410618), ('D-MolLogP', 0.09091670347420719), ('D-TPSA', -0.01842713958710088), ('D-NumHAcceptors', 0.19570504708200062), ('D-NumHDonors', 0.0), ('D-planarity', -0.197607592555249), ('D-dipole_moment', -0.05797453846768639), ('D-polarizability', -0.005094977289589237), ('D-SolvationEnergy_water', 0.0), ('D-SolvationEnergy_hexane', 0.0), ('AD-overlap', 0.0012525194003496043), ('AD-HOMOoffset', 0.0), ('AD-LUMOoffset', -0.004279434045421667), ('DHOMO_ALUMO_offset', 0.0)]\n",
      "The 5-fold cross-validated RMSE of this model is,  2.9167  +/-  0.00412\n",
      "The 5-fold cross-validated MAE of the average  2.23  +/-  0.003\n",
      "The average r^2 value is  0.41299670588474546  +/-  0.002\n"
     ]
    }
   ],
   "source": [
    "Lasso_PCE = evaluate_model(all_descriptors, data['PCE'], data, cf=True)"
   ]
  },
  {
   "cell_type": "markdown",
   "id": "07715e20-b58d-40b3-bb55-558adf621de4",
   "metadata": {},
   "source": [
    "When the coefficient is zero, it means there is no correlation between the descriptor and the PCE, so it can be discarded.  \n",
    "The following descriptors were zeroed out:\n",
    "1. HOMO (acc & don)\n",
    "2. HOMO-1 (acc)\n",
    "3. fundamental bandgap (acc & don)\n",
    "4. optical bandgap (acc & don)\n",
    "5. chemical potential (acc & don)\n",
    "6. NumHDonors (acc & don)\n",
    "7. Solvation energies for water and hexane (acc & don)\n",
    "8. deltaHOMO (don)\n",
    "9. deltaLUMO (don)\n",
    "10. HOMO offset between donor and acceptor\n",
    "11. Offset between donor HOMO and acceptor LUMO"
   ]
  },
  {
   "cell_type": "markdown",
   "id": "01418764-b798-4491-8550-96c630db1dcd",
   "metadata": {},
   "source": [
    "The remaining descriptors are hand-tuned to lower the RMSE"
   ]
  },
  {
   "cell_type": "code",
   "execution_count": 19,
   "id": "821e2d85-d87e-4ff0-a35e-8a986326a278",
   "metadata": {
    "collapsed": true,
    "jupyter": {
     "outputs_hidden": true
    },
    "tags": []
   },
   "outputs": [
    {
     "name": "stdout",
     "output_type": "stream",
     "text": [
      "['A-LUMO', 'A-LUMOplus1', 'A-deltaHOMO', 'A-deltaLUMO', 'A-max_abs', 'A-summed_oscs', 'A-area_spectra', 'A-area_sim_solar_spectra', 'A-electrophilicity', 'A-pi_sys_size', 'A-num_rot_bonds', 'A-MolLogP', 'A-TPSA', 'A-NumHAcceptors', 'A-planarity', 'A-dipole_moment', 'A-polarizability', 'D-HOMOminus1', 'D-LUMO', 'D-LUMOplus1', 'D-max_abs', 'D-summed_oscs', 'D-area_spectra', 'D-area_sim_solar_spectra', 'D-electrophilicity', 'D-pi_sys_size', 'D-num_rot_bonds', 'D-MolLogP', 'D-TPSA', 'D-NumHAcceptors', 'D-planarity', 'D-dipole_moment', 'D-polarizability', 'AD-overlap', 'AD-LUMOoffset']\n"
     ]
    },
    {
     "name": "stderr",
     "output_type": "stream",
     "text": [
      "C:\\Users\\bripe\\anaconda3\\lib\\site-packages\\sklearn\\linear_model\\_coordinate_descent.py:530: ConvergenceWarning: Objective did not converge. You might want to increase the number of iterations. Duality gap: 6.781293106398152, tolerance: 1.4507535502977023\n",
      "  model = cd_fast.enet_coordinate_descent(\n",
      "C:\\Users\\bripe\\anaconda3\\lib\\site-packages\\sklearn\\linear_model\\_coordinate_descent.py:530: ConvergenceWarning: Objective did not converge. You might want to increase the number of iterations. Duality gap: 31.384951783514225, tolerance: 1.4507535502977023\n",
      "  model = cd_fast.enet_coordinate_descent(\n",
      "C:\\Users\\bripe\\anaconda3\\lib\\site-packages\\sklearn\\linear_model\\_coordinate_descent.py:530: ConvergenceWarning: Objective did not converge. You might want to increase the number of iterations. Duality gap: 8.786145665426375, tolerance: 1.4507535502977023\n",
      "  model = cd_fast.enet_coordinate_descent(\n",
      "C:\\Users\\bripe\\anaconda3\\lib\\site-packages\\sklearn\\linear_model\\_coordinate_descent.py:530: ConvergenceWarning: Objective did not converge. You might want to increase the number of iterations. Duality gap: 2.2772241456805205, tolerance: 1.4507535502977023\n",
      "  model = cd_fast.enet_coordinate_descent(\n",
      "C:\\Users\\bripe\\anaconda3\\lib\\site-packages\\sklearn\\linear_model\\_coordinate_descent.py:530: ConvergenceWarning: Objective did not converge. You might want to increase the number of iterations. Duality gap: 4.260510541649637, tolerance: 1.4507535502977023\n",
      "  model = cd_fast.enet_coordinate_descent(\n",
      "C:\\Users\\bripe\\anaconda3\\lib\\site-packages\\sklearn\\linear_model\\_coordinate_descent.py:530: ConvergenceWarning: Objective did not converge. You might want to increase the number of iterations. Duality gap: 2.282502544549061, tolerance: 1.4507535502977023\n",
      "  model = cd_fast.enet_coordinate_descent(\n",
      "C:\\Users\\bripe\\anaconda3\\lib\\site-packages\\sklearn\\linear_model\\_coordinate_descent.py:530: ConvergenceWarning: Objective did not converge. You might want to increase the number of iterations. Duality gap: 70.73498220931742, tolerance: 1.4507535502977023\n",
      "  model = cd_fast.enet_coordinate_descent(\n",
      "C:\\Users\\bripe\\anaconda3\\lib\\site-packages\\sklearn\\linear_model\\_coordinate_descent.py:530: ConvergenceWarning: Objective did not converge. You might want to increase the number of iterations. Duality gap: 24.674763146816076, tolerance: 1.4507535502977023\n",
      "  model = cd_fast.enet_coordinate_descent(\n",
      "C:\\Users\\bripe\\anaconda3\\lib\\site-packages\\sklearn\\linear_model\\_coordinate_descent.py:530: ConvergenceWarning: Objective did not converge. You might want to increase the number of iterations. Duality gap: 23.753236227011257, tolerance: 1.4507535502977023\n",
      "  model = cd_fast.enet_coordinate_descent(\n",
      "C:\\Users\\bripe\\anaconda3\\lib\\site-packages\\sklearn\\linear_model\\_coordinate_descent.py:530: ConvergenceWarning: Objective did not converge. You might want to increase the number of iterations. Duality gap: 5.990294182571233, tolerance: 1.4507535502977023\n",
      "  model = cd_fast.enet_coordinate_descent(\n",
      "C:\\Users\\bripe\\anaconda3\\lib\\site-packages\\sklearn\\linear_model\\_coordinate_descent.py:530: ConvergenceWarning: Objective did not converge. You might want to increase the number of iterations. Duality gap: 3.13262742337065, tolerance: 1.4507535502977023\n",
      "  model = cd_fast.enet_coordinate_descent(\n"
     ]
    },
    {
     "name": "stdout",
     "output_type": "stream",
     "text": [
      "34\n",
      "2.9135\n"
     ]
    },
    {
     "name": "stderr",
     "output_type": "stream",
     "text": [
      "C:\\Users\\bripe\\anaconda3\\lib\\site-packages\\sklearn\\linear_model\\_coordinate_descent.py:530: ConvergenceWarning: Objective did not converge. You might want to increase the number of iterations. Duality gap: 6.383602071324276, tolerance: 1.4507535502977023\n",
      "  model = cd_fast.enet_coordinate_descent(\n",
      "C:\\Users\\bripe\\anaconda3\\lib\\site-packages\\sklearn\\linear_model\\_coordinate_descent.py:530: ConvergenceWarning: Objective did not converge. You might want to increase the number of iterations. Duality gap: 30.775178613127537, tolerance: 1.4507535502977023\n",
      "  model = cd_fast.enet_coordinate_descent(\n",
      "C:\\Users\\bripe\\anaconda3\\lib\\site-packages\\sklearn\\linear_model\\_coordinate_descent.py:530: ConvergenceWarning: Objective did not converge. You might want to increase the number of iterations. Duality gap: 8.57423568455124, tolerance: 1.4507535502977023\n",
      "  model = cd_fast.enet_coordinate_descent(\n",
      "C:\\Users\\bripe\\anaconda3\\lib\\site-packages\\sklearn\\linear_model\\_coordinate_descent.py:530: ConvergenceWarning: Objective did not converge. You might want to increase the number of iterations. Duality gap: 2.2667150969664362, tolerance: 1.4507535502977023\n",
      "  model = cd_fast.enet_coordinate_descent(\n",
      "C:\\Users\\bripe\\anaconda3\\lib\\site-packages\\sklearn\\linear_model\\_coordinate_descent.py:530: ConvergenceWarning: Objective did not converge. You might want to increase the number of iterations. Duality gap: 4.02869174305124, tolerance: 1.4507535502977023\n",
      "  model = cd_fast.enet_coordinate_descent(\n",
      "C:\\Users\\bripe\\anaconda3\\lib\\site-packages\\sklearn\\linear_model\\_coordinate_descent.py:530: ConvergenceWarning: Objective did not converge. You might want to increase the number of iterations. Duality gap: 2.239054768853748, tolerance: 1.4507535502977023\n",
      "  model = cd_fast.enet_coordinate_descent(\n",
      "C:\\Users\\bripe\\anaconda3\\lib\\site-packages\\sklearn\\linear_model\\_coordinate_descent.py:530: ConvergenceWarning: Objective did not converge. You might want to increase the number of iterations. Duality gap: 72.48473122874748, tolerance: 1.4507535502977023\n",
      "  model = cd_fast.enet_coordinate_descent(\n",
      "C:\\Users\\bripe\\anaconda3\\lib\\site-packages\\sklearn\\linear_model\\_coordinate_descent.py:530: ConvergenceWarning: Objective did not converge. You might want to increase the number of iterations. Duality gap: 24.562403660802374, tolerance: 1.4507535502977023\n",
      "  model = cd_fast.enet_coordinate_descent(\n",
      "C:\\Users\\bripe\\anaconda3\\lib\\site-packages\\sklearn\\linear_model\\_coordinate_descent.py:530: ConvergenceWarning: Objective did not converge. You might want to increase the number of iterations. Duality gap: 23.67700429018896, tolerance: 1.4507535502977023\n",
      "  model = cd_fast.enet_coordinate_descent(\n",
      "C:\\Users\\bripe\\anaconda3\\lib\\site-packages\\sklearn\\linear_model\\_coordinate_descent.py:530: ConvergenceWarning: Objective did not converge. You might want to increase the number of iterations. Duality gap: 5.834006099430553, tolerance: 1.4507535502977023\n",
      "  model = cd_fast.enet_coordinate_descent(\n",
      "C:\\Users\\bripe\\anaconda3\\lib\\site-packages\\sklearn\\linear_model\\_coordinate_descent.py:530: ConvergenceWarning: Objective did not converge. You might want to increase the number of iterations. Duality gap: 3.0625718640767445, tolerance: 1.4507535502977023\n",
      "  model = cd_fast.enet_coordinate_descent(\n"
     ]
    },
    {
     "name": "stdout",
     "output_type": "stream",
     "text": [
      "33\n",
      "2.9108\n"
     ]
    },
    {
     "name": "stderr",
     "output_type": "stream",
     "text": [
      "C:\\Users\\bripe\\anaconda3\\lib\\site-packages\\sklearn\\linear_model\\_coordinate_descent.py:530: ConvergenceWarning: Objective did not converge. You might want to increase the number of iterations. Duality gap: 24.301351982651795, tolerance: 1.4507535502977023\n",
      "  model = cd_fast.enet_coordinate_descent(\n",
      "C:\\Users\\bripe\\anaconda3\\lib\\site-packages\\sklearn\\linear_model\\_coordinate_descent.py:530: ConvergenceWarning: Objective did not converge. You might want to increase the number of iterations. Duality gap: 6.025165096245473, tolerance: 1.4507535502977023\n",
      "  model = cd_fast.enet_coordinate_descent(\n",
      "C:\\Users\\bripe\\anaconda3\\lib\\site-packages\\sklearn\\linear_model\\_coordinate_descent.py:530: ConvergenceWarning: Objective did not converge. You might want to increase the number of iterations. Duality gap: 1.7502440586868033, tolerance: 1.4507535502977023\n",
      "  model = cd_fast.enet_coordinate_descent(\n",
      "C:\\Users\\bripe\\anaconda3\\lib\\site-packages\\sklearn\\linear_model\\_coordinate_descent.py:530: ConvergenceWarning: Objective did not converge. You might want to increase the number of iterations. Duality gap: 5.288329381630319, tolerance: 1.4507535502977023\n",
      "  model = cd_fast.enet_coordinate_descent(\n",
      "C:\\Users\\bripe\\anaconda3\\lib\\site-packages\\sklearn\\linear_model\\_coordinate_descent.py:530: ConvergenceWarning: Objective did not converge. You might want to increase the number of iterations. Duality gap: 2.7654079249496135, tolerance: 1.4507535502977023\n",
      "  model = cd_fast.enet_coordinate_descent(\n",
      "C:\\Users\\bripe\\anaconda3\\lib\\site-packages\\sklearn\\linear_model\\_coordinate_descent.py:530: ConvergenceWarning: Objective did not converge. You might want to increase the number of iterations. Duality gap: 1.8021353130952775, tolerance: 1.4507535502977023\n",
      "  model = cd_fast.enet_coordinate_descent(\n",
      "C:\\Users\\bripe\\anaconda3\\lib\\site-packages\\sklearn\\linear_model\\_coordinate_descent.py:530: ConvergenceWarning: Objective did not converge. You might want to increase the number of iterations. Duality gap: 2.4987743007950485, tolerance: 1.4507535502977023\n",
      "  model = cd_fast.enet_coordinate_descent(\n",
      "C:\\Users\\bripe\\anaconda3\\lib\\site-packages\\sklearn\\linear_model\\_coordinate_descent.py:530: ConvergenceWarning: Objective did not converge. You might want to increase the number of iterations. Duality gap: 44.58912390049318, tolerance: 1.4507535502977023\n",
      "  model = cd_fast.enet_coordinate_descent(\n",
      "C:\\Users\\bripe\\anaconda3\\lib\\site-packages\\sklearn\\linear_model\\_coordinate_descent.py:530: ConvergenceWarning: Objective did not converge. You might want to increase the number of iterations. Duality gap: 10.754715273023976, tolerance: 1.4507535502977023\n",
      "  model = cd_fast.enet_coordinate_descent(\n",
      "C:\\Users\\bripe\\anaconda3\\lib\\site-packages\\sklearn\\linear_model\\_coordinate_descent.py:530: ConvergenceWarning: Objective did not converge. You might want to increase the number of iterations. Duality gap: 3.4640453134106792, tolerance: 1.4507535502977023\n",
      "  model = cd_fast.enet_coordinate_descent(\n",
      "C:\\Users\\bripe\\anaconda3\\lib\\site-packages\\sklearn\\linear_model\\_coordinate_descent.py:530: ConvergenceWarning: Objective did not converge. You might want to increase the number of iterations. Duality gap: 23.896206012603216, tolerance: 1.4507535502977023\n",
      "  model = cd_fast.enet_coordinate_descent(\n",
      "C:\\Users\\bripe\\anaconda3\\lib\\site-packages\\sklearn\\linear_model\\_coordinate_descent.py:530: ConvergenceWarning: Objective did not converge. You might want to increase the number of iterations. Duality gap: 4.0530502701803925, tolerance: 1.4507535502977023\n",
      "  model = cd_fast.enet_coordinate_descent(\n",
      "C:\\Users\\bripe\\anaconda3\\lib\\site-packages\\sklearn\\linear_model\\_coordinate_descent.py:530: ConvergenceWarning: Objective did not converge. You might want to increase the number of iterations. Duality gap: 42.4364885807754, tolerance: 1.4507535502977023\n",
      "  model = cd_fast.enet_coordinate_descent(\n",
      "C:\\Users\\bripe\\anaconda3\\lib\\site-packages\\sklearn\\linear_model\\_coordinate_descent.py:530: ConvergenceWarning: Objective did not converge. You might want to increase the number of iterations. Duality gap: 1.5672356891773234, tolerance: 1.4507535502977023\n",
      "  model = cd_fast.enet_coordinate_descent(\n"
     ]
    },
    {
     "name": "stdout",
     "output_type": "stream",
     "text": [
      "32\n",
      "2.9095\n"
     ]
    },
    {
     "name": "stderr",
     "output_type": "stream",
     "text": [
      "C:\\Users\\bripe\\anaconda3\\lib\\site-packages\\sklearn\\linear_model\\_coordinate_descent.py:530: ConvergenceWarning: Objective did not converge. You might want to increase the number of iterations. Duality gap: 24.306155209224016, tolerance: 1.4507535502977023\n",
      "  model = cd_fast.enet_coordinate_descent(\n",
      "C:\\Users\\bripe\\anaconda3\\lib\\site-packages\\sklearn\\linear_model\\_coordinate_descent.py:530: ConvergenceWarning: Objective did not converge. You might want to increase the number of iterations. Duality gap: 6.057061871975748, tolerance: 1.4507535502977023\n",
      "  model = cd_fast.enet_coordinate_descent(\n",
      "C:\\Users\\bripe\\anaconda3\\lib\\site-packages\\sklearn\\linear_model\\_coordinate_descent.py:530: ConvergenceWarning: Objective did not converge. You might want to increase the number of iterations. Duality gap: 1.7463449306924304, tolerance: 1.4507535502977023\n",
      "  model = cd_fast.enet_coordinate_descent(\n",
      "C:\\Users\\bripe\\anaconda3\\lib\\site-packages\\sklearn\\linear_model\\_coordinate_descent.py:530: ConvergenceWarning: Objective did not converge. You might want to increase the number of iterations. Duality gap: 5.324489222378361, tolerance: 1.4507535502977023\n",
      "  model = cd_fast.enet_coordinate_descent(\n",
      "C:\\Users\\bripe\\anaconda3\\lib\\site-packages\\sklearn\\linear_model\\_coordinate_descent.py:530: ConvergenceWarning: Objective did not converge. You might want to increase the number of iterations. Duality gap: 2.7893016733887634, tolerance: 1.4507535502977023\n",
      "  model = cd_fast.enet_coordinate_descent(\n",
      "C:\\Users\\bripe\\anaconda3\\lib\\site-packages\\sklearn\\linear_model\\_coordinate_descent.py:530: ConvergenceWarning: Objective did not converge. You might want to increase the number of iterations. Duality gap: 1.8337253094941843, tolerance: 1.4507535502977023\n",
      "  model = cd_fast.enet_coordinate_descent(\n",
      "C:\\Users\\bripe\\anaconda3\\lib\\site-packages\\sklearn\\linear_model\\_coordinate_descent.py:530: ConvergenceWarning: Objective did not converge. You might want to increase the number of iterations. Duality gap: 2.3274596461978945, tolerance: 1.4507535502977023\n",
      "  model = cd_fast.enet_coordinate_descent(\n",
      "C:\\Users\\bripe\\anaconda3\\lib\\site-packages\\sklearn\\linear_model\\_coordinate_descent.py:530: ConvergenceWarning: Objective did not converge. You might want to increase the number of iterations. Duality gap: 43.95695209141559, tolerance: 1.4507535502977023\n",
      "  model = cd_fast.enet_coordinate_descent(\n",
      "C:\\Users\\bripe\\anaconda3\\lib\\site-packages\\sklearn\\linear_model\\_coordinate_descent.py:530: ConvergenceWarning: Objective did not converge. You might want to increase the number of iterations. Duality gap: 10.496191342392194, tolerance: 1.4507535502977023\n",
      "  model = cd_fast.enet_coordinate_descent(\n",
      "C:\\Users\\bripe\\anaconda3\\lib\\site-packages\\sklearn\\linear_model\\_coordinate_descent.py:530: ConvergenceWarning: Objective did not converge. You might want to increase the number of iterations. Duality gap: 3.433170798494757, tolerance: 1.4507535502977023\n",
      "  model = cd_fast.enet_coordinate_descent(\n",
      "C:\\Users\\bripe\\anaconda3\\lib\\site-packages\\sklearn\\linear_model\\_coordinate_descent.py:530: ConvergenceWarning: Objective did not converge. You might want to increase the number of iterations. Duality gap: 23.880480846841238, tolerance: 1.4507535502977023\n",
      "  model = cd_fast.enet_coordinate_descent(\n",
      "C:\\Users\\bripe\\anaconda3\\lib\\site-packages\\sklearn\\linear_model\\_coordinate_descent.py:530: ConvergenceWarning: Objective did not converge. You might want to increase the number of iterations. Duality gap: 4.384104757751629, tolerance: 1.4507535502977023\n",
      "  model = cd_fast.enet_coordinate_descent(\n",
      "C:\\Users\\bripe\\anaconda3\\lib\\site-packages\\sklearn\\linear_model\\_coordinate_descent.py:530: ConvergenceWarning: Objective did not converge. You might want to increase the number of iterations. Duality gap: 42.52907656645766, tolerance: 1.4507535502977023\n",
      "  model = cd_fast.enet_coordinate_descent(\n",
      "C:\\Users\\bripe\\anaconda3\\lib\\site-packages\\sklearn\\linear_model\\_coordinate_descent.py:530: ConvergenceWarning: Objective did not converge. You might want to increase the number of iterations. Duality gap: 1.5518216047585156, tolerance: 1.4507535502977023\n",
      "  model = cd_fast.enet_coordinate_descent(\n"
     ]
    },
    {
     "name": "stdout",
     "output_type": "stream",
     "text": [
      "31\n",
      "2.9085\n"
     ]
    },
    {
     "name": "stderr",
     "output_type": "stream",
     "text": [
      "C:\\Users\\bripe\\anaconda3\\lib\\site-packages\\sklearn\\linear_model\\_coordinate_descent.py:530: ConvergenceWarning: Objective did not converge. You might want to increase the number of iterations. Duality gap: 24.001718903598885, tolerance: 1.4507535502977023\n",
      "  model = cd_fast.enet_coordinate_descent(\n",
      "C:\\Users\\bripe\\anaconda3\\lib\\site-packages\\sklearn\\linear_model\\_coordinate_descent.py:530: ConvergenceWarning: Objective did not converge. You might want to increase the number of iterations. Duality gap: 5.9781181618564005, tolerance: 1.4507535502977023\n",
      "  model = cd_fast.enet_coordinate_descent(\n",
      "C:\\Users\\bripe\\anaconda3\\lib\\site-packages\\sklearn\\linear_model\\_coordinate_descent.py:530: ConvergenceWarning: Objective did not converge. You might want to increase the number of iterations. Duality gap: 1.7062921895540057, tolerance: 1.4507535502977023\n",
      "  model = cd_fast.enet_coordinate_descent(\n",
      "C:\\Users\\bripe\\anaconda3\\lib\\site-packages\\sklearn\\linear_model\\_coordinate_descent.py:530: ConvergenceWarning: Objective did not converge. You might want to increase the number of iterations. Duality gap: 5.304513937702723, tolerance: 1.4507535502977023\n",
      "  model = cd_fast.enet_coordinate_descent(\n",
      "C:\\Users\\bripe\\anaconda3\\lib\\site-packages\\sklearn\\linear_model\\_coordinate_descent.py:530: ConvergenceWarning: Objective did not converge. You might want to increase the number of iterations. Duality gap: 2.7624674436028727, tolerance: 1.4507535502977023\n",
      "  model = cd_fast.enet_coordinate_descent(\n",
      "C:\\Users\\bripe\\anaconda3\\lib\\site-packages\\sklearn\\linear_model\\_coordinate_descent.py:530: ConvergenceWarning: Objective did not converge. You might want to increase the number of iterations. Duality gap: 1.816240828635273, tolerance: 1.4507535502977023\n",
      "  model = cd_fast.enet_coordinate_descent(\n",
      "C:\\Users\\bripe\\anaconda3\\lib\\site-packages\\sklearn\\linear_model\\_coordinate_descent.py:530: ConvergenceWarning: Objective did not converge. You might want to increase the number of iterations. Duality gap: 2.553716903739769, tolerance: 1.4507535502977023\n",
      "  model = cd_fast.enet_coordinate_descent(\n",
      "C:\\Users\\bripe\\anaconda3\\lib\\site-packages\\sklearn\\linear_model\\_coordinate_descent.py:530: ConvergenceWarning: Objective did not converge. You might want to increase the number of iterations. Duality gap: 44.00393140355936, tolerance: 1.4507535502977023\n",
      "  model = cd_fast.enet_coordinate_descent(\n",
      "C:\\Users\\bripe\\anaconda3\\lib\\site-packages\\sklearn\\linear_model\\_coordinate_descent.py:530: ConvergenceWarning: Objective did not converge. You might want to increase the number of iterations. Duality gap: 10.541430529434365, tolerance: 1.4507535502977023\n",
      "  model = cd_fast.enet_coordinate_descent(\n",
      "C:\\Users\\bripe\\anaconda3\\lib\\site-packages\\sklearn\\linear_model\\_coordinate_descent.py:530: ConvergenceWarning: Objective did not converge. You might want to increase the number of iterations. Duality gap: 3.4181886972273787, tolerance: 1.4507535502977023\n",
      "  model = cd_fast.enet_coordinate_descent(\n",
      "C:\\Users\\bripe\\anaconda3\\lib\\site-packages\\sklearn\\linear_model\\_coordinate_descent.py:530: ConvergenceWarning: Objective did not converge. You might want to increase the number of iterations. Duality gap: 24.96782234258808, tolerance: 1.4507535502977023\n",
      "  model = cd_fast.enet_coordinate_descent(\n",
      "C:\\Users\\bripe\\anaconda3\\lib\\site-packages\\sklearn\\linear_model\\_coordinate_descent.py:530: ConvergenceWarning: Objective did not converge. You might want to increase the number of iterations. Duality gap: 5.132559676310848, tolerance: 1.4507535502977023\n",
      "  model = cd_fast.enet_coordinate_descent(\n",
      "C:\\Users\\bripe\\anaconda3\\lib\\site-packages\\sklearn\\linear_model\\_coordinate_descent.py:530: ConvergenceWarning: Objective did not converge. You might want to increase the number of iterations. Duality gap: 6.3065746684369515, tolerance: 1.4507535502977023\n",
      "  model = cd_fast.enet_coordinate_descent(\n",
      "C:\\Users\\bripe\\anaconda3\\lib\\site-packages\\sklearn\\linear_model\\_coordinate_descent.py:530: ConvergenceWarning: Objective did not converge. You might want to increase the number of iterations. Duality gap: 1.4936008759777906, tolerance: 1.4507535502977023\n",
      "  model = cd_fast.enet_coordinate_descent(\n"
     ]
    },
    {
     "name": "stdout",
     "output_type": "stream",
     "text": [
      "30\n",
      "2.9082\n"
     ]
    },
    {
     "name": "stderr",
     "output_type": "stream",
     "text": [
      "C:\\Users\\bripe\\anaconda3\\lib\\site-packages\\sklearn\\linear_model\\_coordinate_descent.py:530: ConvergenceWarning: Objective did not converge. You might want to increase the number of iterations. Duality gap: 24.071758336947823, tolerance: 1.4507535502977023\n",
      "  model = cd_fast.enet_coordinate_descent(\n",
      "C:\\Users\\bripe\\anaconda3\\lib\\site-packages\\sklearn\\linear_model\\_coordinate_descent.py:530: ConvergenceWarning: Objective did not converge. You might want to increase the number of iterations. Duality gap: 6.020821837357289, tolerance: 1.4507535502977023\n",
      "  model = cd_fast.enet_coordinate_descent(\n",
      "C:\\Users\\bripe\\anaconda3\\lib\\site-packages\\sklearn\\linear_model\\_coordinate_descent.py:530: ConvergenceWarning: Objective did not converge. You might want to increase the number of iterations. Duality gap: 1.7129853078440647, tolerance: 1.4507535502977023\n",
      "  model = cd_fast.enet_coordinate_descent(\n",
      "C:\\Users\\bripe\\anaconda3\\lib\\site-packages\\sklearn\\linear_model\\_coordinate_descent.py:530: ConvergenceWarning: Objective did not converge. You might want to increase the number of iterations. Duality gap: 5.310130032267807, tolerance: 1.4507535502977023\n",
      "  model = cd_fast.enet_coordinate_descent(\n",
      "C:\\Users\\bripe\\anaconda3\\lib\\site-packages\\sklearn\\linear_model\\_coordinate_descent.py:530: ConvergenceWarning: Objective did not converge. You might want to increase the number of iterations. Duality gap: 2.763661356684679, tolerance: 1.4507535502977023\n",
      "  model = cd_fast.enet_coordinate_descent(\n",
      "C:\\Users\\bripe\\anaconda3\\lib\\site-packages\\sklearn\\linear_model\\_coordinate_descent.py:530: ConvergenceWarning: Objective did not converge. You might want to increase the number of iterations. Duality gap: 1.8151695219785324, tolerance: 1.4507535502977023\n",
      "  model = cd_fast.enet_coordinate_descent(\n",
      "C:\\Users\\bripe\\anaconda3\\lib\\site-packages\\sklearn\\linear_model\\_coordinate_descent.py:530: ConvergenceWarning: Objective did not converge. You might want to increase the number of iterations. Duality gap: 2.563876367696139, tolerance: 1.4507535502977023\n",
      "  model = cd_fast.enet_coordinate_descent(\n",
      "C:\\Users\\bripe\\anaconda3\\lib\\site-packages\\sklearn\\linear_model\\_coordinate_descent.py:530: ConvergenceWarning: Objective did not converge. You might want to increase the number of iterations. Duality gap: 44.05991859968526, tolerance: 1.4507535502977023\n",
      "  model = cd_fast.enet_coordinate_descent(\n",
      "C:\\Users\\bripe\\anaconda3\\lib\\site-packages\\sklearn\\linear_model\\_coordinate_descent.py:530: ConvergenceWarning: Objective did not converge. You might want to increase the number of iterations. Duality gap: 10.576109737254228, tolerance: 1.4507535502977023\n",
      "  model = cd_fast.enet_coordinate_descent(\n",
      "C:\\Users\\bripe\\anaconda3\\lib\\site-packages\\sklearn\\linear_model\\_coordinate_descent.py:530: ConvergenceWarning: Objective did not converge. You might want to increase the number of iterations. Duality gap: 3.4212568278908293, tolerance: 1.4507535502977023\n",
      "  model = cd_fast.enet_coordinate_descent(\n",
      "C:\\Users\\bripe\\anaconda3\\lib\\site-packages\\sklearn\\linear_model\\_coordinate_descent.py:530: ConvergenceWarning: Objective did not converge. You might want to increase the number of iterations. Duality gap: 24.929959260463875, tolerance: 1.4507535502977023\n",
      "  model = cd_fast.enet_coordinate_descent(\n",
      "C:\\Users\\bripe\\anaconda3\\lib\\site-packages\\sklearn\\linear_model\\_coordinate_descent.py:530: ConvergenceWarning: Objective did not converge. You might want to increase the number of iterations. Duality gap: 5.1319778331089765, tolerance: 1.4507535502977023\n",
      "  model = cd_fast.enet_coordinate_descent(\n",
      "C:\\Users\\bripe\\anaconda3\\lib\\site-packages\\sklearn\\linear_model\\_coordinate_descent.py:530: ConvergenceWarning: Objective did not converge. You might want to increase the number of iterations. Duality gap: 6.314683047163271, tolerance: 1.4507535502977023\n",
      "  model = cd_fast.enet_coordinate_descent(\n",
      "C:\\Users\\bripe\\anaconda3\\lib\\site-packages\\sklearn\\linear_model\\_coordinate_descent.py:530: ConvergenceWarning: Objective did not converge. You might want to increase the number of iterations. Duality gap: 1.4925233426565683, tolerance: 1.4507535502977023\n",
      "  model = cd_fast.enet_coordinate_descent(\n"
     ]
    },
    {
     "name": "stdout",
     "output_type": "stream",
     "text": [
      "29\n",
      "2.9081\n"
     ]
    },
    {
     "name": "stderr",
     "output_type": "stream",
     "text": [
      "C:\\Users\\bripe\\anaconda3\\lib\\site-packages\\sklearn\\linear_model\\_coordinate_descent.py:530: ConvergenceWarning: Objective did not converge. You might want to increase the number of iterations. Duality gap: 5.42211745480563, tolerance: 1.4507535502977023\n",
      "  model = cd_fast.enet_coordinate_descent(\n",
      "C:\\Users\\bripe\\anaconda3\\lib\\site-packages\\sklearn\\linear_model\\_coordinate_descent.py:530: ConvergenceWarning: Objective did not converge. You might want to increase the number of iterations. Duality gap: 4.1097545924567385, tolerance: 1.4507535502977023\n",
      "  model = cd_fast.enet_coordinate_descent(\n",
      "C:\\Users\\bripe\\anaconda3\\lib\\site-packages\\sklearn\\linear_model\\_coordinate_descent.py:530: ConvergenceWarning: Objective did not converge. You might want to increase the number of iterations. Duality gap: 2.308612215823814, tolerance: 1.4507535502977023\n",
      "  model = cd_fast.enet_coordinate_descent(\n",
      "C:\\Users\\bripe\\anaconda3\\lib\\site-packages\\sklearn\\linear_model\\_coordinate_descent.py:530: ConvergenceWarning: Objective did not converge. You might want to increase the number of iterations. Duality gap: 1.8263699089911825, tolerance: 1.4507535502977023\n",
      "  model = cd_fast.enet_coordinate_descent(\n",
      "C:\\Users\\bripe\\anaconda3\\lib\\site-packages\\sklearn\\linear_model\\_coordinate_descent.py:530: ConvergenceWarning: Objective did not converge. You might want to increase the number of iterations. Duality gap: 1.4724401852854498, tolerance: 1.4507535502977023\n",
      "  model = cd_fast.enet_coordinate_descent(\n",
      "C:\\Users\\bripe\\anaconda3\\lib\\site-packages\\sklearn\\linear_model\\_coordinate_descent.py:530: ConvergenceWarning: Objective did not converge. You might want to increase the number of iterations. Duality gap: 15.47469564525727, tolerance: 1.4507535502977023\n",
      "  model = cd_fast.enet_coordinate_descent(\n",
      "C:\\Users\\bripe\\anaconda3\\lib\\site-packages\\sklearn\\linear_model\\_coordinate_descent.py:530: ConvergenceWarning: Objective did not converge. You might want to increase the number of iterations. Duality gap: 4.025296182775492, tolerance: 1.4507535502977023\n",
      "  model = cd_fast.enet_coordinate_descent(\n",
      "C:\\Users\\bripe\\anaconda3\\lib\\site-packages\\sklearn\\linear_model\\_coordinate_descent.py:530: ConvergenceWarning: Objective did not converge. You might want to increase the number of iterations. Duality gap: 2.579880038567353, tolerance: 1.4507535502977023\n",
      "  model = cd_fast.enet_coordinate_descent(\n",
      "C:\\Users\\bripe\\anaconda3\\lib\\site-packages\\sklearn\\linear_model\\_coordinate_descent.py:530: ConvergenceWarning: Objective did not converge. You might want to increase the number of iterations. Duality gap: 2.9998961102719477, tolerance: 1.4507535502977023\n",
      "  model = cd_fast.enet_coordinate_descent(\n"
     ]
    },
    {
     "name": "stdout",
     "output_type": "stream",
     "text": [
      "28\n",
      "2.908\n"
     ]
    },
    {
     "name": "stderr",
     "output_type": "stream",
     "text": [
      "C:\\Users\\bripe\\anaconda3\\lib\\site-packages\\sklearn\\linear_model\\_coordinate_descent.py:530: ConvergenceWarning: Objective did not converge. You might want to increase the number of iterations. Duality gap: 2.9619208471431193, tolerance: 1.4507535502977023\n",
      "  model = cd_fast.enet_coordinate_descent(\n",
      "C:\\Users\\bripe\\anaconda3\\lib\\site-packages\\sklearn\\linear_model\\_coordinate_descent.py:530: ConvergenceWarning: Objective did not converge. You might want to increase the number of iterations. Duality gap: 2.8328546311240643, tolerance: 1.4507535502977023\n",
      "  model = cd_fast.enet_coordinate_descent(\n",
      "C:\\Users\\bripe\\anaconda3\\lib\\site-packages\\sklearn\\linear_model\\_coordinate_descent.py:530: ConvergenceWarning: Objective did not converge. You might want to increase the number of iterations. Duality gap: 4.075441451432198, tolerance: 1.4507535502977023\n",
      "  model = cd_fast.enet_coordinate_descent(\n",
      "C:\\Users\\bripe\\anaconda3\\lib\\site-packages\\sklearn\\linear_model\\_coordinate_descent.py:530: ConvergenceWarning: Objective did not converge. You might want to increase the number of iterations. Duality gap: 2.2749035971355624, tolerance: 1.4507535502977023\n",
      "  model = cd_fast.enet_coordinate_descent(\n",
      "C:\\Users\\bripe\\anaconda3\\lib\\site-packages\\sklearn\\linear_model\\_coordinate_descent.py:530: ConvergenceWarning: Objective did not converge. You might want to increase the number of iterations. Duality gap: 1.7682683980037837, tolerance: 1.4507535502977023\n",
      "  model = cd_fast.enet_coordinate_descent(\n",
      "C:\\Users\\bripe\\anaconda3\\lib\\site-packages\\sklearn\\linear_model\\_coordinate_descent.py:530: ConvergenceWarning: Objective did not converge. You might want to increase the number of iterations. Duality gap: 6.520131463032158, tolerance: 1.4507535502977023\n",
      "  model = cd_fast.enet_coordinate_descent(\n",
      "C:\\Users\\bripe\\anaconda3\\lib\\site-packages\\sklearn\\linear_model\\_coordinate_descent.py:530: ConvergenceWarning: Objective did not converge. You might want to increase the number of iterations. Duality gap: 1.883655185401949, tolerance: 1.4507535502977023\n",
      "  model = cd_fast.enet_coordinate_descent(\n",
      "C:\\Users\\bripe\\anaconda3\\lib\\site-packages\\sklearn\\linear_model\\_coordinate_descent.py:530: ConvergenceWarning: Objective did not converge. You might want to increase the number of iterations. Duality gap: 2.8247974749592686, tolerance: 1.4507535502977023\n",
      "  model = cd_fast.enet_coordinate_descent(\n",
      "C:\\Users\\bripe\\anaconda3\\lib\\site-packages\\sklearn\\linear_model\\_coordinate_descent.py:530: ConvergenceWarning: Objective did not converge. You might want to increase the number of iterations. Duality gap: 3.1485498036454374, tolerance: 1.4507535502977023\n",
      "  model = cd_fast.enet_coordinate_descent(\n"
     ]
    },
    {
     "name": "stdout",
     "output_type": "stream",
     "text": [
      "27\n",
      "2.9079\n"
     ]
    },
    {
     "name": "stderr",
     "output_type": "stream",
     "text": [
      "C:\\Users\\bripe\\anaconda3\\lib\\site-packages\\sklearn\\linear_model\\_coordinate_descent.py:530: ConvergenceWarning: Objective did not converge. You might want to increase the number of iterations. Duality gap: 2.741228766439235, tolerance: 1.4507535502977023\n",
      "  model = cd_fast.enet_coordinate_descent(\n",
      "C:\\Users\\bripe\\anaconda3\\lib\\site-packages\\sklearn\\linear_model\\_coordinate_descent.py:530: ConvergenceWarning: Objective did not converge. You might want to increase the number of iterations. Duality gap: 2.7996958278818056, tolerance: 1.4507535502977023\n",
      "  model = cd_fast.enet_coordinate_descent(\n",
      "C:\\Users\\bripe\\anaconda3\\lib\\site-packages\\sklearn\\linear_model\\_coordinate_descent.py:530: ConvergenceWarning: Objective did not converge. You might want to increase the number of iterations. Duality gap: 4.026895278819211, tolerance: 1.4507535502977023\n",
      "  model = cd_fast.enet_coordinate_descent(\n",
      "C:\\Users\\bripe\\anaconda3\\lib\\site-packages\\sklearn\\linear_model\\_coordinate_descent.py:530: ConvergenceWarning: Objective did not converge. You might want to increase the number of iterations. Duality gap: 2.273544587456854, tolerance: 1.4507535502977023\n",
      "  model = cd_fast.enet_coordinate_descent(\n",
      "C:\\Users\\bripe\\anaconda3\\lib\\site-packages\\sklearn\\linear_model\\_coordinate_descent.py:530: ConvergenceWarning: Objective did not converge. You might want to increase the number of iterations. Duality gap: 1.7682382396014873, tolerance: 1.4507535502977023\n",
      "  model = cd_fast.enet_coordinate_descent(\n",
      "C:\\Users\\bripe\\anaconda3\\lib\\site-packages\\sklearn\\linear_model\\_coordinate_descent.py:530: ConvergenceWarning: Objective did not converge. You might want to increase the number of iterations. Duality gap: 6.518215559439341, tolerance: 1.4507535502977023\n",
      "  model = cd_fast.enet_coordinate_descent(\n",
      "C:\\Users\\bripe\\anaconda3\\lib\\site-packages\\sklearn\\linear_model\\_coordinate_descent.py:530: ConvergenceWarning: Objective did not converge. You might want to increase the number of iterations. Duality gap: 1.8808430512108316, tolerance: 1.4507535502977023\n",
      "  model = cd_fast.enet_coordinate_descent(\n",
      "C:\\Users\\bripe\\anaconda3\\lib\\site-packages\\sklearn\\linear_model\\_coordinate_descent.py:530: ConvergenceWarning: Objective did not converge. You might want to increase the number of iterations. Duality gap: 2.824307470649728, tolerance: 1.4507535502977023\n",
      "  model = cd_fast.enet_coordinate_descent(\n",
      "C:\\Users\\bripe\\anaconda3\\lib\\site-packages\\sklearn\\linear_model\\_coordinate_descent.py:530: ConvergenceWarning: Objective did not converge. You might want to increase the number of iterations. Duality gap: 3.1497864651337295, tolerance: 1.4507535502977023\n",
      "  model = cd_fast.enet_coordinate_descent(\n"
     ]
    },
    {
     "name": "stdout",
     "output_type": "stream",
     "text": [
      "26\n",
      "2.9079\n"
     ]
    },
    {
     "name": "stderr",
     "output_type": "stream",
     "text": [
      "C:\\Users\\bripe\\anaconda3\\lib\\site-packages\\sklearn\\linear_model\\_coordinate_descent.py:530: ConvergenceWarning: Objective did not converge. You might want to increase the number of iterations. Duality gap: 2.741228766439235, tolerance: 1.4507535502977023\n",
      "  model = cd_fast.enet_coordinate_descent(\n",
      "C:\\Users\\bripe\\anaconda3\\lib\\site-packages\\sklearn\\linear_model\\_coordinate_descent.py:530: ConvergenceWarning: Objective did not converge. You might want to increase the number of iterations. Duality gap: 2.7996958278818056, tolerance: 1.4507535502977023\n",
      "  model = cd_fast.enet_coordinate_descent(\n",
      "C:\\Users\\bripe\\anaconda3\\lib\\site-packages\\sklearn\\linear_model\\_coordinate_descent.py:530: ConvergenceWarning: Objective did not converge. You might want to increase the number of iterations. Duality gap: 4.026916922037344, tolerance: 1.4507535502977023\n",
      "  model = cd_fast.enet_coordinate_descent(\n",
      "C:\\Users\\bripe\\anaconda3\\lib\\site-packages\\sklearn\\linear_model\\_coordinate_descent.py:530: ConvergenceWarning: Objective did not converge. You might want to increase the number of iterations. Duality gap: 2.273544587456854, tolerance: 1.4507535502977023\n",
      "  model = cd_fast.enet_coordinate_descent(\n",
      "C:\\Users\\bripe\\anaconda3\\lib\\site-packages\\sklearn\\linear_model\\_coordinate_descent.py:530: ConvergenceWarning: Objective did not converge. You might want to increase the number of iterations. Duality gap: 1.7682382396014873, tolerance: 1.4507535502977023\n",
      "  model = cd_fast.enet_coordinate_descent(\n",
      "C:\\Users\\bripe\\anaconda3\\lib\\site-packages\\sklearn\\linear_model\\_coordinate_descent.py:530: ConvergenceWarning: Objective did not converge. You might want to increase the number of iterations. Duality gap: 6.518215559439341, tolerance: 1.4507535502977023\n",
      "  model = cd_fast.enet_coordinate_descent(\n",
      "C:\\Users\\bripe\\anaconda3\\lib\\site-packages\\sklearn\\linear_model\\_coordinate_descent.py:530: ConvergenceWarning: Objective did not converge. You might want to increase the number of iterations. Duality gap: 1.8808430512108316, tolerance: 1.4507535502977023\n",
      "  model = cd_fast.enet_coordinate_descent(\n",
      "C:\\Users\\bripe\\anaconda3\\lib\\site-packages\\sklearn\\linear_model\\_coordinate_descent.py:530: ConvergenceWarning: Objective did not converge. You might want to increase the number of iterations. Duality gap: 2.824307470649728, tolerance: 1.4507535502977023\n",
      "  model = cd_fast.enet_coordinate_descent(\n",
      "C:\\Users\\bripe\\anaconda3\\lib\\site-packages\\sklearn\\linear_model\\_coordinate_descent.py:530: ConvergenceWarning: Objective did not converge. You might want to increase the number of iterations. Duality gap: 3.1497864651337295, tolerance: 1.4507535502977023\n",
      "  model = cd_fast.enet_coordinate_descent(\n"
     ]
    },
    {
     "name": "stdout",
     "output_type": "stream",
     "text": [
      "25\n",
      "2.9079\n"
     ]
    },
    {
     "name": "stderr",
     "output_type": "stream",
     "text": [
      "C:\\Users\\bripe\\anaconda3\\lib\\site-packages\\sklearn\\linear_model\\_coordinate_descent.py:530: ConvergenceWarning: Objective did not converge. You might want to increase the number of iterations. Duality gap: 3.252493299627531, tolerance: 1.4507535502977023\n",
      "  model = cd_fast.enet_coordinate_descent(\n",
      "C:\\Users\\bripe\\anaconda3\\lib\\site-packages\\sklearn\\linear_model\\_coordinate_descent.py:530: ConvergenceWarning: Objective did not converge. You might want to increase the number of iterations. Duality gap: 4.2570693885936635, tolerance: 1.4507535502977023\n",
      "  model = cd_fast.enet_coordinate_descent(\n",
      "C:\\Users\\bripe\\anaconda3\\lib\\site-packages\\sklearn\\linear_model\\_coordinate_descent.py:530: ConvergenceWarning: Objective did not converge. You might want to increase the number of iterations. Duality gap: 2.369651469778546, tolerance: 1.4507535502977023\n",
      "  model = cd_fast.enet_coordinate_descent(\n",
      "C:\\Users\\bripe\\anaconda3\\lib\\site-packages\\sklearn\\linear_model\\_coordinate_descent.py:530: ConvergenceWarning: Objective did not converge. You might want to increase the number of iterations. Duality gap: 1.829479173231448, tolerance: 1.4507535502977023\n",
      "  model = cd_fast.enet_coordinate_descent(\n",
      "C:\\Users\\bripe\\anaconda3\\lib\\site-packages\\sklearn\\linear_model\\_coordinate_descent.py:530: ConvergenceWarning: Objective did not converge. You might want to increase the number of iterations. Duality gap: 1.4636259296657954, tolerance: 1.4507535502977023\n",
      "  model = cd_fast.enet_coordinate_descent(\n",
      "C:\\Users\\bripe\\anaconda3\\lib\\site-packages\\sklearn\\linear_model\\_coordinate_descent.py:530: ConvergenceWarning: Objective did not converge. You might want to increase the number of iterations. Duality gap: 5.967768215698015, tolerance: 1.4507535502977023\n",
      "  model = cd_fast.enet_coordinate_descent(\n",
      "C:\\Users\\bripe\\anaconda3\\lib\\site-packages\\sklearn\\linear_model\\_coordinate_descent.py:530: ConvergenceWarning: Objective did not converge. You might want to increase the number of iterations. Duality gap: 1.929915897313549, tolerance: 1.4507535502977023\n",
      "  model = cd_fast.enet_coordinate_descent(\n",
      "C:\\Users\\bripe\\anaconda3\\lib\\site-packages\\sklearn\\linear_model\\_coordinate_descent.py:530: ConvergenceWarning: Objective did not converge. You might want to increase the number of iterations. Duality gap: 3.0358925940818153, tolerance: 1.4507535502977023\n",
      "  model = cd_fast.enet_coordinate_descent(\n",
      "C:\\Users\\bripe\\anaconda3\\lib\\site-packages\\sklearn\\linear_model\\_coordinate_descent.py:530: ConvergenceWarning: Objective did not converge. You might want to increase the number of iterations. Duality gap: 3.3570190052214457, tolerance: 1.4507535502977023\n",
      "  model = cd_fast.enet_coordinate_descent(\n"
     ]
    },
    {
     "name": "stdout",
     "output_type": "stream",
     "text": [
      "24\n",
      "2.908\n",
      "23\n",
      "2.908\n",
      "22\n",
      "2.908\n",
      "21\n",
      "2.9081\n",
      "20\n",
      "2.9083\n",
      "19\n",
      "2.9085\n",
      "18\n",
      "2.9079\n",
      "17\n",
      "2.9119\n",
      "16\n",
      "2.9155\n",
      "15\n",
      "2.9187\n",
      "14\n",
      "2.9229\n",
      "13\n",
      "2.927\n",
      "12\n",
      "2.9388\n",
      "11\n",
      "2.9556\n",
      "10\n",
      "2.9842\n",
      "9\n",
      "3.0081\n",
      "8\n",
      "3.0222\n",
      "7\n",
      "3.0494\n",
      "6\n",
      "3.0993\n",
      "['A-electrophilicity', 'A-num_rot_bonds', 'A-MolLogP', 'A-TPSA', 'D-HOMOminus1', 'D-NumHAcceptors']\n",
      "3.0993\n",
      "The average intercept from 5 folds is  -51.57087072184057\n",
      "The average coefficients of the 5 folds is  [('A-HOMO', 0.0), ('A-HOMOminus1', 0.0), ('A-LUMO', -0.17545975271623135), ('A-LUMOplus1', -0.37452985792697435), ('A-fundbg', 0.0), ('A-deltaHOMO', -2.257287427054922), ('A-deltaLUMO', -0.0010517494440340231), ('A-opt_bg', 0.0), ('A-max_abs', 0.012185671244768142), ('A-summed_oscs', -0.11552792341660978), ('A-area_spectra', -0.0024600261908346815), ('A-area_sim_solar_spectra', 0.06207173287218095), ('A-chemical_potential', 0.0), ('A-electrophilicity', -0.03011792426999103), ('A-pi_sys_size', -0.03922436041426376), ('A-num_rot_bonds', -0.39931444393768434), ('A-MolLogP', 0.3033117383147984), ('A-TPSA', 0.019222160253011905), ('A-NumHAcceptors', 0.06030204224934772), ('A-NumHDonors', 0.0), ('A-planarity', -0.16661875585035552), ('A-dipole_moment', -0.02827826710704328), ('A-polarizability', -0.0011481163925569366), ('A-SolvationEnergy_water', 0.0), ('A-SolvationEnergy_hexane', 0.0), ('D-HOMO', 0.0), ('D-HOMOminus1', -2.609560498762281), ('D-LUMO', -0.09153978351798593), ('D-LUMOplus1', -2.4630012027165327), ('D-fundbg', 0.0), ('D-deltaHOMO', 0.0), ('D-deltaLUMO', 0.0), ('D-opt_bg', 0.0), ('D-max_abs', -0.005792822722166216), ('D-summed_oscs', 0.061046950921234355), ('D-area_spectra', -0.0009257572306575465), ('D-area_sim_solar_spectra', 0.07486112837362366), ('D-chemical_potential', 0.0), ('D-electrophilicity', 0.019743047637750682), ('D-pi_sys_size', 0.0028551618219520873), ('D-num_rot_bonds', 0.1379674641410618), ('D-MolLogP', 0.09091670347420719), ('D-TPSA', -0.01842713958710088), ('D-NumHAcceptors', 0.19570504708200062), ('D-NumHDonors', 0.0), ('D-planarity', -0.197607592555249), ('D-dipole_moment', -0.05797453846768639), ('D-polarizability', -0.005094977289589237), ('D-SolvationEnergy_water', 0.0), ('D-SolvationEnergy_hexane', 0.0), ('AD-overlap', 0.0012525194003496043), ('AD-HOMOoffset', 0.0), ('AD-LUMOoffset', -0.004279434045421667), ('DHOMO_ALUMO_offset', 0.0)]\n",
      "The 5-fold cross-validated RMSE of this model is,  2.9167  +/-  0.00412\n",
      "The 5-fold cross-validated MAE of the average  2.23  +/-  0.003\n",
      "The average r^2 value is  0.41299670588474546  +/-  0.002\n"
     ]
    }
   ],
   "source": [
    "#best_descriptors = optimize_eq(data, 'PCE')\n",
    "Lasso_PCE = evaluate_model(best_descriptors, data['PCE'], data, cf=True)"
   ]
  },
  {
   "cell_type": "code",
   "execution_count": 103,
   "id": "4aa4e951-53d2-420d-9b05-f5586f4997d9",
   "metadata": {},
   "outputs": [
    {
     "name": "stdout",
     "output_type": "stream",
     "text": [
      "Best alpha is 0.01\n",
      "The average intercept from 5 folds is  -36.82762357618022\n",
      "The average coefficients of the 5 folds is  [('A-electrophilicity', -0.03673272675818182), ('A-num_rot_bonds', -0.3919236925943181), ('A-MolLogP', 0.12724213816888424), ('A-TPSA', 0.010438720700639826), ('D-HOMOminus1', -3.849560022147473), ('D-NumHAcceptors', 0.2502317935054116)]\n",
      "The 5-fold cross-validated RMSE of this model is,  3.0993  +/-  0.00088\n",
      "The 5-fold cross-validated MAE of the average  2.389  +/-  0.005\n",
      "The average r^2 value is  0.3372375057734442  +/-  0.0\n"
     ]
    }
   ],
   "source": [
    "best_descriptors = ['A-electrophilicity', 'A-num_rot_bonds', 'A-MolLogP', 'A-TPSA', 'D-HOMOminus1', 'D-NumHAcceptors']\n",
    "Lasso_PCE = evaluate_model(best_descriptors, data['PCE'], data, cf=True)"
   ]
  },
  {
   "cell_type": "markdown",
   "id": "1ec6dd6c-f2e4-4cdd-b01c-5e28e4e7b108",
   "metadata": {},
   "source": [
    "Using LASSO and some hand-tuning to narrow it down to 6 descriptors, the RMSE of this model is 3.0993 +/- 0.00088 for the PCE. The $R^2$ is 0.337. The descriptors selected is the electrophilicity index of the acceptor, number of rotatable bonds of the acceptor, MolLogP of the acceptor, TPSA of the acceptor, HOMO-1 of the donor, and number of hydrogen acceptors of the donor"
   ]
  },
  {
   "cell_type": "markdown",
   "id": "e529f5d4-25c7-40e3-a7f7-ad44ff196484",
   "metadata": {},
   "source": [
    "### Performance on PCE > 10%"
   ]
  },
  {
   "cell_type": "code",
   "execution_count": 104,
   "id": "ae8a9a46-9fe8-4308-bc2b-26a2825cbb7f",
   "metadata": {},
   "outputs": [
    {
     "name": "stdout",
     "output_type": "stream",
     "text": [
      "Best alpha is 0.01\n",
      "The average intercept from 5 folds is  -9.755106230909318\n",
      "The average coefficients of the 5 folds is  [('A-HOMO', 0.0), ('A-HOMOminus1', 0.14587450181053052), ('A-LUMO', 0.0), ('A-LUMOplus1', -0.8664064194319682), ('A-fundbg', 0.0), ('A-deltaHOMO', -1.9513053268745733), ('A-deltaLUMO', -0.2075692764533242), ('A-opt_bg', 0.0), ('A-max_abs', 0.012093334014061), ('A-summed_oscs', -0.26010959924607036), ('A-area_spectra', -0.001228889130884021), ('A-area_sim_solar_spectra', 0.2920244921890385), ('A-chemical_potential', 0.0), ('A-electrophilicity', -0.00972223340845234), ('A-pi_sys_size', -0.006020105349466437), ('A-num_rot_bonds', -0.20373383276074), ('A-MolLogP', 0.052010944326335386), ('A-TPSA', -0.0027253190160774965), ('A-NumHAcceptors', 0.1134797325798953), ('A-NumHDonors', -0.18691497892482584), ('A-planarity', -0.12323717504344753), ('A-dipole_moment', -0.045220084674240976), ('A-polarizability', 0.00019032656827361135), ('A-SolvationEnergy_water', 0.0), ('A-SolvationEnergy_hexane', 0.0), ('D-HOMO', 0.0), ('D-HOMOminus1', 0.0), ('D-LUMO', 0.0), ('D-LUMOplus1', 0.0), ('D-fundbg', 0.0), ('D-deltaHOMO', 0.0), ('D-deltaLUMO', 0.3167205844241542), ('D-opt_bg', 0.0), ('D-max_abs', 0.0036155174959300483), ('D-summed_oscs', 0.10382817180852141), ('D-area_spectra', -0.0016868472565315523), ('D-area_sim_solar_spectra', 0.11680753246273493), ('D-chemical_potential', 0.0), ('D-electrophilicity', 0.04884894768967496), ('D-pi_sys_size', 0.003604078501163531), ('D-num_rot_bonds', 0.044211465539061495), ('D-MolLogP', -0.02146951364144101), ('D-TPSA', -0.016133118294196867), ('D-NumHAcceptors', 0.12065412676513351), ('D-NumHDonors', 0.0), ('D-planarity', -0.34421907933167945), ('D-dipole_moment', -0.005459993724092817), ('D-polarizability', -0.0007445759423483119), ('D-SolvationEnergy_water', 0.0), ('D-SolvationEnergy_hexane', 0.0), ('AD-overlap', 0.0015985920378503173), ('AD-HOMOoffset', 0.0), ('AD-LUMOoffset', 0.0), ('DHOMO_ALUMO_offset', 0.0)]\n",
      "The 5-fold cross-validated RMSE of this model is,  1.4359  +/-  0.00744\n",
      "The 5-fold cross-validated MAE of the average  1.125  +/-  0.004\n",
      "The average r^2 value is  0.4486652962037473  +/-  0.006\n"
     ]
    }
   ],
   "source": [
    "Lasso_highPCE = evaluate_model(all_descriptors, data_highPCE['PCE'], data_highPCE, cf=True)"
   ]
  },
  {
   "cell_type": "code",
   "execution_count": 13,
   "id": "86615ffb-2d82-4a8b-9a6a-83658e0d97fb",
   "metadata": {},
   "outputs": [
    {
     "name": "stdout",
     "output_type": "stream",
     "text": [
      "The average intercept from 5 folds is  18.9053333875983\n",
      "The average coefficients of the 5 folds is  [('A-HOMOminus1', 2.4423791628342655), ('A-LUMOplus1', -1.8505026525125796), ('A-num_rot_bonds', -0.19904991306230863), ('D-electrophilicity', 0.04693050672741837), ('D-TPSA', -0.013340898905082504), ('D-NumHAcceptors', 0.06846537685637383)]\n",
      "The 5-fold cross-validated RMSE of this model is,  1.4972  +/-  0.00158\n",
      "The 5-fold cross-validated MAE of the average  1.19  +/-  0.002\n",
      "The average r^2 value is  0.4005937484240183  +/-  0.001\n"
     ]
    }
   ],
   "source": [
    "#best_descriptors = optimize_eq(data_highPCE, 'PCE')\n",
    "best_descriptors = ['A-HOMOminus1', 'A-LUMOplus1', 'A-num_rot_bonds', 'D-electrophilicity', 'D-TPSA', 'D-NumHAcceptors']\n",
    "Lasso_PCE = evaluate_model(best_descriptors, data_highPCE['PCE'], data_highPCE, cf=True)"
   ]
  },
  {
   "cell_type": "markdown",
   "id": "32beb4c3-16c9-4c27-94fe-96edf74d0cae",
   "metadata": {},
   "source": [
    "# Machine Learning"
   ]
  },
  {
   "cell_type": "markdown",
   "id": "8d48fd1d-789c-4cb3-9863-a0efb888d179",
   "metadata": {},
   "source": [
    "Sets X as all input descriptors and y as the PCE"
   ]
  },
  {
   "cell_type": "code",
   "execution_count": 6,
   "id": "dc64fd96-4fd3-4c5c-9b29-2b3ef11c060e",
   "metadata": {},
   "outputs": [],
   "source": [
    "X = data.iloc[:, 8:]\n",
    "y = data.iloc[:, 7:8]"
   ]
  },
  {
   "cell_type": "markdown",
   "id": "577025d1-11bb-402f-9209-314b7284d4db",
   "metadata": {},
   "source": [
    "Split into training (80%) and testing (20%) sets"
   ]
  },
  {
   "cell_type": "code",
   "execution_count": 7,
   "id": "cc9eafe7-2652-4db3-b57a-25d9d05c4fec",
   "metadata": {},
   "outputs": [],
   "source": [
    "x_train, x_test, y_train, y_test = train_test_split(X, y, test_size = 0.2, random_state=14)"
   ]
  },
  {
   "cell_type": "markdown",
   "id": "b90c4657-ae34-4fbe-b3aa-c9a41a7421d7",
   "metadata": {},
   "source": [
    "Standardizes the data so all values are centered around 0 and have variance of the same magnitude"
   ]
  },
  {
   "cell_type": "code",
   "execution_count": 8,
   "id": "a6fcd702-82e7-4874-b04b-a1dac3ea381b",
   "metadata": {},
   "outputs": [],
   "source": [
    "x_labels = x_train.columns\n",
    "\n",
    "scaler = StandardScaler().fit(x_train[x_labels]) \n",
    "\n",
    "x_train[x_labels] = scaler.transform(x_train[x_labels])\n",
    "\n",
    "x_test[x_labels] = scaler.transform(x_test[x_labels])"
   ]
  },
  {
   "cell_type": "markdown",
   "id": "d64973c2-0c95-4bbf-bca3-e0b09bead5d9",
   "metadata": {},
   "source": [
    "Optimize alpha"
   ]
  },
  {
   "cell_type": "code",
   "execution_count": 135,
   "id": "5ad74352-613c-4b3c-9c62-b4b381de6ec0",
   "metadata": {},
   "outputs": [
    {
     "name": "stdout",
     "output_type": "stream",
     "text": [
      "Best alpha is 0.015007680190353518\n",
      "[(-0.0, 'A-HOMO'), (0.0, 'A-HOMOminus1'), (-0.0, 'A-LUMO'), (-0.18356550898138208, 'A-LUMOplus1'), (-0.0, 'A-fundbg'), (-0.4309088211200134, 'A-deltaHOMO'), (-0.0, 'A-deltaLUMO'), (-0.0, 'A-opt_bg'), (0.4429274469223087, 'A-max_abs'), (-0.1450424618330334, 'A-summed_oscs'), (-0.5724597837732708, 'A-area_spectra'), (-0.0, 'A-area_sim_solar_spectra'), (-0.0, 'A-chemical_potential'), (-0.7615723538451237, 'A-electrophilicity'), (-0.7458678113357019, 'A-pi_sys_size'), (-1.386861521651988, 'A-num_rot_bonds'), (1.4120457511917808, 'A-MolLogP'), (0.645794565606799, 'A-TPSA'), (0.3110472062273547, 'A-NumHAcceptors'), (-0.04162046077847243, 'A-NumHDonors'), (-0.04742289248576082, 'A-planarity'), (-0.05591391382973767, 'A-dipole_moment'), (-0.0, 'A-polarizability'), (0.06650270144053748, 'A-SolvationEnergy_water'), (0.1502088025022912, 'A-SolvationEnergy_hexane'), (-0.0, 'D-HOMO'), (-0.9950438773340722, 'D-HOMOminus1'), (-0.0, 'D-LUMO'), (-0.7273710243476105, 'D-LUMOplus1'), (-0.0, 'D-fundbg'), (0.038434579878924735, 'D-deltaHOMO'), (-0.2994734511374772, 'D-deltaLUMO'), (-0.10744298401059155, 'D-opt_bg'), (-0.23861295889635448, 'D-max_abs'), (0.0, 'D-summed_oscs'), (-0.16997688176401066, 'D-area_spectra'), (-0.0, 'D-area_sim_solar_spectra'), (-0.0, 'D-chemical_potential'), (0.0, 'D-electrophilicity'), (0.0, 'D-pi_sys_size'), (0.7258711519217707, 'D-num_rot_bonds'), (0.0, 'D-MolLogP'), (-0.8985572416410363, 'D-TPSA'), (1.7145579590856805, 'D-NumHAcceptors'), (0.0, 'D-NumHDonors'), (-0.12152579140346827, 'D-planarity'), (-0.02116122205964055, 'D-dipole_moment'), (-0.5274132105442765, 'D-polarizability'), (-0.0, 'D-SolvationEnergy_water'), (0.0, 'D-SolvationEnergy_hexane'), (0.23578395526993456, 'AD-overlap'), (-0.0, 'AD-HOMOoffset'), (-0.0, 'AD-LUMOoffset'), (-0.0, 'DHOMO_ALUMO_offset')]\n",
      "R squared training set 0.45\n",
      "R squared test set 0.28\n"
     ]
    }
   ],
   "source": [
    "lasso = LassoCV(cv=5, random_state=14, max_iter=10000)\n",
    "lasso.fit(x_train, y_train)\n",
    "print('Best alpha is ' + str(lasso.alpha_))\n",
    "\n",
    "print(list(zip(lasso.coef_, X)))\n",
    "print('R squared training set', round(lasso.score(x_train, y_train), 2))\n",
    "print('R squared test set', round(lasso.score(x_test, y_test), 2))"
   ]
  },
  {
   "cell_type": "markdown",
   "id": "4eb2df60-8d3d-4977-926d-485562962f84",
   "metadata": {},
   "source": [
    "Visualize the optimization of alpha"
   ]
  },
  {
   "cell_type": "code",
   "execution_count": 97,
   "id": "8b14e4e8-e6ed-4f70-87c6-b7c36cca970c",
   "metadata": {},
   "outputs": [
    {
     "data": {
      "image/png": "[encoded data removed]",
      "text/plain": [
       "<Figure size 360x216 with 1 Axes>"
      ]
     },
     "metadata": {
      "needs_background": "light"
     },
     "output_type": "display_data"
    }
   ],
   "source": [
    "alphas = np.linspace(0.001,1,1000)\n",
    "lasso = Lasso(max_iter=10000)\n",
    "\n",
    "scores = []\n",
    "for a in alphas:\n",
    "    lasso.set_params(alpha=a)\n",
    "    lasso.fit(x_train, y_train)\n",
    "    \n",
    "    #scores.append(lasso.score(x_train, y_train))\n",
    "    scores.append(cross_val_score(lasso, x_train, y_train, cv=5).mean())\n",
    "\n",
    "plt.figure(figsize=(5, 3))  \n",
    "plt.plot(alphas, scores)\n",
    "plt.xlim([0, 1])\n",
    "plt.xlabel('alpha')\n",
    "plt.ylabel('$R^2$')\n",
    "plt.tight_layout()\n",
    "plt.savefig('lasso_cv_alpha.pdf', dpi=600)\n",
    "plt.show()"
   ]
  },
  {
   "cell_type": "markdown",
   "id": "a13c0e0c-7dd6-402b-9de2-22b726fc19a2",
   "metadata": {},
   "source": [
    "Final model metrics"
   ]
  },
  {
   "cell_type": "code",
   "execution_count": 48,
   "id": "eaca3d3e-cd84-4440-959d-dcb661b9d5fc",
   "metadata": {},
   "outputs": [],
   "source": [
    "def model_metrics(model, X, y, cv=5):\n",
    "    score = cross_val_score(model, X, y, cv=cv, scoring = 'r2')\n",
    "    SEM_r2 = round((score.std() / math.sqrt(5)) , 2)\n",
    "    #r2 = str(round(score.mean(), 3)) + ' +/- ' +  str(SEM_r2)\n",
    "    r2 = round(float(score.mean()), 2)\n",
    "    print('R^2: ' + str(r2) + ' +/- ' +  str(SEM_r2))\n",
    "    \n",
    "    score = cross_val_score(model, X, y, cv=cv, scoring = 'neg_mean_absolute_error')\n",
    "    score = np.multiply(score, -1)\n",
    "    SEM_MAE = round((score.std() / math.sqrt(5)) , 2)\n",
    "    #MAE = str(round(score.mean(), 2)) + ' +/- ' +  str(SEM_MAE)\n",
    "    MAE = round(score.mean(), 2) \n",
    "    print('MAE: ' + str(MAE) + ' +/- ' +  str(SEM_MAE))\n",
    "    \n",
    "    score = cross_val_score(model, X, y, cv=cv, scoring = 'neg_mean_squared_error')\n",
    "    score = np.sqrt(score * -1)\n",
    "    SEM_RMSE = round((score.std() / math.sqrt(5)) , 2)\n",
    "    #RMSE = str(round(score.mean(), 2)) + ' +/- ' +  str(SEM_RMSE)\n",
    "    RMSE = round(score.mean(), 2)\n",
    "    print('RMSE: ' + str(RMSE) + ' +/- ' +  str(SEM_RMSE))\n",
    "    \n",
    "    return r2, SEM_r2, RMSE, SEM_RMSE"
   ]
  },
  {
   "cell_type": "code",
   "execution_count": 136,
   "id": "02354f17-b7d8-44bf-ae78-46197057d235",
   "metadata": {},
   "outputs": [
    {
     "name": "stdout",
     "output_type": "stream",
     "text": [
      "Training set\n",
      "R^2: 0.383 +/- 0.041\n",
      "MAE: 2.33 +/- 0.09\n",
      "RMSE: 3.02 +/- 0.09\n",
      "Test set\n",
      "R^2: 0.169 +/- 0.031\n",
      "MAE: 2.49 +/- 0.11\n",
      "RMSE: 3.23 +/- 0.12\n"
     ]
    }
   ],
   "source": [
    "print('Training set')\n",
    "model_metrics(lasso, x_train, y_train, cv=5)\n",
    "\n",
    "print('Test set')\n",
    "model_metrics(lasso, x_test, y_test, cv=5)"
   ]
  },
  {
   "cell_type": "markdown",
   "id": "1c5a434a-27fd-4fde-b709-13ca711f6145",
   "metadata": {},
   "source": [
    "## Random Forest"
   ]
  },
  {
   "cell_type": "markdown",
   "id": "13716c29-2d08-4b18-8a50-63cfee32cba0",
   "metadata": {},
   "source": [
    "Find best hyperparameters with randomized search, then use those narrowed down parameters for a gridsearch"
   ]
  },
  {
   "cell_type": "code",
   "execution_count": 122,
   "id": "91bda905-7274-4afb-aa87-deadf118540d",
   "metadata": {},
   "outputs": [
    {
     "name": "stdout",
     "output_type": "stream",
     "text": [
      "Fitting 3 folds for each of 100 candidates, totalling 300 fits\n"
     ]
    },
    {
     "data": {
      "text/plain": [
       "{'n_estimators': 916,\n",
       " 'min_samples_split': 10,\n",
       " 'min_samples_leaf': 2,\n",
       " 'max_features': 'sqrt',\n",
       " 'max_depth': 26,\n",
       " 'bootstrap': False}"
      ]
     },
     "execution_count": 122,
     "metadata": {},
     "output_type": "execute_result"
    }
   ],
   "source": [
    "rf = RandomForestRegressor(random_state=14)\n",
    "\n",
    "# Number of trees in random forest\n",
    "n_estimators = [int(x) for x in np.linspace(start = 50, stop = 2000, num = 10)]\n",
    "\n",
    "# Number of features to consider at every split\n",
    "max_features = ['auto', 'sqrt']\n",
    "\n",
    "# Maximum number of levels in tree\n",
    "max_depth = [int(x) for x in np.linspace(3, 50, num = 5)]\n",
    "max_depth.append(None)\n",
    "\n",
    "# Minimum number of samples required to split a node\n",
    "min_samples_split = [2, 5, 10]\n",
    "\n",
    "# Minimum number of samples required at each leaf node\n",
    "min_samples_leaf = [1, 2, 4]\n",
    "\n",
    "# Method of selecting samples for training each tree\n",
    "bootstrap = [True, False]\n",
    "\n",
    "# Create the random grid\n",
    "random_grid = {'n_estimators': n_estimators,\n",
    "               'max_features': max_features,\n",
    "               'max_depth': max_depth,\n",
    "               'min_samples_split': min_samples_split,\n",
    "               'min_samples_leaf': min_samples_leaf,\n",
    "               'bootstrap': bootstrap}\n",
    "\n",
    "# Use the random grid to search for best hyperparameters\n",
    "# First create the base model to tune\n",
    "rf = RandomForestRegressor()\n",
    "# Random search of parameters, using 3 fold cross validation, \n",
    "# search across 100 different combinations, and use all available cores\n",
    "rf_random = RandomizedSearchCV(estimator = rf, param_distributions = random_grid, n_iter = 100, cv = 3, verbose=2, random_state=42, n_jobs = -1)\n",
    "# Fit the random search model\n",
    "rf_random.fit(x_train, y_train)\n",
    "\n",
    "rf_random.best_params_"
   ]
  },
  {
   "cell_type": "code",
   "execution_count": 138,
   "id": "5e33f470-d6d7-4b91-b641-cb1c9311ef3b",
   "metadata": {},
   "outputs": [
    {
     "name": "stdout",
     "output_type": "stream",
     "text": [
      "Fitting 3 folds for each of 162 candidates, totalling 486 fits\n"
     ]
    },
    {
     "data": {
      "text/plain": [
       "{'bootstrap': False,\n",
       " 'max_depth': 30,\n",
       " 'max_features': 17,\n",
       " 'min_samples_leaf': 2,\n",
       " 'min_samples_split': 12,\n",
       " 'n_estimators': 100}"
      ]
     },
     "execution_count": 138,
     "metadata": {},
     "output_type": "execute_result"
    }
   ],
   "source": [
    "# Create the parameter grid based on the results of random search \n",
    "param_grid = {\n",
    "    'bootstrap': [False],\n",
    "    'max_depth': [10, 25, 30],\n",
    "    'max_features': [17, 30],\n",
    "    'min_samples_leaf': [2, 3, 4],\n",
    "    'min_samples_split': [8, 10, 12],\n",
    "    'n_estimators': [100, 500, 1000]\n",
    "}\n",
    "# Create a based model\n",
    "rf = RandomForestRegressor()\n",
    "# Instantiate the grid search model\n",
    "grid_search = GridSearchCV(estimator = rf, param_grid = param_grid, \n",
    "                          cv = 3, n_jobs = -1, verbose = 2)\n",
    "grid_search.fit(x_train, y_train)\n",
    "grid_search.best_params_"
   ]
  },
  {
   "cell_type": "code",
   "execution_count": 146,
   "id": "e0d08ca3-017b-4430-84eb-b231bc1bdf5c",
   "metadata": {},
   "outputs": [
    {
     "name": "stdout",
     "output_type": "stream",
     "text": [
      "training set\n",
      "R^2: 0.486 +/- 0.037\n",
      "MAE: 2.07 +/- 0.08\n",
      "RMSE: 2.75 +/- 0.09\n",
      "test set\n",
      "R^2: 0.22 +/- 0.013\n",
      "MAE: 2.37 +/- 0.09\n",
      "RMSE: 3.13 +/- 0.1\n"
     ]
    }
   ],
   "source": [
    "rf = RandomForestRegressor(n_estimators=100,max_depth=30, min_samples_split=2, min_samples_leaf=2, max_features=17, random_state=14)\n",
    "rf.fit(x_train, y_train)\n",
    "print('training set')\n",
    "model_metrics(rf, x_train, y_train, cv=5)\n",
    "print('test set')\n",
    "model_metrics(rf, x_test, y_test, cv=5)"
   ]
  },
  {
   "cell_type": "markdown",
   "id": "7604c3cf-b2d6-413d-ad13-e766fd4cde10",
   "metadata": {},
   "source": [
    "These results are slightly better than LASSO"
   ]
  },
  {
   "cell_type": "markdown",
   "id": "72614e5b-8cad-435d-bc6c-2a1afc9ddbea",
   "metadata": {},
   "source": [
    "## Gradient boosting"
   ]
  },
  {
   "cell_type": "code",
   "execution_count": 145,
   "id": "8ea3f976-66f5-4dd4-9ff1-e530708a55f9",
   "metadata": {},
   "outputs": [
    {
     "name": "stdout",
     "output_type": "stream",
     "text": [
      "Fitting 3 folds for each of 256 candidates, totalling 768 fits\n"
     ]
    },
    {
     "data": {
      "text/plain": [
       "{'learning_rate': 0.02, 'max_depth': 6, 'n_estimators': 1000, 'subsample': 0.5}"
      ]
     },
     "execution_count": 145,
     "metadata": {},
     "output_type": "execute_result"
    }
   ],
   "source": [
    "from sklearn.ensemble import GradientBoostingRegressor\n",
    "\n",
    "# Create the parameter grid\n",
    "param_grid = {'learning_rate': [0.01,0.02,0.03,0.04],\n",
    "                  'subsample'    : [0.9, 0.5, 0.2, 0.1],\n",
    "                  'n_estimators' : [100,500,1000, 1500],\n",
    "                  'max_depth'    : [4,6,8,10]\n",
    "                 }\n",
    "# Create a based model\n",
    "gb = GradientBoostingRegressor()\n",
    "# Instantiate the grid search model\n",
    "grid_search = GridSearchCV(estimator = gb, param_grid = param_grid, \n",
    "                          cv = 3, n_jobs = -1, verbose = 2)\n",
    "grid_search.fit(x_train, y_train)\n",
    "grid_search.best_params_"
   ]
  },
  {
   "cell_type": "code",
   "execution_count": 147,
   "id": "4f3151f0-04b0-4edc-b57f-c2081e30e810",
   "metadata": {},
   "outputs": [
    {
     "name": "stdout",
     "output_type": "stream",
     "text": [
      "training set\n",
      "R^2: 0.482 +/- 0.036\n",
      "MAE: 2.05 +/- 0.09\n",
      "RMSE: 2.76 +/- 0.09\n",
      "test set\n",
      "R^2: 0.143 +/- 0.035\n",
      "MAE: 2.5 +/- 0.13\n",
      "RMSE: 3.28 +/- 0.15\n"
     ]
    }
   ],
   "source": [
    "gb = GradientBoostingRegressor(learning_rate = 0.02, subsample = 0.5, n_estimators = 1000, max_depth=6, random_state=14)\n",
    "\n",
    "gb.fit(x_train, y_train.values.ravel())\n",
    "print('training set')\n",
    "model_metrics(gb, x_train, y_train, cv=5)\n",
    "print('test set')\n",
    "model_metrics(gb, x_test, y_test, cv=5)"
   ]
  },
  {
   "cell_type": "markdown",
   "id": "cde935b2-7850-4e24-b23c-1035bcc54516",
   "metadata": {},
   "source": [
    "Random forest is still performing the best"
   ]
  },
  {
   "cell_type": "markdown",
   "id": "1c362177-75b9-453e-938c-302f1cfe4a18",
   "metadata": {},
   "source": [
    "## XGBoost for random forest (XGBRFR)"
   ]
  },
  {
   "cell_type": "code",
   "execution_count": 161,
   "id": "efadb102-7813-412d-89ec-c6c7753c9fb6",
   "metadata": {},
   "outputs": [
    {
     "name": "stdout",
     "output_type": "stream",
     "text": [
      "training set\n",
      "R^2: 0.444 +/- 0.039\n",
      "MAE: 2.2 +/- 0.08\n",
      "RMSE: 2.86 +/- 0.09\n",
      "test set\n",
      "R^2: 0.214 +/- 0.018\n",
      "MAE: 2.39 +/- 0.11\n",
      "RMSE: 3.14 +/- 0.11\n"
     ]
    }
   ],
   "source": [
    "xgbrfr = XGBRFRegressor(n_estimators=1000, subsample=0.9, colsample_bynode=0.1, random_state=14)\n",
    "xgbrfr.fit(x_train, y_train.values.ravel())\n",
    "print('training set')\n",
    "model_metrics(xgbrfr, x_train, y_train, cv=5)\n",
    "print('test set')\n",
    "model_metrics(xgbrfr, x_test, y_test, cv=5)"
   ]
  },
  {
   "cell_type": "markdown",
   "id": "72906535-6405-4ae4-9f01-2553490f4a08",
   "metadata": {},
   "source": [
    "## Support Vector Regression (SVR)"
   ]
  },
  {
   "cell_type": "code",
   "execution_count": 163,
   "id": "fd766d34-fdfe-46e4-8c71-5285b49a2f9e",
   "metadata": {},
   "outputs": [
    {
     "name": "stdout",
     "output_type": "stream",
     "text": [
      "training set\n",
      "R^2: 0.398 +/- 0.041\n",
      "MAE: 2.29 +/- 0.08\n",
      "RMSE: 2.98 +/- 0.09\n",
      "test set\n",
      "R^2: 0.162 +/- 0.025\n",
      "MAE: 2.47 +/- 0.13\n",
      "RMSE: 3.25 +/- 0.13\n"
     ]
    }
   ],
   "source": [
    "svr_rbf = SVR(kernel=\"rbf\", C=1, gamma='auto', epsilon=0.1)\n",
    "svr_rbf.fit(x_train, y_train.values.ravel())\n",
    "print('training set')\n",
    "model_metrics(svr_rbf, x_train, y_train, cv=5)\n",
    "print('test set')\n",
    "model_metrics(svr_rbf, x_test, y_test, cv=5)"
   ]
  },
  {
   "cell_type": "markdown",
   "id": "95c0e485-7d79-4784-bf26-0bf31d677474",
   "metadata": {},
   "source": [
    "## K-nearest neighboors (KNN)"
   ]
  },
  {
   "cell_type": "code",
   "execution_count": 172,
   "id": "7f1bdc9e-ea3b-4558-b0ab-86e330915090",
   "metadata": {},
   "outputs": [
    {
     "name": "stdout",
     "output_type": "stream",
     "text": [
      "training set\n",
      "R^2: 0.391 +/- 0.026\n",
      "MAE: 2.25 +/- 0.06\n",
      "RMSE: 3.0 +/- 0.06\n",
      "test set\n",
      "R^2: 0.222 +/- 0.027\n",
      "MAE: 2.33 +/- 0.1\n",
      "RMSE: 3.12 +/- 0.11\n"
     ]
    }
   ],
   "source": [
    "knn = KNeighborsRegressor(n_neighbors=4)\n",
    "knn.fit(x_train, y_train.values.ravel())\n",
    "print('training set')\n",
    "model_metrics(knn, x_train, y_train, cv=5)\n",
    "print('test set')\n",
    "model_metrics(knn, x_test, y_test, cv=5)"
   ]
  },
  {
   "cell_type": "markdown",
   "id": "2e11bec9-7c6e-4bd8-abae-9928618320bb",
   "metadata": {},
   "source": [
    "## LightGBM "
   ]
  },
  {
   "cell_type": "code",
   "execution_count": 17,
   "id": "9a3ecb43-9208-40ed-b16c-a6f41ec75f0a",
   "metadata": {},
   "outputs": [
    {
     "name": "stdout",
     "output_type": "stream",
     "text": [
      "training set\n",
      "R^2: 0.371 +/- 0.03\n",
      "MAE: 2.4 +/- 0.07\n",
      "RMSE: 3.05 +/- 0.07\n",
      "test set\n",
      "R^2: 0.137 +/- 0.013\n",
      "MAE: 2.53 +/- 0.1\n",
      "RMSE: 3.29 +/- 0.1\n"
     ]
    }
   ],
   "source": [
    "lgbm = LGBMRegressor(n_estimators=10, max_depth=5, num_leaves=2**5, learning_rate=0.1)\n",
    "lgbm.fit(x_train, y_train.values.ravel())\n",
    "print('training set')\n",
    "model_metrics(lgbm, x_train, y_train, cv=5)\n",
    "print('test set')\n",
    "model_metrics(lgbm, x_test, y_test, cv=5)"
   ]
  },
  {
   "cell_type": "markdown",
   "id": "8c2d946b-8942-400c-afa1-0c9a8304c642",
   "metadata": {},
   "source": [
    "# Performance of models with morgan fingerprints"
   ]
  },
  {
   "cell_type": "markdown",
   "id": "9de79973-efc0-4d1a-a33c-04bd7a093e5c",
   "metadata": {},
   "source": [
    "We can add in morgan fingerprints and see if the performance improves"
   ]
  },
  {
   "cell_type": "code",
   "execution_count": 30,
   "id": "cecfa768-d57d-4545-8a87-11bd1b77a40c",
   "metadata": {},
   "outputs": [
    {
     "name": "stdout",
     "output_type": "stream",
     "text": [
      "Number of donor-acceptor pairs is: 1001\n"
     ]
    }
   ],
   "source": [
    "data = pd.read_csv('descriptors_with_fingerprints.csv')\n",
    "print('Number of donor-acceptor pairs is: ' + str(len(data)))"
   ]
  },
  {
   "cell_type": "markdown",
   "id": "f1d8eef2-97de-4403-8b48-77dd59846426",
   "metadata": {},
   "source": [
    "Standardizes the descrptors (not including fingerprints) and then concats the fingerprints"
   ]
  },
  {
   "cell_type": "code",
   "execution_count": 50,
   "id": "9cbfecf2-4d1a-4e7a-bc2a-49a617ae3410",
   "metadata": {},
   "outputs": [],
   "source": [
    "X_unstandardized = data.iloc[:, 8:64]\n",
    "y = data.iloc[:, 7:8]\n",
    "\n",
    "#standardize\n",
    "x_labels = X_unstandardized.columns\n",
    "scaler = StandardScaler().fit(X_unstandardized[x_labels]) \n",
    "X_unstandardized[x_labels] = scaler.transform(X_unstandardized[x_labels])\n",
    "\n",
    "fps = data.iloc[:,64:]\n",
    "X = pd.concat([X_unstandardized, fps], axis=1)"
   ]
  },
  {
   "cell_type": "code",
   "execution_count": 51,
   "id": "23019a6b-6c00-4dee-a9a6-f71d65fc6c85",
   "metadata": {},
   "outputs": [],
   "source": [
    "# split into training and testing\n",
    "x_train, x_test, y_train, y_test = train_test_split(X, y, test_size = 0.2, random_state=14)"
   ]
  },
  {
   "cell_type": "markdown",
   "id": "c9ca8378-3ac6-4762-a046-4366b3fdb572",
   "metadata": {},
   "source": [
    "## Lasso"
   ]
  },
  {
   "cell_type": "code",
   "execution_count": 54,
   "id": "dab5fe76-3df3-47a8-9fb2-8411dc34abfb",
   "metadata": {},
   "outputs": [
    {
     "name": "stdout",
     "output_type": "stream",
     "text": [
      "training set\n",
      "R^2: 0.494 +/- 0.037\n",
      "MAE: 2.05 +/- 0.07\n",
      "RMSE: 2.73 +/- 0.09\n",
      "test set\n",
      "R^2: 0.019 +/- 0.095\n",
      "MAE: 2.64 +/- 0.12\n",
      "RMSE: 3.48 +/- 0.16\n"
     ]
    }
   ],
   "source": [
    "lasso = Lasso(alpha=0.01, random_state=14, max_iter=10000)\n",
    "lasso.fit(x_train, y_train)\n",
    "#print('Best alpha is ' + str(lasso.alpha_))\n",
    "\n",
    "print('training set')\n",
    "model_metrics(lasso, x_train, y_train, cv=5)\n",
    "print('test set')\n",
    "model_metrics(lasso, x_test, y_test, cv=5)"
   ]
  },
  {
   "cell_type": "markdown",
   "id": "e3b3d663-dc0d-4d4f-b5f9-1138313be914",
   "metadata": {},
   "source": [
    "## Random Forest"
   ]
  },
  {
   "cell_type": "code",
   "execution_count": 55,
   "id": "1fdc10b8-3098-45ae-936d-fcfd72b919a9",
   "metadata": {},
   "outputs": [
    {
     "name": "stdout",
     "output_type": "stream",
     "text": [
      "training set\n",
      "R^2: 0.428 +/- 0.035\n",
      "MAE: 2.26 +/- 0.06\n",
      "RMSE: 2.91 +/- 0.08\n",
      "test set\n",
      "R^2: 0.204 +/- 0.012\n",
      "MAE: 2.43 +/- 0.1\n",
      "RMSE: 3.16 +/- 0.09\n"
     ]
    }
   ],
   "source": [
    "rf = RandomForestRegressor(n_estimators=100,max_depth=30, min_samples_split=2, min_samples_leaf=2, max_features=17, random_state=14)\n",
    "rf.fit(x_train, y_train)\n",
    "print('training set')\n",
    "model_metrics(rf, x_train, y_train, cv=5)\n",
    "print('test set')\n",
    "model_metrics(rf, x_test, y_test, cv=5)"
   ]
  },
  {
   "cell_type": "code",
   "execution_count": 69,
   "id": "01497267-cfd3-402f-9b4f-017e600fc38f",
   "metadata": {},
   "outputs": [
    {
     "name": "stdout",
     "output_type": "stream",
     "text": [
      "30\n",
      "test set\n",
      "R^2: 0.272 +/- 0.017\n",
      "MAE: 2.31 +/- 0.11\n",
      "RMSE: 3.02 +/- 0.11\n",
      "40\n",
      "test set\n",
      "R^2: 0.286 +/- 0.02\n",
      "MAE: 2.29 +/- 0.11\n",
      "RMSE: 3.0 +/- 0.11\n",
      "50\n",
      "test set\n",
      "R^2: 0.299 +/- 0.02\n",
      "MAE: 2.27 +/- 0.11\n",
      "RMSE: 2.97 +/- 0.11\n",
      "60\n",
      "test set\n",
      "R^2: 0.297 +/- 0.022\n",
      "MAE: 2.27 +/- 0.11\n",
      "RMSE: 2.97 +/- 0.11\n",
      "70\n",
      "test set\n",
      "R^2: 0.3 +/- 0.022\n",
      "MAE: 2.26 +/- 0.11\n",
      "RMSE: 2.97 +/- 0.11\n"
     ]
    }
   ],
   "source": [
    "n_estimators = [10, 100, 500, 1000] \n",
    "max_depth = [10, 30, 50, 100]\n",
    "min_samples_split = [2, 5, 7]\n",
    "min_samples_leaf = [2, 4, 6]\n",
    "# max features had the biggest impact\n",
    "max_features = [30, 40, 50, 60, 70]\n",
    "for x in max_features:\n",
    "    print(x)\n",
    "    rf = RandomForestRegressor(n_estimators=1000,max_depth=30, min_samples_split=2, min_samples_leaf=2, max_features=50, random_state=14)\n",
    "    rf.fit(x_train, y_train)\n",
    "    print('test set')\n",
    "    model_metrics(rf, x_test, y_test, cv=5)"
   ]
  },
  {
   "cell_type": "code",
   "execution_count": 71,
   "id": "c379bbcc-877f-4efd-bf5f-7b8a6d8ca192",
   "metadata": {},
   "outputs": [
    {
     "name": "stdout",
     "output_type": "stream",
     "text": [
      "training set\n",
      "R^2: 0.503 +/- 0.036\n",
      "MAE: 2.06 +/- 0.07\n",
      "RMSE: 2.71 +/- 0.09\n",
      "test set\n",
      "R^2: 0.299 +/- 0.02\n",
      "MAE: 2.27 +/- 0.11\n",
      "RMSE: 2.97 +/- 0.11\n"
     ]
    }
   ],
   "source": [
    "rf = RandomForestRegressor(n_estimators=1000,max_depth=30, min_samples_split=2, min_samples_leaf=2, max_features=50, random_state=14)\n",
    "rf.fit(x_train, y_train)\n",
    "print('training set')\n",
    "model_metrics(rf, x_train, y_train, cv=5)\n",
    "print('test set')\n",
    "model_metrics(rf, x_test, y_test, cv=5)"
   ]
  },
  {
   "cell_type": "markdown",
   "id": "067769eb-da03-485a-9389-5fc16bf1b5b8",
   "metadata": {},
   "source": [
    "## Gradient Boosting"
   ]
  },
  {
   "cell_type": "code",
   "execution_count": 56,
   "id": "532a04b1-8cd9-45d3-abad-8b01141dcc2a",
   "metadata": {},
   "outputs": [
    {
     "name": "stdout",
     "output_type": "stream",
     "text": [
      "training set\n",
      "R^2: 0.531 +/- 0.04\n",
      "MAE: 1.93 +/- 0.08\n",
      "RMSE: 2.63 +/- 0.1\n",
      "test set\n",
      "R^2: 0.194 +/- 0.043\n",
      "MAE: 2.46 +/- 0.14\n",
      "RMSE: 3.18 +/- 0.15\n"
     ]
    }
   ],
   "source": [
    "gb = GradientBoostingRegressor(learning_rate = 0.02, subsample = 0.5, n_estimators = 1000, max_depth=6, random_state=14)\n",
    "\n",
    "gb.fit(x_train, y_train.values.ravel())\n",
    "print('training set')\n",
    "model_metrics(gb, x_train, y_train, cv=5)\n",
    "print('test set')\n",
    "model_metrics(gb, x_test, y_test, cv=5)"
   ]
  },
  {
   "cell_type": "code",
   "execution_count": 116,
   "id": "78b467c4-30ca-442f-be48-063b85afc1dc",
   "metadata": {},
   "outputs": [
    {
     "name": "stdout",
     "output_type": "stream",
     "text": [
      "11\n",
      "test set\n",
      "R^2: 0.232 +/- 0.035\n",
      "MAE: 2.39 +/- 0.13\n",
      "RMSE: 3.11 +/- 0.13\n",
      "12\n",
      "test set\n",
      "R^2: 0.254 +/- 0.026\n",
      "MAE: 2.35 +/- 0.12\n",
      "RMSE: 3.06 +/- 0.12\n",
      "13\n",
      "test set\n",
      "R^2: 0.224 +/- 0.038\n",
      "MAE: 2.39 +/- 0.13\n",
      "RMSE: 3.12 +/- 0.14\n",
      "14\n",
      "test set\n",
      "R^2: 0.232 +/- 0.035\n",
      "MAE: 2.38 +/- 0.13\n",
      "RMSE: 3.11 +/- 0.13\n",
      "15\n",
      "test set\n",
      "R^2: 0.232 +/- 0.035\n",
      "MAE: 2.38 +/- 0.13\n",
      "RMSE: 3.11 +/- 0.13\n"
     ]
    }
   ],
   "source": [
    "n_estimators = [90, 100, 110]\n",
    "subsample = [0.3, 0.5]\n",
    "learning_rate = [0.015, 0.02, 0.025]\n",
    "max_depth = [11, 12, 13, 14, 15]\n",
    "\n",
    "for x in max_depth:\n",
    "    print(x)\n",
    "    gb = GradientBoostingRegressor(learning_rate = 0.015, subsample = 0.3, n_estimators = 100, max_depth=12, random_state=14)\n",
    "    gb.fit(x_train, y_train.values.ravel())\n",
    "    print('test set')\n",
    "    model_metrics(gb, x_test, y_test, cv=5)"
   ]
  },
  {
   "cell_type": "code",
   "execution_count": 117,
   "id": "56663436-abf4-4834-a4be-b1590dac4ad9",
   "metadata": {},
   "outputs": [
    {
     "name": "stdout",
     "output_type": "stream",
     "text": [
      "training set\n",
      "R^2: 0.481 +/- 0.034\n",
      "MAE: 2.14 +/- 0.07\n",
      "RMSE: 2.77 +/- 0.08\n",
      "test set\n",
      "R^2: 0.254 +/- 0.026\n",
      "MAE: 2.35 +/- 0.12\n",
      "RMSE: 3.06 +/- 0.12\n"
     ]
    }
   ],
   "source": [
    "gb = GradientBoostingRegressor(learning_rate = 0.015, subsample = 0.3, n_estimators = 100, max_depth=12, random_state=14)\n",
    "gb.fit(x_train, y_train.values.ravel())\n",
    "print('training set')\n",
    "model_metrics(gb, x_train, y_train, cv=5)\n",
    "print('test set')\n",
    "model_metrics(gb, x_test, y_test, cv=5)"
   ]
  },
  {
   "cell_type": "markdown",
   "id": "2bdc60fc-fc05-4ad7-8437-9b610b8bae15",
   "metadata": {},
   "source": [
    "## XGBoost"
   ]
  },
  {
   "cell_type": "code",
   "execution_count": 57,
   "id": "74dccb63-ff6e-4488-b3db-1f8804f872f3",
   "metadata": {},
   "outputs": [
    {
     "name": "stdout",
     "output_type": "stream",
     "text": [
      "training set\n",
      "R^2: 0.474 +/- 0.038\n",
      "MAE: 2.11 +/- 0.07\n",
      "RMSE: 2.79 +/- 0.09\n",
      "test set\n",
      "R^2: 0.255 +/- 0.02\n",
      "MAE: 2.33 +/- 0.1\n",
      "RMSE: 3.06 +/- 0.1\n"
     ]
    }
   ],
   "source": [
    "xgbrfr = XGBRFRegressor(n_estimators=1000, subsample=0.9, colsample_bynode=0.1, random_state=14)\n",
    "xgbrfr.fit(x_train, y_train.values.ravel())\n",
    "print('training set')\n",
    "model_metrics(xgbrfr, x_train, y_train, cv=5)\n",
    "print('test set')\n",
    "model_metrics(xgbrfr, x_test, y_test, cv=5)"
   ]
  },
  {
   "cell_type": "code",
   "execution_count": 80,
   "id": "a6749a97-5236-4530-9a93-2980bbccb9ce",
   "metadata": {},
   "outputs": [
    {
     "name": "stdout",
     "output_type": "stream",
     "text": [
      "0.03\n",
      "test set\n",
      "R^2: 0.283 +/- 0.018\n",
      "MAE: 2.29 +/- 0.11\n",
      "RMSE: 3.0 +/- 0.1\n",
      "0.02\n",
      "test set\n",
      "R^2: 0.277 +/- 0.02\n",
      "MAE: 2.29 +/- 0.1\n",
      "RMSE: 3.01 +/- 0.1\n",
      "0.04\n",
      "test set\n",
      "R^2: 0.283 +/- 0.019\n",
      "MAE: 2.29 +/- 0.1\n",
      "RMSE: 3.0 +/- 0.1\n"
     ]
    }
   ],
   "source": [
    "n_estimators = [10, 100, 500, 1000, 5000]\n",
    "subsample = [0.25, 0.3, 0.35]\n",
    "colsample_bynode = [0.03, 0.02, 0.04]\n",
    "\n",
    "for x in colsample_bynode:\n",
    "    print(x)\n",
    "    xgbrfr = XGBRFRegressor(n_estimators=500, subsample=0.35, colsample_bynode=0.03, random_state=14)\n",
    "    xgbrfr.fit(x_train, y_train.values.ravel())\n",
    "    print('test set')\n",
    "    model_metrics(xgbrfr, x_test, y_test, cv=5)"
   ]
  },
  {
   "cell_type": "code",
   "execution_count": 81,
   "id": "df4b954b-36ba-4a9b-8cb6-d4b7de3c1df0",
   "metadata": {},
   "outputs": [
    {
     "name": "stdout",
     "output_type": "stream",
     "text": [
      "training set\n",
      "R^2: 0.459 +/- 0.035\n",
      "MAE: 2.17 +/- 0.07\n",
      "RMSE: 2.83 +/- 0.08\n",
      "test set\n",
      "R^2: 0.283 +/- 0.018\n",
      "MAE: 2.29 +/- 0.11\n",
      "RMSE: 3.0 +/- 0.1\n"
     ]
    }
   ],
   "source": [
    "xgbrfr = XGBRFRegressor(n_estimators=500, subsample=0.35, colsample_bynode=0.03, random_state=14)\n",
    "xgbrfr.fit(x_train, y_train.values.ravel())\n",
    "print('training set')\n",
    "model_metrics(xgbrfr, x_train, y_train, cv=5)\n",
    "print('test set')\n",
    "model_metrics(xgbrfr, x_test, y_test, cv=5)"
   ]
  },
  {
   "cell_type": "markdown",
   "id": "74ad066b-27b7-4c3f-91e5-10a2b8d54508",
   "metadata": {},
   "source": [
    "## SVR"
   ]
  },
  {
   "cell_type": "code",
   "execution_count": 58,
   "id": "1902f271-e290-4a08-aa82-dd8705846452",
   "metadata": {},
   "outputs": [
    {
     "name": "stdout",
     "output_type": "stream",
     "text": [
      "training set\n",
      "R^2: 0.279 +/- 0.031\n",
      "MAE: 2.53 +/- 0.05\n",
      "RMSE: 3.27 +/- 0.06\n",
      "test set\n",
      "R^2: 0.057 +/- 0.019\n",
      "MAE: 2.61 +/- 0.11\n",
      "RMSE: 3.44 +/- 0.1\n"
     ]
    }
   ],
   "source": [
    "svr_rbf = SVR(kernel=\"rbf\", C=1, gamma='auto', epsilon=0.1)\n",
    "svr_rbf.fit(x_train, y_train.values.ravel())\n",
    "print('training set')\n",
    "model_metrics(svr_rbf, x_train, y_train, cv=5)\n",
    "print('test set')\n",
    "model_metrics(svr_rbf, x_test, y_test, cv=5)"
   ]
  },
  {
   "cell_type": "code",
   "execution_count": 105,
   "id": "6cbd0956-0fa9-45cf-8fcb-75133dc74c39",
   "metadata": {},
   "outputs": [
    {
     "name": "stdout",
     "output_type": "stream",
     "text": [
      "0.35\n",
      "test set\n",
      "R^2: 0.3 +/- 0.034\n",
      "MAE: 2.16 +/- 0.06\n",
      "RMSE: 2.96 +/- 0.09\n",
      "0.4\n",
      "test set\n",
      "R^2: 0.3 +/- 0.034\n",
      "MAE: 2.16 +/- 0.07\n",
      "RMSE: 2.96 +/- 0.09\n",
      "0.45\n",
      "test set\n",
      "R^2: 0.3 +/- 0.033\n",
      "MAE: 2.17 +/- 0.07\n",
      "RMSE: 2.96 +/- 0.09\n"
     ]
    }
   ],
   "source": [
    "C = [70, 60]\n",
    "epsilon = [0.35, 0.4, 0.45]\n",
    "for n in epsilon:\n",
    "    print(n)\n",
    "    svr_rbf = SVR(kernel=\"rbf\", C=70, gamma='auto', epsilon=0.4)\n",
    "    svr_rbf.fit(x_train, y_train.values.ravel())\n",
    "    print('test set')\n",
    "    model_metrics(svr_rbf, x_test, y_test, cv=5)"
   ]
  },
  {
   "cell_type": "code",
   "execution_count": 106,
   "id": "eef29ecf-256c-4983-9725-bf5c340fb2a1",
   "metadata": {},
   "outputs": [
    {
     "name": "stdout",
     "output_type": "stream",
     "text": [
      "training set\n",
      "R^2: 0.471 +/- 0.041\n",
      "MAE: 1.99 +/- 0.09\n",
      "RMSE: 2.79 +/- 0.1\n",
      "test set\n",
      "R^2: 0.3 +/- 0.034\n",
      "MAE: 2.16 +/- 0.07\n",
      "RMSE: 2.96 +/- 0.09\n"
     ]
    }
   ],
   "source": [
    "svr_rbf = SVR(kernel=\"rbf\", C=70, gamma='auto', epsilon=0.4)\n",
    "svr_rbf.fit(x_train, y_train.values.ravel())\n",
    "print('training set')\n",
    "model_metrics(svr_rbf, x_train, y_train, cv=5)\n",
    "print('test set')\n",
    "model_metrics(svr_rbf, x_test, y_test, cv=5)"
   ]
  },
  {
   "cell_type": "markdown",
   "id": "0090771e-f3be-419c-b61c-f0665484aced",
   "metadata": {},
   "source": [
    "## KNN"
   ]
  },
  {
   "cell_type": "code",
   "execution_count": 59,
   "id": "093ac33b-8899-44a4-9b95-16bb9aee8fef",
   "metadata": {},
   "outputs": [
    {
     "name": "stdout",
     "output_type": "stream",
     "text": [
      "training set\n",
      "R^2: 0.429 +/- 0.049\n",
      "MAE: 2.1 +/- 0.07\n",
      "RMSE: 2.9 +/- 0.12\n",
      "test set\n",
      "R^2: 0.127 +/- 0.042\n",
      "MAE: 2.49 +/- 0.13\n",
      "RMSE: 3.3 +/- 0.11\n"
     ]
    }
   ],
   "source": [
    "knn = KNeighborsRegressor(n_neighbors=4)\n",
    "knn.fit(x_train, y_train.values.ravel())\n",
    "print('training set')\n",
    "model_metrics(knn, x_train, y_train, cv=5)\n",
    "print('test set')\n",
    "model_metrics(knn, x_test, y_test, cv=5)"
   ]
  },
  {
   "cell_type": "code",
   "execution_count": 84,
   "id": "a70b2662-2f0a-49ef-8dcc-571f976cd74b",
   "metadata": {},
   "outputs": [
    {
     "name": "stdout",
     "output_type": "stream",
     "text": [
      "8\n",
      "test set\n",
      "R^2: 0.266 +/- 0.039\n",
      "MAE: 2.29 +/- 0.09\n",
      "RMSE: 3.03 +/- 0.09\n",
      "9\n",
      "test set\n",
      "R^2: 0.279 +/- 0.039\n",
      "MAE: 2.27 +/- 0.11\n",
      "RMSE: 3.0 +/- 0.11\n",
      "10\n",
      "test set\n",
      "R^2: 0.292 +/- 0.034\n",
      "MAE: 2.24 +/- 0.12\n",
      "RMSE: 2.98 +/- 0.12\n",
      "11\n",
      "test set\n",
      "R^2: 0.305 +/- 0.029\n",
      "MAE: 2.25 +/- 0.12\n",
      "RMSE: 2.95 +/- 0.12\n",
      "12\n",
      "test set\n",
      "R^2: 0.274 +/- 0.025\n",
      "MAE: 2.28 +/- 0.11\n",
      "RMSE: 3.02 +/- 0.11\n"
     ]
    }
   ],
   "source": [
    "neighbors = [8, 9, 10, 11, 12]\n",
    "for n in neighbors:\n",
    "    print(n)\n",
    "    knn = KNeighborsRegressor(n_neighbors=n)\n",
    "    knn.fit(x_train, y_train.values.ravel())\n",
    "    print('test set')\n",
    "    model_metrics(knn, x_test, y_test, cv=5)"
   ]
  },
  {
   "cell_type": "code",
   "execution_count": 85,
   "id": "ad7c7a2e-a7a8-47f8-b997-a7fe3e291ea6",
   "metadata": {},
   "outputs": [
    {
     "name": "stdout",
     "output_type": "stream",
     "text": [
      "training set\n",
      "R^2: 0.434 +/- 0.046\n",
      "MAE: 2.12 +/- 0.08\n",
      "RMSE: 2.88 +/- 0.11\n",
      "test set\n",
      "R^2: 0.305 +/- 0.029\n",
      "MAE: 2.25 +/- 0.12\n",
      "RMSE: 2.95 +/- 0.12\n"
     ]
    }
   ],
   "source": [
    "knn = KNeighborsRegressor(n_neighbors=11)\n",
    "knn.fit(x_train, y_train.values.ravel())\n",
    "print('training set')\n",
    "model_metrics(knn, x_train, y_train, cv=5)\n",
    "print('test set')\n",
    "model_metrics(knn, x_test, y_test, cv=5)"
   ]
  },
  {
   "cell_type": "markdown",
   "id": "f2f29e88-2531-4095-b55f-742b920c6717",
   "metadata": {},
   "source": [
    "## lightGBM"
   ]
  },
  {
   "cell_type": "code",
   "execution_count": 60,
   "id": "94813c0c-2a04-40d9-b305-e214b7d512c8",
   "metadata": {},
   "outputs": [
    {
     "name": "stdout",
     "output_type": "stream",
     "text": [
      "training set\n",
      "R^2: 0.399 +/- 0.027\n",
      "MAE: 2.32 +/- 0.06\n",
      "RMSE: 2.98 +/- 0.07\n",
      "test set\n",
      "R^2: 0.18 +/- 0.028\n",
      "MAE: 2.48 +/- 0.08\n",
      "RMSE: 3.21 +/- 0.1\n"
     ]
    }
   ],
   "source": [
    "lgbm = LGBMRegressor(n_estimators=10, max_depth=5, num_leaves=2**5, learning_rate=0.1)\n",
    "lgbm.fit(x_train, y_train.values.ravel())\n",
    "print('training set')\n",
    "model_metrics(lgbm, x_train, y_train, cv=5)\n",
    "print('test set')\n",
    "model_metrics(lgbm, x_test, y_test, cv=5)"
   ]
  },
  {
   "cell_type": "code",
   "execution_count": 91,
   "id": "494ef4dd-0b13-4f55-8216-bb069b971307",
   "metadata": {},
   "outputs": [
    {
     "name": "stdout",
     "output_type": "stream",
     "text": [
      "0.01\n",
      "test set\n",
      "R^2: 0.023 +/- 0.006\n",
      "MAE: 2.72 +/- 0.1\n",
      "RMSE: 3.5 +/- 0.09\n",
      "0.1\n",
      "test set\n",
      "R^2: 0.184 +/- 0.025\n",
      "MAE: 2.47 +/- 0.08\n",
      "RMSE: 3.2 +/- 0.11\n",
      "0.5\n",
      "test set\n",
      "R^2: 0.125 +/- 0.022\n",
      "MAE: 2.57 +/- 0.09\n",
      "RMSE: 3.31 +/- 0.1\n"
     ]
    }
   ],
   "source": [
    "n_estimators=[10, 100, 500, 1000]\n",
    "max_depth = [3, 5, 7, 10]\n",
    "learning_rates = [0.01, 0.1, 0.5]\n",
    "for x in learning_rates:\n",
    "    print(x)\n",
    "    lgbm = LGBMRegressor(n_estimators=10, max_depth=3, num_leaves=2**3, learning_rate=0.1)\n",
    "    lgbm.fit(x_train, y_train.values.ravel())\n",
    "    print('test set')\n",
    "    model_metrics(lgbm, x_test, y_test, cv=5)"
   ]
  },
  {
   "cell_type": "code",
   "execution_count": 93,
   "id": "cae35ab7-b733-49e5-86a2-474cd14f8449",
   "metadata": {},
   "outputs": [
    {
     "name": "stdout",
     "output_type": "stream",
     "text": [
      "training set\n",
      "R^2: 0.36 +/- 0.029\n",
      "MAE: 2.42 +/- 0.07\n",
      "RMSE: 3.08 +/- 0.07\n",
      "test set\n",
      "R^2: 0.184 +/- 0.025\n",
      "MAE: 2.47 +/- 0.08\n",
      "RMSE: 3.2 +/- 0.11\n"
     ]
    }
   ],
   "source": [
    "lgbm = LGBMRegressor(n_estimators=10, max_depth=3, num_leaves=2**3, learning_rate=0.1)\n",
    "lgbm.fit(x_train, y_train.values.ravel())\n",
    "print('training set')\n",
    "model_metrics(lgbm, x_train, y_train, cv=5)\n",
    "print('test set')\n",
    "model_metrics(lgbm, x_test, y_test, cv=5)"
   ]
  },
  {
   "cell_type": "markdown",
   "id": "8924f21b-d502-4cb1-8ead-df4551606011",
   "metadata": {},
   "source": [
    "## Results"
   ]
  },
  {
   "cell_type": "markdown",
   "id": "6f4a04a3-2062-4c22-ab71-666e7a188513",
   "metadata": {},
   "source": [
    "KNN performs the best with fingerprints and without. Let's see how the models improve by only training on PCE above 10 %"
   ]
  },
  {
   "cell_type": "code",
   "execution_count": 124,
   "id": "4b344ffe-9255-4867-830f-eceb9e04f57d",
   "metadata": {},
   "outputs": [],
   "source": [
    "data_highPCE = data[data['PCE'] > 10]\n",
    "\n",
    "X_unstandardized = data_highPCE.iloc[:, 8:64]\n",
    "y = data_highPCE.iloc[:, 7:8]\n",
    "\n",
    "#standardize\n",
    "x_labels = X_unstandardized.columns\n",
    "scaler = StandardScaler().fit(X_unstandardized[x_labels]) \n",
    "X_unstandardized[x_labels] = scaler.transform(X_unstandardized[x_labels])\n",
    "\n",
    "fps = data_highPCE.iloc[:,64:]\n",
    "X = pd.concat([X_unstandardized, fps], axis=1)"
   ]
  },
  {
   "cell_type": "code",
   "execution_count": 125,
   "id": "b1f190f2-1f64-4f4f-93d3-a4c97b10bf78",
   "metadata": {},
   "outputs": [],
   "source": [
    "# split into training and testing\n",
    "x_train, x_test, y_train, y_test = train_test_split(X, y, test_size = 0.2, random_state=14)"
   ]
  },
  {
   "cell_type": "markdown",
   "id": "626ce3e8-ca03-40c4-b540-6320668137f9",
   "metadata": {},
   "source": [
    "### Lasso"
   ]
  },
  {
   "cell_type": "code",
   "execution_count": 126,
   "id": "eb8f129c-bd44-4e13-95a6-5da71f735115",
   "metadata": {},
   "outputs": [
    {
     "name": "stdout",
     "output_type": "stream",
     "text": [
      "training set\n",
      "R^2: 0.382 +/- 0.026\n",
      "MAE: 1.16 +/- 0.04\n",
      "RMSE: 1.48 +/- 0.05\n",
      "test set\n",
      "R^2: 0.314 +/- 0.145\n",
      "MAE: 1.27 +/- 0.1\n",
      "RMSE: 1.56 +/- 0.13\n"
     ]
    }
   ],
   "source": [
    "lasso = Lasso(alpha=0.01, random_state=14, max_iter=10000)\n",
    "lasso.fit(x_train, y_train)\n",
    "#print('Best alpha is ' + str(lasso.alpha_))\n",
    "\n",
    "print('training set')\n",
    "model_metrics(lasso, x_train, y_train, cv=5)\n",
    "print('test set')\n",
    "model_metrics(lasso, x_test, y_test, cv=5)"
   ]
  },
  {
   "cell_type": "markdown",
   "id": "02c896bc-01b9-421f-93a8-5ee270b83b28",
   "metadata": {},
   "source": [
    "### RF"
   ]
  },
  {
   "cell_type": "code",
   "execution_count": 139,
   "id": "0b2abb13-244f-4498-ad41-a1c24149a5b5",
   "metadata": {},
   "outputs": [
    {
     "name": "stdout",
     "output_type": "stream",
     "text": [
      "56\n",
      "test set\n",
      "R^2: 0.412 +/- 0.093\n",
      "MAE: 1.21 +/- 0.1\n",
      "RMSE: 1.47 +/- 0.12\n",
      "57\n",
      "test set\n",
      "R^2: 0.422 +/- 0.089\n",
      "MAE: 1.2 +/- 0.1\n",
      "RMSE: 1.45 +/- 0.11\n",
      "58\n",
      "test set\n",
      "R^2: 0.415 +/- 0.088\n",
      "MAE: 1.21 +/- 0.09\n",
      "RMSE: 1.46 +/- 0.11\n",
      "59\n",
      "test set\n",
      "R^2: 0.414 +/- 0.093\n",
      "MAE: 1.21 +/- 0.1\n",
      "RMSE: 1.46 +/- 0.11\n"
     ]
    }
   ],
   "source": [
    "n_estimators = [300, 400, 500] \n",
    "max_depth = [5, 8, 10]\n",
    "min_samples_split = [2, 3]\n",
    "min_samples_leaf = [2, 4, 6]\n",
    "# max features had the biggest impact\n",
    "max_features = [56, 57, 58, 59]\n",
    "for x in max_features:\n",
    "    print(x)\n",
    "    rf = RandomForestRegressor(n_estimators=500,max_depth=10, min_samples_split=2, min_samples_leaf=2, max_features=57, random_state=14)\n",
    "    rf.fit(x_train, y_train)\n",
    "    print('test set')\n",
    "    model_metrics(rf, x_test, y_test, cv=5)"
   ]
  },
  {
   "cell_type": "code",
   "execution_count": 140,
   "id": "235eaa48-ec23-4243-8396-1542eeeff180",
   "metadata": {},
   "outputs": [
    {
     "name": "stdout",
     "output_type": "stream",
     "text": [
      "training set\n",
      "R^2: 0.438 +/- 0.023\n",
      "MAE: 1.13 +/- 0.04\n",
      "RMSE: 1.41 +/- 0.05\n",
      "test set\n",
      "R^2: 0.422 +/- 0.089\n",
      "MAE: 1.2 +/- 0.1\n",
      "RMSE: 1.45 +/- 0.11\n"
     ]
    }
   ],
   "source": [
    "rf = RandomForestRegressor(n_estimators=500,max_depth=10, min_samples_split=2, min_samples_leaf=2, max_features=57, random_state=14)\n",
    "rf.fit(x_train, y_train)\n",
    "print('training set')\n",
    "model_metrics(rf, x_train, y_train, cv=5)\n",
    "print('test set')\n",
    "model_metrics(rf, x_test, y_test, cv=5)"
   ]
  },
  {
   "cell_type": "markdown",
   "id": "424bac34-9f3d-4644-b924-be03e18d4197",
   "metadata": {},
   "source": [
    "### GB"
   ]
  },
  {
   "cell_type": "code",
   "execution_count": 147,
   "id": "17247d10-f59e-4d37-93bd-aa7b4d2b9973",
   "metadata": {},
   "outputs": [
    {
     "name": "stdout",
     "output_type": "stream",
     "text": [
      "11\n",
      "test set\n",
      "R^2: 0.423 +/- 0.115\n",
      "MAE: 1.15 +/- 0.12\n",
      "RMSE: 1.43 +/- 0.12\n",
      "12\n",
      "test set\n",
      "R^2: 0.424 +/- 0.112\n",
      "MAE: 1.15 +/- 0.11\n",
      "RMSE: 1.43 +/- 0.12\n",
      "13\n",
      "test set\n",
      "R^2: 0.424 +/- 0.114\n",
      "MAE: 1.14 +/- 0.12\n",
      "RMSE: 1.43 +/- 0.12\n",
      "14\n",
      "test set\n",
      "R^2: 0.424 +/- 0.114\n",
      "MAE: 1.14 +/- 0.12\n",
      "RMSE: 1.43 +/- 0.12\n",
      "15\n",
      "test set\n",
      "R^2: 0.424 +/- 0.114\n",
      "MAE: 1.14 +/- 0.12\n",
      "RMSE: 1.43 +/- 0.12\n"
     ]
    }
   ],
   "source": [
    "n_estimators = [10, 100, 500, 1000]\n",
    "subsample = [0.1, 0.2, 0.3]\n",
    "learning_rate = [0.02, 0.01, 0.03]\n",
    "max_depth = [11, 12, 13, 14, 15]\n",
    "\n",
    "for x in max_depth:\n",
    "    print(x)\n",
    "    gb = GradientBoostingRegressor(learning_rate = 0.01, subsample = 0.3, n_estimators = 500, max_depth=12, random_state=14)\n",
    "    gb.fit(x_train, y_train.values.ravel())\n",
    "    print('test set')\n",
    "    model_metrics(gb, x_test, y_test, cv=5)"
   ]
  },
  {
   "cell_type": "code",
   "execution_count": 148,
   "id": "690f75bf-db3a-46b3-926e-919dd807af3a",
   "metadata": {},
   "outputs": [
    {
     "name": "stdout",
     "output_type": "stream",
     "text": [
      "training set\n",
      "R^2: 0.401 +/- 0.025\n",
      "MAE: 1.13 +/- 0.03\n",
      "RMSE: 1.46 +/- 0.04\n",
      "test set\n",
      "R^2: 0.424 +/- 0.112\n",
      "MAE: 1.15 +/- 0.11\n",
      "RMSE: 1.43 +/- 0.12\n"
     ]
    }
   ],
   "source": [
    "gb = GradientBoostingRegressor(learning_rate = 0.01, subsample = 0.3, n_estimators = 500, max_depth=12, random_state=14)\n",
    "gb.fit(x_train, y_train.values.ravel())\n",
    "print('training set')\n",
    "model_metrics(gb, x_train, y_train, cv=5)\n",
    "print('test set')\n",
    "model_metrics(gb, x_test, y_test, cv=5)"
   ]
  },
  {
   "cell_type": "markdown",
   "id": "9185f839-abdb-43b0-99b9-ff631f0e7124",
   "metadata": {},
   "source": [
    "### XGBRFR"
   ]
  },
  {
   "cell_type": "code",
   "execution_count": 154,
   "id": "5cf15724-9b5e-464b-9d6a-a8bcfc663282",
   "metadata": {},
   "outputs": [
    {
     "name": "stdout",
     "output_type": "stream",
     "text": [
      "0.03\n",
      "test set\n",
      "R^2: 0.426 +/- 0.099\n",
      "MAE: 1.19 +/- 0.09\n",
      "RMSE: 1.44 +/- 0.12\n",
      "0.04\n",
      "test set\n",
      "R^2: 0.429 +/- 0.097\n",
      "MAE: 1.18 +/- 0.09\n",
      "RMSE: 1.44 +/- 0.1\n",
      "0.05\n",
      "test set\n",
      "R^2: 0.414 +/- 0.102\n",
      "MAE: 1.2 +/- 0.09\n",
      "RMSE: 1.45 +/- 0.11\n"
     ]
    }
   ],
   "source": [
    "n_estimators = [10, 100, 500, 1000, 5000]\n",
    "subsample = [0.55, 0.6, 0.65, 0.8]\n",
    "colsample_bynode = [0.03, 0.04, 0.05]\n",
    "\n",
    "for x in colsample_bynode:\n",
    "    print(x)\n",
    "    xgbrfr = XGBRFRegressor(n_estimators=100, subsample=0.6, colsample_bynode=0.04, random_state=14)\n",
    "    xgbrfr.fit(x_train, y_train.values.ravel())\n",
    "    print('test set')\n",
    "    model_metrics(xgbrfr, x_test, y_test, cv=5)"
   ]
  },
  {
   "cell_type": "code",
   "execution_count": 155,
   "id": "eb47eba4-0acd-406f-b02f-443c8e9e666d",
   "metadata": {},
   "outputs": [
    {
     "name": "stdout",
     "output_type": "stream",
     "text": [
      "training set\n",
      "R^2: 0.43 +/- 0.021\n",
      "MAE: 1.13 +/- 0.03\n",
      "RMSE: 1.42 +/- 0.05\n",
      "test set\n",
      "R^2: 0.429 +/- 0.097\n",
      "MAE: 1.18 +/- 0.09\n",
      "RMSE: 1.44 +/- 0.1\n"
     ]
    }
   ],
   "source": [
    "xgbrfr = XGBRFRegressor(n_estimators=100, subsample=0.6, colsample_bynode=0.04, random_state=14)\n",
    "xgbrfr.fit(x_train, y_train.values.ravel())\n",
    "print('training set')\n",
    "model_metrics(xgbrfr, x_train, y_train, cv=5)\n",
    "print('test set')\n",
    "model_metrics(xgbrfr, x_test, y_test, cv=5)"
   ]
  },
  {
   "cell_type": "markdown",
   "id": "0c1fd821-3616-4c94-950e-a543c89b84fc",
   "metadata": {},
   "source": [
    "### SVR"
   ]
  },
  {
   "cell_type": "code",
   "execution_count": 162,
   "id": "115f6da7-e34f-466a-85bf-21ac4d237bb8",
   "metadata": {},
   "outputs": [
    {
     "name": "stdout",
     "output_type": "stream",
     "text": [
      "0.1\n",
      "test set\n",
      "R^2: 0.475 +/- 0.125\n",
      "MAE: 1.07 +/- 0.11\n",
      "RMSE: 1.35 +/- 0.15\n",
      "0.15\n",
      "test set\n",
      "R^2: 0.476 +/- 0.123\n",
      "MAE: 1.07 +/- 0.11\n",
      "RMSE: 1.35 +/- 0.15\n",
      "0.2\n",
      "test set\n",
      "R^2: 0.476 +/- 0.122\n",
      "MAE: 1.07 +/- 0.11\n",
      "RMSE: 1.35 +/- 0.15\n"
     ]
    }
   ],
   "source": [
    "C = [65, 70, 75]\n",
    "epsilon = [0.1, 0.15, 0.2]\n",
    "for x in epsilon:\n",
    "    print(x)\n",
    "    svr_rbf = SVR(kernel=\"rbf\", C=70, gamma='auto', epsilon=0.2)\n",
    "    svr_rbf.fit(x_train, y_train.values.ravel())\n",
    "    print('test set')\n",
    "    model_metrics(svr_rbf, x_test, y_test, cv=5)"
   ]
  },
  {
   "cell_type": "code",
   "execution_count": 163,
   "id": "91b36165-4224-45ca-bd40-85c8a1d01cd8",
   "metadata": {},
   "outputs": [
    {
     "name": "stdout",
     "output_type": "stream",
     "text": [
      "training set\n",
      "R^2: 0.41 +/- 0.045\n",
      "MAE: 1.11 +/- 0.03\n",
      "RMSE: 1.44 +/- 0.04\n",
      "test set\n",
      "R^2: 0.476 +/- 0.122\n",
      "MAE: 1.07 +/- 0.11\n",
      "RMSE: 1.35 +/- 0.15\n"
     ]
    }
   ],
   "source": [
    "svr_rbf = SVR(kernel=\"rbf\", C=70, gamma='auto', epsilon=0.2)\n",
    "svr_rbf.fit(x_train, y_train.values.ravel())\n",
    "print('training set')\n",
    "model_metrics(svr_rbf, x_train, y_train, cv=5)\n",
    "print('test set')\n",
    "model_metrics(svr_rbf, x_test, y_test, cv=5)"
   ]
  },
  {
   "cell_type": "markdown",
   "id": "4240f2dd-009d-45cc-bf47-9a025fcccf12",
   "metadata": {},
   "source": [
    "### KNN"
   ]
  },
  {
   "cell_type": "code",
   "execution_count": 164,
   "id": "d4dd8b7b-f5ac-4f8e-ab93-1af6d6be3118",
   "metadata": {},
   "outputs": [
    {
     "name": "stdout",
     "output_type": "stream",
     "text": [
      "8\n",
      "test set\n",
      "R^2: 0.396 +/- 0.103\n",
      "MAE: 1.22 +/- 0.08\n",
      "RMSE: 1.48 +/- 0.1\n",
      "9\n",
      "test set\n",
      "R^2: 0.4 +/- 0.101\n",
      "MAE: 1.22 +/- 0.08\n",
      "RMSE: 1.48 +/- 0.11\n",
      "10\n",
      "test set\n",
      "R^2: 0.417 +/- 0.105\n",
      "MAE: 1.2 +/- 0.08\n",
      "RMSE: 1.45 +/- 0.11\n",
      "11\n",
      "test set\n",
      "R^2: 0.421 +/- 0.098\n",
      "MAE: 1.21 +/- 0.09\n",
      "RMSE: 1.45 +/- 0.11\n",
      "12\n",
      "test set\n",
      "R^2: 0.411 +/- 0.101\n",
      "MAE: 1.23 +/- 0.09\n",
      "RMSE: 1.46 +/- 0.11\n"
     ]
    }
   ],
   "source": [
    "neighbors = [8, 9, 10, 11, 12]\n",
    "for n in neighbors:\n",
    "    print(n)\n",
    "    knn = KNeighborsRegressor(n_neighbors=n)\n",
    "    knn.fit(x_train, y_train.values.ravel())\n",
    "    print('test set')\n",
    "    model_metrics(knn, x_test, y_test, cv=5)"
   ]
  },
  {
   "cell_type": "code",
   "execution_count": 165,
   "id": "32216257-6fa4-4e9b-946e-8d867a294dd7",
   "metadata": {},
   "outputs": [
    {
     "name": "stdout",
     "output_type": "stream",
     "text": [
      "training set\n",
      "R^2: 0.37 +/- 0.04\n",
      "MAE: 1.17 +/- 0.04\n",
      "RMSE: 1.49 +/- 0.04\n",
      "test set\n",
      "R^2: 0.421 +/- 0.098\n",
      "MAE: 1.21 +/- 0.09\n",
      "RMSE: 1.45 +/- 0.11\n"
     ]
    }
   ],
   "source": [
    "knn = KNeighborsRegressor(n_neighbors=11)\n",
    "knn.fit(x_train, y_train.values.ravel())\n",
    "print('training set')\n",
    "model_metrics(knn, x_train, y_train, cv=5)\n",
    "print('test set')\n",
    "model_metrics(knn, x_test, y_test, cv=5)"
   ]
  },
  {
   "cell_type": "markdown",
   "id": "2c5ccbd0-2ce8-4bdb-8a1a-c119810ab7b4",
   "metadata": {},
   "source": [
    "### lightGBM"
   ]
  },
  {
   "cell_type": "code",
   "execution_count": 177,
   "id": "d54b1426-13f4-4b47-a7fb-809219bb6564",
   "metadata": {},
   "outputs": [
    {
     "name": "stdout",
     "output_type": "stream",
     "text": [
      "0.15\n",
      "test set\n",
      "R^2: 0.329 +/- 0.143\n",
      "MAE: 1.25 +/- 0.12\n",
      "RMSE: 1.54 +/- 0.14\n",
      "0.2\n",
      "test set\n",
      "R^2: 0.342 +/- 0.157\n",
      "MAE: 1.21 +/- 0.13\n",
      "RMSE: 1.52 +/- 0.15\n",
      "0.25\n",
      "test set\n",
      "R^2: 0.324 +/- 0.154\n",
      "MAE: 1.23 +/- 0.13\n",
      "RMSE: 1.54 +/- 0.15\n"
     ]
    }
   ],
   "source": [
    "n_estimators=[49, 50, 51, 52, 53]\n",
    "max_depth = [3, 5, 7, 10]\n",
    "learning_rates = [0.15, 0.2, 0.25]\n",
    "for x in learning_rates:\n",
    "    print(x)\n",
    "    lgbm = LGBMRegressor(n_estimators=51, max_depth=3, num_leaves=2**3, learning_rate=0.2)\n",
    "    lgbm.fit(x_train, y_train.values.ravel())\n",
    "    print('test set')\n",
    "    model_metrics(lgbm, x_test, y_test, cv=5)"
   ]
  },
  {
   "cell_type": "code",
   "execution_count": 178,
   "id": "2affe497-1d93-4ee0-a369-0ca77b5058d3",
   "metadata": {},
   "outputs": [
    {
     "name": "stdout",
     "output_type": "stream",
     "text": [
      "training set\n",
      "R^2: 0.35 +/- 0.025\n",
      "MAE: 1.16 +/- 0.03\n",
      "RMSE: 1.52 +/- 0.04\n",
      "test set\n",
      "R^2: 0.342 +/- 0.157\n",
      "MAE: 1.21 +/- 0.13\n",
      "RMSE: 1.52 +/- 0.15\n"
     ]
    }
   ],
   "source": [
    "lgbm = LGBMRegressor(n_estimators=51, max_depth=3, num_leaves=2**3, learning_rate=0.2)\n",
    "lgbm.fit(x_train, y_train.values.ravel())\n",
    "print('training set')\n",
    "model_metrics(lgbm, x_train, y_train, cv=5)\n",
    "print('test set')\n",
    "model_metrics(lgbm, x_test, y_test, cv=5)"
   ]
  },
  {
   "cell_type": "markdown",
   "id": "fecd3845-c0f6-42f5-a4af-15eec432424b",
   "metadata": {},
   "source": [
    "# Using Morgan FP Counts with PCE>10%"
   ]
  },
  {
   "cell_type": "code",
   "execution_count": 4,
   "id": "f581afc0-fdd8-4e47-940a-8eaa1d92bc24",
   "metadata": {},
   "outputs": [
    {
     "name": "stdout",
     "output_type": "stream",
     "text": [
      "Number of donor-acceptor pairs is: 999\n"
     ]
    }
   ],
   "source": [
    "data = pd.read_csv('descriptors_with_fingerprints_counts.csv')\n",
    "print('Number of donor-acceptor pairs is: ' + str(len(data)))"
   ]
  },
  {
   "cell_type": "code",
   "execution_count": 5,
   "id": "99debbee-2925-402d-8911-d7c4f2e23cdd",
   "metadata": {},
   "outputs": [],
   "source": [
    "data_highPCE = data[data['PCE'] > 10]\n",
    "\n",
    "X_unstandardized = data_highPCE.iloc[:, 8:64]\n",
    "y = data_highPCE.iloc[:, 7:8]\n",
    "\n",
    "#standardize\n",
    "x_labels = X_unstandardized.columns\n",
    "scaler = StandardScaler().fit(X_unstandardized[x_labels]) \n",
    "X_unstandardized[x_labels] = scaler.transform(X_unstandardized[x_labels])\n",
    "\n",
    "fps = data_highPCE.iloc[:,64:]\n",
    "X = pd.concat([X_unstandardized, fps], axis=1)"
   ]
  },
  {
   "cell_type": "code",
   "execution_count": 6,
   "id": "2f7312cd-9bd9-43ca-bbd8-83b216c571cb",
   "metadata": {},
   "outputs": [],
   "source": [
    "# split into training and testing\n",
    "x_train, x_test, y_train, y_test = train_test_split(X, y, test_size = 0.2, random_state=14)"
   ]
  },
  {
   "cell_type": "markdown",
   "id": "4daef029-8bcd-4599-a0ed-5cdf6c978c43",
   "metadata": {},
   "source": [
    "## LASSO"
   ]
  },
  {
   "cell_type": "code",
   "execution_count": 9,
   "id": "dc9853c7-89ba-4dad-9616-7fa01265ffcd",
   "metadata": {},
   "outputs": [
    {
     "name": "stdout",
     "output_type": "stream",
     "text": [
      "Best alpha is 0.046476054722918166\n"
     ]
    }
   ],
   "source": [
    "lasso = LassoCV(cv=5, random_state=14, max_iter=10000)\n",
    "lasso.fit(x_train, y_train)\n",
    "print('Best alpha is ' + str(lasso.alpha_))"
   ]
  },
  {
   "cell_type": "code",
   "execution_count": 15,
   "id": "68a63a67-0d49-464e-a262-4975f7077ffe",
   "metadata": {},
   "outputs": [
    {
     "name": "stdout",
     "output_type": "stream",
     "text": [
      "training set\n",
      "R^2: 0.454 +/- 0.034\n",
      "MAE: 1.07 +/- 0.03\n",
      "RMSE: 1.38 +/- 0.05\n",
      "test set\n",
      "R^2: -0.092 +/- 0.128\n",
      "MAE: 1.48 +/- 0.14\n",
      "RMSE: 1.95 +/- 0.17\n"
     ]
    }
   ],
   "source": [
    "lasso = Lasso(alpha=0.046476, random_state=14, max_iter=10000)\n",
    "lasso.fit(x_train, y_train)\n",
    "\n",
    "print('training set')\n",
    "model_metrics(lasso, x_train, y_train, cv=5)\n",
    "print('test set')\n",
    "model_metrics(lasso, x_test, y_test, cv=5)\n"
   ]
  },
  {
   "cell_type": "code",
   "execution_count": 17,
   "id": "80431900-53ff-46d9-98f1-16722d42d65a",
   "metadata": {},
   "outputs": [],
   "source": [
    "lasso_predictions_test = lasso.predict(x_test)"
   ]
  },
  {
   "cell_type": "markdown",
   "id": "c7858da6-7dcd-48d3-815b-7180865412b0",
   "metadata": {},
   "source": [
    "### RF"
   ]
  },
  {
   "cell_type": "code",
   "execution_count": 15,
   "id": "41ff7cc0-5a2f-403c-95fa-ba42b7071851",
   "metadata": {
    "collapsed": true,
    "jupyter": {
     "outputs_hidden": true
    },
    "tags": []
   },
   "outputs": [
    {
     "name": "stdout",
     "output_type": "stream",
     "text": [
      "30\n",
      "test set\n",
      "R^2: 0.323 +/- 0.063\n",
      "MAE: 1.29 +/- 0.16\n",
      "RMSE: 1.58 +/- 0.19\n",
      "50\n",
      "test set\n",
      "R^2: 0.351 +/- 0.06\n",
      "MAE: 1.24 +/- 0.16\n",
      "RMSE: 1.55 +/- 0.2\n",
      "56\n",
      "test set\n",
      "R^2: 0.388 +/- 0.061\n",
      "MAE: 1.21 +/- 0.16\n",
      "RMSE: 1.51 +/- 0.2\n",
      "57\n",
      "test set\n",
      "R^2: 0.399 +/- 0.073\n",
      "MAE: 1.2 +/- 0.16\n",
      "RMSE: 1.5 +/- 0.21\n",
      "58\n",
      "test set\n",
      "R^2: 0.368 +/- 0.07\n",
      "MAE: 1.23 +/- 0.17\n",
      "RMSE: 1.54 +/- 0.21\n",
      "59\n",
      "test set\n",
      "R^2: 0.37 +/- 0.083\n",
      "MAE: 1.22 +/- 0.16\n",
      "RMSE: 1.53 +/- 0.21\n",
      "70\n",
      "test set\n",
      "R^2: 0.365 +/- 0.072\n",
      "MAE: 1.22 +/- 0.16\n",
      "RMSE: 1.54 +/- 0.2\n",
      "100\n",
      "test set\n",
      "R^2: 0.368 +/- 0.07\n",
      "MAE: 1.23 +/- 0.16\n",
      "RMSE: 1.53 +/- 0.2\n"
     ]
    }
   ],
   "source": [
    "n_estimators = [50, 60, 70, 80, 90, 100, 110, 120] \n",
    "max_depth = [5, 8, 10]\n",
    "min_samples_split = [2, 3]\n",
    "min_samples_leaf = [2, 4, 6]\n",
    "# max features had the biggest impact\n",
    "max_features = [30, 50, 56, 57, 58, 59, 70, 100]\n",
    "for x in max_features:\n",
    "    print(x)\n",
    "    rf = RandomForestRegressor(n_estimators=80,max_depth=8, min_samples_split=2, min_samples_leaf=2, max_features=57, random_state=20)\n",
    "    rf.fit(x_train, y_train)\n",
    "    print('test set')\n",
    "    model_metrics(rf, x_test, y_test, cv=5)"
   ]
  },
  {
   "cell_type": "code",
   "execution_count": 50,
   "id": "10f70c09-7e89-4daf-9682-4455fe38d046",
   "metadata": {},
   "outputs": [
    {
     "name": "stdout",
     "output_type": "stream",
     "text": [
      "training set\n",
      "R^2: 0.47 +/- 0.03\n",
      "MAE: 1.09 +/- 0.02\n",
      "RMSE: 1.36 +/- 0.03\n",
      "test set\n",
      "R^2: 0.4 +/- 0.07\n",
      "MAE: 1.2 +/- 0.16\n",
      "RMSE: 1.5 +/- 0.21\n"
     ]
    }
   ],
   "source": [
    "rf = RandomForestRegressor(n_estimators=80,max_depth=8, min_samples_split=2, min_samples_leaf=2, max_features=57, random_state=20)\n",
    "rf.fit(x_train, y_train)\n",
    "print('training set')\n",
    "R2_train, R2_SEM_train, RMSE_train, RMSE_SEM_train = model_metrics(rf, x_train, y_train, cv=5)\n",
    "print('test set')\n",
    "R2_test, R2_SEM_test, RMSE_test, RMSE_SEM_test = model_metrics(rf, x_test, y_test, cv=5)"
   ]
  },
  {
   "cell_type": "code",
   "execution_count": 38,
   "id": "0ec30cca-b8c5-4f8d-95c1-01479cc904e7",
   "metadata": {},
   "outputs": [],
   "source": [
    "rf_predictions_test = rf.predict(x_test)\n",
    "rf_predictions_train = rf.predict(x_train)"
   ]
  },
  {
   "cell_type": "code",
   "execution_count": 67,
   "id": "e46acbc0-de53-4435-ad21-21c2f4c29c38",
   "metadata": {},
   "outputs": [
    {
     "data": {
      "image/png": "[encoded data removed]",
      "text/plain": [
       "<Figure size 396x360 with 1 Axes>"
      ]
     },
     "metadata": {
      "needs_background": "light"
     },
     "output_type": "display_data"
    }
   ],
   "source": [
    "fig, ax = plt.subplots(figsize = (5.5, 5))\n",
    "ax.scatter(rf_predictions_train, y_train, color = '#882255')\n",
    "ax.scatter(rf_predictions_test, y_test, color = '#44AA99')\n",
    "\n",
    "\n",
    "#ax.plot(sTDA_HOMOs_array, m*sTDA_HOMOs_array + b, color='c', linewidth=5)\n",
    "\n",
    "# x=y line\n",
    "lims = [\n",
    "    np.min([ax.get_xlim(), ax.get_ylim()]),  # min of both axes\n",
    "    np.max([ax.get_xlim(), ax.get_ylim()]),  # max of both axes\n",
    "]\n",
    "\n",
    "# now plot both limits against eachother\n",
    "ax.plot(lims, lims, 'k-', alpha=0.75, zorder=0)\n",
    "\n",
    "ax.set_ylabel('Experimental PCE (%)', labelpad=10, weight='bold', size=16)\n",
    "ax.set_xlabel('Predicted PCE (%)', labelpad=10, weight='bold', size=16)\n",
    "ax.tick_params(axis = 'x', labelsize=14)\n",
    "ax.tick_params(axis = 'y', labelsize=14)\n",
    "\n",
    "\n",
    "text_train = 'Training Set\\n$R^2$=' + str(R2_train) + '$\\pm$' + str(R2_SEM_train) + '\\nRMSE=' + str(RMSE_train)+ '$\\pm$' + str(RMSE_SEM_train)\n",
    "text_test = 'Test Set\\n$R^2$=' + str(R2_test) + '$\\pm$' + str(R2_SEM_test) + '\\nRMSE=' + str(RMSE_test)+ '$\\pm$' + str(RMSE_SEM_test)\n",
    "\n",
    "ax.text(15.4, 11.5, text_train, ha='left', size=13, color='#882255')\n",
    "ax.text(15.4, 9.5, text_test, ha='left', size=13, color='#44AA99')\n",
    "ax.set_aspect('equal')\n",
    "plt.tight_layout()\n",
    "\n",
    "plt.savefig('rf_predictions_scatter_MFcounts_standardized.pdf', dpi=600)\n",
    "plt.savefig('rf_predictions_scatter_MFcounts_standardized.png', dpi=600)\n",
    "plt.show()"
   ]
  },
  {
   "cell_type": "markdown",
   "id": "6b2fd5b6-0b27-4679-94c4-9d91ff208ec1",
   "metadata": {},
   "source": [
    "### GB"
   ]
  },
  {
   "cell_type": "code",
   "execution_count": 21,
   "id": "73e783b8-e726-4c8e-960f-e02013096840",
   "metadata": {
    "collapsed": true,
    "jupyter": {
     "outputs_hidden": true
    },
    "tags": []
   },
   "outputs": [
    {
     "name": "stdout",
     "output_type": "stream",
     "text": [
      "5\n",
      "test set\n",
      "R^2: 0.348 +/- 0.079\n",
      "MAE: 1.25 +/- 0.17\n",
      "RMSE: 1.56 +/- 0.21\n",
      "6\n",
      "test set\n",
      "R^2: 0.342 +/- 0.075\n",
      "MAE: 1.26 +/- 0.17\n",
      "RMSE: 1.56 +/- 0.2\n",
      "7\n",
      "test set\n",
      "R^2: 0.35 +/- 0.069\n",
      "MAE: 1.25 +/- 0.17\n",
      "RMSE: 1.56 +/- 0.2\n",
      "8\n",
      "test set\n",
      "R^2: 0.347 +/- 0.073\n",
      "MAE: 1.25 +/- 0.17\n",
      "RMSE: 1.56 +/- 0.2\n",
      "9\n",
      "test set\n",
      "R^2: 0.347 +/- 0.077\n",
      "MAE: 1.25 +/- 0.17\n",
      "RMSE: 1.56 +/- 0.21\n",
      "10\n",
      "test set\n",
      "R^2: 0.348 +/- 0.076\n",
      "MAE: 1.25 +/- 0.17\n",
      "RMSE: 1.56 +/- 0.21\n",
      "11\n",
      "test set\n",
      "R^2: 0.348 +/- 0.076\n",
      "MAE: 1.25 +/- 0.17\n",
      "RMSE: 1.56 +/- 0.21\n"
     ]
    }
   ],
   "source": [
    "n_estimators = [200, 250, 300]\n",
    "subsample = [0.1, 0.2, 0.3]\n",
    "learning_rate = [0.02, 0.01, 0.03]\n",
    "max_depth = [5, 6, 7, 8, 9 , 10, 11]\n",
    "\n",
    "for x in max_depth:\n",
    "    print(x)\n",
    "    gb = GradientBoostingRegressor(learning_rate = 0.01, subsample =0.2, n_estimators = 250, max_depth=7, random_state=20)\n",
    "    gb.fit(x_train, y_train.values.ravel())\n",
    "    print('test set')\n",
    "    model_metrics(gb, x_test, y_test, cv=5)"
   ]
  },
  {
   "cell_type": "code",
   "execution_count": 9,
   "id": "a0624e4d-c936-44b5-b1ac-414036bea58d",
   "metadata": {},
   "outputs": [
    {
     "name": "stdout",
     "output_type": "stream",
     "text": [
      "training set\n",
      "R^2: 0.472 +/- 0.025\n",
      "MAE: 1.09 +/- 0.04\n",
      "RMSE: 1.36 +/- 0.04\n",
      "test set\n",
      "R^2: 0.35 +/- 0.069\n",
      "MAE: 1.25 +/- 0.17\n",
      "RMSE: 1.56 +/- 0.2\n"
     ]
    }
   ],
   "source": [
    "gb = GradientBoostingRegressor(learning_rate = 0.01, subsample =0.2, n_estimators = 250, max_depth=7, random_state=20)\n",
    "gb.fit(x_train, y_train.values.ravel())\n",
    "print('training set')\n",
    "model_metrics(gb, x_train, y_train, cv=5)\n",
    "print('test set')\n",
    "model_metrics(gb, x_test, y_test, cv=5)"
   ]
  },
  {
   "cell_type": "code",
   "execution_count": 19,
   "id": "a8e51e5b-9889-4380-a00a-fbed9bd1c3c6",
   "metadata": {},
   "outputs": [],
   "source": [
    "gb_predictions_test = gb.predict(x_test)"
   ]
  },
  {
   "cell_type": "markdown",
   "id": "6adefeff-5e48-4a43-b41d-633b8a46ca4b",
   "metadata": {},
   "source": [
    "### XGBRFR"
   ]
  },
  {
   "cell_type": "code",
   "execution_count": 28,
   "id": "68e6d54f-3605-44f3-b785-001918f88649",
   "metadata": {},
   "outputs": [
    {
     "name": "stdout",
     "output_type": "stream",
     "text": [
      "0.03\n",
      "test set\n",
      "R^2: 0.363 +/- 0.065\n",
      "MAE: 1.23 +/- 0.17\n",
      "RMSE: 1.54 +/- 0.21\n",
      "0.04\n",
      "test set\n",
      "R^2: 0.373 +/- 0.066\n",
      "MAE: 1.22 +/- 0.17\n",
      "RMSE: 1.53 +/- 0.21\n",
      "0.05\n",
      "test set\n",
      "R^2: 0.356 +/- 0.072\n",
      "MAE: 1.24 +/- 0.17\n",
      "RMSE: 1.55 +/- 0.21\n"
     ]
    }
   ],
   "source": [
    "n_estimators = [75, 100, 150]\n",
    "subsample = [0.1, 0.2, 0.3, 0.4, 0.5, 0.6]\n",
    "colsample_bynode = [0.03, 0.04, 0.05]\n",
    "\n",
    "for x in colsample_bynode:\n",
    "    print(x)\n",
    "    xgbrfr = XGBRFRegressor(n_estimators=75, subsample=0.4, colsample_bynode=0.04, random_state=22)\n",
    "    xgbrfr.fit(x_train, y_train.values.ravel())\n",
    "    print('test set')\n",
    "    model_metrics(xgbrfr, x_test, y_test, cv=5)"
   ]
  },
  {
   "cell_type": "code",
   "execution_count": 10,
   "id": "ba538691-c230-4026-91e6-cb662417fc80",
   "metadata": {},
   "outputs": [
    {
     "name": "stdout",
     "output_type": "stream",
     "text": [
      "training set\n",
      "R^2: 0.466 +/- 0.032\n",
      "MAE: 1.09 +/- 0.03\n",
      "RMSE: 1.36 +/- 0.04\n",
      "test set\n",
      "R^2: 0.373 +/- 0.066\n",
      "MAE: 1.22 +/- 0.17\n",
      "RMSE: 1.53 +/- 0.21\n"
     ]
    }
   ],
   "source": [
    "xgbrfr = XGBRFRegressor(n_estimators=75, subsample=0.4, colsample_bynode=0.04, random_state=22)\n",
    "xgbrfr.fit(x_train, y_train.values.ravel())\n",
    "print('training set')\n",
    "model_metrics(xgbrfr, x_train, y_train, cv=5)\n",
    "print('test set')\n",
    "model_metrics(xgbrfr, x_test, y_test, cv=5)"
   ]
  },
  {
   "cell_type": "code",
   "execution_count": 20,
   "id": "33064abe-458d-417c-963f-a45858955dcb",
   "metadata": {},
   "outputs": [],
   "source": [
    "xgbrfr_predictions_test = xgbrfr.predict(x_test)"
   ]
  },
  {
   "cell_type": "markdown",
   "id": "5edddccf-02e4-4706-ba74-33b8a3c07969",
   "metadata": {},
   "source": [
    "### SVR"
   ]
  },
  {
   "cell_type": "code",
   "execution_count": 36,
   "id": "6a1c13c0-f38f-4532-9e28-445c90a49990",
   "metadata": {
    "collapsed": true,
    "jupyter": {
     "outputs_hidden": true
    },
    "tags": []
   },
   "outputs": [
    {
     "name": "stdout",
     "output_type": "stream",
     "text": [
      "0.75\n",
      "test set\n",
      "R^2: 0.193 +/- 0.116\n",
      "MAE: 1.38 +/- 0.14\n",
      "RMSE: 1.7 +/- 0.2\n",
      "0.9\n",
      "test set\n",
      "R^2: 0.191 +/- 0.111\n",
      "MAE: 1.39 +/- 0.15\n",
      "RMSE: 1.7 +/- 0.2\n",
      "1\n",
      "test set\n",
      "R^2: 0.188 +/- 0.108\n",
      "MAE: 1.39 +/- 0.15\n",
      "RMSE: 1.71 +/- 0.2\n",
      "1.5\n",
      "test set\n",
      "R^2: 0.149 +/- 0.083\n",
      "MAE: 1.43 +/- 0.15\n",
      "RMSE: 1.76 +/- 0.2\n",
      "3\n",
      "test set\n",
      "R^2: -0.154 +/- 0.113\n",
      "MAE: 1.73 +/- 0.17\n",
      "RMSE: 2.01 +/- 0.17\n"
     ]
    }
   ],
   "source": [
    "C = [1, 10, 15, 20]\n",
    "epsilon = [0.75, 0.9, 1, 1.5, 3]\n",
    "for x in epsilon:\n",
    "    print(x)\n",
    "    svr_rbf = SVR(kernel=\"rbf\", C=1, gamma='auto', epsilon=0.75)\n",
    "    svr_rbf.fit(x_train, y_train.values.ravel())\n",
    "    print('test set')\n",
    "    model_metrics(svr_rbf, x_test, y_test, cv=5)"
   ]
  },
  {
   "cell_type": "code",
   "execution_count": 11,
   "id": "d1917440-1696-49c7-a77b-7d021cd38f1a",
   "metadata": {},
   "outputs": [
    {
     "name": "stdout",
     "output_type": "stream",
     "text": [
      "training set\n",
      "R^2: 0.401 +/- 0.021\n",
      "MAE: 1.15 +/- 0.02\n",
      "RMSE: 1.45 +/- 0.03\n",
      "test set\n",
      "R^2: 0.193 +/- 0.116\n",
      "MAE: 1.38 +/- 0.14\n",
      "RMSE: 1.7 +/- 0.2\n"
     ]
    }
   ],
   "source": [
    "svr_rbf = SVR(kernel=\"rbf\", C=1, gamma='auto', epsilon=0.75)\n",
    "svr_rbf.fit(x_train, y_train.values.ravel())\n",
    "print('training set')\n",
    "model_metrics(svr_rbf, x_train, y_train, cv=5)\n",
    "print('test set')\n",
    "model_metrics(svr_rbf, x_test, y_test, cv=5)"
   ]
  },
  {
   "cell_type": "code",
   "execution_count": 21,
   "id": "0b2da50e-e2d1-44d6-ad8e-1aa5512d326c",
   "metadata": {},
   "outputs": [],
   "source": [
    "svr_predictions_test = svr_rbf.predict(x_test)"
   ]
  },
  {
   "cell_type": "markdown",
   "id": "1408ca60-db02-466c-9304-0ba6d9145dc1",
   "metadata": {},
   "source": [
    "### KNN"
   ]
  },
  {
   "cell_type": "code",
   "execution_count": 38,
   "id": "12a2300a-062a-4b6a-89d2-d6a0e7fc227f",
   "metadata": {},
   "outputs": [
    {
     "name": "stdout",
     "output_type": "stream",
     "text": [
      "2\n",
      "test set\n",
      "R^2: -0.186 +/- 0.091\n",
      "MAE: 1.66 +/- 0.14\n",
      "RMSE: 2.06 +/- 0.21\n",
      "3\n",
      "test set\n",
      "R^2: -0.004 +/- 0.129\n",
      "MAE: 1.51 +/- 0.14\n",
      "RMSE: 1.87 +/- 0.2\n",
      "4\n",
      "test set\n",
      "R^2: 0.165 +/- 0.108\n",
      "MAE: 1.42 +/- 0.14\n",
      "RMSE: 1.7 +/- 0.16\n",
      "5\n",
      "test set\n",
      "R^2: 0.196 +/- 0.131\n",
      "MAE: 1.38 +/- 0.15\n",
      "RMSE: 1.68 +/- 0.19\n",
      "6\n",
      "test set\n",
      "R^2: 0.177 +/- 0.161\n",
      "MAE: 1.38 +/- 0.17\n",
      "RMSE: 1.68 +/- 0.21\n",
      "7\n",
      "test set\n",
      "R^2: 0.167 +/- 0.18\n",
      "MAE: 1.39 +/- 0.18\n",
      "RMSE: 1.68 +/- 0.22\n",
      "8\n",
      "test set\n",
      "R^2: 0.196 +/- 0.161\n",
      "MAE: 1.37 +/- 0.16\n",
      "RMSE: 1.65 +/- 0.2\n",
      "9\n",
      "test set\n",
      "R^2: 0.163 +/- 0.168\n",
      "MAE: 1.39 +/- 0.16\n",
      "RMSE: 1.69 +/- 0.21\n",
      "10\n",
      "test set\n",
      "R^2: 0.18 +/- 0.163\n",
      "MAE: 1.38 +/- 0.16\n",
      "RMSE: 1.68 +/- 0.21\n",
      "11\n",
      "test set\n",
      "R^2: 0.184 +/- 0.171\n",
      "MAE: 1.37 +/- 0.17\n",
      "RMSE: 1.68 +/- 0.23\n",
      "12\n",
      "test set\n",
      "R^2: 0.181 +/- 0.164\n",
      "MAE: 1.37 +/- 0.18\n",
      "RMSE: 1.69 +/- 0.22\n"
     ]
    }
   ],
   "source": [
    "neighbors = [2, 3, 4, 5, 6, 7, 8, 9, 10, 11, 12]\n",
    "for n in neighbors:\n",
    "    print(n)\n",
    "    knn = KNeighborsRegressor(n_neighbors=n)\n",
    "    knn.fit(x_train, y_train.values.ravel())\n",
    "    print('test set')\n",
    "    model_metrics(knn, x_test, y_test, cv=5)"
   ]
  },
  {
   "cell_type": "code",
   "execution_count": 12,
   "id": "16386d26-66e7-4e19-8f14-b71ec0f80157",
   "metadata": {},
   "outputs": [
    {
     "name": "stdout",
     "output_type": "stream",
     "text": [
      "training set\n",
      "R^2: 0.38 +/- 0.029\n",
      "MAE: 1.17 +/- 0.02\n",
      "RMSE: 1.47 +/- 0.02\n",
      "test set\n",
      "R^2: 0.196 +/- 0.161\n",
      "MAE: 1.37 +/- 0.16\n",
      "RMSE: 1.65 +/- 0.2\n"
     ]
    }
   ],
   "source": [
    "knn = KNeighborsRegressor(n_neighbors=8)\n",
    "knn.fit(x_train, y_train.values.ravel())\n",
    "print('training set')\n",
    "model_metrics(knn, x_train, y_train, cv=5)\n",
    "print('test set')\n",
    "model_metrics(knn, x_test, y_test, cv=5)"
   ]
  },
  {
   "cell_type": "code",
   "execution_count": 22,
   "id": "9c3b3ea8-dc77-4dc5-98da-89c98ce34b0a",
   "metadata": {},
   "outputs": [],
   "source": [
    "knn_predictions_test = knn.predict(x_test)"
   ]
  },
  {
   "cell_type": "markdown",
   "id": "ecfdd818-2654-49bd-bc69-666d75285c29",
   "metadata": {},
   "source": [
    "### lightGBM"
   ]
  },
  {
   "cell_type": "code",
   "execution_count": 43,
   "id": "cd38af09-74bc-4ea1-b298-6035bfe87c62",
   "metadata": {
    "collapsed": true,
    "jupyter": {
     "outputs_hidden": true
    },
    "tags": []
   },
   "outputs": [
    {
     "name": "stdout",
     "output_type": "stream",
     "text": [
      "0.25\n",
      "test set\n",
      "R^2: 0.323 +/- 0.065\n",
      "MAE: 1.29 +/- 0.16\n",
      "RMSE: 1.58 +/- 0.19\n",
      "0.3\n",
      "test set\n",
      "R^2: 0.289 +/- 0.057\n",
      "MAE: 1.32 +/- 0.16\n",
      "RMSE: 1.62 +/- 0.19\n",
      "0.4\n",
      "test set\n",
      "R^2: 0.249 +/- 0.076\n",
      "MAE: 1.35 +/- 0.16\n",
      "RMSE: 1.65 +/- 0.19\n",
      "0.5\n",
      "test set\n",
      "R^2: 0.192 +/- 0.066\n",
      "MAE: 1.41 +/- 0.17\n",
      "RMSE: 1.72 +/- 0.19\n",
      "0.6\n",
      "test set\n",
      "R^2: 0.104 +/- 0.073\n",
      "MAE: 1.45 +/- 0.14\n",
      "RMSE: 1.78 +/- 0.15\n"
     ]
    }
   ],
   "source": [
    "n_estimators=[5, 6, 7, 8, 9, 10, 11, 12, 13, 14, 15, 50, 100]\n",
    "max_depth = [3, 5, 7, 10]\n",
    "learning_rates = [0.25, 0.3, 0.4, 0.5, 0.6]\n",
    "for x in learning_rates:\n",
    "    print(x)\n",
    "    lgbm = LGBMRegressor(n_estimators=11, max_depth=3, num_leaves=2**3, learning_rate=0.25)\n",
    "    lgbm.fit(x_train, y_train.values.ravel())\n",
    "    print('test set')\n",
    "    model_metrics(lgbm, x_test, y_test, cv=5)"
   ]
  },
  {
   "cell_type": "code",
   "execution_count": 13,
   "id": "c9d09281-720e-4972-a30a-b6ad6c97e836",
   "metadata": {},
   "outputs": [
    {
     "name": "stdout",
     "output_type": "stream",
     "text": [
      "training set\n",
      "R^2: 0.448 +/- 0.027\n",
      "MAE: 1.09 +/- 0.02\n",
      "RMSE: 1.39 +/- 0.04\n",
      "test set\n",
      "R^2: 0.323 +/- 0.065\n",
      "MAE: 1.29 +/- 0.16\n",
      "RMSE: 1.58 +/- 0.19\n"
     ]
    }
   ],
   "source": [
    "lgbm = LGBMRegressor(n_estimators=11, max_depth=3, num_leaves=2**3, learning_rate=0.25)\n",
    "lgbm.fit(x_train, y_train.values.ravel())\n",
    "print('training set')\n",
    "model_metrics(lgbm, x_train, y_train, cv=5)\n",
    "print('test set')\n",
    "model_metrics(lgbm, x_test, y_test, cv=5)"
   ]
  },
  {
   "cell_type": "code",
   "execution_count": 23,
   "id": "f63e5a2d-4106-49be-93fc-7ebcb7f28b6e",
   "metadata": {},
   "outputs": [],
   "source": [
    "lgbm_predictions_test = lgbm.predict(x_test)"
   ]
  },
  {
   "cell_type": "markdown",
   "id": "f9d3aba4-c7ca-43f4-9829-1da60aee0740",
   "metadata": {},
   "source": [
    "### ANN"
   ]
  },
  {
   "cell_type": "code",
   "execution_count": 47,
   "id": "f1f36c3c-009c-4485-8436-4307d1edfe93",
   "metadata": {},
   "outputs": [
    {
     "name": "stdout",
     "output_type": "stream",
     "text": [
      "training set\n",
      "R^2: 0.036 +/- 0.171\n",
      "MAE: 1.35 +/- 0.1\n",
      "RMSE: 1.8 +/- 0.15\n",
      "test set\n",
      "R^2: -0.587 +/- 0.351\n",
      "MAE: 1.72 +/- 0.03\n",
      "RMSE: 2.21 +/- 0.06\n"
     ]
    }
   ],
   "source": [
    "ann = MLPRegressor(random_state=1, max_iter=500)\n",
    "ann.fit(x_train, y_train.values.ravel())\n",
    "print('training set')\n",
    "model_metrics(ann, x_train, y_train, cv=5)\n",
    "print('test set')\n",
    "model_metrics(ann, x_test, y_test, cv=5)"
   ]
  },
  {
   "cell_type": "code",
   "execution_count": 48,
   "id": "151ac6d6-0e87-4a28-b814-8db2bbf7c0fb",
   "metadata": {},
   "outputs": [
    {
     "name": "stdout",
     "output_type": "stream",
     "text": [
      "Fitting 3 folds for each of 36 candidates, totalling 108 fits\n"
     ]
    },
    {
     "data": {
      "text/plain": [
       "{'activation': 'relu',\n",
       " 'alpha': 0.0001,\n",
       " 'hidden_layer_sizes': (50, 50, 50),\n",
       " 'learning_rate': 'adaptive',\n",
       " 'solver': 'adam'}"
      ]
     },
     "execution_count": 48,
     "metadata": {},
     "output_type": "execute_result"
    }
   ],
   "source": [
    "ann = MLPRegressor()\n",
    "param_grid = {'hidden_layer_sizes': [(50,50,50), (50,100,50), (100,1)],\n",
    "          'activation': ['relu','tanh','logistic'],\n",
    "          'alpha': [0.0001, 0.05],\n",
    "          'learning_rate': ['constant','adaptive'],\n",
    "          'solver': ['adam']}\n",
    "\n",
    "\n",
    "grid_search = GridSearchCV(estimator = ann, param_grid = param_grid, \n",
    "                          cv = 3, n_jobs = -1, verbose = 2)\n",
    "grid_search.fit(x_train, y_train)\n",
    "grid_search.best_params_"
   ]
  },
  {
   "cell_type": "code",
   "execution_count": 14,
   "id": "e18dd5a0-4e9a-4e25-b295-da2b60299ed0",
   "metadata": {},
   "outputs": [
    {
     "name": "stdout",
     "output_type": "stream",
     "text": [
      "training set\n",
      "R^2: 0.043 +/- 0.121\n",
      "MAE: 1.37 +/- 0.07\n",
      "RMSE: 1.81 +/- 0.11\n",
      "test set\n",
      "R^2: -0.511 +/- 0.479\n",
      "MAE: 1.6 +/- 0.07\n",
      "RMSE: 2.07 +/- 0.07\n"
     ]
    }
   ],
   "source": [
    "ann = MLPRegressor(hidden_layer_sizes = (50, 50, 50), learning_rate = 'adaptive', random_state=14, max_iter=500)\n",
    "ann.fit(x_train, y_train.values.ravel())\n",
    "print('training set')\n",
    "model_metrics(ann, x_train, y_train, cv=5)\n",
    "print('test set')\n",
    "model_metrics(ann, x_test, y_test, cv=5)"
   ]
  },
  {
   "cell_type": "code",
   "execution_count": 24,
   "id": "58e4c6ce-7067-4bee-9dbb-260f5cd01bfa",
   "metadata": {},
   "outputs": [],
   "source": [
    "ann_predictions_test = ann.predict(x_test)"
   ]
  },
  {
   "cell_type": "markdown",
   "id": "551d7b3a-5cb5-48db-93b1-1b1624fc270e",
   "metadata": {},
   "source": [
    "# Ensemble models"
   ]
  },
  {
   "cell_type": "markdown",
   "id": "1d39ae47-9e18-424b-93b5-ea614721fb76",
   "metadata": {},
   "source": [
    "### Ensemble models with LASSO, just averging the predictions"
   ]
  },
  {
   "cell_type": "code",
   "execution_count": 25,
   "id": "729bcea3-a492-4f65-abc6-6c3b1aa96e54",
   "metadata": {},
   "outputs": [],
   "source": [
    "lasso_rf = []\n",
    "lasso_gb = []\n",
    "lasso_xbg = []\n",
    "lasso_svr = []\n",
    "lasso_knn = []\n",
    "lasso_lgbm = []\n",
    "lasso_ann = []\n",
    "\n",
    "for x in range(len(x_test)):\n",
    "    lasso = lasso_predictions_test[x]\n",
    "    rf = rf_predictions_test[x]\n",
    "    gb = gb_predictions_test[x]\n",
    "    xbg = xgbrfr_predictions_test[x]\n",
    "    svr = svr_predictions_test[x]\n",
    "    knn = knn_predictions_test[x]\n",
    "    lgbm = lgbm_predictions_test[x]\n",
    "    ann = ann_predictions_test[x]\n",
    "    \n",
    "    lasso_rf.append((lasso + rf)/2)\n",
    "    lasso_gb.append((lasso + gb)/2)\n",
    "    lasso_xbg.append((lasso + xbg)/2)\n",
    "    lasso_svr.append((lasso + svr)/2)\n",
    "    lasso_knn.append((lasso + knn)/2)\n",
    "    lasso_lgbm.append((lasso + lgbm)/2)\n",
    "    lasso_ann.append((lasso + ann)/2)"
   ]
  },
  {
   "cell_type": "code",
   "execution_count": 27,
   "id": "c8e5bd45-7deb-4977-80ae-4666aa230bef",
   "metadata": {},
   "outputs": [
    {
     "name": "stdout",
     "output_type": "stream",
     "text": [
      "Lasso_rf RMSE = 1.362074814023621\n",
      "lasso_gb RMSE = 1.3460401761412288\n",
      "lasso_xbg RMSE = 1.3642269251880397\n",
      "lasso_svr RMSE = 1.41122909032242\n",
      "lasso_knn RMSE = 1.3878441266770054\n",
      "lasso_lgbm RMSE = 1.359949015411596\n",
      "lasso_ann RMSE = 1.3885234696628386\n"
     ]
    }
   ],
   "source": [
    "print('Lasso_rf RMSE = ' + str(mean_squared_error(y_test, lasso_rf, squared=False)))\n",
    "print('lasso_gb RMSE = ' + str(mean_squared_error(y_test, lasso_gb, squared=False)))\n",
    "print('lasso_xbg RMSE = ' + str(mean_squared_error(y_test, lasso_xbg, squared=False)))\n",
    "print('lasso_svr RMSE = ' + str(mean_squared_error(y_test, lasso_svr, squared=False)))\n",
    "print('lasso_knn RMSE = ' + str(mean_squared_error(y_test, lasso_knn, squared=False)))\n",
    "print('lasso_lgbm RMSE = ' + str(mean_squared_error(y_test, lasso_lgbm, squared=False)))\n",
    "print('lasso_ann RMSE = ' + str(mean_squared_error(y_test, lasso_ann, squared=False)))"
   ]
  },
  {
   "cell_type": "markdown",
   "id": "c52b6f6d-2fbc-4ff1-bc14-4dbf8a6de3f8",
   "metadata": {},
   "source": [
    "### Lasso & other models ensemble"
   ]
  },
  {
   "cell_type": "markdown",
   "id": "3633e37b-41aa-4ecc-83e4-42e733c407e3",
   "metadata": {},
   "source": [
    "Unfit models"
   ]
  },
  {
   "cell_type": "code",
   "execution_count": 32,
   "id": "390ed9c5-3dad-4956-b3f9-380cce6a7b39",
   "metadata": {},
   "outputs": [],
   "source": [
    "lasso_model = Lasso(alpha=0.046476, random_state=14, max_iter=10000)\n",
    "rf_model =RandomForestRegressor(n_estimators=80,max_depth=8, min_samples_split=2, min_samples_leaf=2, max_features=57, random_state=20)\n",
    "gb_model = GradientBoostingRegressor(learning_rate = 0.01, subsample =0.2, n_estimators = 250, max_depth=7, random_state=20)\n",
    "xgb_model = XGBRFRegressor(n_estimators=75, subsample=0.4, colsample_bynode=0.04, random_state=22)\n",
    "svr_model = SVR(kernel=\"rbf\", C=1, gamma='auto', epsilon=0.75)\n",
    "knn_model = KNeighborsRegressor(n_neighbors=8)\n",
    "lgbm_model = LGBMRegressor(n_estimators=11, max_depth=3, num_leaves=2**3, learning_rate=0.25)\n",
    "ann_model = MLPRegressor(hidden_layer_sizes = (50, 50, 50), learning_rate = 'adaptive', random_state=14, max_iter=500)"
   ]
  },
  {
   "cell_type": "code",
   "execution_count": 35,
   "id": "25d457c1-98df-4fbe-a1de-079ddc4e13c6",
   "metadata": {},
   "outputs": [
    {
     "name": "stdout",
     "output_type": "stream",
     "text": [
      "em_lasso_rf\n",
      "training set\n",
      "R^2: 0.485 +/- 0.029\n",
      "MAE: 1.06 +/- 0.03\n",
      "RMSE: 1.34 +/- 0.04\n",
      "test set\n",
      "R^2: 0.284 +/- 0.095\n",
      "MAE: 1.24 +/- 0.16\n",
      "RMSE: 1.62 +/- 0.19\n",
      "em_lasso_gb\n",
      "training set\n",
      "R^2: 0.484 +/- 0.028\n",
      "MAE: 1.06 +/- 0.03\n",
      "RMSE: 1.34 +/- 0.04\n",
      "test set\n",
      "R^2: 0.25 +/- 0.093\n",
      "MAE: 1.27 +/- 0.16\n",
      "RMSE: 1.65 +/- 0.19\n",
      "em_lasso_xgb\n",
      "training set\n",
      "R^2: 0.484 +/- 0.032\n",
      "MAE: 1.06 +/- 0.03\n",
      "RMSE: 1.34 +/- 0.04\n",
      "test set\n",
      "R^2: 0.268 +/- 0.088\n",
      "MAE: 1.26 +/- 0.15\n",
      "RMSE: 1.63 +/- 0.19\n",
      "em_lasso_svr\n",
      "training set\n",
      "R^2: 0.453 +/- 0.025\n",
      "MAE: 1.1 +/- 0.02\n",
      "RMSE: 1.38 +/- 0.04\n",
      "test set\n",
      "R^2: 0.232 +/- 0.126\n",
      "MAE: 1.3 +/- 0.17\n",
      "RMSE: 1.66 +/- 0.2\n",
      "em_lasso_knn\n",
      "training set\n",
      "R^2: 0.465 +/- 0.026\n",
      "MAE: 1.09 +/- 0.02\n",
      "RMSE: 1.37 +/- 0.03\n",
      "test set\n",
      "R^2: 0.238 +/- 0.146\n",
      "MAE: 1.28 +/- 0.17\n",
      "RMSE: 1.63 +/- 0.21\n",
      "em_lasso_lgbm\n",
      "training set\n",
      "R^2: 0.478 +/- 0.028\n",
      "MAE: 1.06 +/- 0.03\n",
      "RMSE: 1.35 +/- 0.04\n",
      "test set\n",
      "R^2: 0.252 +/- 0.096\n",
      "MAE: 1.29 +/- 0.16\n",
      "RMSE: 1.65 +/- 0.19\n",
      "em_lasso_ann\n",
      "training set\n",
      "R^2: 0.39 +/- 0.064\n",
      "MAE: 1.14 +/- 0.05\n",
      "RMSE: 1.45 +/- 0.08\n",
      "test set\n",
      "R^2: -0.089 +/- 0.177\n",
      "MAE: 1.43 +/- 0.09\n",
      "RMSE: 1.87 +/- 0.08\n"
     ]
    }
   ],
   "source": [
    "em_lasso_rf = VotingRegressor([('lasso', lasso_model), ('rf', rf_model)])\n",
    "em_lasso_rf.fit(x_train, y_train.values.ravel())\n",
    "print('em_lasso_rf')\n",
    "print('training set')\n",
    "model_metrics(em_lasso_rf, x_train, y_train, cv=5)\n",
    "print('test set')\n",
    "model_metrics(em_lasso_rf, x_test, y_test, cv=5)\n",
    "\n",
    "em_lasso_gb = VotingRegressor([('lasso', lasso_model), ('gb', gb_model)])\n",
    "em_lasso_gb.fit(x_train, y_train.values.ravel())\n",
    "print('em_lasso_gb')\n",
    "print('training set')\n",
    "model_metrics(em_lasso_gb, x_train, y_train, cv=5)\n",
    "print('test set')\n",
    "model_metrics(em_lasso_gb, x_test, y_test, cv=5)\n",
    "\n",
    "em_lasso_xgb = VotingRegressor([('lasso', lasso_model), ('xgb', xgb_model)])\n",
    "em_lasso_xgb.fit(x_train, y_train.values.ravel())\n",
    "print('em_lasso_xgb')\n",
    "print('training set')\n",
    "model_metrics(em_lasso_xgb, x_train, y_train, cv=5)\n",
    "print('test set')\n",
    "model_metrics(em_lasso_xgb, x_test, y_test, cv=5)\n",
    "\n",
    "em_lasso_svr = VotingRegressor([('lasso', lasso_model), ('svr', svr_model)])\n",
    "em_lasso_svr.fit(x_train, y_train.values.ravel())\n",
    "print('em_lasso_svr')\n",
    "print('training set')\n",
    "model_metrics(em_lasso_svr, x_train, y_train, cv=5)\n",
    "print('test set')\n",
    "model_metrics(em_lasso_svr, x_test, y_test, cv=5)\n",
    "\n",
    "em_lasso_knn = VotingRegressor([('lasso', lasso_model), ('knn', knn_model)])\n",
    "em_lasso_knn.fit(x_train, y_train.values.ravel())\n",
    "print('em_lasso_knn')\n",
    "print('training set')\n",
    "model_metrics(em_lasso_knn, x_train, y_train, cv=5)\n",
    "print('test set')\n",
    "model_metrics(em_lasso_knn, x_test, y_test, cv=5)\n",
    "\n",
    "em_lasso_lgbm = VotingRegressor([('lasso', lasso_model), ('lgbm', lgbm_model)])\n",
    "em_lasso_lgbm.fit(x_train, y_train.values.ravel())\n",
    "print('em_lasso_lgbm')\n",
    "print('training set')\n",
    "model_metrics(em_lasso_lgbm, x_train, y_train, cv=5)\n",
    "print('test set')\n",
    "model_metrics(em_lasso_lgbm, x_test, y_test, cv=5)\n",
    "\n",
    "em_lasso_ann = VotingRegressor([('lasso', lasso_model), ('ann', ann_model)])\n",
    "em_lasso_ann.fit(x_train, y_train.values.ravel())\n",
    "print('em_lasso_ann')\n",
    "print('training set')\n",
    "model_metrics(em_lasso_ann, x_train, y_train, cv=5)\n",
    "print('test set')\n",
    "model_metrics(em_lasso_ann, x_test, y_test, cv=5)"
   ]
  },
  {
   "cell_type": "markdown",
   "id": "25e4ba93-ed5d-4e96-aca0-5ce17862be81",
   "metadata": {},
   "source": [
    "Random Forest with other models"
   ]
  },
  {
   "cell_type": "code",
   "execution_count": 36,
   "id": "3020d791-18b1-4041-9207-0fbc424358de",
   "metadata": {},
   "outputs": [
    {
     "name": "stdout",
     "output_type": "stream",
     "text": [
      "em_rf_lasso\n",
      "training set\n",
      "R^2: 0.485 +/- 0.029\n",
      "MAE: 1.06 +/- 0.03\n",
      "RMSE: 1.34 +/- 0.04\n",
      "test set\n",
      "R^2: 0.284 +/- 0.095\n",
      "MAE: 1.24 +/- 0.16\n",
      "RMSE: 1.62 +/- 0.19\n",
      "em_rf_gb\n",
      "training set\n",
      "R^2: 0.477 +/- 0.024\n",
      "MAE: 1.09 +/- 0.03\n",
      "RMSE: 1.35 +/- 0.04\n",
      "test set\n",
      "R^2: 0.383 +/- 0.073\n",
      "MAE: 1.22 +/- 0.17\n",
      "RMSE: 1.52 +/- 0.21\n",
      "em_rf_xgb\n",
      "training set\n",
      "R^2: 0.471 +/- 0.029\n",
      "MAE: 1.09 +/- 0.03\n",
      "RMSE: 1.36 +/- 0.04\n",
      "test set\n",
      "R^2: 0.393 +/- 0.072\n",
      "MAE: 1.2 +/- 0.17\n",
      "RMSE: 1.51 +/- 0.21\n",
      "em_rf_svr\n",
      "training set\n",
      "R^2: 0.453 +/- 0.02\n",
      "MAE: 1.11 +/- 0.02\n",
      "RMSE: 1.38 +/- 0.03\n",
      "test set\n",
      "R^2: 0.322 +/- 0.087\n",
      "MAE: 1.27 +/- 0.16\n",
      "RMSE: 1.58 +/- 0.2\n",
      "em_rf_knn\n",
      "training set\n",
      "R^2: 0.456 +/- 0.021\n",
      "MAE: 1.11 +/- 0.02\n",
      "RMSE: 1.38 +/- 0.03\n",
      "test set\n",
      "R^2: 0.341 +/- 0.107\n",
      "MAE: 1.27 +/- 0.15\n",
      "RMSE: 1.54 +/- 0.19\n",
      "em_rf_lgbm\n",
      "training set\n",
      "R^2: 0.47 +/- 0.025\n",
      "MAE: 1.08 +/- 0.02\n",
      "RMSE: 1.36 +/- 0.04\n",
      "test set\n",
      "R^2: 0.381 +/- 0.073\n",
      "MAE: 1.23 +/- 0.17\n",
      "RMSE: 1.52 +/- 0.2\n",
      "em_rf_ann\n",
      "training set\n",
      "R^2: 0.407 +/- 0.06\n",
      "MAE: 1.13 +/- 0.04\n",
      "RMSE: 1.43 +/- 0.07\n",
      "test set\n",
      "R^2: 0.279 +/- 0.07\n",
      "MAE: 1.2 +/- 0.09\n",
      "RMSE: 1.57 +/- 0.1\n"
     ]
    }
   ],
   "source": [
    "em_rf_lasso = VotingRegressor([('rf', rf_model), ('lasso', lasso_model)])\n",
    "em_rf_lasso.fit(x_train, y_train.values.ravel())\n",
    "print('em_rf_lasso')\n",
    "print('training set')\n",
    "model_metrics(em_rf_lasso, x_train, y_train, cv=5)\n",
    "print('test set')\n",
    "model_metrics(em_rf_lasso, x_test, y_test, cv=5)\n",
    "\n",
    "em_rf_gb = VotingRegressor([('rf', rf_model), ('gb', gb_model)])\n",
    "em_rf_gb.fit(x_train, y_train.values.ravel())\n",
    "print('em_rf_gb')\n",
    "print('training set')\n",
    "model_metrics(em_rf_gb, x_train, y_train, cv=5)\n",
    "print('test set')\n",
    "model_metrics(em_rf_gb, x_test, y_test, cv=5)\n",
    "\n",
    "em_rf_xgb = VotingRegressor([('rf', rf_model), ('xgb', xgb_model)])\n",
    "em_rf_xgb.fit(x_train, y_train.values.ravel())\n",
    "print('em_rf_xgb')\n",
    "print('training set')\n",
    "model_metrics(em_rf_xgb, x_train, y_train, cv=5)\n",
    "print('test set')\n",
    "model_metrics(em_rf_xgb, x_test, y_test, cv=5)\n",
    "\n",
    "em_rf_svr = VotingRegressor([('rf', rf_model), ('svr', svr_model)])\n",
    "em_rf_svr.fit(x_train, y_train.values.ravel())\n",
    "print('em_rf_svr')\n",
    "print('training set')\n",
    "model_metrics(em_rf_svr, x_train, y_train, cv=5)\n",
    "print('test set')\n",
    "model_metrics(em_rf_svr, x_test, y_test, cv=5)\n",
    "\n",
    "em_rf_knn = VotingRegressor([('rf', rf_model), ('knn', knn_model)])\n",
    "em_rf_knn.fit(x_train, y_train.values.ravel())\n",
    "print('em_rf_knn')\n",
    "print('training set')\n",
    "model_metrics(em_rf_knn, x_train, y_train, cv=5)\n",
    "print('test set')\n",
    "model_metrics(em_rf_knn, x_test, y_test, cv=5)\n",
    "\n",
    "em_rf_lgbm = VotingRegressor([('rf', rf_model), ('lgbm', lgbm_model)])\n",
    "em_rf_lgbm.fit(x_train, y_train.values.ravel())\n",
    "print('em_rf_lgbm')\n",
    "print('training set')\n",
    "model_metrics(em_rf_lgbm, x_train, y_train, cv=5)\n",
    "print('test set')\n",
    "model_metrics(em_rf_lgbm, x_test, y_test, cv=5)\n",
    "\n",
    "em_rf_ann = VotingRegressor([('rf', rf_model), ('ann', ann_model)])\n",
    "em_rf_ann.fit(x_train, y_train.values.ravel())\n",
    "print('em_rf_ann')\n",
    "print('training set')\n",
    "model_metrics(em_rf_ann, x_train, y_train, cv=5)\n",
    "print('test set')\n",
    "model_metrics(em_rf_ann, x_test, y_test, cv=5)"
   ]
  },
  {
   "cell_type": "code",
   "execution_count": null,
   "id": "8d75e1d8-d6ac-4b13-80a7-beae067f6c77",
   "metadata": {},
   "outputs": [],
   "source": []
  }
 ],
 "metadata": {
  "kernelspec": {
   "display_name": "Python 3",
   "language": "python",
   "name": "python3"
  },
  "language_info": {
   "codemirror_mode": {
    "name": "ipython",
    "version": 3
   },
   "file_extension": ".py",
   "mimetype": "text/x-python",
   "name": "python",
   "nbconvert_exporter": "python",
   "pygments_lexer": "ipython3",
   "version": "3.8.8"
  }
 },
 "nbformat": 4,
 "nbformat_minor": 5
}
